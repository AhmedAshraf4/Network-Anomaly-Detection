{
  "cells": [
    {
      "cell_type": "markdown",
      "source": [
        "# Assignment 2\n",
        "**Hazem Mohammed Abdallah\t\t6723**\n",
        "\n",
        "**Ahmed Ashraf Abdelkarim\t\t6940**\n",
        "\n",
        "**Amr Abdelsamee Youssef\t\t7126**\n"
      ],
      "metadata": {
        "id": "PhZXn0aVm97D"
      }
    },
    {
      "cell_type": "code",
      "execution_count": null,
      "metadata": {
        "colab": {
          "base_uri": "https://localhost:8080/"
        },
        "id": "zsh3F2zgaRQh",
        "outputId": "24141aef-e80c-43b6-adaf-41b5cb15d6f8"
      },
      "outputs": [
        {
          "output_type": "stream",
          "name": "stdout",
          "text": [
            "Mounted at /content/drive\n"
          ]
        }
      ],
      "source": [
        "from google.colab import drive\n",
        "drive.mount('/content/drive')"
      ]
    },
    {
      "cell_type": "code",
      "execution_count": null,
      "metadata": {
        "id": "VxP_5j0w2lok"
      },
      "outputs": [],
      "source": [
        "\n",
        "import gc\n",
        "import pickle\n",
        "import math\n",
        "import random\n",
        "import numpy as np\n",
        "import pandas as pd\n",
        "import matplotlib.pyplot as plt\n",
        "from sklearn.cluster import KMeans\n",
        "from sklearn.metrics import confusion_matrix\n",
        "from sklearn.neighbors import kneighbors_graph\n",
        "from sklearn.preprocessing import LabelEncoder\n",
        "from sklearn.preprocessing import OneHotEncoder\n",
        "from sklearn.neighbors import radius_neighbors_graph\n",
        "from scipy.spatial.distance import pdist, squareform\n",
        "from sklearn.model_selection import train_test_split\n",
        "from sklearn.metrics.pairwise import cosine_similarity\n",
        "from sklearn.preprocessing import MinMaxScaler\n",
        "from sklearn.metrics.cluster import contingency_matrix\n",
        "from sklearn.cluster import SpectralClustering\n",
        "from scipy.stats import entropy"
      ]
    },
    {
      "cell_type": "markdown",
      "metadata": {
        "id": "4KPQkNrVR640"
      },
      "source": [
        "## loading data"
      ]
    },
    {
      "cell_type": "code",
      "execution_count": null,
      "metadata": {
        "id": "-nQQD6qA3ic0"
      },
      "outputs": [],
      "source": [
        "path_train = \"/content/drive/MyDrive/Colab Notebooks/Pattern/projects/Assignment2/kddcup.data_10_percent.gz\"\n",
        "path_test = \"/content/drive/MyDrive/Colab Notebooks/Pattern/projects/Assignment2/corrected.gz\""
      ]
    },
    {
      "cell_type": "code",
      "execution_count": null,
      "metadata": {
        "id": "8vgX2-MW4i-K"
      },
      "outputs": [],
      "source": [
        "columns = [str(i) for i in range(1, 43)]\n",
        "data_train = pd.read_csv(path_train, compression='gzip', header=None, names=columns)\n",
        "data_test = pd.read_csv(path_test, compression='gzip', header=None, names=columns)"
      ]
    },
    {
      "cell_type": "code",
      "execution_count": null,
      "metadata": {
        "colab": {
          "base_uri": "https://localhost:8080/"
        },
        "id": "Zk5kdohBSJJE",
        "outputId": "9b04c61f-2a98-43e5-aa66-902e98db1eb9"
      },
      "outputs": [
        {
          "output_type": "stream",
          "name": "stdout",
          "text": [
            "(805050, 42)\n"
          ]
        }
      ],
      "source": [
        "DATA_TRAIN_ROWS = data_train.shape[0]\n",
        "all_data = pd.concat([data_train, data_test])\n",
        "print(all_data.shape)"
      ]
    },
    {
      "cell_type": "code",
      "execution_count": null,
      "metadata": {
        "id": "fmcPibwb0okH",
        "colab": {
          "base_uri": "https://localhost:8080/"
        },
        "outputId": "97652a85-b48a-43bb-a092-3df9ae436513"
      },
      "outputs": [
        {
          "output_type": "execute_result",
          "data": {
            "text/plain": [
              "   1    2     3   4    5     6  7  8  9  10  ...  33   34   35    36   37  \\\n",
              "0  0  tcp  http  SF  181  5450  0  0  0   0  ...   9  1.0  0.0  0.11  0.0   \n",
              "1  0  tcp  http  SF  239   486  0  0  0   0  ...  19  1.0  0.0  0.05  0.0   \n",
              "2  0  tcp  http  SF  235  1337  0  0  0   0  ...  29  1.0  0.0  0.03  0.0   \n",
              "3  0  tcp  http  SF  219  1337  0  0  0   0  ...  39  1.0  0.0  0.03  0.0   \n",
              "4  0  tcp  http  SF  217  2032  0  0  0   0  ...  49  1.0  0.0  0.02  0.0   \n",
              "\n",
              "    38   39   40   41       42  \n",
              "0  0.0  0.0  0.0  0.0  normal.  \n",
              "1  0.0  0.0  0.0  0.0  normal.  \n",
              "2  0.0  0.0  0.0  0.0  normal.  \n",
              "3  0.0  0.0  0.0  0.0  normal.  \n",
              "4  0.0  0.0  0.0  0.0  normal.  \n",
              "\n",
              "[5 rows x 42 columns]"
            ],
            "text/html": [
              "\n",
              "  <div id=\"df-8cc09af6-92d1-49e9-90d2-39894db0e7b2\">\n",
              "    <div class=\"colab-df-container\">\n",
              "      <div>\n",
              "<style scoped>\n",
              "    .dataframe tbody tr th:only-of-type {\n",
              "        vertical-align: middle;\n",
              "    }\n",
              "\n",
              "    .dataframe tbody tr th {\n",
              "        vertical-align: top;\n",
              "    }\n",
              "\n",
              "    .dataframe thead th {\n",
              "        text-align: right;\n",
              "    }\n",
              "</style>\n",
              "<table border=\"1\" class=\"dataframe\">\n",
              "  <thead>\n",
              "    <tr style=\"text-align: right;\">\n",
              "      <th></th>\n",
              "      <th>1</th>\n",
              "      <th>2</th>\n",
              "      <th>3</th>\n",
              "      <th>4</th>\n",
              "      <th>5</th>\n",
              "      <th>6</th>\n",
              "      <th>7</th>\n",
              "      <th>8</th>\n",
              "      <th>9</th>\n",
              "      <th>10</th>\n",
              "      <th>...</th>\n",
              "      <th>33</th>\n",
              "      <th>34</th>\n",
              "      <th>35</th>\n",
              "      <th>36</th>\n",
              "      <th>37</th>\n",
              "      <th>38</th>\n",
              "      <th>39</th>\n",
              "      <th>40</th>\n",
              "      <th>41</th>\n",
              "      <th>42</th>\n",
              "    </tr>\n",
              "  </thead>\n",
              "  <tbody>\n",
              "    <tr>\n",
              "      <th>0</th>\n",
              "      <td>0</td>\n",
              "      <td>tcp</td>\n",
              "      <td>http</td>\n",
              "      <td>SF</td>\n",
              "      <td>181</td>\n",
              "      <td>5450</td>\n",
              "      <td>0</td>\n",
              "      <td>0</td>\n",
              "      <td>0</td>\n",
              "      <td>0</td>\n",
              "      <td>...</td>\n",
              "      <td>9</td>\n",
              "      <td>1.0</td>\n",
              "      <td>0.0</td>\n",
              "      <td>0.11</td>\n",
              "      <td>0.0</td>\n",
              "      <td>0.0</td>\n",
              "      <td>0.0</td>\n",
              "      <td>0.0</td>\n",
              "      <td>0.0</td>\n",
              "      <td>normal.</td>\n",
              "    </tr>\n",
              "    <tr>\n",
              "      <th>1</th>\n",
              "      <td>0</td>\n",
              "      <td>tcp</td>\n",
              "      <td>http</td>\n",
              "      <td>SF</td>\n",
              "      <td>239</td>\n",
              "      <td>486</td>\n",
              "      <td>0</td>\n",
              "      <td>0</td>\n",
              "      <td>0</td>\n",
              "      <td>0</td>\n",
              "      <td>...</td>\n",
              "      <td>19</td>\n",
              "      <td>1.0</td>\n",
              "      <td>0.0</td>\n",
              "      <td>0.05</td>\n",
              "      <td>0.0</td>\n",
              "      <td>0.0</td>\n",
              "      <td>0.0</td>\n",
              "      <td>0.0</td>\n",
              "      <td>0.0</td>\n",
              "      <td>normal.</td>\n",
              "    </tr>\n",
              "    <tr>\n",
              "      <th>2</th>\n",
              "      <td>0</td>\n",
              "      <td>tcp</td>\n",
              "      <td>http</td>\n",
              "      <td>SF</td>\n",
              "      <td>235</td>\n",
              "      <td>1337</td>\n",
              "      <td>0</td>\n",
              "      <td>0</td>\n",
              "      <td>0</td>\n",
              "      <td>0</td>\n",
              "      <td>...</td>\n",
              "      <td>29</td>\n",
              "      <td>1.0</td>\n",
              "      <td>0.0</td>\n",
              "      <td>0.03</td>\n",
              "      <td>0.0</td>\n",
              "      <td>0.0</td>\n",
              "      <td>0.0</td>\n",
              "      <td>0.0</td>\n",
              "      <td>0.0</td>\n",
              "      <td>normal.</td>\n",
              "    </tr>\n",
              "    <tr>\n",
              "      <th>3</th>\n",
              "      <td>0</td>\n",
              "      <td>tcp</td>\n",
              "      <td>http</td>\n",
              "      <td>SF</td>\n",
              "      <td>219</td>\n",
              "      <td>1337</td>\n",
              "      <td>0</td>\n",
              "      <td>0</td>\n",
              "      <td>0</td>\n",
              "      <td>0</td>\n",
              "      <td>...</td>\n",
              "      <td>39</td>\n",
              "      <td>1.0</td>\n",
              "      <td>0.0</td>\n",
              "      <td>0.03</td>\n",
              "      <td>0.0</td>\n",
              "      <td>0.0</td>\n",
              "      <td>0.0</td>\n",
              "      <td>0.0</td>\n",
              "      <td>0.0</td>\n",
              "      <td>normal.</td>\n",
              "    </tr>\n",
              "    <tr>\n",
              "      <th>4</th>\n",
              "      <td>0</td>\n",
              "      <td>tcp</td>\n",
              "      <td>http</td>\n",
              "      <td>SF</td>\n",
              "      <td>217</td>\n",
              "      <td>2032</td>\n",
              "      <td>0</td>\n",
              "      <td>0</td>\n",
              "      <td>0</td>\n",
              "      <td>0</td>\n",
              "      <td>...</td>\n",
              "      <td>49</td>\n",
              "      <td>1.0</td>\n",
              "      <td>0.0</td>\n",
              "      <td>0.02</td>\n",
              "      <td>0.0</td>\n",
              "      <td>0.0</td>\n",
              "      <td>0.0</td>\n",
              "      <td>0.0</td>\n",
              "      <td>0.0</td>\n",
              "      <td>normal.</td>\n",
              "    </tr>\n",
              "  </tbody>\n",
              "</table>\n",
              "<p>5 rows × 42 columns</p>\n",
              "</div>\n",
              "      <button class=\"colab-df-convert\" onclick=\"convertToInteractive('df-8cc09af6-92d1-49e9-90d2-39894db0e7b2')\"\n",
              "              title=\"Convert this dataframe to an interactive table.\"\n",
              "              style=\"display:none;\">\n",
              "        \n",
              "  <svg xmlns=\"http://www.w3.org/2000/svg\" height=\"24px\"viewBox=\"0 0 24 24\"\n",
              "       width=\"24px\">\n",
              "    <path d=\"M0 0h24v24H0V0z\" fill=\"none\"/>\n",
              "    <path d=\"M18.56 5.44l.94 2.06.94-2.06 2.06-.94-2.06-.94-.94-2.06-.94 2.06-2.06.94zm-11 1L8.5 8.5l.94-2.06 2.06-.94-2.06-.94L8.5 2.5l-.94 2.06-2.06.94zm10 10l.94 2.06.94-2.06 2.06-.94-2.06-.94-.94-2.06-.94 2.06-2.06.94z\"/><path d=\"M17.41 7.96l-1.37-1.37c-.4-.4-.92-.59-1.43-.59-.52 0-1.04.2-1.43.59L10.3 9.45l-7.72 7.72c-.78.78-.78 2.05 0 2.83L4 21.41c.39.39.9.59 1.41.59.51 0 1.02-.2 1.41-.59l7.78-7.78 2.81-2.81c.8-.78.8-2.07 0-2.86zM5.41 20L4 18.59l7.72-7.72 1.47 1.35L5.41 20z\"/>\n",
              "  </svg>\n",
              "      </button>\n",
              "      \n",
              "  <style>\n",
              "    .colab-df-container {\n",
              "      display:flex;\n",
              "      flex-wrap:wrap;\n",
              "      gap: 12px;\n",
              "    }\n",
              "\n",
              "    .colab-df-convert {\n",
              "      background-color: #E8F0FE;\n",
              "      border: none;\n",
              "      border-radius: 50%;\n",
              "      cursor: pointer;\n",
              "      display: none;\n",
              "      fill: #1967D2;\n",
              "      height: 32px;\n",
              "      padding: 0 0 0 0;\n",
              "      width: 32px;\n",
              "    }\n",
              "\n",
              "    .colab-df-convert:hover {\n",
              "      background-color: #E2EBFA;\n",
              "      box-shadow: 0px 1px 2px rgba(60, 64, 67, 0.3), 0px 1px 3px 1px rgba(60, 64, 67, 0.15);\n",
              "      fill: #174EA6;\n",
              "    }\n",
              "\n",
              "    [theme=dark] .colab-df-convert {\n",
              "      background-color: #3B4455;\n",
              "      fill: #D2E3FC;\n",
              "    }\n",
              "\n",
              "    [theme=dark] .colab-df-convert:hover {\n",
              "      background-color: #434B5C;\n",
              "      box-shadow: 0px 1px 3px 1px rgba(0, 0, 0, 0.15);\n",
              "      filter: drop-shadow(0px 1px 2px rgba(0, 0, 0, 0.3));\n",
              "      fill: #FFFFFF;\n",
              "    }\n",
              "  </style>\n",
              "\n",
              "      <script>\n",
              "        const buttonEl =\n",
              "          document.querySelector('#df-8cc09af6-92d1-49e9-90d2-39894db0e7b2 button.colab-df-convert');\n",
              "        buttonEl.style.display =\n",
              "          google.colab.kernel.accessAllowed ? 'block' : 'none';\n",
              "\n",
              "        async function convertToInteractive(key) {\n",
              "          const element = document.querySelector('#df-8cc09af6-92d1-49e9-90d2-39894db0e7b2');\n",
              "          const dataTable =\n",
              "            await google.colab.kernel.invokeFunction('convertToInteractive',\n",
              "                                                     [key], {});\n",
              "          if (!dataTable) return;\n",
              "\n",
              "          const docLinkHtml = 'Like what you see? Visit the ' +\n",
              "            '<a target=\"_blank\" href=https://colab.research.google.com/notebooks/data_table.ipynb>data table notebook</a>'\n",
              "            + ' to learn more about interactive tables.';\n",
              "          element.innerHTML = '';\n",
              "          dataTable['output_type'] = 'display_data';\n",
              "          await google.colab.output.renderOutput(dataTable, element);\n",
              "          const docLink = document.createElement('div');\n",
              "          docLink.innerHTML = docLinkHtml;\n",
              "          element.appendChild(docLink);\n",
              "        }\n",
              "      </script>\n",
              "    </div>\n",
              "  </div>\n",
              "  "
            ]
          },
          "metadata": {},
          "execution_count": 6
        }
      ],
      "source": [
        "all_data.head()"
      ]
    },
    {
      "cell_type": "code",
      "execution_count": null,
      "metadata": {
        "id": "o2vRcgwg-CV9",
        "colab": {
          "base_uri": "https://localhost:8080/"
        },
        "outputId": "14dc46f8-fc5d-4f86-ddc1-9468fee9caa1"
      },
      "outputs": [
        {
          "output_type": "execute_result",
          "data": {
            "text/plain": [
              "1     0\n",
              "2     0\n",
              "3     0\n",
              "4     0\n",
              "5     0\n",
              "6     0\n",
              "7     0\n",
              "8     0\n",
              "9     0\n",
              "10    0\n",
              "11    0\n",
              "12    0\n",
              "13    0\n",
              "14    0\n",
              "15    0\n",
              "16    0\n",
              "17    0\n",
              "18    0\n",
              "19    0\n",
              "20    0\n",
              "21    0\n",
              "22    0\n",
              "23    0\n",
              "24    0\n",
              "25    0\n",
              "26    0\n",
              "27    0\n",
              "28    0\n",
              "29    0\n",
              "30    0\n",
              "31    0\n",
              "32    0\n",
              "33    0\n",
              "34    0\n",
              "35    0\n",
              "36    0\n",
              "37    0\n",
              "38    0\n",
              "39    0\n",
              "40    0\n",
              "41    0\n",
              "42    0\n",
              "dtype: int64"
            ]
          },
          "metadata": {},
          "execution_count": 7
        }
      ],
      "source": [
        "all_data.isnull().sum()"
      ]
    },
    {
      "cell_type": "code",
      "execution_count": null,
      "metadata": {
        "id": "V1KpYL_alE6r",
        "colab": {
          "base_uri": "https://localhost:8080/"
        },
        "outputId": "a4192479-f3a6-4228-d04e-6e52a61e670e"
      },
      "outputs": [
        {
          "output_type": "stream",
          "name": "stdout",
          "text": [
            "<class 'pandas.core.frame.DataFrame'>\n",
            "Int64Index: 805050 entries, 0 to 311028\n",
            "Data columns (total 42 columns):\n",
            " #   Column  Non-Null Count   Dtype  \n",
            "---  ------  --------------   -----  \n",
            " 0   1       805050 non-null  int64  \n",
            " 1   2       805050 non-null  object \n",
            " 2   3       805050 non-null  object \n",
            " 3   4       805050 non-null  object \n",
            " 4   5       805050 non-null  int64  \n",
            " 5   6       805050 non-null  int64  \n",
            " 6   7       805050 non-null  int64  \n",
            " 7   8       805050 non-null  int64  \n",
            " 8   9       805050 non-null  int64  \n",
            " 9   10      805050 non-null  int64  \n",
            " 10  11      805050 non-null  int64  \n",
            " 11  12      805050 non-null  int64  \n",
            " 12  13      805050 non-null  int64  \n",
            " 13  14      805050 non-null  int64  \n",
            " 14  15      805050 non-null  int64  \n",
            " 15  16      805050 non-null  int64  \n",
            " 16  17      805050 non-null  int64  \n",
            " 17  18      805050 non-null  int64  \n",
            " 18  19      805050 non-null  int64  \n",
            " 19  20      805050 non-null  int64  \n",
            " 20  21      805050 non-null  int64  \n",
            " 21  22      805050 non-null  int64  \n",
            " 22  23      805050 non-null  int64  \n",
            " 23  24      805050 non-null  int64  \n",
            " 24  25      805050 non-null  float64\n",
            " 25  26      805050 non-null  float64\n",
            " 26  27      805050 non-null  float64\n",
            " 27  28      805050 non-null  float64\n",
            " 28  29      805050 non-null  float64\n",
            " 29  30      805050 non-null  float64\n",
            " 30  31      805050 non-null  float64\n",
            " 31  32      805050 non-null  int64  \n",
            " 32  33      805050 non-null  int64  \n",
            " 33  34      805050 non-null  float64\n",
            " 34  35      805050 non-null  float64\n",
            " 35  36      805050 non-null  float64\n",
            " 36  37      805050 non-null  float64\n",
            " 37  38      805050 non-null  float64\n",
            " 38  39      805050 non-null  float64\n",
            " 39  40      805050 non-null  float64\n",
            " 40  41      805050 non-null  float64\n",
            " 41  42      805050 non-null  object \n",
            "dtypes: float64(15), int64(23), object(4)\n",
            "memory usage: 264.1+ MB\n"
          ]
        }
      ],
      "source": [
        "all_data.info()"
      ]
    },
    {
      "cell_type": "markdown",
      "metadata": {
        "id": "czlWXgqF2lOf"
      },
      "source": [
        "### Categorical features to numerical"
      ]
    },
    {
      "cell_type": "code",
      "execution_count": null,
      "metadata": {
        "colab": {
          "base_uri": "https://localhost:8080/"
        },
        "outputId": "e1e7f4b3-0bd0-45d8-d811-f96638f1956e",
        "id": "qfPfyz7lkW3e"
      },
      "outputs": [
        {
          "output_type": "execute_result",
          "data": {
            "text/plain": [
              "['2', '3', '4']"
            ]
          },
          "metadata": {},
          "execution_count": 9
        }
      ],
      "source": [
        "# the columns that contain non numbers values\n",
        "object_cols = all_data.select_dtypes(exclude=['number']).columns.tolist()\n",
        "object_cols.pop()\n",
        "object_cols"
      ]
    },
    {
      "cell_type": "code",
      "execution_count": null,
      "metadata": {
        "id": "3SJIvAjW2mcF",
        "outputId": "f5331061-ccb0-4760-dda9-7f39a5c90e6f",
        "colab": {
          "base_uri": "https://localhost:8080/"
        }
      },
      "outputs": [
        {
          "output_type": "stream",
          "name": "stdout",
          "text": [
            "\n",
            "*column: 2\n",
            "icmp    448571\n",
            "tcp     309422\n",
            "udp      47057\n",
            "Name: 2, dtype: int64\n",
            "\n",
            "*column: 3\n",
            "ecr_i      445752\n",
            "private    189403\n",
            "http       105530\n",
            "smtp        17991\n",
            "other        9422\n",
            "            ...  \n",
            "urh_i          14\n",
            "tim_i          14\n",
            "tftp_u          2\n",
            "icmp            2\n",
            "red_i           1\n",
            "Name: 3, Length: 67, dtype: int64\n",
            "\n",
            "*column: 4\n",
            "SF        626819\n",
            "S0        105019\n",
            "REJ        68820\n",
            "RSTO        1972\n",
            "RSTR        1775\n",
            "S3           299\n",
            "SH           191\n",
            "S1            84\n",
            "S2            46\n",
            "RSTOS0        13\n",
            "OTH           12\n",
            "Name: 4, dtype: int64\n"
          ]
        }
      ],
      "source": [
        "for i in range(0,len(object_cols)):\n",
        "    print(\"\\n*column:\", object_cols[i])\n",
        "    print(all_data[object_cols[i]].value_counts())"
      ]
    },
    {
      "cell_type": "code",
      "execution_count": null,
      "metadata": {
        "id": "Y740z4CNBfdK"
      },
      "outputs": [],
      "source": [
        "def dataFrame_encoding(dataFrame, object_column):\n",
        "    df_encoded = pd.get_dummies(dataFrame, columns=[object_column])\n",
        "    return df_encoded\n",
        "\n",
        "def dataFrame_label_encoding(dataFrame, object_column):\n",
        "    lab = LabelEncoder()\n",
        "    dataFrame[object_column] = lab.fit_transform(dataFrame[object_column])\n",
        "    return dataFrame"
      ]
    },
    {
      "cell_type": "code",
      "execution_count": null,
      "metadata": {
        "id": "yNddrGh0djS2"
      },
      "outputs": [],
      "source": [
        "# data encoding (hot encoding)\n",
        "for object_col in object_cols:\n",
        "    all_data = dataFrame_encoding(all_data, object_col)"
      ]
    },
    {
      "cell_type": "code",
      "execution_count": null,
      "metadata": {
        "id": "BkpFiBDQWoai",
        "colab": {
          "base_uri": "https://localhost:8080/"
        },
        "outputId": "1a7f57a2-3bf0-4385-a2bf-f1626fffffb2"
      },
      "outputs": [
        {
          "output_type": "stream",
          "name": "stdout",
          "text": [
            "<class 'pandas.core.frame.DataFrame'>\n",
            "Int64Index: 805050 entries, 0 to 311028\n",
            "Columns: 120 entries, 1 to 4_SH\n",
            "dtypes: float64(15), int64(23), object(1), uint8(81)\n",
            "memory usage: 307.9+ MB\n"
          ]
        }
      ],
      "source": [
        "all_data.info()"
      ]
    },
    {
      "cell_type": "code",
      "execution_count": null,
      "metadata": {
        "colab": {
          "base_uri": "https://localhost:8080/"
        },
        "outputId": "aef9d2ec-c7b2-4499-a792-dbf48962baa4",
        "id": "kKfwmpmLkjxD"
      },
      "outputs": [
        {
          "output_type": "stream",
          "name": "stdout",
          "text": [
            "(494021, 120)\n",
            "(311029, 120)\n"
          ]
        }
      ],
      "source": [
        "enc_data_train = all_data.iloc[:DATA_TRAIN_ROWS,:]\n",
        "enc_data_test = all_data.iloc[DATA_TRAIN_ROWS:,:]\n",
        "print(enc_data_train.shape)\n",
        "print(enc_data_test.shape)"
      ]
    },
    {
      "cell_type": "code",
      "source": [
        "enc_data_train, _ = train_test_split(enc_data_train, test_size=0.975,train_size=0.025, stratify=data_train['42'])\n",
        "enc_train_label = enc_data_train['42']\n",
        "enc_data_train = enc_data_train.drop(\"42\", axis='columns')\n",
        "\n",
        "enc_test_label = enc_data_test['42']\n",
        "enc_data_test = enc_data_test.drop(\"42\", axis='columns')"
      ],
      "metadata": {
        "id": "DcrbORQ9kpq7"
      },
      "execution_count": null,
      "outputs": []
    },
    {
      "cell_type": "code",
      "source": [
        "enc_test_label.value_counts()"
      ],
      "metadata": {
        "id": "hxi9Vu_sJjEX",
        "colab": {
          "base_uri": "https://localhost:8080/"
        },
        "outputId": "fc0f9cce-15b3-4925-ecc1-ca5836068b2c"
      },
      "execution_count": null,
      "outputs": [
        {
          "output_type": "execute_result",
          "data": {
            "text/plain": [
              "smurf.              164091\n",
              "normal.              60593\n",
              "neptune.             58001\n",
              "snmpgetattack.        7741\n",
              "mailbomb.             5000\n",
              "guess_passwd.         4367\n",
              "snmpguess.            2406\n",
              "satan.                1633\n",
              "warezmaster.          1602\n",
              "back.                 1098\n",
              "mscan.                1053\n",
              "apache2.               794\n",
              "processtable.          759\n",
              "saint.                 736\n",
              "portsweep.             354\n",
              "ipsweep.               306\n",
              "httptunnel.            158\n",
              "pod.                    87\n",
              "nmap.                   84\n",
              "buffer_overflow.        22\n",
              "multihop.               18\n",
              "named.                  17\n",
              "sendmail.               17\n",
              "ps.                     16\n",
              "rootkit.                13\n",
              "xterm.                  13\n",
              "teardrop.               12\n",
              "xlock.                   9\n",
              "land.                    9\n",
              "xsnoop.                  4\n",
              "ftp_write.               3\n",
              "loadmodule.              2\n",
              "perl.                    2\n",
              "udpstorm.                2\n",
              "worm.                    2\n",
              "phf.                     2\n",
              "sqlattack.               2\n",
              "imap.                    1\n",
              "Name: 42, dtype: int64"
            ]
          },
          "metadata": {},
          "execution_count": 16
        }
      ]
    },
    {
      "cell_type": "code",
      "source": [
        "enc_train_label.value_counts()"
      ],
      "metadata": {
        "id": "AejXVSuYSamW",
        "colab": {
          "base_uri": "https://localhost:8080/"
        },
        "outputId": "a7979b30-8d8b-4879-de2b-555be089a72e"
      },
      "execution_count": null,
      "outputs": [
        {
          "output_type": "execute_result",
          "data": {
            "text/plain": [
              "smurf.              7019\n",
              "neptune.            2680\n",
              "normal.             2432\n",
              "back.                 55\n",
              "satan.                40\n",
              "ipsweep.              31\n",
              "warezclient.          26\n",
              "portsweep.            26\n",
              "teardrop.             24\n",
              "pod.                   7\n",
              "nmap.                  6\n",
              "buffer_overflow.       1\n",
              "warezmaster.           1\n",
              "guess_passwd.          1\n",
              "land.                  1\n",
              "Name: 42, dtype: int64"
            ]
          },
          "metadata": {},
          "execution_count": 17
        }
      ]
    },
    {
      "cell_type": "code",
      "source": [
        "del all_data\n",
        "del data_train\n",
        "del data_test"
      ],
      "metadata": {
        "id": "4ILoQV4HkwmL"
      },
      "execution_count": null,
      "outputs": []
    },
    {
      "cell_type": "markdown",
      "source": [
        "## Scaling Data"
      ],
      "metadata": {
        "id": "esj3QfEbZTHk"
      }
    },
    {
      "cell_type": "code",
      "source": [
        "from sklearn.preprocessing import MinMaxScaler\n",
        "\n",
        "# scale features\n",
        "scaler = MinMaxScaler()\n",
        "model=scaler.fit(enc_data_train)\n",
        "scaled_data=model.transform(enc_data_train)"
      ],
      "metadata": {
        "id": "22gOZY28ZTHk"
      },
      "execution_count": null,
      "outputs": []
    },
    {
      "cell_type": "markdown",
      "source": [
        "## Evaluation"
      ],
      "metadata": {
        "id": "cl-JgpI9rPhq"
      }
    },
    {
      "cell_type": "code",
      "source": [
        "def per_eval(clusters, labels_train):\n",
        "  perf_labels_train = np.array(labels_train)\n",
        "\n",
        "  labels, label_counts = np.unique(perf_labels_train, return_counts=True)\n",
        "  labels = labels.tolist()\n",
        "  label_counts = label_counts.tolist()\n",
        "\n",
        "  # ---------Assigning labels to clusters\n",
        "  cluster_labels = []\n",
        "  for i in range(len(clusters)):\n",
        "    count_labels = np.zeros(len(labels))\n",
        "    for j in range(len(clusters[i])):\n",
        "      for k in range(len(labels)):\n",
        "        if( perf_labels_train[clusters[i][j]] == labels[k]):\n",
        "          count_labels[k] = count_labels[k] + 1\n",
        "    cluster_labels.append(labels[count_labels.argmax()])\n",
        "\n",
        "\n",
        "  # ---------Calculate pericision\n",
        "  percision_arr = []\n",
        "  percision = 0\n",
        "\n",
        "  for i in range(len(clusters)):\n",
        "    count = 0\n",
        "    if len(clusters[i]) == 0 :\n",
        "      cluster_purity = 0\n",
        "      percision_arr.append(cluster_purity)\n",
        "      continue\n",
        "    for j in range(len(clusters[i])):\n",
        "      if(perf_labels_train[clusters[i][j]] == cluster_labels[i]):\n",
        "        count = count + 1\n",
        "    cluster_purity = count / len(clusters[i])\n",
        "    percision_arr.append(cluster_purity)\n",
        "\n",
        "  for i in range(len(percision_arr)):\n",
        "    percision = percision + percision_arr[i] * (len(clusters[i])/len(labels_train))\n",
        "\n",
        "\n",
        "  # ---------Calculate recall\n",
        "  recall_arr = []\n",
        "  recall = 0\n",
        "\n",
        "  for i in range(len(clusters)):\n",
        "    count = 0\n",
        "    for j in range(len(clusters[i])):\n",
        "      if(perf_labels_train[clusters[i][j]] == cluster_labels[i]):\n",
        "        count = count + 1\n",
        "    cluster_purity = count / label_counts[labels.index(cluster_labels[i])]\n",
        "    recall_arr.append(cluster_purity)\n",
        "\n",
        "  for i in range(len(recall_arr)):\n",
        "    recall = recall + recall_arr[i] * (len(clusters[i])/len(labels_train))\n",
        "\n",
        "\n",
        "  # ---------Calculate F1\n",
        "  ftotal = 0\n",
        "  for i in range(len(recall_arr)):\n",
        "    if (  percision_arr[i] + recall_arr[i] ) == 0:\n",
        "      continue\n",
        "    f = (2 * percision_arr[i] * recall_arr[i]) / (  percision_arr[i] + recall_arr[i] )\n",
        "    ftotal += f * (len(clusters[i])/len(labels_train))\n",
        "\n",
        "\n",
        "  # ---------Calculate entropy\n",
        "\n",
        "  entropy_arr = []\n",
        "  entropy = 0\n",
        "  count = 0\n",
        "\n",
        "  for i in range(len(clusters)):\n",
        "    count_labels = np.zeros(len(labels))\n",
        "    for j in range(len(clusters[i])):\n",
        "      for k in range(len(labels)):\n",
        "        if( labels_train[clusters[i][j]] == labels[k]):\n",
        "          count_labels[k] = count_labels[k] + 1\n",
        "\n",
        "      for m in range(len(labels)):\n",
        "        if( count_labels[m] != 0 ):\n",
        "          entropy = entropy - (( count_labels[m] / len(clusters[i])) * math.log( count_labels[m] / len(clusters[i])))\n",
        "\n",
        "      entropy_arr.append(entropy)\n",
        "      entropy = 0\n",
        "\n",
        "  for i in range(len(clusters)):\n",
        "    entropy = entropy + ( (len(clusters[i]) / len(labels_train)) * entropy_arr[i] )\n",
        "\n",
        "  return percision,recall,ftotal,entropy"
      ],
      "metadata": {
        "id": "SOPOeRjKrSH3"
      },
      "execution_count": null,
      "outputs": []
    },
    {
      "cell_type": "code",
      "source": [
        "def per_eval_test_data(clusters, labels_train, clusters_test, labels_test):\n",
        "  perf_labels_train = np.array(labels_train)\n",
        "  perf_labels_test = np.array(labels_test)\n",
        "\n",
        "  labels, label_counts = np.unique(perf_labels_train, return_counts=True)\n",
        "  labels = labels.tolist()\n",
        "  label_counts = label_counts.tolist()\n",
        "\n",
        "  # ---------Assigning labels to clusters\n",
        "  cluster_labels = []\n",
        "  for i in range(len(clusters)):\n",
        "    count_labels = np.zeros(len(labels))\n",
        "    for j in range(len(clusters[i])):\n",
        "      for k in range(len(labels)):\n",
        "        if( perf_labels_train[clusters[i][j]] == labels[k]):\n",
        "          count_labels[k] = count_labels[k] + 1\n",
        "    cluster_labels.append(labels[count_labels.argmax()])\n",
        "\n",
        "  labels, label_counts = np.unique(perf_labels_test, return_counts=True)\n",
        "  labels = labels.tolist()\n",
        "  label_counts = label_counts.tolist()\n",
        "\n",
        "\n",
        "  # ---------Calculate pericision\n",
        "  percision_arr = []\n",
        "  percision = 0\n",
        "\n",
        "  for i in range(len(clusters_test)):\n",
        "    count = 0\n",
        "    if len(clusters_test[i]) == 0 :\n",
        "      cluster_purity = 0\n",
        "      percision_arr.append(cluster_purity)\n",
        "      continue\n",
        "    for j in range(len(clusters_test[i])):\n",
        "      if(perf_labels_test[clusters_test[i][j]] == cluster_labels[i]):\n",
        "        count = count + 1\n",
        "    cluster_purity = count / len(clusters_test[i])\n",
        "    percision_arr.append(cluster_purity)\n",
        "\n",
        "  for i in range(len(percision_arr)):\n",
        "    percision = percision + percision_arr[i] * (len(clusters_test[i])/len(labels_test))\n",
        "\n",
        "\n",
        "  # ---------Calculate recall\n",
        "  recall_arr = []\n",
        "  recall = 0\n",
        "\n",
        "  for i in range(len(clusters_test)):\n",
        "    count = 0\n",
        "    for j in range(len(clusters_test[i])):\n",
        "      if(perf_labels_test[clusters_test[i][j]] == cluster_labels[i]):\n",
        "        count = count + 1\n",
        "    try:\n",
        "      cluster_purity = count / label_counts[labels.index(cluster_labels[i])]\n",
        "    except Exception as e:\n",
        "      cluster_purity = 0\n",
        "    recall_arr.append(cluster_purity)\n",
        "\n",
        "  for i in range(len(recall_arr)):\n",
        "    recall = recall + recall_arr[i] * (len(clusters_test[i])/len(labels_test))\n",
        "\n",
        "\n",
        "  # ---------Calculate F1\n",
        "  ftotal = 0\n",
        "  for i in range(len(recall_arr)):\n",
        "    if percision_arr[i] + recall_arr[i] == 0 :\n",
        "      continue\n",
        "    f = (2 * percision_arr[i] * recall_arr[i]) / (  percision_arr[i] + recall_arr[i] )\n",
        "    ftotal += f * (len(clusters_test[i])/len(labels_test))\n",
        "\n",
        "\n",
        "  # ---------Calculate entropy\n",
        "\n",
        "  entropy_arr = []\n",
        "  entropy = 0\n",
        "  count = 0\n",
        "\n",
        "  for i in range(len(clusters_test)):\n",
        "    count_labels = np.zeros(len(labels))\n",
        "    for j in range(len(clusters_test[i])):\n",
        "      for k in range(len(labels)):\n",
        "        if( labels_test[clusters_test[i][j]] == labels[k]):\n",
        "          count_labels[k] = count_labels[k] + 1\n",
        "\n",
        "      for m in range(len(labels)):\n",
        "        if( count_labels[m] != 0 ):\n",
        "          entropy = entropy - (( count_labels[m] / len(clusters_test[i])) * math.log( count_labels[m] / len(clusters_test[i])))\n",
        "\n",
        "      entropy_arr.append(entropy)\n",
        "      entropy = 0\n",
        "\n",
        "  for i in range(len(clusters_test)):\n",
        "    entropy = entropy + ( (len(clusters_test[i]) / len(labels_test)) * entropy_arr[i] )\n",
        "\n",
        "  return percision,recall,ftotal,entropy"
      ],
      "metadata": {
        "id": "-HUErhn8XIHH"
      },
      "execution_count": null,
      "outputs": []
    },
    {
      "cell_type": "markdown",
      "source": [
        "## K-Means"
      ],
      "metadata": {
        "id": "CNXP8UAArky9"
      }
    },
    {
      "cell_type": "code",
      "source": [
        "\n",
        "class K_Means():\n",
        "  def __init__(self,n_clusters=2,max_iter=100):\n",
        "    self.n_clusters = n_clusters\n",
        "    self.max_iter = max_iter\n",
        "\n",
        "  def check_repeat(self,point,data):\n",
        "    repeated = 0\n",
        "    for i in range(len(data)):\n",
        "      if (np.array_equal(point,data[i])):\n",
        "        repeated +=1\n",
        "    if (repeated != 1):\n",
        "      return True\n",
        "    else:\n",
        "      return False\n",
        "\n",
        "  def euclidean(self,point, data):\n",
        "      \"\"\"\n",
        "      Euclidean distance between point & data.\n",
        "      Point has dimensions (m,), data has dimensions (n,m), and output will be of size (n,).\n",
        "      \"\"\"\n",
        "      return np.sqrt(np.sum((point - data)**2, axis=1))\n",
        "\n",
        "  def fit(self,data):\n",
        "    k=self.n_clusters\n",
        "    self.centroid_loc = np.array([[0 for i in range(len(data[0]))] for j in range(k)]) #K Centroids each Centroid has same number of features\n",
        "    old_centroid_loc = np.array([[0 for i in range(len(data[0]))] for j in range(k)])\n",
        "    self.clusters = [[] for i in range(k)] #Each row represents the cluster number and each coloumn has the index of data\n",
        "    self.labels = [[] for i in range(k)]\n",
        "    for i in range(k):\n",
        "        self.centroid_loc [i] = random.choice(data)\n",
        "        while ( self.check_repeat(self.centroid_loc[i],self.centroid_loc) ):\n",
        "          self.centroid_loc [i] = random.choice(data)\n",
        "    iterations = 0\n",
        "    while(True):\n",
        "      self.clusters = [[] for i in range(k)] #Each row represents the cluster number and each coloumn has the index of data\n",
        "      self.labels = [[] for i in range(k)]\n",
        "      #Assigning\n",
        "      for i in range(len(data)):\n",
        "        distances = self.euclidean(data[i],self.centroid_loc)\n",
        "        idx = np.argmin(distances) #Gets the index of the shortest distance (Index represent the cluster number)\n",
        "        self.clusters[idx].append(data[i])\n",
        "        self.labels[idx].append(i)\n",
        "\n",
        "      old_centroid_loc = self.centroid_loc.copy()\n",
        "      self.centroid_loc = np.array([np.mean(cluster, axis=0) for cluster in self.clusters])\n",
        "      for i, centroid in enumerate(self.centroid_loc):\n",
        "        if np.isnan(centroid).any():  # Catch any np.nans, resulting from a centroid having no points\n",
        "           self.centroid_loc[i] = old_centroid_loc[i]\n",
        "\n",
        "      if( np.array_equal (self.centroid_loc, old_centroid_loc) ):\n",
        "        break;\n",
        "      iterations += 1\n",
        "      print(iterations)\n",
        "    print('Done')\n",
        "    for i in range(len(self.clusters)):\n",
        "      print(len(self.clusters[i]))\n",
        "\n",
        "\n",
        "  def get_centroids(self):\n",
        "    return self.centroid_loc\n",
        "\n",
        "  def get_labels(self):\n",
        "    return self.labels\n",
        "\n",
        "  def get_clusters(self):\n",
        "    return self.clusters\n",
        "\n",
        "  def predict(self,point):\n",
        "    distances = self.euclidean(point,self.centroid_loc)\n",
        "    idx = np.argmin(distances) #Gets the index of the shortest distance (Index represent the cluster number)\n",
        "    self.clusters[idx].append(point)\n",
        "    # self.centroid_loc = np.array([np.mean(cluster, axis=0) for cluster in self.clusters])\n",
        "    return idx\n"
      ],
      "metadata": {
        "id": "1cNrzCbfrk_m"
      },
      "execution_count": null,
      "outputs": []
    },
    {
      "cell_type": "markdown",
      "source": [
        "### Test K-Means"
      ],
      "metadata": {
        "id": "f_NvCpgirt-D"
      }
    },
    {
      "cell_type": "markdown",
      "source": [
        "**7 Clusters**"
      ],
      "metadata": {
        "id": "ugsTAGMar6WF"
      }
    },
    {
      "cell_type": "code",
      "source": [
        "model_7 = K_Means(n_clusters = 7)\n",
        "model_7.fit(scaled_data)"
      ],
      "metadata": {
        "id": "PZJ4H4unrwkr"
      },
      "execution_count": null,
      "outputs": []
    },
    {
      "cell_type": "markdown",
      "source": [
        "**15 Clusters**"
      ],
      "metadata": {
        "id": "m6qCYNk3r_dN"
      }
    },
    {
      "cell_type": "code",
      "source": [
        "model_15 = K_Means(n_clusters = 15)\n",
        "model_15.fit(scaled_data)"
      ],
      "metadata": {
        "id": "mHVdcxH6r_p3",
        "colab": {
          "base_uri": "https://localhost:8080/"
        },
        "outputId": "d8a20121-2e16-4c08-dd0a-706ccb300a83"
      },
      "execution_count": null,
      "outputs": [
        {
          "output_type": "stream",
          "name": "stdout",
          "text": [
            "1\n",
            "2\n",
            "3\n",
            "4\n",
            "5\n",
            "6\n",
            "7\n",
            "8\n",
            "Done\n",
            "7021\n",
            "559\n",
            "66\n",
            "156\n",
            "257\n",
            "359\n",
            "2191\n",
            "614\n",
            "38\n",
            "131\n",
            "647\n",
            "53\n",
            "58\n",
            "80\n",
            "120\n"
          ]
        }
      ]
    },
    {
      "cell_type": "markdown",
      "source": [
        "**23 Clusters**"
      ],
      "metadata": {
        "id": "2ku4PgyNr_34"
      }
    },
    {
      "cell_type": "code",
      "source": [
        "model_23 = K_Means(n_clusters = 23)\n",
        "model_23.fit(scaled_data)"
      ],
      "metadata": {
        "id": "PMrwJ15RsADw"
      },
      "execution_count": null,
      "outputs": []
    },
    {
      "cell_type": "markdown",
      "source": [
        "**31 Clusters**"
      ],
      "metadata": {
        "id": "2F4T3psgsAT4"
      }
    },
    {
      "cell_type": "code",
      "source": [
        "model_31 = K_Means(n_clusters = 31)\n",
        "model_31.fit(scaled_data)"
      ],
      "metadata": {
        "id": "XgMew6nGsAgJ"
      },
      "execution_count": null,
      "outputs": []
    },
    {
      "cell_type": "markdown",
      "source": [
        "**45 Clusters**"
      ],
      "metadata": {
        "id": "fjwWqBTAsJbQ"
      }
    },
    {
      "cell_type": "code",
      "source": [
        "model_45 = K_Means(n_clusters=45)\n",
        "model_45.fit(scaled_data)"
      ],
      "metadata": {
        "id": "CA4FfxXasJot"
      },
      "execution_count": null,
      "outputs": []
    },
    {
      "cell_type": "markdown",
      "source": [
        "**Saving Outputs**"
      ],
      "metadata": {
        "id": "LemVfvCUsWwD"
      }
    },
    {
      "cell_type": "code",
      "source": [
        "file = open('/content/drive/MyDrive/Colab Notebooks/Pattern/projects/Assignment2/model_7.p', 'wb')\n",
        "pickle.dump(model_7, file)\n",
        "file.close()"
      ],
      "metadata": {
        "id": "CDTr0NAvsZaC"
      },
      "execution_count": null,
      "outputs": []
    },
    {
      "cell_type": "code",
      "source": [
        "file = open('/content/drive/MyDrive/Colab Notebooks/Pattern/projects/Assignment2/model_15.p', 'wb')\n",
        "pickle.dump(model_15, file)\n",
        "file.close()"
      ],
      "metadata": {
        "id": "gF2HxjMxsblZ"
      },
      "execution_count": null,
      "outputs": []
    },
    {
      "cell_type": "code",
      "source": [
        "file = open('/content/drive/MyDrive/Colab Notebooks/Pattern/projects/Assignment2/model_23.p', 'wb')\n",
        "pickle.dump(model_23, file)\n",
        "file.close()"
      ],
      "metadata": {
        "id": "ALoUN9Z1sbtE"
      },
      "execution_count": null,
      "outputs": []
    },
    {
      "cell_type": "code",
      "source": [
        "file = open('/content/drive/MyDrive/Colab Notebooks/Pattern/projects/Assignment2/model_31.p', 'wb')\n",
        "pickle.dump(model_31, file)\n",
        "file.close()"
      ],
      "metadata": {
        "id": "ZICWWUv_sb0m"
      },
      "execution_count": null,
      "outputs": []
    },
    {
      "cell_type": "code",
      "source": [
        "file = open('/content/drive/MyDrive/Colab Notebooks/Pattern/projects/Assignment2/model_45.p', 'wb')\n",
        "pickle.dump(model_45, file)\n",
        "file.close()"
      ],
      "metadata": {
        "id": "Z1JBV1lOsb-R"
      },
      "execution_count": null,
      "outputs": []
    },
    {
      "cell_type": "markdown",
      "source": [
        "**Loading Outputs**"
      ],
      "metadata": {
        "id": "iUHHqvRBsqx4"
      }
    },
    {
      "cell_type": "code",
      "source": [
        "file = open('/content/drive/MyDrive/Colab Notebooks/Pattern/projects/Assignment2/model_7.p', 'rb')\n",
        "model_7 = pickle.load(file)\n",
        "file.close()"
      ],
      "metadata": {
        "id": "D7kjWSbXsvTH"
      },
      "execution_count": null,
      "outputs": []
    },
    {
      "cell_type": "code",
      "source": [
        "file = open('/content/drive/MyDrive/Colab Notebooks/Pattern/projects/Assignment2/model_15.p', 'rb')\n",
        "model_15 = pickle.load(file)\n",
        "file.close()"
      ],
      "metadata": {
        "id": "pD3piVMqsvgo"
      },
      "execution_count": null,
      "outputs": []
    },
    {
      "cell_type": "code",
      "source": [
        "file = open('/content/drive/MyDrive/Colab Notebooks/Pattern/projects/Assignment2/model_23.p', 'rb')\n",
        "model_23 = pickle.load(file)\n",
        "file.close()"
      ],
      "metadata": {
        "id": "98L4Dr_6svpl"
      },
      "execution_count": null,
      "outputs": []
    },
    {
      "cell_type": "code",
      "source": [
        "file = open('/content/drive/MyDrive/Colab Notebooks/Pattern/projects/Assignment2/model_31.p', 'rb')\n",
        "model_31 = pickle.load(file)\n",
        "file.close()"
      ],
      "metadata": {
        "id": "QTKPi9HlsvyO"
      },
      "execution_count": null,
      "outputs": []
    },
    {
      "cell_type": "code",
      "source": [
        "file = open('/content/drive/MyDrive/Colab Notebooks/Pattern/projects/Assignment2/model_45.p', 'rb')\n",
        "model_45 = pickle.load(file)\n",
        "file.close()"
      ],
      "metadata": {
        "id": "5e48dv_Hsv9q"
      },
      "execution_count": null,
      "outputs": []
    },
    {
      "cell_type": "markdown",
      "source": [
        "**Evaluating Clusters**"
      ],
      "metadata": {
        "id": "Jv0Lcy7Bxl44"
      }
    },
    {
      "cell_type": "code",
      "source": [
        "print('Percision,Recall,F1,Entropy \\n',per_eval(model_7.labels,labels_train))"
      ],
      "metadata": {
        "id": "AeHiBc00xl45"
      },
      "execution_count": null,
      "outputs": []
    },
    {
      "cell_type": "code",
      "source": [
        "print('Percision,Recall,F1,Entropy \\n',per_eval(model_15.labels,labels_train))"
      ],
      "metadata": {
        "colab": {
          "base_uri": "https://localhost:8080/",
          "height": 502
        },
        "outputId": "94e4af5b-c326-4481-86fd-0687af55f380",
        "id": "Q4_bsECCxl46"
      },
      "execution_count": null,
      "outputs": [
        {
          "output_type": "error",
          "ename": "KeyError",
          "evalue": "ignored",
          "traceback": [
            "\u001b[0;31m---------------------------------------------------------------------------\u001b[0m",
            "\u001b[0;31mKeyError\u001b[0m                                  Traceback (most recent call last)",
            "\u001b[0;32m/usr/local/lib/python3.10/dist-packages/pandas/core/indexes/base.py\u001b[0m in \u001b[0;36mget_loc\u001b[0;34m(self, key, method, tolerance)\u001b[0m\n\u001b[1;32m   3801\u001b[0m             \u001b[0;32mtry\u001b[0m\u001b[0;34m:\u001b[0m\u001b[0;34m\u001b[0m\u001b[0;34m\u001b[0m\u001b[0m\n\u001b[0;32m-> 3802\u001b[0;31m                 \u001b[0;32mreturn\u001b[0m \u001b[0mself\u001b[0m\u001b[0;34m.\u001b[0m\u001b[0m_engine\u001b[0m\u001b[0;34m.\u001b[0m\u001b[0mget_loc\u001b[0m\u001b[0;34m(\u001b[0m\u001b[0mcasted_key\u001b[0m\u001b[0;34m)\u001b[0m\u001b[0;34m\u001b[0m\u001b[0;34m\u001b[0m\u001b[0m\n\u001b[0m\u001b[1;32m   3803\u001b[0m             \u001b[0;32mexcept\u001b[0m \u001b[0mKeyError\u001b[0m \u001b[0;32mas\u001b[0m \u001b[0merr\u001b[0m\u001b[0;34m:\u001b[0m\u001b[0;34m\u001b[0m\u001b[0;34m\u001b[0m\u001b[0m\n",
            "\u001b[0;32m/usr/local/lib/python3.10/dist-packages/pandas/_libs/index.pyx\u001b[0m in \u001b[0;36mpandas._libs.index.IndexEngine.get_loc\u001b[0;34m()\u001b[0m\n",
            "\u001b[0;32m/usr/local/lib/python3.10/dist-packages/pandas/_libs/index.pyx\u001b[0m in \u001b[0;36mpandas._libs.index.IndexEngine.get_loc\u001b[0;34m()\u001b[0m\n",
            "\u001b[0;32mpandas/_libs/hashtable_class_helper.pxi\u001b[0m in \u001b[0;36mpandas._libs.hashtable.Int64HashTable.get_item\u001b[0;34m()\u001b[0m\n",
            "\u001b[0;32mpandas/_libs/hashtable_class_helper.pxi\u001b[0m in \u001b[0;36mpandas._libs.hashtable.Int64HashTable.get_item\u001b[0;34m()\u001b[0m\n",
            "\u001b[0;31mKeyError\u001b[0m: 2",
            "\nThe above exception was the direct cause of the following exception:\n",
            "\u001b[0;31mKeyError\u001b[0m                                  Traceback (most recent call last)",
            "\u001b[0;32m<ipython-input-247-978c2e7f8077>\u001b[0m in \u001b[0;36m<cell line: 1>\u001b[0;34m()\u001b[0m\n\u001b[0;32m----> 1\u001b[0;31m \u001b[0mprint\u001b[0m\u001b[0;34m(\u001b[0m\u001b[0;34m'Percision,Recall,F1,Entropy \\n'\u001b[0m\u001b[0;34m,\u001b[0m\u001b[0mper_eval\u001b[0m\u001b[0;34m(\u001b[0m\u001b[0mmodel_15\u001b[0m\u001b[0;34m.\u001b[0m\u001b[0mlabels\u001b[0m\u001b[0;34m,\u001b[0m\u001b[0menc_train_label\u001b[0m\u001b[0;34m)\u001b[0m\u001b[0;34m)\u001b[0m\u001b[0;34m\u001b[0m\u001b[0;34m\u001b[0m\u001b[0m\n\u001b[0m",
            "\u001b[0;32m<ipython-input-101-4a21be95a200>\u001b[0m in \u001b[0;36mper_eval\u001b[0;34m(clusters, labels_train)\u001b[0m\n\u001b[1;32m     72\u001b[0m     \u001b[0;32mfor\u001b[0m \u001b[0mj\u001b[0m \u001b[0;32min\u001b[0m \u001b[0mrange\u001b[0m\u001b[0;34m(\u001b[0m\u001b[0mlen\u001b[0m\u001b[0;34m(\u001b[0m\u001b[0mclusters\u001b[0m\u001b[0;34m[\u001b[0m\u001b[0mi\u001b[0m\u001b[0;34m]\u001b[0m\u001b[0;34m)\u001b[0m\u001b[0;34m)\u001b[0m\u001b[0;34m:\u001b[0m\u001b[0;34m\u001b[0m\u001b[0;34m\u001b[0m\u001b[0m\n\u001b[1;32m     73\u001b[0m       \u001b[0;32mfor\u001b[0m \u001b[0mk\u001b[0m \u001b[0;32min\u001b[0m \u001b[0mrange\u001b[0m\u001b[0;34m(\u001b[0m\u001b[0mlen\u001b[0m\u001b[0;34m(\u001b[0m\u001b[0mlabels\u001b[0m\u001b[0;34m)\u001b[0m\u001b[0;34m)\u001b[0m\u001b[0;34m:\u001b[0m\u001b[0;34m\u001b[0m\u001b[0;34m\u001b[0m\u001b[0m\n\u001b[0;32m---> 74\u001b[0;31m         \u001b[0;32mif\u001b[0m\u001b[0;34m(\u001b[0m \u001b[0mlabels_train\u001b[0m\u001b[0;34m[\u001b[0m\u001b[0mclusters\u001b[0m\u001b[0;34m[\u001b[0m\u001b[0mi\u001b[0m\u001b[0;34m]\u001b[0m\u001b[0;34m[\u001b[0m\u001b[0mj\u001b[0m\u001b[0;34m]\u001b[0m\u001b[0;34m]\u001b[0m \u001b[0;34m==\u001b[0m \u001b[0mlabels\u001b[0m\u001b[0;34m[\u001b[0m\u001b[0mk\u001b[0m\u001b[0;34m]\u001b[0m\u001b[0;34m)\u001b[0m\u001b[0;34m:\u001b[0m\u001b[0;34m\u001b[0m\u001b[0;34m\u001b[0m\u001b[0m\n\u001b[0m\u001b[1;32m     75\u001b[0m           \u001b[0mcount_labels\u001b[0m\u001b[0;34m[\u001b[0m\u001b[0mk\u001b[0m\u001b[0;34m]\u001b[0m \u001b[0;34m=\u001b[0m \u001b[0mcount_labels\u001b[0m\u001b[0;34m[\u001b[0m\u001b[0mk\u001b[0m\u001b[0;34m]\u001b[0m \u001b[0;34m+\u001b[0m \u001b[0;36m1\u001b[0m\u001b[0;34m\u001b[0m\u001b[0;34m\u001b[0m\u001b[0m\n\u001b[1;32m     76\u001b[0m \u001b[0;34m\u001b[0m\u001b[0m\n",
            "\u001b[0;32m/usr/local/lib/python3.10/dist-packages/pandas/core/series.py\u001b[0m in \u001b[0;36m__getitem__\u001b[0;34m(self, key)\u001b[0m\n\u001b[1;32m    979\u001b[0m \u001b[0;34m\u001b[0m\u001b[0m\n\u001b[1;32m    980\u001b[0m         \u001b[0;32melif\u001b[0m \u001b[0mkey_is_scalar\u001b[0m\u001b[0;34m:\u001b[0m\u001b[0;34m\u001b[0m\u001b[0;34m\u001b[0m\u001b[0m\n\u001b[0;32m--> 981\u001b[0;31m             \u001b[0;32mreturn\u001b[0m \u001b[0mself\u001b[0m\u001b[0;34m.\u001b[0m\u001b[0m_get_value\u001b[0m\u001b[0;34m(\u001b[0m\u001b[0mkey\u001b[0m\u001b[0;34m)\u001b[0m\u001b[0;34m\u001b[0m\u001b[0;34m\u001b[0m\u001b[0m\n\u001b[0m\u001b[1;32m    982\u001b[0m \u001b[0;34m\u001b[0m\u001b[0m\n\u001b[1;32m    983\u001b[0m         \u001b[0;32mif\u001b[0m \u001b[0mis_hashable\u001b[0m\u001b[0;34m(\u001b[0m\u001b[0mkey\u001b[0m\u001b[0;34m)\u001b[0m\u001b[0;34m:\u001b[0m\u001b[0;34m\u001b[0m\u001b[0;34m\u001b[0m\u001b[0m\n",
            "\u001b[0;32m/usr/local/lib/python3.10/dist-packages/pandas/core/series.py\u001b[0m in \u001b[0;36m_get_value\u001b[0;34m(self, label, takeable)\u001b[0m\n\u001b[1;32m   1087\u001b[0m \u001b[0;34m\u001b[0m\u001b[0m\n\u001b[1;32m   1088\u001b[0m         \u001b[0;31m# Similar to Index.get_value, but we do not fall back to positional\u001b[0m\u001b[0;34m\u001b[0m\u001b[0;34m\u001b[0m\u001b[0m\n\u001b[0;32m-> 1089\u001b[0;31m         \u001b[0mloc\u001b[0m \u001b[0;34m=\u001b[0m \u001b[0mself\u001b[0m\u001b[0;34m.\u001b[0m\u001b[0mindex\u001b[0m\u001b[0;34m.\u001b[0m\u001b[0mget_loc\u001b[0m\u001b[0;34m(\u001b[0m\u001b[0mlabel\u001b[0m\u001b[0;34m)\u001b[0m\u001b[0;34m\u001b[0m\u001b[0;34m\u001b[0m\u001b[0m\n\u001b[0m\u001b[1;32m   1090\u001b[0m         \u001b[0;32mreturn\u001b[0m \u001b[0mself\u001b[0m\u001b[0;34m.\u001b[0m\u001b[0mindex\u001b[0m\u001b[0;34m.\u001b[0m\u001b[0m_get_values_for_loc\u001b[0m\u001b[0;34m(\u001b[0m\u001b[0mself\u001b[0m\u001b[0;34m,\u001b[0m \u001b[0mloc\u001b[0m\u001b[0;34m,\u001b[0m \u001b[0mlabel\u001b[0m\u001b[0;34m)\u001b[0m\u001b[0;34m\u001b[0m\u001b[0;34m\u001b[0m\u001b[0m\n\u001b[1;32m   1091\u001b[0m \u001b[0;34m\u001b[0m\u001b[0m\n",
            "\u001b[0;32m/usr/local/lib/python3.10/dist-packages/pandas/core/indexes/base.py\u001b[0m in \u001b[0;36mget_loc\u001b[0;34m(self, key, method, tolerance)\u001b[0m\n\u001b[1;32m   3802\u001b[0m                 \u001b[0;32mreturn\u001b[0m \u001b[0mself\u001b[0m\u001b[0;34m.\u001b[0m\u001b[0m_engine\u001b[0m\u001b[0;34m.\u001b[0m\u001b[0mget_loc\u001b[0m\u001b[0;34m(\u001b[0m\u001b[0mcasted_key\u001b[0m\u001b[0;34m)\u001b[0m\u001b[0;34m\u001b[0m\u001b[0;34m\u001b[0m\u001b[0m\n\u001b[1;32m   3803\u001b[0m             \u001b[0;32mexcept\u001b[0m \u001b[0mKeyError\u001b[0m \u001b[0;32mas\u001b[0m \u001b[0merr\u001b[0m\u001b[0;34m:\u001b[0m\u001b[0;34m\u001b[0m\u001b[0;34m\u001b[0m\u001b[0m\n\u001b[0;32m-> 3804\u001b[0;31m                 \u001b[0;32mraise\u001b[0m \u001b[0mKeyError\u001b[0m\u001b[0;34m(\u001b[0m\u001b[0mkey\u001b[0m\u001b[0;34m)\u001b[0m \u001b[0;32mfrom\u001b[0m \u001b[0merr\u001b[0m\u001b[0;34m\u001b[0m\u001b[0;34m\u001b[0m\u001b[0m\n\u001b[0m\u001b[1;32m   3805\u001b[0m             \u001b[0;32mexcept\u001b[0m \u001b[0mTypeError\u001b[0m\u001b[0;34m:\u001b[0m\u001b[0;34m\u001b[0m\u001b[0;34m\u001b[0m\u001b[0m\n\u001b[1;32m   3806\u001b[0m                 \u001b[0;31m# If we have a listlike key, _check_indexing_error will raise\u001b[0m\u001b[0;34m\u001b[0m\u001b[0;34m\u001b[0m\u001b[0m\n",
            "\u001b[0;31mKeyError\u001b[0m: 2"
          ]
        }
      ]
    },
    {
      "cell_type": "code",
      "source": [
        "print('Percision,Recall,F1,Entropy \\n',per_eval(model_23.labels,labels_train))"
      ],
      "metadata": {
        "colab": {
          "base_uri": "https://localhost:8080/"
        },
        "outputId": "9b209b86-b5c9-4070-b0d9-798855d1b61a",
        "id": "-P_9MEu8xl47"
      },
      "execution_count": null,
      "outputs": [
        {
          "output_type": "stream",
          "name": "stdout",
          "text": [
            "Percision,Recall,F1,Entropy \n",
            " (0.9892777837379385, 0.7602507464078752, 0.3045064164742692, 0.02796582839108208)\n"
          ]
        }
      ]
    },
    {
      "cell_type": "code",
      "source": [
        "print('Percision,Recall,F1,Entropy \\n',per_eval(model_31.labels,labels_train))"
      ],
      "metadata": {
        "colab": {
          "base_uri": "https://localhost:8080/"
        },
        "outputId": "5009aea6-b504-4518-d22c-d4493fadb509",
        "id": "Og4bjIydxl47"
      },
      "execution_count": null,
      "outputs": [
        {
          "output_type": "stream",
          "name": "stdout",
          "text": [
            "Percision,Recall,F1,Entropy \n",
            " (0.9912108999415006, 0.7592594127525485, 0.2889953971328397, 0.0004393749582561283)\n"
          ]
        }
      ]
    },
    {
      "cell_type": "code",
      "source": [
        "print('Percision,Recall,F1,Entropy \\n',per_eval(model_45.labels,labels_train))"
      ],
      "metadata": {
        "colab": {
          "base_uri": "https://localhost:8080/"
        },
        "outputId": "a2db7c1e-3ce6-4828-a272-e1281e7904c5",
        "id": "G1fEqOAjxl48"
      },
      "execution_count": null,
      "outputs": [
        {
          "output_type": "stream",
          "name": "stdout",
          "text": [
            "Percision,Recall,F1,Entropy \n",
            " (0.9917432659745231, 0.7570077660600842, 0.22600563798801165, 0.029409235723871375)\n"
          ]
        }
      ]
    },
    {
      "cell_type": "code",
      "source": [
        "y = [0.0003213131157240282,0.00013417090493778416,0.02796582839108208,0.0004393749582561283,0.029409235723871375]\n",
        "x = [7,15,23,31,45]\n",
        "plt.plot(x, y)\n",
        "plt.xlabel('Number of clusters')\n",
        "plt.ylabel('Entropy')\n",
        "plt.title('Entropy')\n",
        "plt.show()"
      ],
      "metadata": {
        "colab": {
          "base_uri": "https://localhost:8080/",
          "height": 472
        },
        "id": "IZge4cyT29V-",
        "outputId": "1fc24355-2be2-49f3-c256-71257f44f152"
      },
      "execution_count": null,
      "outputs": [
        {
          "output_type": "display_data",
          "data": {
            "text/plain": [
              "<Figure size 640x480 with 1 Axes>"
            ],
            "image/png": "[encoded data removed]"
          },
          "metadata": {}
        }
      ]
    },
    {
      "cell_type": "code",
      "source": [
        "y = [0.5189461070459584,0.27293627328107034,0.3045064164742692,0.2889953971328397,0.22600563798801165]\n",
        "x = [7,15,23,31,45]\n",
        "plt.plot(x, y)\n",
        "plt.xlabel('Number of clusters')\n",
        "plt.ylabel('F1')\n",
        "plt.title('F1')\n",
        "plt.show()"
      ],
      "metadata": {
        "colab": {
          "base_uri": "https://localhost:8080/",
          "height": 472
        },
        "id": "yIHCXoCK2rA3",
        "outputId": "bd80ba1f-6457-4d75-9679-8bbd8018d505"
      },
      "execution_count": null,
      "outputs": [
        {
          "output_type": "display_data",
          "data": {
            "text/plain": [
              "<Figure size 640x480 with 1 Axes>"
            ],
            "image/png": "[encoded data removed]"
          },
          "metadata": {}
        }
      ]
    },
    {
      "cell_type": "code",
      "source": [
        "y = [0.7824894576210621,0.757593587281401,0.7602507464078752,0.7592594127525485,0.7570077660600842]\n",
        "x = [7,15,23,31,45]\n",
        "plt.plot(x, y)\n",
        "plt.xlabel('Number of clusters')\n",
        "plt.ylabel('Recall')\n",
        "plt.title('Recall')\n",
        "plt.show()"
      ],
      "metadata": {
        "colab": {
          "base_uri": "https://localhost:8080/",
          "height": 472
        },
        "id": "xXfTAyes2ZUt",
        "outputId": "47e4dbbd-0ea2-4290-e1d2-7f0c197b4922"
      },
      "execution_count": null,
      "outputs": [
        {
          "output_type": "display_data",
          "data": {
            "text/plain": [
              "<Figure size 640x480 with 1 Axes>"
            ],
            "image/png": "[encoded data removed]"
          },
          "metadata": {}
        }
      ]
    },
    {
      "cell_type": "code",
      "source": [
        "y = [0.9712522342167641,0.9823104685833195,0.9892777837379385,0.9912108999415006,0.9917432659745231]\n",
        "x = [7,15,23,31,45]\n",
        "plt.plot(x, y)\n",
        "plt.xlabel('Number of clusters')\n",
        "plt.ylabel('Precision')\n",
        "plt.title('Precision')\n",
        "plt.show()"
      ],
      "metadata": {
        "colab": {
          "base_uri": "https://localhost:8080/",
          "height": 472
        },
        "id": "ojQ_pG6f1ie-",
        "outputId": "97ad8ac2-88ad-411b-810f-6a975bc63b22"
      },
      "execution_count": null,
      "outputs": [
        {
          "output_type": "display_data",
          "data": {
            "text/plain": [
              "<Figure size 640x480 with 1 Axes>"
            ],
            "image/png": "[encoded data removed]"
          },
          "metadata": {}
        }
      ]
    },
    {
      "cell_type": "code",
      "source": [],
      "metadata": {
        "id": "Kxh-a41u2PlO"
      },
      "execution_count": null,
      "outputs": []
    },
    {
      "cell_type": "markdown",
      "source": [
        "### Non-Scaled Data Test"
      ],
      "metadata": {
        "id": "QlPaPWu6oO75"
      }
    },
    {
      "cell_type": "markdown",
      "source": [
        "**Loading Outputs**"
      ],
      "metadata": {
        "id": "TV_AoNr8ozyg"
      }
    },
    {
      "cell_type": "code",
      "source": [
        "file = open('/content/drive/MyDrive/Colab Notebooks/Pattern/projects/Assignment2/model_7_noscale.p', 'rb')\n",
        "model_7_noscale = pickle.load(file)\n",
        "file.close()"
      ],
      "metadata": {
        "id": "pzcOeT_aozyi"
      },
      "execution_count": null,
      "outputs": []
    },
    {
      "cell_type": "code",
      "source": [
        "file = open('/content/drive/MyDrive/Colab Notebooks/Pattern/projects/Assignment2/model_15_noscale.p', 'rb')\n",
        "model_15_noscale = pickle.load(file)\n",
        "file.close()"
      ],
      "metadata": {
        "id": "xngqjxwOozyj"
      },
      "execution_count": null,
      "outputs": []
    },
    {
      "cell_type": "code",
      "source": [
        "file = open('/content/drive/MyDrive/Colab Notebooks/Pattern/projects/Assignment2/model_23_noscale.p', 'rb')\n",
        "model_23_noscale = pickle.load(file)\n",
        "file.close()"
      ],
      "metadata": {
        "id": "Gyfm7MyRozyj"
      },
      "execution_count": null,
      "outputs": []
    },
    {
      "cell_type": "code",
      "source": [
        "file = open('/content/drive/MyDrive/Colab Notebooks/Pattern/projects/Assignment2/model_31.p', 'rb')\n",
        "model_31 = pickle.load(file)\n",
        "file.close()"
      ],
      "metadata": {
        "id": "krnyLcyJozyj"
      },
      "execution_count": null,
      "outputs": []
    },
    {
      "cell_type": "code",
      "source": [
        "file = open('/content/drive/MyDrive/Colab Notebooks/Pattern/projects/Assignment2/model_45.p', 'rb')\n",
        "model_45 = pickle.load(file)\n",
        "file.close()"
      ],
      "metadata": {
        "id": "j5O-RgpGozyk"
      },
      "execution_count": null,
      "outputs": []
    },
    {
      "cell_type": "markdown",
      "source": [
        "**Values**"
      ],
      "metadata": {
        "id": "9tNRu9B4pBrk"
      }
    },
    {
      "cell_type": "code",
      "source": [
        "print('Percision,Recall,F1,Entropy \\n',per_eval(model_7_noscale.labels,labels_train))"
      ],
      "metadata": {
        "colab": {
          "base_uri": "https://localhost:8080/"
        },
        "id": "hwqJnLuudxEC",
        "outputId": "ca641e31-6e48-4a92-c4c9-40b40f41338d"
      },
      "execution_count": null,
      "outputs": [
        {
          "output_type": "stream",
          "name": "stdout",
          "text": [
            "Percision,Recall,F1,Entropy \n",
            " (0.7857257080164608, 0.9996263166219571, 0.3683645568777699, 0.2656823063336084)\n"
          ]
        }
      ]
    },
    {
      "cell_type": "code",
      "source": [
        "print('Percision,Recall,F1,Entropy \\n',per_eval(model_15_noscale.labels,labels_train))"
      ],
      "metadata": {
        "colab": {
          "base_uri": "https://localhost:8080/"
        },
        "id": "HDP9p_iNeLgP",
        "outputId": "77a71156-f2c5-4fbe-e441-8292558e0711"
      },
      "execution_count": null,
      "outputs": [
        {
          "output_type": "stream",
          "name": "stdout",
          "text": [
            "Percision,Recall,F1,Entropy \n",
            " (0.8152932770064432, 0.7986843973348423, 0.2686970818267388, 0.2953162733386718)\n"
          ]
        }
      ]
    },
    {
      "cell_type": "code",
      "source": [
        "print('Percision,Recall,F1,Entropy \\n',per_eval(model_23_noscale.labels,labels_train))"
      ],
      "metadata": {
        "colab": {
          "base_uri": "https://localhost:8080/"
        },
        "id": "W9m0BYupeLp-",
        "outputId": "b4309ed9-c45b-490d-a642-0d718211559c"
      },
      "execution_count": null,
      "outputs": [
        {
          "output_type": "stream",
          "name": "stdout",
          "text": [
            "Percision,Recall,F1,Entropy \n",
            " (0.8661069063865704, 0.755932097355544, 0.19768290881924488, 0.011416600241424223)\n"
          ]
        }
      ]
    },
    {
      "cell_type": "code",
      "source": [
        "print('Percision,Recall,F1,Entropy \\n',per_eval(model_31_noscale.labels,labels_train))"
      ],
      "metadata": {
        "colab": {
          "base_uri": "https://localhost:8080/"
        },
        "id": "mnuz1rapeLzM",
        "outputId": "43cde5d1-8599-453c-f611-0281f98fab67"
      },
      "execution_count": null,
      "outputs": [
        {
          "output_type": "stream",
          "name": "stdout",
          "text": [
            "Percision,Recall,F1,Entropy \n",
            " (0.9099491722011818, 0.719434392726782, 0.19008550686416045, 0.038136941239204115)\n"
          ]
        }
      ]
    },
    {
      "cell_type": "code",
      "source": [
        "print('Percision,Recall,F1,Entropy \\n',per_eval(model_45_noscale.labels,labels_train))"
      ],
      "metadata": {
        "colab": {
          "base_uri": "https://localhost:8080/"
        },
        "id": "UyB_PGUseMEE",
        "outputId": "4b13b403-81e7-49a5-d584-3a7b2bc40a80"
      },
      "execution_count": null,
      "outputs": [
        {
          "output_type": "stream",
          "name": "stdout",
          "text": [
            "Percision,Recall,F1,Entropy \n",
            " (0.9742156709937433, 0.5014427244914472, 0.15903596099365583, 0.00045380392699115513)\n"
          ]
        }
      ]
    },
    {
      "cell_type": "markdown",
      "metadata": {
        "id": "KU68JFpESLCT"
      },
      "source": [
        "## Spectral Clustering:"
      ]
    },
    {
      "cell_type": "markdown",
      "source": [
        "### Implemntaion:"
      ],
      "metadata": {
        "id": "X8WqgCAOTAxV"
      }
    },
    {
      "cell_type": "code",
      "source": [
        "from sklearn.metrics.pairwise import rbf_kernel\n",
        "NUM_CLUSTERS = 23\n",
        "\n",
        "def spectral_clustering(data, num_clusters, k_neighbors):\n",
        "    # Weight Matrix\n",
        "    A = kneighbors_graph(data, k_neighbors).toarray()\n",
        "    # A = rbf_kernel(data, gamma=10)\n",
        "    # A = radius_neighbors_graph(data, 1.5)\n",
        "    # A =  cosine_similarity(data, dense_output=True)  # session crashes\n",
        "    # A = 1 - squareform(pdist(data, metric='jaccard'))\n",
        "    print(\"A is done\")\n",
        "\n",
        "    # Degree Matrix\n",
        "    D = np.diag(np.sum(A, axis=1))\n",
        "    print(\"D is done\")\n",
        "\n",
        "    # Laplacian Matrix\n",
        "    L = D - A\n",
        "    print(\"L is done\")\n",
        "\n",
        "\n",
        "    La = np.dot(np.linalg.inv(D),L)\n",
        "    print(\"La is done\")\n",
        "\n",
        "\n",
        "    eigen_val, eigen_vec = np.linalg.eig(La)\n",
        "    idx = np.real(eigen_val).argsort()[:num_clusters]\n",
        "    eigen_vec = np.real(eigen_vec[:,idx])\n",
        "    rows_norm = np.linalg.norm(eigen_vec, axis=1)\n",
        "    normalized_eig_vectors = (eigen_vec.T / rows_norm).T\n",
        "    clusters = KMeans(n_clusters=num_clusters).fit_predict(normalized_eig_vectors)\n",
        "\n",
        "    return clusters\n",
        "\n",
        "\n",
        "def clusters_rows(cluters_labels, k):\n",
        "    clusters = [[] for x in range(k)]\n",
        "    labels = np.arange(0, k)\n",
        "    row=0\n",
        "    for cluter_label in cluters_labels:\n",
        "        for label in labels:\n",
        "            if cluter_label == label:\n",
        "\n",
        "                clusters[label].append(row)\n",
        "                row +=1\n",
        "                break\n",
        "    return clusters"
      ],
      "metadata": {
        "id": "6Qy14AZf6QOE"
      },
      "execution_count": null,
      "outputs": []
    },
    {
      "cell_type": "code",
      "source": [
        "spectral_model = spectral_clustering(enc_data_train, NUM_CLUSTERS, 100)\n",
        "print(spectral_model.shape)"
      ],
      "metadata": {
        "id": "C0wVkd8Q70M0",
        "colab": {
          "base_uri": "https://localhost:8080/"
        },
        "outputId": "bb28927d-65dd-4fb8-b1eb-774825d8d448"
      },
      "execution_count": null,
      "outputs": [
        {
          "output_type": "stream",
          "name": "stdout",
          "text": [
            "A is done\n",
            "D is done\n",
            "L is done\n",
            "La is done\n"
          ]
        },
        {
          "output_type": "stream",
          "name": "stderr",
          "text": [
            "/usr/local/lib/python3.9/dist-packages/sklearn/cluster/_kmeans.py:870: FutureWarning: The default value of `n_init` will change from 10 to 'auto' in 1.4. Set the value of `n_init` explicitly to suppress the warning\n",
            "  warnings.warn(\n"
          ]
        },
        {
          "output_type": "stream",
          "name": "stdout",
          "text": [
            "(12350,)\n"
          ]
        }
      ]
    },
    {
      "cell_type": "code",
      "source": [
        "clusters_rows_idx = clusters_rows(spectral_model, NUM_CLUSTERS)\n",
        "# print(clusters_rows_idx)"
      ],
      "metadata": {
        "id": "eTHo54OXPFaX"
      },
      "execution_count": null,
      "outputs": []
    },
    {
      "cell_type": "markdown",
      "source": [
        "### Built-in function:"
      ],
      "metadata": {
        "id": "J48zS9QmTGSV"
      }
    },
    {
      "cell_type": "code",
      "source": [
        "from sklearn.cluster import SpectralClustering\n",
        "\n",
        "model = SpectralClustering(n_clusters=NUM_CLUSTERS, affinity='nearest_neighbors', n_neighbors=100, assign_labels='kmeans').fit(enc_data_train)\n",
        "# print(model.labels_.shape)"
      ],
      "metadata": {
        "id": "Xyrudkf47_KS",
        "colab": {
          "base_uri": "https://localhost:8080/"
        },
        "outputId": "250a9de6-00d0-428c-9203-a9f6839f6dd0"
      },
      "execution_count": null,
      "outputs": [
        {
          "output_type": "stream",
          "name": "stderr",
          "text": [
            "/usr/local/lib/python3.9/dist-packages/sklearn/manifold/_spectral_embedding.py:274: UserWarning: Graph is not fully connected, spectral embedding may not work as expected.\n",
            "  warnings.warn(\n"
          ]
        },
        {
          "output_type": "stream",
          "name": "stdout",
          "text": [
            "(12350,)\n"
          ]
        }
      ]
    },
    {
      "cell_type": "code",
      "source": [
        "clusters_rows_idx_BIn = clusters_rows(model.labels_, NUM_CLUSTERS)\n",
        "# print(clusters_rows_idx)"
      ],
      "metadata": {
        "id": "ohQtpBtjet26"
      },
      "execution_count": null,
      "outputs": []
    },
    {
      "cell_type": "markdown",
      "source": [
        "### Evaluation:"
      ],
      "metadata": {
        "id": "fbnvaVphRkJO"
      }
    },
    {
      "cell_type": "markdown",
      "source": [
        "#### Evaluation spectral clustering (the implementation):"
      ],
      "metadata": {
        "id": "g4r5iRhmYNYE"
      }
    },
    {
      "cell_type": "code",
      "source": [
        "percision, recall, ftotal, entropy = per_eval(clusters_rows_idx, np.array(enc_train_label))\n",
        "print(\"Percision:\",percision)\n",
        "print(\"Recall:\",recall)\n",
        "print(\"f1:\",ftotal)\n",
        "print(\"Entropy:\",entropy)"
      ],
      "metadata": {
        "colab": {
          "base_uri": "https://localhost:8080/"
        },
        "outputId": "77da6f53-3db3-434f-f669-54a0a1529956",
        "id": "MYLmc3KL1n06"
      },
      "execution_count": null,
      "outputs": [
        {
          "output_type": "stream",
          "name": "stdout",
          "text": [
            "Percision: 0.9460728744939271\n",
            "Recall: 0.3341049855505195\n",
            "f1: 0.018938092192538503\n",
            "Entropy: 0.09498838037359225\n"
          ]
        }
      ]
    },
    {
      "cell_type": "markdown",
      "source": [
        "#### Evaluation of spectral clustering (the built-in function):"
      ],
      "metadata": {
        "id": "tm4vm7PvYjcz"
      }
    },
    {
      "cell_type": "code",
      "source": [
        "percision, recall, ftotal, entropy = per_eval(clusters_rows_idx_BIn, np.array(enc_train_label))\n",
        "print(\"Percision:\",percision)\n",
        "print(\"Recall:\",recall)\n",
        "print(\"f1:\",ftotal)\n",
        "print(\"Entropy:\",entropy)"
      ],
      "metadata": {
        "colab": {
          "base_uri": "https://localhost:8080/"
        },
        "outputId": "8188558c-d697-4d87-ea8d-10a9e3b7f806",
        "id": "k3GSA9wI1qz1"
      },
      "execution_count": null,
      "outputs": [
        {
          "output_type": "stream",
          "name": "stdout",
          "text": [
            "Percision: 0.9770040485829959\n",
            "Recall: 0.34613172046277246\n",
            "f1: 0.019753231459113313\n",
            "Entropy: 0.04996316649330028\n"
          ]
        }
      ]
    },
    {
      "cell_type": "markdown",
      "metadata": {
        "id": "gaX0NBe9kFgK"
      },
      "source": [
        "## My implementions of a clustering algorithm:"
      ]
    },
    {
      "cell_type": "markdown",
      "source": [
        "## DB-Scan"
      ],
      "metadata": {
        "id": "FOCcaJUEvQ3V"
      }
    },
    {
      "cell_type": "code",
      "execution_count": null,
      "metadata": {
        "id": "y7WwDfbxkFEi"
      },
      "outputs": [],
      "source": [
        "import numpy as np\n",
        "\n",
        "def dbscan(X, eps, min_samples):\n",
        "    # Initialize cluster labels\n",
        "    labels = np.zeros(X.shape[0], dtype=int)\n",
        "\n",
        "    # Initialize cluster ID\n",
        "    cluster_id = 1\n",
        "\n",
        "    # Initialize list of lists for all indices on each cluster\n",
        "    clusters = [[] for i in range(cluster_id)]\n",
        "\n",
        "    # Iterate over each data point\n",
        "    for i in range(X.shape[0]):\n",
        "        if labels[i] != 0:\n",
        "            # Skip data points that have already been assigned to a cluster\n",
        "            continue\n",
        "\n",
        "        # Find all neighboring data points within eps distance\n",
        "        neighbors = find_neighbors(X, i, eps)\n",
        "\n",
        "        if len(neighbors) < min_samples:\n",
        "            # Label this data point as noise\n",
        "            labels[i] = -1\n",
        "            continue\n",
        "\n",
        "        # Assign a new cluster ID to this data point\n",
        "        labels[i] = cluster_id\n",
        "\n",
        "        # Add the index of this data point to the current cluster\n",
        "        clusters[cluster_id-1].append(i)\n",
        "\n",
        "        # Expand the cluster by finding all reachable data points\n",
        "        expand_cluster(X, labels, cluster_id, neighbors, eps, min_samples, clusters)\n",
        "\n",
        "        # Increment the cluster ID for the next cluster\n",
        "        cluster_id += 1\n",
        "\n",
        "        # Add a new list to the clusters list for the next cluster\n",
        "        clusters.append([])\n",
        "\n",
        "    return clusters\n",
        "\n",
        "def find_neighbors(X, i, eps):\n",
        "    neighbors = []\n",
        "    for j in range(X.shape[0]):\n",
        "        if i == j:\n",
        "            continue\n",
        "        if np.linalg.norm(X[i] - X[j]) < eps:\n",
        "            neighbors.append(j)\n",
        "    return neighbors\n",
        "\n",
        "def expand_cluster(X, labels, cluster_id, neighbors, eps, min_samples, clusters):\n",
        "    i = 0\n",
        "    while i < len(neighbors):\n",
        "        j = neighbors[i]\n",
        "        if labels[j] == -1:\n",
        "            # Label noise points as border points\n",
        "            labels[j] = cluster_id\n",
        "        elif labels[j] == 0:\n",
        "            # Assign the new data point to the current cluster\n",
        "            labels[j] = cluster_id\n",
        "\n",
        "            # Add the index of this data point to the current cluster\n",
        "            clusters[cluster_id-1].append(j)\n",
        "\n",
        "            # Find all neighboring data points within eps distance\n",
        "            new_neighbors = find_neighbors(X, j, eps)\n",
        "\n",
        "            if len(new_neighbors) >= min_samples:\n",
        "                # Add new neighbors to the list of reachable data points\n",
        "                neighbors += new_neighbors\n",
        "\n",
        "        i += 1\n",
        "\n",
        "def euclidean(point, data):\n",
        "  return np.sqrt(np.sum((point - data)**2, axis=0))\n",
        "\n",
        "def predictTestDataLabels(data,centroids,k):\n",
        "  labels_test = [[] for i in range(k)]\n",
        "  for i in range(len(data)):\n",
        "    distances = []\n",
        "    for j in range(len(centroids)):\n",
        "      distance = euclidean(data[i],centroids[j])\n",
        "      distances.append(distance)\n",
        "    idx = np.argmin(distances) #Gets the index of the shortest distance (Index represent the cluster number)\n",
        "    labels_test[idx].append(i)\n",
        "  return labels_test"
      ]
    },
    {
      "cell_type": "code",
      "source": [
        "data = scaled_data\n",
        "data_test = enc_data_test.to_numpy()"
      ],
      "metadata": {
        "id": "t3lWpMPv9mRj"
      },
      "execution_count": null,
      "outputs": []
    },
    {
      "cell_type": "code",
      "execution_count": null,
      "metadata": {
        "id": "eN75IIXLlVwH"
      },
      "outputs": [],
      "source": [
        "from sklearn.neighbors import NearestNeighbors\n",
        "neigh = NearestNeighbors(n_neighbors=2)\n",
        "nbrs = neigh.fit(data)\n",
        "distances, indices = nbrs.kneighbors(data)"
      ]
    },
    {
      "cell_type": "code",
      "execution_count": null,
      "metadata": {
        "id": "8_S-W75rlpAn"
      },
      "outputs": [],
      "source": [
        "import plotly.express as px\n",
        "distances = np.sort(distances, axis=0)\n",
        "distances = distances[:,1]"
      ]
    },
    {
      "cell_type": "markdown",
      "source": [],
      "metadata": {
        "id": "ZFvnR-qaZ3IZ"
      }
    },
    {
      "cell_type": "code",
      "execution_count": null,
      "metadata": {
        "colab": {
          "base_uri": "https://localhost:8080/",
          "height": 542
        },
        "id": "87LEp411prUX",
        "outputId": "939b4bae-5b08-4d79-dc26-7928ca60387a"
      },
      "outputs": [
        {
          "output_type": "display_data",
          "data": {
            "text/html": [
              "<html>\n",
              "<head><meta charset=\"utf-8\" /></head>\n",
              "<body>\n",
              "    <div>            <script src=\"https://cdnjs.cloudflare.com/ajax/libs/mathjax/2.7.5/MathJax.js?config=TeX-AMS-MML_SVG\"></script><script type=\"text/javascript\">if (window.MathJax && window.MathJax.Hub && window.MathJax.Hub.Config) {window.MathJax.Hub.Config({SVG: {font: \"STIX-Web\"}});}</script>                <script type=\"text/javascript\">window.PlotlyConfig = {MathJaxConfig: 'local'};</script>\n",
              "        <script src=\"https://cdn.plot.ly/plotly-2.18.2.min.js\"></script>                <div id=\"c6038012-d0c5-40f4-864a-cae5c4b4c554\" class=\"plotly-graph-div\" style=\"height:525px; width:100%;\"></div>            <script type=\"text/javascript\">                                    window.PLOTLYENV=window.PLOTLYENV || {};                                    if (document.getElementById(\"c6038012-d0c5-40f4-864a-cae5c4b4c554\")) {                    Plotly.newPlot(                        \"c6038012-d0c5-40f4-864a-cae5c4b4c554\",                        [{\"hovertemplate\":\"variable=0<br>index=%{x}<br>value=%{y}<extra></extra>\",\"legendgroup\":\"0\",\"line\":{\"color\":\"#636efa\",\"dash\":\"solid\"},\"marker\":{\"symbol\":\"circle\"},\"mode\":\"lines\",\"name\":\"0\",\"showlegend\":true,\"x\":[0,1,2,3,4,5,6,7,8,9,10,11,12,13,14,15,16,17,18,19,20,21,22,23,24,25,26,27,28,29,30,31,32,33,34,35,36,37,38,39,40,41,42,43,44,45,46,47,48,49,50,51,52,53,54,55,56,57,58,59,60,61,62,63,64,65,66,67,68,69,70,71,72,73,74,75,76,77,78,79,80,81,82,83,84,85,86,87,88,89,90,91,92,93,94,95,96,97,98,99,100,101,102,103,104,105,106,107,108,109,110,111,112,113,114,115,116,117,118,119,120,121,122,123,124,125,126,127,128,129,130,131,132,133,134,135,136,137,138,139,140,141,142,143,144,145,146,147,148,149,150,151,152,153,154,155,156,157,158,159,160,161,162,163,164,165,166,167,168,169,170,171,172,173,174,175,176,177,178,179,180,181,182,183,184,185,186,187,188,189,190,191,192,193,194,195,196,197,198,199,200,201,202,203,204,205,206,207,208,209,210,211,212,213,214,215,216,217,218,219,220,221,222,223,224,225,226,227,228,229,230,231,232,233,234,235,236,237,238,239,240,241,242,243,244,245,246,247,248,249,250,251,252,253,254,255,256,257,258,259,260,261,262,263,264,265,266,267,268,269,270,271,272,273,274,275,276,277,278,279,280,281,282,283,284,285,286,287,288,289,290,291,292,293,294,295,296,297,298,299,300,301,302,303,304,305,306,307,308,309,310,311,312,313,314,315,316,317,318,319,320,321,322,323,324,325,326,327,328,329,330,331,332,333,334,335,336,337,338,339,340,341,342,343,344,345,346,347,348,349,350,351,352,353,354,355,356,357,358,359,360,361,362,363,364,365,366,367,368,369,370,371,372,373,374,375,376,377,378,379,380,381,382,383,384,385,386,387,388,389,390,391,392,393,394,395,396,397,398,399,400,401,402,403,404,405,406,407,408,409,410,411,412,413,414,415,416,417,418,419,420,421,422,423,424,425,426,427,428,429,430,431,432,433,434,435,436,437,438,439,440,441,442,443,444,445,446,447,448,449,450,451,452,453,454,455,456,457,458,459,460,461,462,463,464,465,466,467,468,469,470,471,472,473,474,475,476,477,478,479,480,481,482,483,484,485,486,487,488,489,490,491,492,493,494,495,496,497,498,499,500,501,502,503,504,505,506,507,508,509,510,511,512,513,514,515,516,517,518,519,520,521,522,523,524,525,526,527,528,529,530,531,532,533,534,535,536,537,538,539,540,541,542,543,544,545,546,547,548,549,550,551,552,553,554,555,556,557,558,559,560,561,562,563,564,565,566,567,568,569,570,571,572,573,574,575,576,577,578,579,580,581,582,583,584,585,586,587,588,589,590,591,592,593,594,595,596,597,598,599,600,601,602,603,604,605,606,607,608,609,610,611,612,613,614,615,616,617,618,619,620,621,622,623,624,625,626,627,628,629,630,631,632,633,634,635,636,637,638,639,640,641,642,643,644,645,646,647,648,649,650,651,652,653,654,655,656,657,658,659,660,661,662,663,664,665,666,667,668,669,670,671,672,673,674,675,676,677,678,679,680,681,682,683,684,685,686,687,688,689,690,691,692,693,694,695,696,697,698,699,700,701,702,703,704,705,706,707,708,709,710,711,712,713,714,715,716,717,718,719,720,721,722,723,724,725,726,727,728,729,730,731,732,733,734,735,736,737,738,739,740,741,742,743,744,745,746,747,748,749,750,751,752,753,754,755,756,757,758,759,760,761,762,763,764,765,766,767,768,769,770,771,772,773,774,775,776,777,778,779,780,781,782,783,784,785,786,787,788,789,790,791,792,793,794,795,796,797,798,799,800,801,802,803,804,805,806,807,808,809,810,811,812,813,814,815,816,817,818,819,820,821,822,823,824,825,826,827,828,829,830,831,832,833,834,835,836,837,838,839,840,841,842,843,844,845,846,847,848,849,850,851,852,853,854,855,856,857,858,859,860,861,862,863,864,865,866,867,868,869,870,871,872,873,874,875,876,877,878,879,880,881,882,883,884,885,886,887,888,889,890,891,892,893,894,895,896,897,898,899,900,901,902,903,904,905,906,907,908,909,910,911,912,913,914,915,916,917,918,919,920,921,922,923,924,925,926,927,928,929,930,931,932,933,934,935,936,937,938,939,940,941,942,943,944,945,946,947,948,949,950,951,952,953,954,955,956,957,958,959,960,961,962,963,964,965,966,967,968,969,970,971,972,973,974,975,976,977,978,979,980,981,982,983,984,985,986,987,988,989,990,991,992,993,994,995,996,997,998,999,1000,1001,1002,1003,1004,1005,1006,1007,1008,1009,1010,1011,1012,1013,1014,1015,1016,1017,1018,1019,1020,1021,1022,1023,1024,1025,1026,1027,1028,1029,1030,1031,1032,1033,1034,1035,1036,1037,1038,1039,1040,1041,1042,1043,1044,1045,1046,1047,1048,1049,1050,1051,1052,1053,1054,1055,1056,1057,1058,1059,1060,1061,1062,1063,1064,1065,1066,1067,1068,1069,1070,1071,1072,1073,1074,1075,1076,1077,1078,1079,1080,1081,1082,1083,1084,1085,1086,1087,1088,1089,1090,1091,1092,1093,1094,1095,1096,1097,1098,1099,1100,1101,1102,1103,1104,1105,1106,1107,1108,1109,1110,1111,1112,1113,1114,1115,1116,1117,1118,1119,1120,1121,1122,1123,1124,1125,1126,1127,1128,1129,1130,1131,1132,1133,1134,1135,1136,1137,1138,1139,1140,1141,1142,1143,1144,1145,1146,1147,1148,1149,1150,1151,1152,1153,1154,1155,1156,1157,1158,1159,1160,1161,1162,1163,1164,1165,1166,1167,1168,1169,1170,1171,1172,1173,1174,1175,1176,1177,1178,1179,1180,1181,1182,1183,1184,1185,1186,1187,1188,1189,1190,1191,1192,1193,1194,1195,1196,1197,1198,1199,1200,1201,1202,1203,1204,1205,1206,1207,1208,1209,1210,1211,1212,1213,1214,1215,1216,1217,1218,1219,1220,1221,1222,1223,1224,1225,1226,1227,1228,1229,1230,1231,1232,1233,1234,1235,1236,1237,1238,1239,1240,1241,1242,1243,1244,1245,1246,1247,1248,1249,1250,1251,1252,1253,1254,1255,1256,1257,1258,1259,1260,1261,1262,1263,1264,1265,1266,1267,1268,1269,1270,1271,1272,1273,1274,1275,1276,1277,1278,1279,1280,1281,1282,1283,1284,1285,1286,1287,1288,1289,1290,1291,1292,1293,1294,1295,1296,1297,1298,1299,1300,1301,1302,1303,1304,1305,1306,1307,1308,1309,1310,1311,1312,1313,1314,1315,1316,1317,1318,1319,1320,1321,1322,1323,1324,1325,1326,1327,1328,1329,1330,1331,1332,1333,1334,1335,1336,1337,1338,1339,1340,1341,1342,1343,1344,1345,1346,1347,1348,1349,1350,1351,1352,1353,1354,1355,1356,1357,1358,1359,1360,1361,1362,1363,1364,1365,1366,1367,1368,1369,1370,1371,1372,1373,1374,1375,1376,1377,1378,1379,1380,1381,1382,1383,1384,1385,1386,1387,1388,1389,1390,1391,1392,1393,1394,1395,1396,1397,1398,1399,1400,1401,1402,1403,1404,1405,1406,1407,1408,1409,1410,1411,1412,1413,1414,1415,1416,1417,1418,1419,1420,1421,1422,1423,1424,1425,1426,1427,1428,1429,1430,1431,1432,1433,1434,1435,1436,1437,1438,1439,1440,1441,1442,1443,1444,1445,1446,1447,1448,1449,1450,1451,1452,1453,1454,1455,1456,1457,1458,1459,1460,1461,1462,1463,1464,1465,1466,1467,1468,1469,1470,1471,1472,1473,1474,1475,1476,1477,1478,1479,1480,1481,1482,1483,1484,1485,1486,1487,1488,1489,1490,1491,1492,1493,1494,1495,1496,1497,1498,1499,1500,1501,1502,1503,1504,1505,1506,1507,1508,1509,1510,1511,1512,1513,1514,1515,1516,1517,1518,1519,1520,1521,1522,1523,1524,1525,1526,1527,1528,1529,1530,1531,1532,1533,1534,1535,1536,1537,1538,1539,1540,1541,1542,1543,1544,1545,1546,1547,1548,1549,1550,1551,1552,1553,1554,1555,1556,1557,1558,1559,1560,1561,1562,1563,1564,1565,1566,1567,1568,1569,1570,1571,1572,1573,1574,1575,1576,1577,1578,1579,1580,1581,1582,1583,1584,1585,1586,1587,1588,1589,1590,1591,1592,1593,1594,1595,1596,1597,1598,1599,1600,1601,1602,1603,1604,1605,1606,1607,1608,1609,1610,1611,1612,1613,1614,1615,1616,1617,1618,1619,1620,1621,1622,1623,1624,1625,1626,1627,1628,1629,1630,1631,1632,1633,1634,1635,1636,1637,1638,1639,1640,1641,1642,1643,1644,1645,1646,1647,1648,1649,1650,1651,1652,1653,1654,1655,1656,1657,1658,1659,1660,1661,1662,1663,1664,1665,1666,1667,1668,1669,1670,1671,1672,1673,1674,1675,1676,1677,1678,1679,1680,1681,1682,1683,1684,1685,1686,1687,1688,1689,1690,1691,1692,1693,1694,1695,1696,1697,1698,1699,1700,1701,1702,1703,1704,1705,1706,1707,1708,1709,1710,1711,1712,1713,1714,1715,1716,1717,1718,1719,1720,1721,1722,1723,1724,1725,1726,1727,1728,1729,1730,1731,1732,1733,1734,1735,1736,1737,1738,1739,1740,1741,1742,1743,1744,1745,1746,1747,1748,1749,1750,1751,1752,1753,1754,1755,1756,1757,1758,1759,1760,1761,1762,1763,1764,1765,1766,1767,1768,1769,1770,1771,1772,1773,1774,1775,1776,1777,1778,1779,1780,1781,1782,1783,1784,1785,1786,1787,1788,1789,1790,1791,1792,1793,1794,1795,1796,1797,1798,1799,1800,1801,1802,1803,1804,1805,1806,1807,1808,1809,1810,1811,1812,1813,1814,1815,1816,1817,1818,1819,1820,1821,1822,1823,1824,1825,1826,1827,1828,1829,1830,1831,1832,1833,1834,1835,1836,1837,1838,1839,1840,1841,1842,1843,1844,1845,1846,1847,1848,1849,1850,1851,1852,1853,1854,1855,1856,1857,1858,1859,1860,1861,1862,1863,1864,1865,1866,1867,1868,1869,1870,1871,1872,1873,1874,1875,1876,1877,1878,1879,1880,1881,1882,1883,1884,1885,1886,1887,1888,1889,1890,1891,1892,1893,1894,1895,1896,1897,1898,1899,1900,1901,1902,1903,1904,1905,1906,1907,1908,1909,1910,1911,1912,1913,1914,1915,1916,1917,1918,1919,1920,1921,1922,1923,1924,1925,1926,1927,1928,1929,1930,1931,1932,1933,1934,1935,1936,1937,1938,1939,1940,1941,1942,1943,1944,1945,1946,1947,1948,1949,1950,1951,1952,1953,1954,1955,1956,1957,1958,1959,1960,1961,1962,1963,1964,1965,1966,1967,1968,1969,1970,1971,1972,1973,1974,1975,1976,1977,1978,1979,1980,1981,1982,1983,1984,1985,1986,1987,1988,1989,1990,1991,1992,1993,1994,1995,1996,1997,1998,1999,2000,2001,2002,2003,2004,2005,2006,2007,2008,2009,2010,2011,2012,2013,2014,2015,2016,2017,2018,2019,2020,2021,2022,2023,2024,2025,2026,2027,2028,2029,2030,2031,2032,2033,2034,2035,2036,2037,2038,2039,2040,2041,2042,2043,2044,2045,2046,2047,2048,2049,2050,2051,2052,2053,2054,2055,2056,2057,2058,2059,2060,2061,2062,2063,2064,2065,2066,2067,2068,2069,2070,2071,2072,2073,2074,2075,2076,2077,2078,2079,2080,2081,2082,2083,2084,2085,2086,2087,2088,2089,2090,2091,2092,2093,2094,2095,2096,2097,2098,2099,2100,2101,2102,2103,2104,2105,2106,2107,2108,2109,2110,2111,2112,2113,2114,2115,2116,2117,2118,2119,2120,2121,2122,2123,2124,2125,2126,2127,2128,2129,2130,2131,2132,2133,2134,2135,2136,2137,2138,2139,2140,2141,2142,2143,2144,2145,2146,2147,2148,2149,2150,2151,2152,2153,2154,2155,2156,2157,2158,2159,2160,2161,2162,2163,2164,2165,2166,2167,2168,2169,2170,2171,2172,2173,2174,2175,2176,2177,2178,2179,2180,2181,2182,2183,2184,2185,2186,2187,2188,2189,2190,2191,2192,2193,2194,2195,2196,2197,2198,2199,2200,2201,2202,2203,2204,2205,2206,2207,2208,2209,2210,2211,2212,2213,2214,2215,2216,2217,2218,2219,2220,2221,2222,2223,2224,2225,2226,2227,2228,2229,2230,2231,2232,2233,2234,2235,2236,2237,2238,2239,2240,2241,2242,2243,2244,2245,2246,2247,2248,2249,2250,2251,2252,2253,2254,2255,2256,2257,2258,2259,2260,2261,2262,2263,2264,2265,2266,2267,2268,2269,2270,2271,2272,2273,2274,2275,2276,2277,2278,2279,2280,2281,2282,2283,2284,2285,2286,2287,2288,2289,2290,2291,2292,2293,2294,2295,2296,2297,2298,2299,2300,2301,2302,2303,2304,2305,2306,2307,2308,2309,2310,2311,2312,2313,2314,2315,2316,2317,2318,2319,2320,2321,2322,2323,2324,2325,2326,2327,2328,2329,2330,2331,2332,2333,2334,2335,2336,2337,2338,2339,2340,2341,2342,2343,2344,2345,2346,2347,2348,2349,2350,2351,2352,2353,2354,2355,2356,2357,2358,2359,2360,2361,2362,2363,2364,2365,2366,2367,2368,2369,2370,2371,2372,2373,2374,2375,2376,2377,2378,2379,2380,2381,2382,2383,2384,2385,2386,2387,2388,2389,2390,2391,2392,2393,2394,2395,2396,2397,2398,2399,2400,2401,2402,2403,2404,2405,2406,2407,2408,2409,2410,2411,2412,2413,2414,2415,2416,2417,2418,2419,2420,2421,2422,2423,2424,2425,2426,2427,2428,2429,2430,2431,2432,2433,2434,2435,2436,2437,2438,2439,2440,2441,2442,2443,2444,2445,2446,2447,2448,2449,2450,2451,2452,2453,2454,2455,2456,2457,2458,2459,2460,2461,2462,2463,2464,2465,2466,2467,2468,2469,2470,2471,2472,2473,2474,2475,2476,2477,2478,2479,2480,2481,2482,2483,2484,2485,2486,2487,2488,2489,2490,2491,2492,2493,2494,2495,2496,2497,2498,2499,2500,2501,2502,2503,2504,2505,2506,2507,2508,2509,2510,2511,2512,2513,2514,2515,2516,2517,2518,2519,2520,2521,2522,2523,2524,2525,2526,2527,2528,2529,2530,2531,2532,2533,2534,2535,2536,2537,2538,2539,2540,2541,2542,2543,2544,2545,2546,2547,2548,2549,2550,2551,2552,2553,2554,2555,2556,2557,2558,2559,2560,2561,2562,2563,2564,2565,2566,2567,2568,2569,2570,2571,2572,2573,2574,2575,2576,2577,2578,2579,2580,2581,2582,2583,2584,2585,2586,2587,2588,2589,2590,2591,2592,2593,2594,2595,2596,2597,2598,2599,2600,2601,2602,2603,2604,2605,2606,2607,2608,2609,2610,2611,2612,2613,2614,2615,2616,2617,2618,2619,2620,2621,2622,2623,2624,2625,2626,2627,2628,2629,2630,2631,2632,2633,2634,2635,2636,2637,2638,2639,2640,2641,2642,2643,2644,2645,2646,2647,2648,2649,2650,2651,2652,2653,2654,2655,2656,2657,2658,2659,2660,2661,2662,2663,2664,2665,2666,2667,2668,2669,2670,2671,2672,2673,2674,2675,2676,2677,2678,2679,2680,2681,2682,2683,2684,2685,2686,2687,2688,2689,2690,2691,2692,2693,2694,2695,2696,2697,2698,2699,2700,2701,2702,2703,2704,2705,2706,2707,2708,2709,2710,2711,2712,2713,2714,2715,2716,2717,2718,2719,2720,2721,2722,2723,2724,2725,2726,2727,2728,2729,2730,2731,2732,2733,2734,2735,2736,2737,2738,2739,2740,2741,2742,2743,2744,2745,2746,2747,2748,2749,2750,2751,2752,2753,2754,2755,2756,2757,2758,2759,2760,2761,2762,2763,2764,2765,2766,2767,2768,2769,2770,2771,2772,2773,2774,2775,2776,2777,2778,2779,2780,2781,2782,2783,2784,2785,2786,2787,2788,2789,2790,2791,2792,2793,2794,2795,2796,2797,2798,2799,2800,2801,2802,2803,2804,2805,2806,2807,2808,2809,2810,2811,2812,2813,2814,2815,2816,2817,2818,2819,2820,2821,2822,2823,2824,2825,2826,2827,2828,2829,2830,2831,2832,2833,2834,2835,2836,2837,2838,2839,2840,2841,2842,2843,2844,2845,2846,2847,2848,2849,2850,2851,2852,2853,2854,2855,2856,2857,2858,2859,2860,2861,2862,2863,2864,2865,2866,2867,2868,2869,2870,2871,2872,2873,2874,2875,2876,2877,2878,2879,2880,2881,2882,2883,2884,2885,2886,2887,2888,2889,2890,2891,2892,2893,2894,2895,2896,2897,2898,2899,2900,2901,2902,2903,2904,2905,2906,2907,2908,2909,2910,2911,2912,2913,2914,2915,2916,2917,2918,2919,2920,2921,2922,2923,2924,2925,2926,2927,2928,2929,2930,2931,2932,2933,2934,2935,2936,2937,2938,2939,2940,2941,2942,2943,2944,2945,2946,2947,2948,2949,2950,2951,2952,2953,2954,2955,2956,2957,2958,2959,2960,2961,2962,2963,2964,2965,2966,2967,2968,2969,2970,2971,2972,2973,2974,2975,2976,2977,2978,2979,2980,2981,2982,2983,2984,2985,2986,2987,2988,2989,2990,2991,2992,2993,2994,2995,2996,2997,2998,2999,3000,3001,3002,3003,3004,3005,3006,3007,3008,3009,3010,3011,3012,3013,3014,3015,3016,3017,3018,3019,3020,3021,3022,3023,3024,3025,3026,3027,3028,3029,3030,3031,3032,3033,3034,3035,3036,3037,3038,3039,3040,3041,3042,3043,3044,3045,3046,3047,3048,3049,3050,3051,3052,3053,3054,3055,3056,3057,3058,3059,3060,3061,3062,3063,3064,3065,3066,3067,3068,3069,3070,3071,3072,3073,3074,3075,3076,3077,3078,3079,3080,3081,3082,3083,3084,3085,3086,3087,3088,3089,3090,3091,3092,3093,3094,3095,3096,3097,3098,3099,3100,3101,3102,3103,3104,3105,3106,3107,3108,3109,3110,3111,3112,3113,3114,3115,3116,3117,3118,3119,3120,3121,3122,3123,3124,3125,3126,3127,3128,3129,3130,3131,3132,3133,3134,3135,3136,3137,3138,3139,3140,3141,3142,3143,3144,3145,3146,3147,3148,3149,3150,3151,3152,3153,3154,3155,3156,3157,3158,3159,3160,3161,3162,3163,3164,3165,3166,3167,3168,3169,3170,3171,3172,3173,3174,3175,3176,3177,3178,3179,3180,3181,3182,3183,3184,3185,3186,3187,3188,3189,3190,3191,3192,3193,3194,3195,3196,3197,3198,3199,3200,3201,3202,3203,3204,3205,3206,3207,3208,3209,3210,3211,3212,3213,3214,3215,3216,3217,3218,3219,3220,3221,3222,3223,3224,3225,3226,3227,3228,3229,3230,3231,3232,3233,3234,3235,3236,3237,3238,3239,3240,3241,3242,3243,3244,3245,3246,3247,3248,3249,3250,3251,3252,3253,3254,3255,3256,3257,3258,3259,3260,3261,3262,3263,3264,3265,3266,3267,3268,3269,3270,3271,3272,3273,3274,3275,3276,3277,3278,3279,3280,3281,3282,3283,3284,3285,3286,3287,3288,3289,3290,3291,3292,3293,3294,3295,3296,3297,3298,3299,3300,3301,3302,3303,3304,3305,3306,3307,3308,3309,3310,3311,3312,3313,3314,3315,3316,3317,3318,3319,3320,3321,3322,3323,3324,3325,3326,3327,3328,3329,3330,3331,3332,3333,3334,3335,3336,3337,3338,3339,3340,3341,3342,3343,3344,3345,3346,3347,3348,3349,3350,3351,3352,3353,3354,3355,3356,3357,3358,3359,3360,3361,3362,3363,3364,3365,3366,3367,3368,3369,3370,3371,3372,3373,3374,3375,3376,3377,3378,3379,3380,3381,3382,3383,3384,3385,3386,3387,3388,3389,3390,3391,3392,3393,3394,3395,3396,3397,3398,3399,3400,3401,3402,3403,3404,3405,3406,3407,3408,3409,3410,3411,3412,3413,3414,3415,3416,3417,3418,3419,3420,3421,3422,3423,3424,3425,3426,3427,3428,3429,3430,3431,3432,3433,3434,3435,3436,3437,3438,3439,3440,3441,3442,3443,3444,3445,3446,3447,3448,3449,3450,3451,3452,3453,3454,3455,3456,3457,3458,3459,3460,3461,3462,3463,3464,3465,3466,3467,3468,3469,3470,3471,3472,3473,3474,3475,3476,3477,3478,3479,3480,3481,3482,3483,3484,3485,3486,3487,3488,3489,3490,3491,3492,3493,3494,3495,3496,3497,3498,3499,3500,3501,3502,3503,3504,3505,3506,3507,3508,3509,3510,3511,3512,3513,3514,3515,3516,3517,3518,3519,3520,3521,3522,3523,3524,3525,3526,3527,3528,3529,3530,3531,3532,3533,3534,3535,3536,3537,3538,3539,3540,3541,3542,3543,3544,3545,3546,3547,3548,3549,3550,3551,3552,3553,3554,3555,3556,3557,3558,3559,3560,3561,3562,3563,3564,3565,3566,3567,3568,3569,3570,3571,3572,3573,3574,3575,3576,3577,3578,3579,3580,3581,3582,3583,3584,3585,3586,3587,3588,3589,3590,3591,3592,3593,3594,3595,3596,3597,3598,3599,3600,3601,3602,3603,3604,3605,3606,3607,3608,3609,3610,3611,3612,3613,3614,3615,3616,3617,3618,3619,3620,3621,3622,3623,3624,3625,3626,3627,3628,3629,3630,3631,3632,3633,3634,3635,3636,3637,3638,3639,3640,3641,3642,3643,3644,3645,3646,3647,3648,3649,3650,3651,3652,3653,3654,3655,3656,3657,3658,3659,3660,3661,3662,3663,3664,3665,3666,3667,3668,3669,3670,3671,3672,3673,3674,3675,3676,3677,3678,3679,3680,3681,3682,3683,3684,3685,3686,3687,3688,3689,3690,3691,3692,3693,3694,3695,3696,3697,3698,3699,3700,3701,3702,3703,3704,3705,3706,3707,3708,3709,3710,3711,3712,3713,3714,3715,3716,3717,3718,3719,3720,3721,3722,3723,3724,3725,3726,3727,3728,3729,3730,3731,3732,3733,3734,3735,3736,3737,3738,3739,3740,3741,3742,3743,3744,3745,3746,3747,3748,3749,3750,3751,3752,3753,3754,3755,3756,3757,3758,3759,3760,3761,3762,3763,3764,3765,3766,3767,3768,3769,3770,3771,3772,3773,3774,3775,3776,3777,3778,3779,3780,3781,3782,3783,3784,3785,3786,3787,3788,3789,3790,3791,3792,3793,3794,3795,3796,3797,3798,3799,3800,3801,3802,3803,3804,3805,3806,3807,3808,3809,3810,3811,3812,3813,3814,3815,3816,3817,3818,3819,3820,3821,3822,3823,3824,3825,3826,3827,3828,3829,3830,3831,3832,3833,3834,3835,3836,3837,3838,3839,3840,3841,3842,3843,3844,3845,3846,3847,3848,3849,3850,3851,3852,3853,3854,3855,3856,3857,3858,3859,3860,3861,3862,3863,3864,3865,3866,3867,3868,3869,3870,3871,3872,3873,3874,3875,3876,3877,3878,3879,3880,3881,3882,3883,3884,3885,3886,3887,3888,3889,3890,3891,3892,3893,3894,3895,3896,3897,3898,3899,3900,3901,3902,3903,3904,3905,3906,3907,3908,3909,3910,3911,3912,3913,3914,3915,3916,3917,3918,3919,3920,3921,3922,3923,3924,3925,3926,3927,3928,3929,3930,3931,3932,3933,3934,3935,3936,3937,3938,3939,3940,3941,3942,3943,3944,3945,3946,3947,3948,3949,3950,3951,3952,3953,3954,3955,3956,3957,3958,3959,3960,3961,3962,3963,3964,3965,3966,3967,3968,3969,3970,3971,3972,3973,3974,3975,3976,3977,3978,3979,3980,3981,3982,3983,3984,3985,3986,3987,3988,3989,3990,3991,3992,3993,3994,3995,3996,3997,3998,3999,4000,4001,4002,4003,4004,4005,4006,4007,4008,4009,4010,4011,4012,4013,4014,4015,4016,4017,4018,4019,4020,4021,4022,4023,4024,4025,4026,4027,4028,4029,4030,4031,4032,4033,4034,4035,4036,4037,4038,4039,4040,4041,4042,4043,4044,4045,4046,4047,4048,4049,4050,4051,4052,4053,4054,4055,4056,4057,4058,4059,4060,4061,4062,4063,4064,4065,4066,4067,4068,4069,4070,4071,4072,4073,4074,4075,4076,4077,4078,4079,4080,4081,4082,4083,4084,4085,4086,4087,4088,4089,4090,4091,4092,4093,4094,4095,4096,4097,4098,4099,4100,4101,4102,4103,4104,4105,4106,4107,4108,4109,4110,4111,4112,4113,4114,4115,4116,4117,4118,4119,4120,4121,4122,4123,4124,4125,4126,4127,4128,4129,4130,4131,4132,4133,4134,4135,4136,4137,4138,4139,4140,4141,4142,4143,4144,4145,4146,4147,4148,4149,4150,4151,4152,4153,4154,4155,4156,4157,4158,4159,4160,4161,4162,4163,4164,4165,4166,4167,4168,4169,4170,4171,4172,4173,4174,4175,4176,4177,4178,4179,4180,4181,4182,4183,4184,4185,4186,4187,4188,4189,4190,4191,4192,4193,4194,4195,4196,4197,4198,4199,4200,4201,4202,4203,4204,4205,4206,4207,4208,4209,4210,4211,4212,4213,4214,4215,4216,4217,4218,4219,4220,4221,4222,4223,4224,4225,4226,4227,4228,4229,4230,4231,4232,4233,4234,4235,4236,4237,4238,4239,4240,4241,4242,4243,4244,4245,4246,4247,4248,4249,4250,4251,4252,4253,4254,4255,4256,4257,4258,4259,4260,4261,4262,4263,4264,4265,4266,4267,4268,4269,4270,4271,4272,4273,4274,4275,4276,4277,4278,4279,4280,4281,4282,4283,4284,4285,4286,4287,4288,4289,4290,4291,4292,4293,4294,4295,4296,4297,4298,4299,4300,4301,4302,4303,4304,4305,4306,4307,4308,4309,4310,4311,4312,4313,4314,4315,4316,4317,4318,4319,4320,4321,4322,4323,4324,4325,4326,4327,4328,4329,4330,4331,4332,4333,4334,4335,4336,4337,4338,4339,4340,4341,4342,4343,4344,4345,4346,4347,4348,4349,4350,4351,4352,4353,4354,4355,4356,4357,4358,4359,4360,4361,4362,4363,4364,4365,4366,4367,4368,4369,4370,4371,4372,4373,4374,4375,4376,4377,4378,4379,4380,4381,4382,4383,4384,4385,4386,4387,4388,4389,4390,4391,4392,4393,4394,4395,4396,4397,4398,4399,4400,4401,4402,4403,4404,4405,4406,4407,4408,4409,4410,4411,4412,4413,4414,4415,4416,4417,4418,4419,4420,4421,4422,4423,4424,4425,4426,4427,4428,4429,4430,4431,4432,4433,4434,4435,4436,4437,4438,4439,4440,4441,4442,4443,4444,4445,4446,4447,4448,4449,4450,4451,4452,4453,4454,4455,4456,4457,4458,4459,4460,4461,4462,4463,4464,4465,4466,4467,4468,4469,4470,4471,4472,4473,4474,4475,4476,4477,4478,4479,4480,4481,4482,4483,4484,4485,4486,4487,4488,4489,4490,4491,4492,4493,4494,4495,4496,4497,4498,4499,4500,4501,4502,4503,4504,4505,4506,4507,4508,4509,4510,4511,4512,4513,4514,4515,4516,4517,4518,4519,4520,4521,4522,4523,4524,4525,4526,4527,4528,4529,4530,4531,4532,4533,4534,4535,4536,4537,4538,4539,4540,4541,4542,4543,4544,4545,4546,4547,4548,4549,4550,4551,4552,4553,4554,4555,4556,4557,4558,4559,4560,4561,4562,4563,4564,4565,4566,4567,4568,4569,4570,4571,4572,4573,4574,4575,4576,4577,4578,4579,4580,4581,4582,4583,4584,4585,4586,4587,4588,4589,4590,4591,4592,4593,4594,4595,4596,4597,4598,4599,4600,4601,4602,4603,4604,4605,4606,4607,4608,4609,4610,4611,4612,4613,4614,4615,4616,4617,4618,4619,4620,4621,4622,4623,4624,4625,4626,4627,4628,4629,4630,4631,4632,4633,4634,4635,4636,4637,4638,4639,4640,4641,4642,4643,4644,4645,4646,4647,4648,4649,4650,4651,4652,4653,4654,4655,4656,4657,4658,4659,4660,4661,4662,4663,4664,4665,4666,4667,4668,4669,4670,4671,4672,4673,4674,4675,4676,4677,4678,4679,4680,4681,4682,4683,4684,4685,4686,4687,4688,4689,4690,4691,4692,4693,4694,4695,4696,4697,4698,4699,4700,4701,4702,4703,4704,4705,4706,4707,4708,4709,4710,4711,4712,4713,4714,4715,4716,4717,4718,4719,4720,4721,4722,4723,4724,4725,4726,4727,4728,4729,4730,4731,4732,4733,4734,4735,4736,4737,4738,4739,4740,4741,4742,4743,4744,4745,4746,4747,4748,4749,4750,4751,4752,4753,4754,4755,4756,4757,4758,4759,4760,4761,4762,4763,4764,4765,4766,4767,4768,4769,4770,4771,4772,4773,4774,4775,4776,4777,4778,4779,4780,4781,4782,4783,4784,4785,4786,4787,4788,4789,4790,4791,4792,4793,4794,4795,4796,4797,4798,4799,4800,4801,4802,4803,4804,4805,4806,4807,4808,4809,4810,4811,4812,4813,4814,4815,4816,4817,4818,4819,4820,4821,4822,4823,4824,4825,4826,4827,4828,4829,4830,4831,4832,4833,4834,4835,4836,4837,4838,4839,4840,4841,4842,4843,4844,4845,4846,4847,4848,4849,4850,4851,4852,4853,4854,4855,4856,4857,4858,4859,4860,4861,4862,4863,4864,4865,4866,4867,4868,4869,4870,4871,4872,4873,4874,4875,4876,4877,4878,4879,4880,4881,4882,4883,4884,4885,4886,4887,4888,4889,4890,4891,4892,4893,4894,4895,4896,4897,4898,4899,4900,4901,4902,4903,4904,4905,4906,4907,4908,4909,4910,4911,4912,4913,4914,4915,4916,4917,4918,4919,4920,4921,4922,4923,4924,4925,4926,4927,4928,4929,4930,4931,4932,4933,4934,4935,4936,4937,4938,4939,4940,4941,4942,4943,4944,4945,4946,4947,4948,4949,4950,4951,4952,4953,4954,4955,4956,4957,4958,4959,4960,4961,4962,4963,4964,4965,4966,4967,4968,4969,4970,4971,4972,4973,4974,4975,4976,4977,4978,4979,4980,4981,4982,4983,4984,4985,4986,4987,4988,4989,4990,4991,4992,4993,4994,4995,4996,4997,4998,4999,5000,5001,5002,5003,5004,5005,5006,5007,5008,5009,5010,5011,5012,5013,5014,5015,5016,5017,5018,5019,5020,5021,5022,5023,5024,5025,5026,5027,5028,5029,5030,5031,5032,5033,5034,5035,5036,5037,5038,5039,5040,5041,5042,5043,5044,5045,5046,5047,5048,5049,5050,5051,5052,5053,5054,5055,5056,5057,5058,5059,5060,5061,5062,5063,5064,5065,5066,5067,5068,5069,5070,5071,5072,5073,5074,5075,5076,5077,5078,5079,5080,5081,5082,5083,5084,5085,5086,5087,5088,5089,5090,5091,5092,5093,5094,5095,5096,5097,5098,5099,5100,5101,5102,5103,5104,5105,5106,5107,5108,5109,5110,5111,5112,5113,5114,5115,5116,5117,5118,5119,5120,5121,5122,5123,5124,5125,5126,5127,5128,5129,5130,5131,5132,5133,5134,5135,5136,5137,5138,5139,5140,5141,5142,5143,5144,5145,5146,5147,5148,5149,5150,5151,5152,5153,5154,5155,5156,5157,5158,5159,5160,5161,5162,5163,5164,5165,5166,5167,5168,5169,5170,5171,5172,5173,5174,5175,5176,5177,5178,5179,5180,5181,5182,5183,5184,5185,5186,5187,5188,5189,5190,5191,5192,5193,5194,5195,5196,5197,5198,5199,5200,5201,5202,5203,5204,5205,5206,5207,5208,5209,5210,5211,5212,5213,5214,5215,5216,5217,5218,5219,5220,5221,5222,5223,5224,5225,5226,5227,5228,5229,5230,5231,5232,5233,5234,5235,5236,5237,5238,5239,5240,5241,5242,5243,5244,5245,5246,5247,5248,5249,5250,5251,5252,5253,5254,5255,5256,5257,5258,5259,5260,5261,5262,5263,5264,5265,5266,5267,5268,5269,5270,5271,5272,5273,5274,5275,5276,5277,5278,5279,5280,5281,5282,5283,5284,5285,5286,5287,5288,5289,5290,5291,5292,5293,5294,5295,5296,5297,5298,5299,5300,5301,5302,5303,5304,5305,5306,5307,5308,5309,5310,5311,5312,5313,5314,5315,5316,5317,5318,5319,5320,5321,5322,5323,5324,5325,5326,5327,5328,5329,5330,5331,5332,5333,5334,5335,5336,5337,5338,5339,5340,5341,5342,5343,5344,5345,5346,5347,5348,5349,5350,5351,5352,5353,5354,5355,5356,5357,5358,5359,5360,5361,5362,5363,5364,5365,5366,5367,5368,5369,5370,5371,5372,5373,5374,5375,5376,5377,5378,5379,5380,5381,5382,5383,5384,5385,5386,5387,5388,5389,5390,5391,5392,5393,5394,5395,5396,5397,5398,5399,5400,5401,5402,5403,5404,5405,5406,5407,5408,5409,5410,5411,5412,5413,5414,5415,5416,5417,5418,5419,5420,5421,5422,5423,5424,5425,5426,5427,5428,5429,5430,5431,5432,5433,5434,5435,5436,5437,5438,5439,5440,5441,5442,5443,5444,5445,5446,5447,5448,5449,5450,5451,5452,5453,5454,5455,5456,5457,5458,5459,5460,5461,5462,5463,5464,5465,5466,5467,5468,5469,5470,5471,5472,5473,5474,5475,5476,5477,5478,5479,5480,5481,5482,5483,5484,5485,5486,5487,5488,5489,5490,5491,5492,5493,5494,5495,5496,5497,5498,5499,5500,5501,5502,5503,5504,5505,5506,5507,5508,5509,5510,5511,5512,5513,5514,5515,5516,5517,5518,5519,5520,5521,5522,5523,5524,5525,5526,5527,5528,5529,5530,5531,5532,5533,5534,5535,5536,5537,5538,5539,5540,5541,5542,5543,5544,5545,5546,5547,5548,5549,5550,5551,5552,5553,5554,5555,5556,5557,5558,5559,5560,5561,5562,5563,5564,5565,5566,5567,5568,5569,5570,5571,5572,5573,5574,5575,5576,5577,5578,5579,5580,5581,5582,5583,5584,5585,5586,5587,5588,5589,5590,5591,5592,5593,5594,5595,5596,5597,5598,5599,5600,5601,5602,5603,5604,5605,5606,5607,5608,5609,5610,5611,5612,5613,5614,5615,5616,5617,5618,5619,5620,5621,5622,5623,5624,5625,5626,5627,5628,5629,5630,5631,5632,5633,5634,5635,5636,5637,5638,5639,5640,5641,5642,5643,5644,5645,5646,5647,5648,5649,5650,5651,5652,5653,5654,5655,5656,5657,5658,5659,5660,5661,5662,5663,5664,5665,5666,5667,5668,5669,5670,5671,5672,5673,5674,5675,5676,5677,5678,5679,5680,5681,5682,5683,5684,5685,5686,5687,5688,5689,5690,5691,5692,5693,5694,5695,5696,5697,5698,5699,5700,5701,5702,5703,5704,5705,5706,5707,5708,5709,5710,5711,5712,5713,5714,5715,5716,5717,5718,5719,5720,5721,5722,5723,5724,5725,5726,5727,5728,5729,5730,5731,5732,5733,5734,5735,5736,5737,5738,5739,5740,5741,5742,5743,5744,5745,5746,5747,5748,5749,5750,5751,5752,5753,5754,5755,5756,5757,5758,5759,5760,5761,5762,5763,5764,5765,5766,5767,5768,5769,5770,5771,5772,5773,5774,5775,5776,5777,5778,5779,5780,5781,5782,5783,5784,5785,5786,5787,5788,5789,5790,5791,5792,5793,5794,5795,5796,5797,5798,5799,5800,5801,5802,5803,5804,5805,5806,5807,5808,5809,5810,5811,5812,5813,5814,5815,5816,5817,5818,5819,5820,5821,5822,5823,5824,5825,5826,5827,5828,5829,5830,5831,5832,5833,5834,5835,5836,5837,5838,5839,5840,5841,5842,5843,5844,5845,5846,5847,5848,5849,5850,5851,5852,5853,5854,5855,5856,5857,5858,5859,5860,5861,5862,5863,5864,5865,5866,5867,5868,5869,5870,5871,5872,5873,5874,5875,5876,5877,5878,5879,5880,5881,5882,5883,5884,5885,5886,5887,5888,5889,5890,5891,5892,5893,5894,5895,5896,5897,5898,5899,5900,5901,5902,5903,5904,5905,5906,5907,5908,5909,5910,5911,5912,5913,5914,5915,5916,5917,5918,5919,5920,5921,5922,5923,5924,5925,5926,5927,5928,5929,5930,5931,5932,5933,5934,5935,5936,5937,5938,5939,5940,5941,5942,5943,5944,5945,5946,5947,5948,5949,5950,5951,5952,5953,5954,5955,5956,5957,5958,5959,5960,5961,5962,5963,5964,5965,5966,5967,5968,5969,5970,5971,5972,5973,5974,5975,5976,5977,5978,5979,5980,5981,5982,5983,5984,5985,5986,5987,5988,5989,5990,5991,5992,5993,5994,5995,5996,5997,5998,5999,6000,6001,6002,6003,6004,6005,6006,6007,6008,6009,6010,6011,6012,6013,6014,6015,6016,6017,6018,6019,6020,6021,6022,6023,6024,6025,6026,6027,6028,6029,6030,6031,6032,6033,6034,6035,6036,6037,6038,6039,6040,6041,6042,6043,6044,6045,6046,6047,6048,6049,6050,6051,6052,6053,6054,6055,6056,6057,6058,6059,6060,6061,6062,6063,6064,6065,6066,6067,6068,6069,6070,6071,6072,6073,6074,6075,6076,6077,6078,6079,6080,6081,6082,6083,6084,6085,6086,6087,6088,6089,6090,6091,6092,6093,6094,6095,6096,6097,6098,6099,6100,6101,6102,6103,6104,6105,6106,6107,6108,6109,6110,6111,6112,6113,6114,6115,6116,6117,6118,6119,6120,6121,6122,6123,6124,6125,6126,6127,6128,6129,6130,6131,6132,6133,6134,6135,6136,6137,6138,6139,6140,6141,6142,6143,6144,6145,6146,6147,6148,6149,6150,6151,6152,6153,6154,6155,6156,6157,6158,6159,6160,6161,6162,6163,6164,6165,6166,6167,6168,6169,6170,6171,6172,6173,6174,6175,6176,6177,6178,6179,6180,6181,6182,6183,6184,6185,6186,6187,6188,6189,6190,6191,6192,6193,6194,6195,6196,6197,6198,6199,6200,6201,6202,6203,6204,6205,6206,6207,6208,6209,6210,6211,6212,6213,6214,6215,6216,6217,6218,6219,6220,6221,6222,6223,6224,6225,6226,6227,6228,6229,6230,6231,6232,6233,6234,6235,6236,6237,6238,6239,6240,6241,6242,6243,6244,6245,6246,6247,6248,6249,6250,6251,6252,6253,6254,6255,6256,6257,6258,6259,6260,6261,6262,6263,6264,6265,6266,6267,6268,6269,6270,6271,6272,6273,6274,6275,6276,6277,6278,6279,6280,6281,6282,6283,6284,6285,6286,6287,6288,6289,6290,6291,6292,6293,6294,6295,6296,6297,6298,6299,6300,6301,6302,6303,6304,6305,6306,6307,6308,6309,6310,6311,6312,6313,6314,6315,6316,6317,6318,6319,6320,6321,6322,6323,6324,6325,6326,6327,6328,6329,6330,6331,6332,6333,6334,6335,6336,6337,6338,6339,6340,6341,6342,6343,6344,6345,6346,6347,6348,6349,6350,6351,6352,6353,6354,6355,6356,6357,6358,6359,6360,6361,6362,6363,6364,6365,6366,6367,6368,6369,6370,6371,6372,6373,6374,6375,6376,6377,6378,6379,6380,6381,6382,6383,6384,6385,6386,6387,6388,6389,6390,6391,6392,6393,6394,6395,6396,6397,6398,6399,6400,6401,6402,6403,6404,6405,6406,6407,6408,6409,6410,6411,6412,6413,6414,6415,6416,6417,6418,6419,6420,6421,6422,6423,6424,6425,6426,6427,6428,6429,6430,6431,6432,6433,6434,6435,6436,6437,6438,6439,6440,6441,6442,6443,6444,6445,6446,6447,6448,6449,6450,6451,6452,6453,6454,6455,6456,6457,6458,6459,6460,6461,6462,6463,6464,6465,6466,6467,6468,6469,6470,6471,6472,6473,6474,6475,6476,6477,6478,6479,6480,6481,6482,6483,6484,6485,6486,6487,6488,6489,6490,6491,6492,6493,6494,6495,6496,6497,6498,6499,6500,6501,6502,6503,6504,6505,6506,6507,6508,6509,6510,6511,6512,6513,6514,6515,6516,6517,6518,6519,6520,6521,6522,6523,6524,6525,6526,6527,6528,6529,6530,6531,6532,6533,6534,6535,6536,6537,6538,6539,6540,6541,6542,6543,6544,6545,6546,6547,6548,6549,6550,6551,6552,6553,6554,6555,6556,6557,6558,6559,6560,6561,6562,6563,6564,6565,6566,6567,6568,6569,6570,6571,6572,6573,6574,6575,6576,6577,6578,6579,6580,6581,6582,6583,6584,6585,6586,6587,6588,6589,6590,6591,6592,6593,6594,6595,6596,6597,6598,6599,6600,6601,6602,6603,6604,6605,6606,6607,6608,6609,6610,6611,6612,6613,6614,6615,6616,6617,6618,6619,6620,6621,6622,6623,6624,6625,6626,6627,6628,6629,6630,6631,6632,6633,6634,6635,6636,6637,6638,6639,6640,6641,6642,6643,6644,6645,6646,6647,6648,6649,6650,6651,6652,6653,6654,6655,6656,6657,6658,6659,6660,6661,6662,6663,6664,6665,6666,6667,6668,6669,6670,6671,6672,6673,6674,6675,6676,6677,6678,6679,6680,6681,6682,6683,6684,6685,6686,6687,6688,6689,6690,6691,6692,6693,6694,6695,6696,6697,6698,6699,6700,6701,6702,6703,6704,6705,6706,6707,6708,6709,6710,6711,6712,6713,6714,6715,6716,6717,6718,6719,6720,6721,6722,6723,6724,6725,6726,6727,6728,6729,6730,6731,6732,6733,6734,6735,6736,6737,6738,6739,6740,6741,6742,6743,6744,6745,6746,6747,6748,6749,6750,6751,6752,6753,6754,6755,6756,6757,6758,6759,6760,6761,6762,6763,6764,6765,6766,6767,6768,6769,6770,6771,6772,6773,6774,6775,6776,6777,6778,6779,6780,6781,6782,6783,6784,6785,6786,6787,6788,6789,6790,6791,6792,6793,6794,6795,6796,6797,6798,6799,6800,6801,6802,6803,6804,6805,6806,6807,6808,6809,6810,6811,6812,6813,6814,6815,6816,6817,6818,6819,6820,6821,6822,6823,6824,6825,6826,6827,6828,6829,6830,6831,6832,6833,6834,6835,6836,6837,6838,6839,6840,6841,6842,6843,6844,6845,6846,6847,6848,6849,6850,6851,6852,6853,6854,6855,6856,6857,6858,6859,6860,6861,6862,6863,6864,6865,6866,6867,6868,6869,6870,6871,6872,6873,6874,6875,6876,6877,6878,6879,6880,6881,6882,6883,6884,6885,6886,6887,6888,6889,6890,6891,6892,6893,6894,6895,6896,6897,6898,6899,6900,6901,6902,6903,6904,6905,6906,6907,6908,6909,6910,6911,6912,6913,6914,6915,6916,6917,6918,6919,6920,6921,6922,6923,6924,6925,6926,6927,6928,6929,6930,6931,6932,6933,6934,6935,6936,6937,6938,6939,6940,6941,6942,6943,6944,6945,6946,6947,6948,6949,6950,6951,6952,6953,6954,6955,6956,6957,6958,6959,6960,6961,6962,6963,6964,6965,6966,6967,6968,6969,6970,6971,6972,6973,6974,6975,6976,6977,6978,6979,6980,6981,6982,6983,6984,6985,6986,6987,6988,6989,6990,6991,6992,6993,6994,6995,6996,6997,6998,6999,7000,7001,7002,7003,7004,7005,7006,7007,7008,7009,7010,7011,7012,7013,7014,7015,7016,7017,7018,7019,7020,7021,7022,7023,7024,7025,7026,7027,7028,7029,7030,7031,7032,7033,7034,7035,7036,7037,7038,7039,7040,7041,7042,7043,7044,7045,7046,7047,7048,7049,7050,7051,7052,7053,7054,7055,7056,7057,7058,7059,7060,7061,7062,7063,7064,7065,7066,7067,7068,7069,7070,7071,7072,7073,7074,7075,7076,7077,7078,7079,7080,7081,7082,7083,7084,7085,7086,7087,7088,7089,7090,7091,7092,7093,7094,7095,7096,7097,7098,7099,7100,7101,7102,7103,7104,7105,7106,7107,7108,7109,7110,7111,7112,7113,7114,7115,7116,7117,7118,7119,7120,7121,7122,7123,7124,7125,7126,7127,7128,7129,7130,7131,7132,7133,7134,7135,7136,7137,7138,7139,7140,7141,7142,7143,7144,7145,7146,7147,7148,7149,7150,7151,7152,7153,7154,7155,7156,7157,7158,7159,7160,7161,7162,7163,7164,7165,7166,7167,7168,7169,7170,7171,7172,7173,7174,7175,7176,7177,7178,7179,7180,7181,7182,7183,7184,7185,7186,7187,7188,7189,7190,7191,7192,7193,7194,7195,7196,7197,7198,7199,7200,7201,7202,7203,7204,7205,7206,7207,7208,7209,7210,7211,7212,7213,7214,7215,7216,7217,7218,7219,7220,7221,7222,7223,7224,7225,7226,7227,7228,7229,7230,7231,7232,7233,7234,7235,7236,7237,7238,7239,7240,7241,7242,7243,7244,7245,7246,7247,7248,7249,7250,7251,7252,7253,7254,7255,7256,7257,7258,7259,7260,7261,7262,7263,7264,7265,7266,7267,7268,7269,7270,7271,7272,7273,7274,7275,7276,7277,7278,7279,7280,7281,7282,7283,7284,7285,7286,7287,7288,7289,7290,7291,7292,7293,7294,7295,7296,7297,7298,7299,7300,7301,7302,7303,7304,7305,7306,7307,7308,7309,7310,7311,7312,7313,7314,7315,7316,7317,7318,7319,7320,7321,7322,7323,7324,7325,7326,7327,7328,7329,7330,7331,7332,7333,7334,7335,7336,7337,7338,7339,7340,7341,7342,7343,7344,7345,7346,7347,7348,7349,7350,7351,7352,7353,7354,7355,7356,7357,7358,7359,7360,7361,7362,7363,7364,7365,7366,7367,7368,7369,7370,7371,7372,7373,7374,7375,7376,7377,7378,7379,7380,7381,7382,7383,7384,7385,7386,7387,7388,7389,7390,7391,7392,7393,7394,7395,7396,7397,7398,7399,7400,7401,7402,7403,7404,7405,7406,7407,7408,7409,7410,7411,7412,7413,7414,7415,7416,7417,7418,7419,7420,7421,7422,7423,7424,7425,7426,7427,7428,7429,7430,7431,7432,7433,7434,7435,7436,7437,7438,7439,7440,7441,7442,7443,7444,7445,7446,7447,7448,7449,7450,7451,7452,7453,7454,7455,7456,7457,7458,7459,7460,7461,7462,7463,7464,7465,7466,7467,7468,7469,7470,7471,7472,7473,7474,7475,7476,7477,7478,7479,7480,7481,7482,7483,7484,7485,7486,7487,7488,7489,7490,7491,7492,7493,7494,7495,7496,7497,7498,7499,7500,7501,7502,7503,7504,7505,7506,7507,7508,7509,7510,7511,7512,7513,7514,7515,7516,7517,7518,7519,7520,7521,7522,7523,7524,7525,7526,7527,7528,7529,7530,7531,7532,7533,7534,7535,7536,7537,7538,7539,7540,7541,7542,7543,7544,7545,7546,7547,7548,7549,7550,7551,7552,7553,7554,7555,7556,7557,7558,7559,7560,7561,7562,7563,7564,7565,7566,7567,7568,7569,7570,7571,7572,7573,7574,7575,7576,7577,7578,7579,7580,7581,7582,7583,7584,7585,7586,7587,7588,7589,7590,7591,7592,7593,7594,7595,7596,7597,7598,7599,7600,7601,7602,7603,7604,7605,7606,7607,7608,7609,7610,7611,7612,7613,7614,7615,7616,7617,7618,7619,7620,7621,7622,7623,7624,7625,7626,7627,7628,7629,7630,7631,7632,7633,7634,7635,7636,7637,7638,7639,7640,7641,7642,7643,7644,7645,7646,7647,7648,7649,7650,7651,7652,7653,7654,7655,7656,7657,7658,7659,7660,7661,7662,7663,7664,7665,7666,7667,7668,7669,7670,7671,7672,7673,7674,7675,7676,7677,7678,7679,7680,7681,7682,7683,7684,7685,7686,7687,7688,7689,7690,7691,7692,7693,7694,7695,7696,7697,7698,7699,7700,7701,7702,7703,7704,7705,7706,7707,7708,7709,7710,7711,7712,7713,7714,7715,7716,7717,7718,7719,7720,7721,7722,7723,7724,7725,7726,7727,7728,7729,7730,7731,7732,7733,7734,7735,7736,7737,7738,7739,7740,7741,7742,7743,7744,7745,7746,7747,7748,7749,7750,7751,7752,7753,7754,7755,7756,7757,7758,7759,7760,7761,7762,7763,7764,7765,7766,7767,7768,7769,7770,7771,7772,7773,7774,7775,7776,7777,7778,7779,7780,7781,7782,7783,7784,7785,7786,7787,7788,7789,7790,7791,7792,7793,7794,7795,7796,7797,7798,7799,7800,7801,7802,7803,7804,7805,7806,7807,7808,7809,7810,7811,7812,7813,7814,7815,7816,7817,7818,7819,7820,7821,7822,7823,7824,7825,7826,7827,7828,7829,7830,7831,7832,7833,7834,7835,7836,7837,7838,7839,7840,7841,7842,7843,7844,7845,7846,7847,7848,7849,7850,7851,7852,7853,7854,7855,7856,7857,7858,7859,7860,7861,7862,7863,7864,7865,7866,7867,7868,7869,7870,7871,7872,7873,7874,7875,7876,7877,7878,7879,7880,7881,7882,7883,7884,7885,7886,7887,7888,7889,7890,7891,7892,7893,7894,7895,7896,7897,7898,7899,7900,7901,7902,7903,7904,7905,7906,7907,7908,7909,7910,7911,7912,7913,7914,7915,7916,7917,7918,7919,7920,7921,7922,7923,7924,7925,7926,7927,7928,7929,7930,7931,7932,7933,7934,7935,7936,7937,7938,7939,7940,7941,7942,7943,7944,7945,7946,7947,7948,7949,7950,7951,7952,7953,7954,7955,7956,7957,7958,7959,7960,7961,7962,7963,7964,7965,7966,7967,7968,7969,7970,7971,7972,7973,7974,7975,7976,7977,7978,7979,7980,7981,7982,7983,7984,7985,7986,7987,7988,7989,7990,7991,7992,7993,7994,7995,7996,7997,7998,7999,8000,8001,8002,8003,8004,8005,8006,8007,8008,8009,8010,8011,8012,8013,8014,8015,8016,8017,8018,8019,8020,8021,8022,8023,8024,8025,8026,8027,8028,8029,8030,8031,8032,8033,8034,8035,8036,8037,8038,8039,8040,8041,8042,8043,8044,8045,8046,8047,8048,8049,8050,8051,8052,8053,8054,8055,8056,8057,8058,8059,8060,8061,8062,8063,8064,8065,8066,8067,8068,8069,8070,8071,8072,8073,8074,8075,8076,8077,8078,8079,8080,8081,8082,8083,8084,8085,8086,8087,8088,8089,8090,8091,8092,8093,8094,8095,8096,8097,8098,8099,8100,8101,8102,8103,8104,8105,8106,8107,8108,8109,8110,8111,8112,8113,8114,8115,8116,8117,8118,8119,8120,8121,8122,8123,8124,8125,8126,8127,8128,8129,8130,8131,8132,8133,8134,8135,8136,8137,8138,8139,8140,8141,8142,8143,8144,8145,8146,8147,8148,8149,8150,8151,8152,8153,8154,8155,8156,8157,8158,8159,8160,8161,8162,8163,8164,8165,8166,8167,8168,8169,8170,8171,8172,8173,8174,8175,8176,8177,8178,8179,8180,8181,8182,8183,8184,8185,8186,8187,8188,8189,8190,8191,8192,8193,8194,8195,8196,8197,8198,8199,8200,8201,8202,8203,8204,8205,8206,8207,8208,8209,8210,8211,8212,8213,8214,8215,8216,8217,8218,8219,8220,8221,8222,8223,8224,8225,8226,8227,8228,8229,8230,8231,8232,8233,8234,8235,8236,8237,8238,8239,8240,8241,8242,8243,8244,8245,8246,8247,8248,8249,8250,8251,8252,8253,8254,8255,8256,8257,8258,8259,8260,8261,8262,8263,8264,8265,8266,8267,8268,8269,8270,8271,8272,8273,8274,8275,8276,8277,8278,8279,8280,8281,8282,8283,8284,8285,8286,8287,8288,8289,8290,8291,8292,8293,8294,8295,8296,8297,8298,8299,8300,8301,8302,8303,8304,8305,8306,8307,8308,8309,8310,8311,8312,8313,8314,8315,8316,8317,8318,8319,8320,8321,8322,8323,8324,8325,8326,8327,8328,8329,8330,8331,8332,8333,8334,8335,8336,8337,8338,8339,8340,8341,8342,8343,8344,8345,8346,8347,8348,8349,8350,8351,8352,8353,8354,8355,8356,8357,8358,8359,8360,8361,8362,8363,8364,8365,8366,8367,8368,8369,8370,8371,8372,8373,8374,8375,8376,8377,8378,8379,8380,8381,8382,8383,8384,8385,8386,8387,8388,8389,8390,8391,8392,8393,8394,8395,8396,8397,8398,8399,8400,8401,8402,8403,8404,8405,8406,8407,8408,8409,8410,8411,8412,8413,8414,8415,8416,8417,8418,8419,8420,8421,8422,8423,8424,8425,8426,8427,8428,8429,8430,8431,8432,8433,8434,8435,8436,8437,8438,8439,8440,8441,8442,8443,8444,8445,8446,8447,8448,8449,8450,8451,8452,8453,8454,8455,8456,8457,8458,8459,8460,8461,8462,8463,8464,8465,8466,8467,8468,8469,8470,8471,8472,8473,8474,8475,8476,8477,8478,8479,8480,8481,8482,8483,8484,8485,8486,8487,8488,8489,8490,8491,8492,8493,8494,8495,8496,8497,8498,8499,8500,8501,8502,8503,8504,8505,8506,8507,8508,8509,8510,8511,8512,8513,8514,8515,8516,8517,8518,8519,8520,8521,8522,8523,8524,8525,8526,8527,8528,8529,8530,8531,8532,8533,8534,8535,8536,8537,8538,8539,8540,8541,8542,8543,8544,8545,8546,8547,8548,8549,8550,8551,8552,8553,8554,8555,8556,8557,8558,8559,8560,8561,8562,8563,8564,8565,8566,8567,8568,8569,8570,8571,8572,8573,8574,8575,8576,8577,8578,8579,8580,8581,8582,8583,8584,8585,8586,8587,8588,8589,8590,8591,8592,8593,8594,8595,8596,8597,8598,8599,8600,8601,8602,8603,8604,8605,8606,8607,8608,8609,8610,8611,8612,8613,8614,8615,8616,8617,8618,8619,8620,8621,8622,8623,8624,8625,8626,8627,8628,8629,8630,8631,8632,8633,8634,8635,8636,8637,8638,8639,8640,8641,8642,8643,8644,8645,8646,8647,8648,8649,8650,8651,8652,8653,8654,8655,8656,8657,8658,8659,8660,8661,8662,8663,8664,8665,8666,8667,8668,8669,8670,8671,8672,8673,8674,8675,8676,8677,8678,8679,8680,8681,8682,8683,8684,8685,8686,8687,8688,8689,8690,8691,8692,8693,8694,8695,8696,8697,8698,8699,8700,8701,8702,8703,8704,8705,8706,8707,8708,8709,8710,8711,8712,8713,8714,8715,8716,8717,8718,8719,8720,8721,8722,8723,8724,8725,8726,8727,8728,8729,8730,8731,8732,8733,8734,8735,8736,8737,8738,8739,8740,8741,8742,8743,8744,8745,8746,8747,8748,8749,8750,8751,8752,8753,8754,8755,8756,8757,8758,8759,8760,8761,8762,8763,8764,8765,8766,8767,8768,8769,8770,8771,8772,8773,8774,8775,8776,8777,8778,8779,8780,8781,8782,8783,8784,8785,8786,8787,8788,8789,8790,8791,8792,8793,8794,8795,8796,8797,8798,8799,8800,8801,8802,8803,8804,8805,8806,8807,8808,8809,8810,8811,8812,8813,8814,8815,8816,8817,8818,8819,8820,8821,8822,8823,8824,8825,8826,8827,8828,8829,8830,8831,8832,8833,8834,8835,8836,8837,8838,8839,8840,8841,8842,8843,8844,8845,8846,8847,8848,8849,8850,8851,8852,8853,8854,8855,8856,8857,8858,8859,8860,8861,8862,8863,8864,8865,8866,8867,8868,8869,8870,8871,8872,8873,8874,8875,8876,8877,8878,8879,8880,8881,8882,8883,8884,8885,8886,8887,8888,8889,8890,8891,8892,8893,8894,8895,8896,8897,8898,8899,8900,8901,8902,8903,8904,8905,8906,8907,8908,8909,8910,8911,8912,8913,8914,8915,8916,8917,8918,8919,8920,8921,8922,8923,8924,8925,8926,8927,8928,8929,8930,8931,8932,8933,8934,8935,8936,8937,8938,8939,8940,8941,8942,8943,8944,8945,8946,8947,8948,8949,8950,8951,8952,8953,8954,8955,8956,8957,8958,8959,8960,8961,8962,8963,8964,8965,8966,8967,8968,8969,8970,8971,8972,8973,8974,8975,8976,8977,8978,8979,8980,8981,8982,8983,8984,8985,8986,8987,8988,8989,8990,8991,8992,8993,8994,8995,8996,8997,8998,8999,9000,9001,9002,9003,9004,9005,9006,9007,9008,9009,9010,9011,9012,9013,9014,9015,9016,9017,9018,9019,9020,9021,9022,9023,9024,9025,9026,9027,9028,9029,9030,9031,9032,9033,9034,9035,9036,9037,9038,9039,9040,9041,9042,9043,9044,9045,9046,9047,9048,9049,9050,9051,9052,9053,9054,9055,9056,9057,9058,9059,9060,9061,9062,9063,9064,9065,9066,9067,9068,9069,9070,9071,9072,9073,9074,9075,9076,9077,9078,9079,9080,9081,9082,9083,9084,9085,9086,9087,9088,9089,9090,9091,9092,9093,9094,9095,9096,9097,9098,9099,9100,9101,9102,9103,9104,9105,9106,9107,9108,9109,9110,9111,9112,9113,9114,9115,9116,9117,9118,9119,9120,9121,9122,9123,9124,9125,9126,9127,9128,9129,9130,9131,9132,9133,9134,9135,9136,9137,9138,9139,9140,9141,9142,9143,9144,9145,9146,9147,9148,9149,9150,9151,9152,9153,9154,9155,9156,9157,9158,9159,9160,9161,9162,9163,9164,9165,9166,9167,9168,9169,9170,9171,9172,9173,9174,9175,9176,9177,9178,9179,9180,9181,9182,9183,9184,9185,9186,9187,9188,9189,9190,9191,9192,9193,9194,9195,9196,9197,9198,9199,9200,9201,9202,9203,9204,9205,9206,9207,9208,9209,9210,9211,9212,9213,9214,9215,9216,9217,9218,9219,9220,9221,9222,9223,9224,9225,9226,9227,9228,9229,9230,9231,9232,9233,9234,9235,9236,9237,9238,9239,9240,9241,9242,9243,9244,9245,9246,9247,9248,9249,9250,9251,9252,9253,9254,9255,9256,9257,9258,9259,9260,9261,9262,9263,9264,9265,9266,9267,9268,9269,9270,9271,9272,9273,9274,9275,9276,9277,9278,9279,9280,9281,9282,9283,9284,9285,9286,9287,9288,9289,9290,9291,9292,9293,9294,9295,9296,9297,9298,9299,9300,9301,9302,9303,9304,9305,9306,9307,9308,9309,9310,9311,9312,9313,9314,9315,9316,9317,9318,9319,9320,9321,9322,9323,9324,9325,9326,9327,9328,9329,9330,9331,9332,9333,9334,9335,9336,9337,9338,9339,9340,9341,9342,9343,9344,9345,9346,9347,9348,9349,9350,9351,9352,9353,9354,9355,9356,9357,9358,9359,9360,9361,9362,9363,9364,9365,9366,9367,9368,9369,9370,9371,9372,9373,9374,9375,9376,9377,9378,9379,9380,9381,9382,9383,9384,9385,9386,9387,9388,9389,9390,9391,9392,9393,9394,9395,9396,9397,9398,9399,9400,9401,9402,9403,9404,9405,9406,9407,9408,9409,9410,9411,9412,9413,9414,9415,9416,9417,9418,9419,9420,9421,9422,9423,9424,9425,9426,9427,9428,9429,9430,9431,9432,9433,9434,9435,9436,9437,9438,9439,9440,9441,9442,9443,9444,9445,9446,9447,9448,9449,9450,9451,9452,9453,9454,9455,9456,9457,9458,9459,9460,9461,9462,9463,9464,9465,9466,9467,9468,9469,9470,9471,9472,9473,9474,9475,9476,9477,9478,9479,9480,9481,9482,9483,9484,9485,9486,9487,9488,9489,9490,9491,9492,9493,9494,9495,9496,9497,9498,9499,9500,9501,9502,9503,9504,9505,9506,9507,9508,9509,9510,9511,9512,9513,9514,9515,9516,9517,9518,9519,9520,9521,9522,9523,9524,9525,9526,9527,9528,9529,9530,9531,9532,9533,9534,9535,9536,9537,9538,9539,9540,9541,9542,9543,9544,9545,9546,9547,9548,9549,9550,9551,9552,9553,9554,9555,9556,9557,9558,9559,9560,9561,9562,9563,9564,9565,9566,9567,9568,9569,9570,9571,9572,9573,9574,9575,9576,9577,9578,9579,9580,9581,9582,9583,9584,9585,9586,9587,9588,9589,9590,9591,9592,9593,9594,9595,9596,9597,9598,9599,9600,9601,9602,9603,9604,9605,9606,9607,9608,9609,9610,9611,9612,9613,9614,9615,9616,9617,9618,9619,9620,9621,9622,9623,9624,9625,9626,9627,9628,9629,9630,9631,9632,9633,9634,9635,9636,9637,9638,9639,9640,9641,9642,9643,9644,9645,9646,9647,9648,9649,9650,9651,9652,9653,9654,9655,9656,9657,9658,9659,9660,9661,9662,9663,9664,9665,9666,9667,9668,9669,9670,9671,9672,9673,9674,9675,9676,9677,9678,9679,9680,9681,9682,9683,9684,9685,9686,9687,9688,9689,9690,9691,9692,9693,9694,9695,9696,9697,9698,9699,9700,9701,9702,9703,9704,9705,9706,9707,9708,9709,9710,9711,9712,9713,9714,9715,9716,9717,9718,9719,9720,9721,9722,9723,9724,9725,9726,9727,9728,9729,9730,9731,9732,9733,9734,9735,9736,9737,9738,9739,9740,9741,9742,9743,9744,9745,9746,9747,9748,9749,9750,9751,9752,9753,9754,9755,9756,9757,9758,9759,9760,9761,9762,9763,9764,9765,9766,9767,9768,9769,9770,9771,9772,9773,9774,9775,9776,9777,9778,9779,9780,9781,9782,9783,9784,9785,9786,9787,9788,9789,9790,9791,9792,9793,9794,9795,9796,9797,9798,9799,9800,9801,9802,9803,9804,9805,9806,9807,9808,9809,9810,9811,9812,9813,9814,9815,9816,9817,9818,9819,9820,9821,9822,9823,9824,9825,9826,9827,9828,9829,9830,9831,9832,9833,9834,9835,9836,9837,9838,9839,9840,9841,9842,9843,9844,9845,9846,9847,9848,9849,9850,9851,9852,9853,9854,9855,9856,9857,9858,9859,9860,9861,9862,9863,9864,9865,9866,9867,9868,9869,9870,9871,9872,9873,9874,9875,9876,9877,9878,9879,9880,9881,9882,9883,9884,9885,9886,9887,9888,9889,9890,9891,9892,9893,9894,9895,9896,9897,9898,9899,9900,9901,9902,9903,9904,9905,9906,9907,9908,9909,9910,9911,9912,9913,9914,9915,9916,9917,9918,9919,9920,9921,9922,9923,9924,9925,9926,9927,9928,9929,9930,9931,9932,9933,9934,9935,9936,9937,9938,9939,9940,9941,9942,9943,9944,9945,9946,9947,9948,9949,9950,9951,9952,9953,9954,9955,9956,9957,9958,9959,9960,9961,9962,9963,9964,9965,9966,9967,9968,9969,9970,9971,9972,9973,9974,9975,9976,9977,9978,9979,9980,9981,9982,9983,9984,9985,9986,9987,9988,9989,9990,9991,9992,9993,9994,9995,9996,9997,9998,9999,10000,10001,10002,10003,10004,10005,10006,10007,10008,10009,10010,10011,10012,10013,10014,10015,10016,10017,10018,10019,10020,10021,10022,10023,10024,10025,10026,10027,10028,10029,10030,10031,10032,10033,10034,10035,10036,10037,10038,10039,10040,10041,10042,10043,10044,10045,10046,10047,10048,10049,10050,10051,10052,10053,10054,10055,10056,10057,10058,10059,10060,10061,10062,10063,10064,10065,10066,10067,10068,10069,10070,10071,10072,10073,10074,10075,10076,10077,10078,10079,10080,10081,10082,10083,10084,10085,10086,10087,10088,10089,10090,10091,10092,10093,10094,10095,10096,10097,10098,10099,10100,10101,10102,10103,10104,10105,10106,10107,10108,10109,10110,10111,10112,10113,10114,10115,10116,10117,10118,10119,10120,10121,10122,10123,10124,10125,10126,10127,10128,10129,10130,10131,10132,10133,10134,10135,10136,10137,10138,10139,10140,10141,10142,10143,10144,10145,10146,10147,10148,10149,10150,10151,10152,10153,10154,10155,10156,10157,10158,10159,10160,10161,10162,10163,10164,10165,10166,10167,10168,10169,10170,10171,10172,10173,10174,10175,10176,10177,10178,10179,10180,10181,10182,10183,10184,10185,10186,10187,10188,10189,10190,10191,10192,10193,10194,10195,10196,10197,10198,10199,10200,10201,10202,10203,10204,10205,10206,10207,10208,10209,10210,10211,10212,10213,10214,10215,10216,10217,10218,10219,10220,10221,10222,10223,10224,10225,10226,10227,10228,10229,10230,10231,10232,10233,10234,10235,10236,10237,10238,10239,10240,10241,10242,10243,10244,10245,10246,10247,10248,10249,10250,10251,10252,10253,10254,10255,10256,10257,10258,10259,10260,10261,10262,10263,10264,10265,10266,10267,10268,10269,10270,10271,10272,10273,10274,10275,10276,10277,10278,10279,10280,10281,10282,10283,10284,10285,10286,10287,10288,10289,10290,10291,10292,10293,10294,10295,10296,10297,10298,10299,10300,10301,10302,10303,10304,10305,10306,10307,10308,10309,10310,10311,10312,10313,10314,10315,10316,10317,10318,10319,10320,10321,10322,10323,10324,10325,10326,10327,10328,10329,10330,10331,10332,10333,10334,10335,10336,10337,10338,10339,10340,10341,10342,10343,10344,10345,10346,10347,10348,10349,10350,10351,10352,10353,10354,10355,10356,10357,10358,10359,10360,10361,10362,10363,10364,10365,10366,10367,10368,10369,10370,10371,10372,10373,10374,10375,10376,10377,10378,10379,10380,10381,10382,10383,10384,10385,10386,10387,10388,10389,10390,10391,10392,10393,10394,10395,10396,10397,10398,10399,10400,10401,10402,10403,10404,10405,10406,10407,10408,10409,10410,10411,10412,10413,10414,10415,10416,10417,10418,10419,10420,10421,10422,10423,10424,10425,10426,10427,10428,10429,10430,10431,10432,10433,10434,10435,10436,10437,10438,10439,10440,10441,10442,10443,10444,10445,10446,10447,10448,10449,10450,10451,10452,10453,10454,10455,10456,10457,10458,10459,10460,10461,10462,10463,10464,10465,10466,10467,10468,10469,10470,10471,10472,10473,10474,10475,10476,10477,10478,10479,10480,10481,10482,10483,10484,10485,10486,10487,10488,10489,10490,10491,10492,10493,10494,10495,10496,10497,10498,10499,10500,10501,10502,10503,10504,10505,10506,10507,10508,10509,10510,10511,10512,10513,10514,10515,10516,10517,10518,10519,10520,10521,10522,10523,10524,10525,10526,10527,10528,10529,10530,10531,10532,10533,10534,10535,10536,10537,10538,10539,10540,10541,10542,10543,10544,10545,10546,10547,10548,10549,10550,10551,10552,10553,10554,10555,10556,10557,10558,10559,10560,10561,10562,10563,10564,10565,10566,10567,10568,10569,10570,10571,10572,10573,10574,10575,10576,10577,10578,10579,10580,10581,10582,10583,10584,10585,10586,10587,10588,10589,10590,10591,10592,10593,10594,10595,10596,10597,10598,10599,10600,10601,10602,10603,10604,10605,10606,10607,10608,10609,10610,10611,10612,10613,10614,10615,10616,10617,10618,10619,10620,10621,10622,10623,10624,10625,10626,10627,10628,10629,10630,10631,10632,10633,10634,10635,10636,10637,10638,10639,10640,10641,10642,10643,10644,10645,10646,10647,10648,10649,10650,10651,10652,10653,10654,10655,10656,10657,10658,10659,10660,10661,10662,10663,10664,10665,10666,10667,10668,10669,10670,10671,10672,10673,10674,10675,10676,10677,10678,10679,10680,10681,10682,10683,10684,10685,10686,10687,10688,10689,10690,10691,10692,10693,10694,10695,10696,10697,10698,10699,10700,10701,10702,10703,10704,10705,10706,10707,10708,10709,10710,10711,10712,10713,10714,10715,10716,10717,10718,10719,10720,10721,10722,10723,10724,10725,10726,10727,10728,10729,10730,10731,10732,10733,10734,10735,10736,10737,10738,10739,10740,10741,10742,10743,10744,10745,10746,10747,10748,10749,10750,10751,10752,10753,10754,10755,10756,10757,10758,10759,10760,10761,10762,10763,10764,10765,10766,10767,10768,10769,10770,10771,10772,10773,10774,10775,10776,10777,10778,10779,10780,10781,10782,10783,10784,10785,10786,10787,10788,10789,10790,10791,10792,10793,10794,10795,10796,10797,10798,10799,10800,10801,10802,10803,10804,10805,10806,10807,10808,10809,10810,10811,10812,10813,10814,10815,10816,10817,10818,10819,10820,10821,10822,10823,10824,10825,10826,10827,10828,10829,10830,10831,10832,10833,10834,10835,10836,10837,10838,10839,10840,10841,10842,10843,10844,10845,10846,10847,10848,10849,10850,10851,10852,10853,10854,10855,10856,10857,10858,10859,10860,10861,10862,10863,10864,10865,10866,10867,10868,10869,10870,10871,10872,10873,10874,10875,10876,10877,10878,10879,10880,10881,10882,10883,10884,10885,10886,10887,10888,10889,10890,10891,10892,10893,10894,10895,10896,10897,10898,10899,10900,10901,10902,10903,10904,10905,10906,10907,10908,10909,10910,10911,10912,10913,10914,10915,10916,10917,10918,10919,10920,10921,10922,10923,10924,10925,10926,10927,10928,10929,10930,10931,10932,10933,10934,10935,10936,10937,10938,10939,10940,10941,10942,10943,10944,10945,10946,10947,10948,10949,10950,10951,10952,10953,10954,10955,10956,10957,10958,10959,10960,10961,10962,10963,10964,10965,10966,10967,10968,10969,10970,10971,10972,10973,10974,10975,10976,10977,10978,10979,10980,10981,10982,10983,10984,10985,10986,10987,10988,10989,10990,10991,10992,10993,10994,10995,10996,10997,10998,10999,11000,11001,11002,11003,11004,11005,11006,11007,11008,11009,11010,11011,11012,11013,11014,11015,11016,11017,11018,11019,11020,11021,11022,11023,11024,11025,11026,11027,11028,11029,11030,11031,11032,11033,11034,11035,11036,11037,11038,11039,11040,11041,11042,11043,11044,11045,11046,11047,11048,11049,11050,11051,11052,11053,11054,11055,11056,11057,11058,11059,11060,11061,11062,11063,11064,11065,11066,11067,11068,11069,11070,11071,11072,11073,11074,11075,11076,11077,11078,11079,11080,11081,11082,11083,11084,11085,11086,11087,11088,11089,11090,11091,11092,11093,11094,11095,11096,11097,11098,11099,11100,11101,11102,11103,11104,11105,11106,11107,11108,11109,11110,11111,11112,11113,11114,11115,11116,11117,11118,11119,11120,11121,11122,11123,11124,11125,11126,11127,11128,11129,11130,11131,11132,11133,11134,11135,11136,11137,11138,11139,11140,11141,11142,11143,11144,11145,11146,11147,11148,11149,11150,11151,11152,11153,11154,11155,11156,11157,11158,11159,11160,11161,11162,11163,11164,11165,11166,11167,11168,11169,11170,11171,11172,11173,11174,11175,11176,11177,11178,11179,11180,11181,11182,11183,11184,11185,11186,11187,11188,11189,11190,11191,11192,11193,11194,11195,11196,11197,11198,11199,11200,11201,11202,11203,11204,11205,11206,11207,11208,11209,11210,11211,11212,11213,11214,11215,11216,11217,11218,11219,11220,11221,11222,11223,11224,11225,11226,11227,11228,11229,11230,11231,11232,11233,11234,11235,11236,11237,11238,11239,11240,11241,11242,11243,11244,11245,11246,11247,11248,11249,11250,11251,11252,11253,11254,11255,11256,11257,11258,11259,11260,11261,11262,11263,11264,11265,11266,11267,11268,11269,11270,11271,11272,11273,11274,11275,11276,11277,11278,11279,11280,11281,11282,11283,11284,11285,11286,11287,11288,11289,11290,11291,11292,11293,11294,11295,11296,11297,11298,11299,11300,11301,11302,11303,11304,11305,11306,11307,11308,11309,11310,11311,11312,11313,11314,11315,11316,11317,11318,11319,11320,11321,11322,11323,11324,11325,11326,11327,11328,11329,11330,11331,11332,11333,11334,11335,11336,11337,11338,11339,11340,11341,11342,11343,11344,11345,11346,11347,11348,11349,11350,11351,11352,11353,11354,11355,11356,11357,11358,11359,11360,11361,11362,11363,11364,11365,11366,11367,11368,11369,11370,11371,11372,11373,11374,11375,11376,11377,11378,11379,11380,11381,11382,11383,11384,11385,11386,11387,11388,11389,11390,11391,11392,11393,11394,11395,11396,11397,11398,11399,11400,11401,11402,11403,11404,11405,11406,11407,11408,11409,11410,11411,11412,11413,11414,11415,11416,11417,11418,11419,11420,11421,11422,11423,11424,11425,11426,11427,11428,11429,11430,11431,11432,11433,11434,11435,11436,11437,11438,11439,11440,11441,11442,11443,11444,11445,11446,11447,11448,11449,11450,11451,11452,11453,11454,11455,11456,11457,11458,11459,11460,11461,11462,11463,11464,11465,11466,11467,11468,11469,11470,11471,11472,11473,11474,11475,11476,11477,11478,11479,11480,11481,11482,11483,11484,11485,11486,11487,11488,11489,11490,11491,11492,11493,11494,11495,11496,11497,11498,11499,11500,11501,11502,11503,11504,11505,11506,11507,11508,11509,11510,11511,11512,11513,11514,11515,11516,11517,11518,11519,11520,11521,11522,11523,11524,11525,11526,11527,11528,11529,11530,11531,11532,11533,11534,11535,11536,11537,11538,11539,11540,11541,11542,11543,11544,11545,11546,11547,11548,11549,11550,11551,11552,11553,11554,11555,11556,11557,11558,11559,11560,11561,11562,11563,11564,11565,11566,11567,11568,11569,11570,11571,11572,11573,11574,11575,11576,11577,11578,11579,11580,11581,11582,11583,11584,11585,11586,11587,11588,11589,11590,11591,11592,11593,11594,11595,11596,11597,11598,11599,11600,11601,11602,11603,11604,11605,11606,11607,11608,11609,11610,11611,11612,11613,11614,11615,11616,11617,11618,11619,11620,11621,11622,11623,11624,11625,11626,11627,11628,11629,11630,11631,11632,11633,11634,11635,11636,11637,11638,11639,11640,11641,11642,11643,11644,11645,11646,11647,11648,11649,11650,11651,11652,11653,11654,11655,11656,11657,11658,11659,11660,11661,11662,11663,11664,11665,11666,11667,11668,11669,11670,11671,11672,11673,11674,11675,11676,11677,11678,11679,11680,11681,11682,11683,11684,11685,11686,11687,11688,11689,11690,11691,11692,11693,11694,11695,11696,11697,11698,11699,11700,11701,11702,11703,11704,11705,11706,11707,11708,11709,11710,11711,11712,11713,11714,11715,11716,11717,11718,11719,11720,11721,11722,11723,11724,11725,11726,11727,11728,11729,11730,11731,11732,11733,11734,11735,11736,11737,11738,11739,11740,11741,11742,11743,11744,11745,11746,11747,11748,11749,11750,11751,11752,11753,11754,11755,11756,11757,11758,11759,11760,11761,11762,11763,11764,11765,11766,11767,11768,11769,11770,11771,11772,11773,11774,11775,11776,11777,11778,11779,11780,11781,11782,11783,11784,11785,11786,11787,11788,11789,11790,11791,11792,11793,11794,11795,11796,11797,11798,11799,11800,11801,11802,11803,11804,11805,11806,11807,11808,11809,11810,11811,11812,11813,11814,11815,11816,11817,11818,11819,11820,11821,11822,11823,11824,11825,11826,11827,11828,11829,11830,11831,11832,11833,11834,11835,11836,11837,11838,11839,11840,11841,11842,11843,11844,11845,11846,11847,11848,11849,11850,11851,11852,11853,11854,11855,11856,11857,11858,11859,11860,11861,11862,11863,11864,11865,11866,11867,11868,11869,11870,11871,11872,11873,11874,11875,11876,11877,11878,11879,11880,11881,11882,11883,11884,11885,11886,11887,11888,11889,11890,11891,11892,11893,11894,11895,11896,11897,11898,11899,11900,11901,11902,11903,11904,11905,11906,11907,11908,11909,11910,11911,11912,11913,11914,11915,11916,11917,11918,11919,11920,11921,11922,11923,11924,11925,11926,11927,11928,11929,11930,11931,11932,11933,11934,11935,11936,11937,11938,11939,11940,11941,11942,11943,11944,11945,11946,11947,11948,11949,11950,11951,11952,11953,11954,11955,11956,11957,11958,11959,11960,11961,11962,11963,11964,11965,11966,11967,11968,11969,11970,11971,11972,11973,11974,11975,11976,11977,11978,11979,11980,11981,11982,11983,11984,11985,11986,11987,11988,11989,11990,11991,11992,11993,11994,11995,11996,11997,11998,11999,12000,12001,12002,12003,12004,12005,12006,12007,12008,12009,12010,12011,12012,12013,12014,12015,12016,12017,12018,12019,12020,12021,12022,12023,12024,12025,12026,12027,12028,12029,12030,12031,12032,12033,12034,12035,12036,12037,12038,12039,12040,12041,12042,12043,12044,12045,12046,12047,12048,12049,12050,12051,12052,12053,12054,12055,12056,12057,12058,12059,12060,12061,12062,12063,12064,12065,12066,12067,12068,12069,12070,12071,12072,12073,12074,12075,12076,12077,12078,12079,12080,12081,12082,12083,12084,12085,12086,12087,12088,12089,12090,12091,12092,12093,12094,12095,12096,12097,12098,12099,12100,12101,12102,12103,12104,12105,12106,12107,12108,12109,12110,12111,12112,12113,12114,12115,12116,12117,12118,12119,12120,12121,12122,12123,12124,12125,12126,12127,12128,12129,12130,12131,12132,12133,12134,12135,12136,12137,12138,12139,12140,12141,12142,12143,12144,12145,12146,12147,12148,12149,12150,12151,12152,12153,12154,12155,12156,12157,12158,12159,12160,12161,12162,12163,12164,12165,12166,12167,12168,12169,12170,12171,12172,12173,12174,12175,12176,12177,12178,12179,12180,12181,12182,12183,12184,12185,12186,12187,12188,12189,12190,12191,12192,12193,12194,12195,12196,12197,12198,12199,12200,12201,12202,12203,12204,12205,12206,12207,12208,12209,12210,12211,12212,12213,12214,12215,12216,12217,12218,12219,12220,12221,12222,12223,12224,12225,12226,12227,12228,12229,12230,12231,12232,12233,12234,12235,12236,12237,12238,12239,12240,12241,12242,12243,12244,12245,12246,12247,12248,12249,12250,12251,12252,12253,12254,12255,12256,12257,12258,12259,12260,12261,12262,12263,12264,12265,12266,12267,12268,12269,12270,12271,12272,12273,12274,12275,12276,12277,12278,12279,12280,12281,12282,12283,12284,12285,12286,12287,12288,12289,12290,12291,12292,12293,12294,12295,12296,12297,12298,12299,12300,12301,12302,12303,12304,12305,12306,12307,12308,12309,12310,12311,12312,12313,12314,12315,12316,12317,12318,12319,12320,12321,12322,12323,12324,12325,12326,12327,12328,12329,12330,12331,12332,12333,12334,12335,12336,12337,12338,12339,12340,12341,12342,12343,12344,12345,12346,12347,12348,12349],\"xaxis\":\"x\",\"y\":[0.0,0.0,0.0,0.0,0.0,0.0,0.0,0.0,0.0,0.0,0.0,0.0,0.0,0.0,0.0,0.0,0.0,0.0,0.0,0.0,0.0,0.0,0.0,0.0,0.0,0.0,0.0,0.0,0.0,0.0,0.0,0.0,0.0,0.0,0.0,0.0,0.0,0.0,0.0,0.0,0.0,0.0,0.0,0.0,0.0,0.0,0.0,0.0,0.0,0.0,0.0,0.0,0.0,0.0,0.0,0.0,0.0,0.0,0.0,0.0,0.0,0.0,0.0,0.0,0.0,0.0,0.0,0.0,0.0,0.0,0.0,0.0,0.0,0.0,0.0,0.0,0.0,0.0,0.0,0.0,0.0,0.0,0.0,0.0,0.0,0.0,0.0,0.0,0.0,0.0,0.0,0.0,0.0,0.0,0.0,0.0,0.0,0.0,0.0,0.0,0.0,0.0,0.0,0.0,0.0,0.0,0.0,0.0,0.0,0.0,0.0,0.0,0.0,0.0,0.0,0.0,0.0,0.0,0.0,0.0,0.0,0.0,0.0,0.0,0.0,0.0,0.0,0.0,0.0,0.0,0.0,0.0,0.0,0.0,0.0,0.0,0.0,0.0,0.0,0.0,0.0,0.0,0.0,0.0,0.0,0.0,0.0,0.0,0.0,0.0,0.0,0.0,0.0,0.0,0.0,0.0,0.0,0.0,0.0,0.0,0.0,0.0,0.0,0.0,0.0,0.0,0.0,0.0,0.0,0.0,0.0,0.0,0.0,0.0,0.0,0.0,0.0,0.0,0.0,0.0,0.0,0.0,0.0,0.0,0.0,0.0,0.0,0.0,0.0,0.0,0.0,0.0,0.0,0.0,0.0,0.0,0.0,0.0,0.0,0.0,0.0,0.0,0.0,0.0,0.0,0.0,0.0,0.0,0.0,0.0,0.0,0.0,0.0,0.0,0.0,0.0,0.0,0.0,0.0,0.0,0.0,0.0,0.0,0.0,0.0,0.0,0.0,0.0,0.0,0.0,0.0,0.0,0.0,0.0,0.0,0.0,0.0,0.0,0.0,0.0,0.0,0.0,0.0,0.0,0.0,0.0,0.0,0.0,0.0,0.0,0.0,0.0,0.0,0.0,0.0,0.0,0.0,0.0,0.0,0.0,0.0,0.0,0.0,0.0,0.0,0.0,0.0,0.0,0.0,0.0,0.0,0.0,0.0,0.0,0.0,0.0,0.0,0.0,0.0,0.0,0.0,0.0,0.0,0.0,0.0,0.0,0.0,0.0,0.0,0.0,0.0,0.0,0.0,0.0,0.0,0.0,0.0,0.0,0.0,0.0,0.0,0.0,0.0,0.0,0.0,0.0,0.0,0.0,0.0,0.0,0.0,0.0,0.0,0.0,0.0,0.0,0.0,0.0,0.0,0.0,0.0,0.0,0.0,0.0,0.0,0.0,0.0,0.0,0.0,0.0,0.0,0.0,0.0,0.0,0.0,0.0,0.0,0.0,0.0,0.0,0.0,0.0,0.0,0.0,0.0,0.0,0.0,0.0,0.0,0.0,0.0,0.0,0.0,0.0,0.0,0.0,0.0,0.0,0.0,0.0,0.0,0.0,0.0,0.0,0.0,0.0,0.0,0.0,0.0,0.0,0.0,0.0,0.0,0.0,0.0,0.0,0.0,0.0,0.0,0.0,0.0,0.0,0.0,0.0,0.0,0.0,0.0,0.0,0.0,0.0,0.0,0.0,0.0,0.0,0.0,0.0,0.0,0.0,0.0,0.0,0.0,0.0,0.0,0.0,0.0,0.0,0.0,0.0,0.0,0.0,0.0,0.0,0.0,0.0,0.0,0.0,0.0,0.0,0.0,0.0,0.0,0.0,0.0,0.0,0.0,0.0,0.0,0.0,0.0,0.0,0.0,0.0,0.0,0.0,0.0,0.0,0.0,0.0,0.0,0.0,0.0,0.0,0.0,0.0,0.0,0.0,0.0,0.0,0.0,0.0,0.0,0.0,0.0,0.0,0.0,0.0,0.0,0.0,0.0,0.0,0.0,0.0,0.0,0.0,0.0,0.0,0.0,0.0,0.0,0.0,0.0,0.0,0.0,0.0,0.0,0.0,0.0,0.0,0.0,0.0,0.0,0.0,0.0,0.0,0.0,0.0,0.0,0.0,0.0,0.0,0.0,0.0,0.0,0.0,0.0,0.0,0.0,0.0,0.0,0.0,0.0,0.0,0.0,0.0,0.0,0.0,0.0,0.0,0.0,0.0,0.0,0.0,0.0,0.0,0.0,0.0,0.0,0.0,0.0,0.0,0.0,0.0,0.0,0.0,0.0,0.0,0.0,0.0,0.0,0.0,0.0,0.0,0.0,0.0,0.0,0.0,0.0,0.0,0.0,0.0,0.0,0.0,0.0,0.0,0.0,0.0,0.0,0.0,0.0,0.0,0.0,0.0,0.0,0.0,0.0,0.0,0.0,0.0,0.0,0.0,0.0,0.0,0.0,0.0,0.0,0.0,0.0,0.0,0.0,0.0,0.0,0.0,0.0,0.0,0.0,0.0,0.0,0.0,0.0,0.0,0.0,0.0,0.0,0.0,0.0,0.0,0.0,0.0,0.0,0.0,0.0,0.0,0.0,0.0,0.0,0.0,0.0,0.0,0.0,0.0,0.0,0.0,0.0,0.0,0.0,0.0,0.0,0.0,0.0,0.0,0.0,0.0,0.0,0.0,0.0,0.0,0.0,0.0,0.0,0.0,0.0,0.0,0.0,0.0,0.0,0.0,0.0,0.0,0.0,0.0,0.0,0.0,0.0,0.0,0.0,0.0,0.0,0.0,0.0,0.0,0.0,0.0,0.0,0.0,0.0,0.0,0.0,0.0,0.0,0.0,0.0,0.0,0.0,0.0,0.0,0.0,0.0,0.0,0.0,0.0,0.0,0.0,0.0,0.0,0.0,0.0,0.0,0.0,0.0,0.0,0.0,0.0,0.0,0.0,0.0,0.0,0.0,0.0,0.0,0.0,0.0,0.0,0.0,0.0,0.0,0.0,0.0,0.0,0.0,0.0,0.0,0.0,0.0,0.0,0.0,0.0,0.0,0.0,0.0,0.0,0.0,0.0,0.0,0.0,0.0,0.0,0.0,0.0,0.0,0.0,0.0,0.0,0.0,0.0,0.0,0.0,0.0,0.0,0.0,0.0,0.0,0.0,0.0,0.0,0.0,0.0,0.0,0.0,0.0,0.0,0.0,0.0,0.0,0.0,0.0,0.0,0.0,0.0,0.0,0.0,0.0,0.0,0.0,0.0,0.0,0.0,0.0,0.0,0.0,0.0,0.0,0.0,0.0,0.0,0.0,0.0,0.0,0.0,0.0,0.0,0.0,0.0,0.0,0.0,0.0,0.0,0.0,0.0,0.0,0.0,0.0,0.0,0.0,0.0,0.0,0.0,0.0,0.0,0.0,0.0,0.0,0.0,0.0,0.0,0.0,0.0,0.0,0.0,0.0,0.0,0.0,0.0,0.0,0.0,0.0,0.0,0.0,0.0,0.0,0.0,0.0,0.0,0.0,0.0,0.0,0.0,0.0,0.0,0.0,0.0,0.0,0.0,0.0,0.0,0.0,0.0,0.0,0.0,0.0,0.0,0.0,0.0,0.0,0.0,0.0,0.0,0.0,0.0,0.0,0.0,0.0,0.0,0.0,0.0,0.0,0.0,0.0,0.0,0.0,0.0,0.0,0.0,0.0,0.0,0.0,0.0,0.0,0.0,0.0,0.0,0.0,0.0,0.0,0.0,0.0,0.0,0.0,0.0,0.0,0.0,0.0,0.0,0.0,0.0,0.0,0.0,0.0,0.0,0.0,0.0,0.0,0.0,0.0,0.0,0.0,0.0,0.0,0.0,0.0,0.0,0.0,0.0,0.0,0.0,0.0,0.0,0.0,0.0,0.0,0.0,0.0,0.0,0.0,0.0,0.0,0.0,0.0,0.0,0.0,0.0,0.0,0.0,0.0,0.0,0.0,0.0,0.0,0.0,0.0,0.0,0.0,0.0,0.0,0.0,0.0,0.0,0.0,0.0,0.0,0.0,0.0,0.0,0.0,0.0,0.0,0.0,0.0,0.0,0.0,0.0,0.0,0.0,0.0,0.0,0.0,0.0,0.0,0.0,0.0,0.0,0.0,0.0,0.0,0.0,0.0,0.0,0.0,0.0,0.0,0.0,0.0,0.0,0.0,0.0,0.0,0.0,0.0,0.0,0.0,0.0,0.0,0.0,0.0,0.0,0.0,0.0,0.0,0.0,0.0,0.0,0.0,0.0,0.0,0.0,0.0,0.0,0.0,0.0,0.0,0.0,0.0,0.0,0.0,0.0,0.0,0.0,0.0,0.0,0.0,0.0,0.0,0.0,0.0,0.0,0.0,0.0,0.0,0.0,0.0,0.0,0.0,0.0,0.0,0.0,0.0,0.0,0.0,0.0,0.0,0.0,0.0,0.0,0.0,0.0,0.0,0.0,0.0,0.0,0.0,0.0,0.0,0.0,0.0,0.0,0.0,0.0,0.0,0.0,0.0,0.0,0.0,0.0,0.0,0.0,0.0,0.0,0.0,0.0,0.0,0.0,0.0,0.0,0.0,0.0,0.0,0.0,0.0,0.0,0.0,0.0,0.0,0.0,0.0,0.0,0.0,0.0,0.0,0.0,0.0,0.0,0.0,0.0,0.0,0.0,0.0,0.0,0.0,0.0,0.0,0.0,0.0,0.0,0.0,0.0,0.0,0.0,0.0,0.0,0.0,0.0,0.0,0.0,0.0,0.0,0.0,0.0,0.0,0.0,0.0,0.0,0.0,0.0,0.0,0.0,0.0,0.0,0.0,0.0,0.0,0.0,0.0,0.0,0.0,0.0,0.0,0.0,0.0,0.0,0.0,0.0,0.0,0.0,0.0,0.0,0.0,0.0,0.0,0.0,0.0,0.0,0.0,0.0,0.0,0.0,0.0,0.0,0.0,0.0,0.0,0.0,0.0,0.0,0.0,0.0,0.0,0.0,0.0,0.0,0.0,0.0,0.0,0.0,0.0,0.0,0.0,0.0,0.0,0.0,0.0,0.0,0.0,0.0,0.0,0.0,0.0,0.0,0.0,0.0,0.0,0.0,0.0,0.0,0.0,0.0,0.0,0.0,0.0,0.0,0.0,0.0,0.0,0.0,0.0,0.0,0.0,0.0,0.0,0.0,0.0,0.0,0.0,0.0,0.0,0.0,0.0,0.0,0.0,0.0,0.0,0.0,0.0,0.0,0.0,0.0,0.0,0.0,0.0,0.0,0.0,0.0,0.0,0.0,0.0,0.0,0.0,0.0,0.0,0.0,0.0,0.0,0.0,0.0,0.0,0.0,0.0,0.0,0.0,0.0,0.0,0.0,0.0,0.0,0.0,0.0,0.0,0.0,0.0,0.0,0.0,0.0,0.0,0.0,0.0,0.0,0.0,0.0,0.0,0.0,0.0,0.0,0.0,0.0,0.0,0.0,0.0,0.0,0.0,0.0,0.0,0.0,0.0,0.0,0.0,0.0,0.0,0.0,0.0,0.0,0.0,0.0,0.0,0.0,0.0,0.0,0.0,0.0,0.0,0.0,0.0,0.0,0.0,0.0,0.0,0.0,0.0,0.0,0.0,0.0,0.0,0.0,0.0,0.0,0.0,0.0,0.0,0.0,0.0,0.0,0.0,0.0,0.0,0.0,0.0,0.0,0.0,0.0,0.0,0.0,0.0,0.0,0.0,0.0,0.0,0.0,0.0,0.0,0.0,0.0,0.0,0.0,0.0,0.0,0.0,0.0,0.0,0.0,0.0,0.0,0.0,0.0,0.0,0.0,0.0,0.0,0.0,0.0,0.0,0.0,0.0,0.0,0.0,0.0,0.0,0.0,0.0,0.0,0.0,0.0,0.0,0.0,0.0,0.0,0.0,0.0,0.0,0.0,0.0,0.0,0.0,0.0,0.0,0.0,0.0,0.0,0.0,0.0,0.0,0.0,0.0,0.0,0.0,0.0,0.0,0.0,0.0,0.0,0.0,0.0,0.0,0.0,0.0,0.0,0.0,0.0,0.0,0.0,0.0,0.0,0.0,0.0,0.0,0.0,0.0,0.0,0.0,0.0,0.0,0.0,0.0,0.0,0.0,0.0,0.0,0.0,0.0,0.0,0.0,0.0,0.0,0.0,0.0,0.0,0.0,0.0,0.0,0.0,0.0,0.0,0.0,0.0,0.0,0.0,0.0,0.0,0.0,0.0,0.0,0.0,0.0,0.0,0.0,0.0,0.0,0.0,0.0,0.0,0.0,0.0,0.0,0.0,0.0,0.0,0.0,0.0,0.0,0.0,0.0,0.0,0.0,0.0,0.0,0.0,0.0,0.0,0.0,0.0,0.0,0.0,0.0,0.0,0.0,0.0,0.0,0.0,0.0,0.0,0.0,0.0,0.0,0.0,0.0,0.0,0.0,0.0,0.0,0.0,0.0,0.0,0.0,0.0,0.0,0.0,0.0,0.0,0.0,0.0,0.0,0.0,0.0,0.0,0.0,0.0,0.0,0.0,0.0,0.0,0.0,0.0,0.0,0.0,0.0,0.0,0.0,0.0,0.0,0.0,0.0,0.0,0.0,0.0,0.0,0.0,0.0,0.0,0.0,0.0,0.0,0.0,0.0,0.0,0.0,0.0,0.0,0.0,0.0,0.0,0.0,0.0,0.0,0.0,0.0,0.0,0.0,0.0,0.0,0.0,0.0,0.0,0.0,0.0,0.0,0.0,0.0,0.0,0.0,0.0,0.0,0.0,0.0,0.0,0.0,0.0,0.0,0.0,0.0,0.0,0.0,0.0,0.0,0.0,0.0,0.0,0.0,0.0,0.0,0.0,0.0,0.0,0.0,0.0,0.0,0.0,0.0,0.0,0.0,0.0,0.0,0.0,0.0,0.0,0.0,0.0,0.0,0.0,0.0,0.0,0.0,0.0,0.0,0.0,0.0,0.0,0.0,0.0,0.0,0.0,0.0,0.0,0.0,0.0,0.0,0.0,0.0,0.0,0.0,0.0,0.0,0.0,0.0,0.0,0.0,0.0,0.0,0.0,0.0,0.0,0.0,0.0,0.0,0.0,0.0,0.0,0.0,0.0,0.0,0.0,0.0,0.0,0.0,0.0,0.0,0.0,0.0,0.0,0.0,0.0,0.0,0.0,0.0,0.0,0.0,0.0,0.0,0.0,0.0,0.0,0.0,0.0,0.0,0.0,0.0,0.0,0.0,0.0,0.0,0.0,0.0,0.0,0.0,0.0,0.0,0.0,0.0,0.0,0.0,0.0,0.0,0.0,0.0,0.0,0.0,0.0,0.0,0.0,0.0,0.0,0.0,0.0,0.0,0.0,0.0,0.0,0.0,0.0,0.0,0.0,0.0,0.0,0.0,0.0,0.0,0.0,0.0,0.0,0.0,0.0,0.0,0.0,0.0,0.0,0.0,0.0,0.0,0.0,0.0,0.0,0.0,0.0,0.0,0.0,0.0,0.0,0.0,0.0,0.0,0.0,0.0,0.0,0.0,0.0,0.0,0.0,0.0,0.0,0.0,0.0,0.0,0.0,0.0,0.0,0.0,0.0,0.0,0.0,0.0,0.0,0.0,0.0,0.0,0.0,0.0,0.0,0.0,0.0,0.0,0.0,0.0,0.0,0.0,0.0,0.0,0.0,0.0,0.0,0.0,0.0,0.0,0.0,0.0,0.0,0.0,0.0,0.0,0.0,0.0,0.0,0.0,0.0,0.0,0.0,0.0,0.0,0.0,0.0,0.0,0.0,0.0,0.0,0.0,0.0,0.0,0.0,0.0,0.0,0.0,0.0,0.0,0.0,0.0,0.0,0.0,0.0,0.0,0.0,0.0,0.0,0.0,0.0,0.0,0.0,0.0,0.0,0.0,0.0,0.0,0.0,0.0,0.0,0.0,0.0,0.0,0.0,0.0,0.0,0.0,0.0,0.0,0.0,0.0,0.0,0.0,0.0,0.0,0.0,0.0,0.0,0.0,0.0,0.0,0.0,0.0,0.0,0.0,0.0,0.0,0.0,0.0,0.0,0.0,0.0,0.0,0.0,0.0,0.0,0.0,0.0,0.0,0.0,0.0,0.0,0.0,0.0,0.0,0.0,0.0,0.0,0.0,0.0,0.0,0.0,0.0,0.0,0.0,0.0,0.0,0.0,0.0,0.0,0.0,0.0,0.0,0.0,0.0,0.0,0.0,0.0,0.0,0.0,0.0,0.0,0.0,0.0,0.0,0.0,0.0,0.0,0.0,0.0,0.0,0.0,0.0,0.0,0.0,0.0,0.0,0.0,0.0,0.0,0.0,0.0,0.0,0.0,0.0,0.0,0.0,0.0,0.0,0.0,0.0,0.0,0.0,0.0,0.0,0.0,0.0,0.0,0.0,0.0,0.0,0.0,0.0,0.0,0.0,0.0,0.0,0.0,0.0,0.0,0.0,0.0,0.0,0.0,0.0,0.0,0.0,0.0,0.0,0.0,0.0,0.0,0.0,0.0,0.0,0.0,0.0,0.0,0.0,0.0,0.0,0.0,0.0,0.0,0.0,0.0,0.0,0.0,0.0,0.0,0.0,0.0,0.0,0.0,0.0,0.0,0.0,0.0,0.0,0.0,0.0,0.0,0.0,0.0,0.0,0.0,0.0,0.0,0.0,0.0,0.0,0.0,0.0,0.0,0.0,0.0,0.0,0.0,0.0,0.0,0.0,0.0,0.0,0.0,0.0,0.0,0.0,0.0,0.0,0.0,0.0,0.0,0.0,0.0,0.0,0.0,0.0,0.0,0.0,0.0,0.0,0.0,0.0,0.0,0.0,0.0,0.0,0.0,0.0,0.0,0.0,0.0,0.0,0.0,0.0,0.0,0.0,0.0,0.0,0.0,0.0,0.0,0.0,0.0,0.0,0.0,0.0,0.0,0.0,0.0,0.0,0.0,0.0,0.0,0.0,0.0,0.0,0.0,0.0,0.0,0.0,0.0,0.0,0.0,0.0,0.0,0.0,0.0,0.0,0.0,0.0,0.0,0.0,0.0,0.0,0.0,0.0,0.0,0.0,0.0,0.0,0.0,0.0,0.0,0.0,0.0,0.0,0.0,0.0,0.0,0.0,0.0,0.0,0.0,0.0,0.0,0.0,0.0,0.0,0.0,0.0,0.0,0.0,0.0,0.0,0.0,0.0,0.0,0.0,0.0,0.0,0.0,0.0,0.0,0.0,0.0,0.0,0.0,0.0,0.0,0.0,0.0,0.0,0.0,0.0,0.0,0.0,0.0,0.0,0.0,0.0,0.0,0.0,0.0,0.0,0.0,0.0,0.0,0.0,0.0,0.0,0.0,0.0,0.0,0.0,0.0,0.0,0.0,0.0,0.0,0.0,0.0,0.0,0.0,0.0,0.0,0.0,0.0,0.0,0.0,0.0,0.0,0.0,0.0,0.0,0.0,0.0,0.0,0.0,0.0,0.0,0.0,0.0,0.0,0.0,0.0,0.0,0.0,0.0,0.0,0.0,0.0,0.0,0.0,0.0,0.0,0.0,0.0,0.0,0.0,0.0,0.0,0.0,0.0,0.0,0.0,0.0,0.0,0.0,0.0,0.0,0.0,0.0,0.0,0.0,0.0,0.0,0.0,0.0,0.0,0.0,0.0,0.0,0.0,0.0,0.0,0.0,0.0,0.0,0.0,0.0,0.0,0.0,0.0,0.0,0.0,0.0,0.0,0.0,0.0,0.0,0.0,0.0,0.0,0.0,0.0,0.0,0.0,0.0,0.0,0.0,0.0,0.0,0.0,0.0,0.0,0.0,0.0,0.0,0.0,0.0,0.0,0.0,0.0,0.0,0.0,0.0,0.0,0.0,0.0,0.0,0.0,0.0,0.0,0.0,0.0,0.0,0.0,0.0,0.0,0.0,0.0,0.0,0.0,0.0,0.0,0.0,0.0,0.0,0.0,0.0,0.0,0.0,0.0,0.0,0.0,0.0,0.0,0.0,0.0,0.0,0.0,0.0,0.0,0.0,0.0,0.0,0.0,0.0,0.0,0.0,0.0,0.0,0.0,0.0,0.0,0.0,0.0,0.0,0.0,0.0,0.0,0.0,0.0,0.0,0.0,0.0,0.0,0.0,0.0,0.0,0.0,0.0,0.0,0.0,0.0,0.0,0.0,0.0,0.0,0.0,0.0,0.0,0.0,0.0,0.0,0.0,0.0,0.0,0.0,0.0,0.0,0.0,0.0,0.0,0.0,0.0,0.0,0.0,0.0,0.0,0.0,0.0,0.0,0.0,0.0,0.0,0.0,0.0,0.0,0.0,0.0,0.0,0.0,0.0,0.0,0.0,0.0,0.0,0.0,0.0,0.0,0.0,0.0,0.0,0.0,0.0,0.0,0.0,0.0,0.0,0.0,0.0,0.0,0.0,0.0,0.0,0.0,0.0,0.0,0.0,0.0,0.0,0.0,0.0,0.0,0.0,0.0,0.0,0.0,0.0,0.0,0.0,0.0,0.0,0.0,0.0,0.0,0.0,0.0,0.0,0.0,0.0,0.0,0.0,0.0,0.0,0.0,0.0,0.0,0.0,0.0,0.0,0.0,0.0,0.0,0.0,0.0,0.0,0.0,0.0,0.0,0.0,0.0,0.0,0.0,0.0,0.0,0.0,0.0,0.0,0.0,0.0,0.0,0.0,0.0,0.0,0.0,0.0,0.0,0.0,0.0,0.0,0.0,0.0,0.0,0.0,0.0,0.0,0.0,0.0,0.0,0.0,0.0,0.0,0.0,0.0,0.0,0.0,0.0,0.0,0.0,0.0,0.0,0.0,0.0,0.0,0.0,0.0,0.0,0.0,0.0,0.0,0.0,0.0,0.0,0.0,0.0,0.0,0.0,0.0,0.0,0.0,0.0,0.0,0.0,0.0,0.0,0.0,0.0,0.0,0.0,0.0,0.0,0.0,0.0,0.0,0.0,0.0,0.0,0.0,0.0,0.0,0.0,0.0,0.0,0.0,0.0,0.0,0.0,0.0,0.0,0.0,0.0,0.0,0.0,0.0,0.0,0.0,0.0,0.0,0.0,0.0,0.0,0.0,0.0,0.0,0.0,0.0,0.0,0.0,0.0,0.0,0.0,0.0,0.0,0.0,0.0,0.0,0.0,0.0,0.0,0.0,0.0,0.0,0.0,0.0,0.0,0.0,0.0,0.0,0.0,0.0,0.0,0.0,0.0,0.0,0.0,0.0,0.0,0.0,0.0,0.0,0.0,0.0,0.0,0.0,0.0,0.0,0.0,0.0,0.0,0.0,0.0,0.0,0.0,0.0,0.0,0.0,0.0,0.0,0.0,0.0,0.0,0.0,0.0,0.0,0.0,0.0,0.0,0.0,0.0,0.0,0.0,0.0,0.0,0.0,0.0,0.0,0.0,0.0,0.0,0.0,0.0,0.0,0.0,0.0,0.0,0.0,0.0,0.0,0.0,0.0,0.0,0.0,0.0,0.0,0.0,0.0,0.0,0.0,0.0,0.0,0.0,0.0,0.0,0.0,0.0,0.0,0.0,0.0,0.0,0.0,0.0,0.0,0.0,0.0,0.0,0.0,0.0,0.0,0.0,0.0,0.0,0.0,0.0,0.0,0.0,0.0,0.0,0.0,0.0,0.0,0.0,0.0,0.0,0.0,0.0,0.0,0.0,0.0,0.0,0.0,0.0,0.0,0.0,0.0,0.0,0.0,0.0,0.0,0.0,0.0,0.0,0.0,0.0,0.0,0.0,0.0,0.0,0.0,0.0,0.0,0.0,0.0,0.0,0.0,0.0,0.0,0.0,0.0,0.0,0.0,0.0,0.0,0.0,0.0,0.0,0.0,0.0,0.0,0.0,0.0,0.0,0.0,0.0,0.0,0.0,0.0,0.0,0.0,0.0,0.0,0.0,0.0,0.0,0.0,0.0,0.0,0.0,0.0,0.0,0.0,0.0,0.0,0.0,0.0,0.0,0.0,0.0,0.0,0.0,0.0,0.0,0.0,0.0,0.0,0.0,0.0,0.0,0.0,0.0,0.0,0.0,0.0,0.0,0.0,0.0,0.0,0.0,0.0,0.0,0.0,0.0,0.0,0.0,0.0,0.0,0.0,0.0,0.0,0.0,0.0,0.0,0.0,0.0,0.0,0.0,0.0,0.0,0.0,0.0,0.0,0.0,0.0,0.0,0.0,0.0,0.0,0.0,0.0,0.0,0.0,0.0,0.0,0.0,0.0,0.0,0.0,0.0,0.0,0.0,0.0,0.0,0.0,0.0,0.0,0.0,0.0,0.0,0.0,0.0,0.0,0.0,0.0,0.0,0.0,0.0,0.0,0.0,0.0,0.0,0.0,0.0,0.0,0.0,0.0,0.0,0.0,0.0,0.0,0.0,0.0,0.0,0.0,0.0,0.0,0.0,0.0,0.0,0.0,0.0,0.0,0.0,0.0,0.0,0.0,0.0,0.0,0.0,0.0,0.0,0.0,0.0,0.0,0.0,0.0,0.0,0.0,0.0,0.0,0.0,0.0,0.0,0.0,0.0,0.0,0.0,0.0,0.0,0.0,0.0,0.0,0.0,0.0,0.0,0.0,0.0,0.0,0.0,0.0,0.0,0.0,0.0,0.0,0.0,0.0,0.0,0.0,0.0,0.0,0.0,0.0,0.0,0.0,0.0,0.0,0.0,0.0,0.0,0.0,0.0,0.0,0.0,0.0,0.0,0.0,0.0,0.0,0.0,0.0,0.0,0.0,0.0,0.0,0.0,0.0,0.0,0.0,0.0,0.0,0.0,0.0,0.0,0.0,0.0,0.0,0.0,0.0,0.0,0.0,0.0,0.0,0.0,0.0,0.0,0.0,0.0,0.0,0.0,0.0,0.0,0.0,0.0,0.0,0.0,0.0,0.0,0.0,0.0,0.0,0.0,0.0,0.0,0.0,0.0,0.0,0.0,0.0,0.0,0.0,0.0,0.0,0.0,0.0,0.0,0.0,0.0,0.0,0.0,0.0,0.0,0.0,0.0,0.0,0.0,0.0,0.0,0.0,0.0,0.0,0.0,0.0,0.0,0.0,0.0,0.0,0.0,0.0,0.0,0.0,0.0,0.0,0.0,0.0,0.0,0.0,0.0,0.0,0.0,0.0,0.0,0.0,0.0,0.0,0.0,0.0,0.0,0.0,0.0,0.0,0.0,0.0,0.0,0.0,0.0,0.0,0.0,0.0,0.0,0.0,0.0,0.0,0.0,0.0,0.0,0.0,0.0,0.0,0.0,0.0,0.0,0.0,0.0,0.0,0.0,0.0,0.0,0.0,0.0,0.0,0.0,0.0,0.0,0.0,0.0,0.0,0.0,0.0,0.0,0.0,0.0,0.0,0.0,0.0,0.0,0.0,0.0,0.0,0.0,0.0,0.0,0.0,0.0,0.0,0.0,0.0,0.0,0.0,0.0,0.0,0.0,0.0,0.0,0.0,0.0,0.0,0.0,0.0,0.0,0.0,0.0,0.0,0.0,0.0,0.0,0.0,0.0,0.0,0.0,0.0,0.0,0.0,0.0,0.0,0.0,0.0,0.0,0.0,0.0,0.0,0.0,0.0,0.0,0.0,0.0,0.0,0.0,0.0,0.0,0.0,0.0,0.0,0.0,0.0,0.0,0.0,0.0,0.0,0.0,0.0,0.0,0.0,0.0,0.0,0.0,0.0,0.0,0.0,0.0,0.0,0.0,0.0,0.0,0.0,0.0,0.0,0.0,0.0,0.0,0.0,0.0,0.0,0.0,0.0,0.0,0.0,0.0,0.0,0.0,0.0,0.0,0.0,0.0,0.0,0.0,0.0,0.0,0.0,0.0,0.0,0.0,0.0,0.0,0.0,0.0,0.0,0.0,0.0,0.0,0.0,0.0,0.0,0.0,0.0,0.0,0.0,0.0,0.0,0.0,0.0,0.0,0.0,0.0,0.0,0.0,0.0,0.0,0.0,0.0,0.0,0.0,0.0,0.0,0.0,0.0,0.0,0.0,0.0,0.0,0.0,0.0,0.0,0.0,0.0,0.0,0.0,0.0,0.0,0.0,0.0,0.0,0.0,0.0,0.0,0.0,0.0,0.0,0.0,0.0,0.0,0.0,0.0,0.0,0.0,0.0,0.0,0.0,0.0,0.0,0.0,0.0,0.0,0.0,0.0,0.0,0.0,0.0,0.0,0.0,0.0,0.0,0.0,0.0,0.0,0.0,0.0,0.0,0.0,0.0,0.0,0.0,0.0,0.0,0.0,0.0,0.0,0.0,0.0,0.0,0.0,0.0,0.0,0.0,0.0,0.0,0.0,0.0,0.0,0.0,0.0,0.0,0.0,0.0,0.0,0.0,0.0,0.0,0.0,0.0,0.0,0.0,0.0,0.0,0.0,0.0,0.0,0.0,0.0,0.0,0.0,0.0,0.0,0.0,0.0,0.0,0.0,0.0,0.0,0.0,0.0,0.0,0.0,0.0,0.0,0.0,0.0,0.0,0.0,0.0,0.0,0.0,0.0,0.0,0.0,0.0,0.0,0.0,0.0,0.0,0.0,0.0,0.0,0.0,0.0,0.0,0.0,0.0,0.0,0.0,0.0,0.0,0.0,0.0,0.0,0.0,0.0,0.0,0.0,0.0,0.0,0.0,0.0,0.0,0.0,0.0,0.0,0.0,0.0,0.0,0.0,0.0,0.0,0.0,0.0,0.0,0.0,0.0,0.0,0.0,0.0,0.0,0.0,0.0,0.0,0.0,0.0,0.0,0.0,0.0,0.0,0.0,0.0,0.0,0.0,0.0,0.0,0.0,0.0,0.0,0.0,0.0,0.0,0.0,0.0,0.0,0.0,0.0,0.0,0.0,0.0,0.0,0.0,0.0,0.0,0.0,0.0,0.0,0.0,0.0,0.0,0.0,0.0,0.0,0.0,0.0,0.0,0.0,0.0,0.0,0.0,0.0,0.0,0.0,0.0,0.0,0.0,0.0,0.0,0.0,0.0,0.0,0.0,0.0,0.0,0.0,0.0,0.0,0.0,0.0,0.0,0.0,0.0,0.0,0.0,0.0,0.0,0.0,0.0,0.0,0.0,0.0,0.0,0.0,0.0,0.0,0.0,0.0,0.0,0.0,0.0,0.0,0.0,0.0,0.0,0.0,0.0,0.0,0.0,0.0,0.0,0.0,0.0,0.0,0.0,0.0,0.0,0.0,0.0,0.0,0.0,0.0,0.0,0.0,0.0,0.0,0.0,0.0,0.0,0.0,0.0,0.0,0.0,0.0,0.0,0.0,0.0,0.0,0.0,0.0,0.0,0.0,0.0,0.0,0.0,0.0,0.0,0.0,0.0,0.0,0.0,0.0,0.0,0.0,0.0,0.0,0.0,0.0,0.0,0.0,0.0,0.0,0.0,0.0,0.0,0.0,0.0,0.0,0.0,0.0,0.0,0.0,0.0,0.0,0.0,0.0,0.0,0.0,0.0,0.0,0.0,0.0,0.0,0.0,0.0,0.0,0.0,0.0,0.0,0.0,0.0,0.0,0.0,0.0,0.0,0.0,0.0,0.0,0.0,0.0,0.0,0.0,0.0,0.0,0.0,0.0,0.0,0.0,0.0,0.0,0.0,0.0,0.0,0.0,0.0,0.0,0.0,0.0,0.0,0.0,0.0,0.0,0.0,0.0,0.0,0.0,0.0,0.0,0.0,0.0,0.0,0.0,0.0,0.0,0.0,0.0,0.0,0.0,0.0,0.0,0.0,0.0,0.0,0.0,0.0,0.0,0.0,0.0,0.0,0.0,0.0,0.0,0.0,0.0,0.0,0.0,0.0,0.0,0.0,0.0,0.0,0.0,0.0,0.0,0.0,0.0,0.0,0.0,0.0,0.0,0.0,0.0,0.0,0.0,0.0,0.0,0.0,0.0,0.0,0.0,0.0,0.0,0.0,0.0,0.0,0.0,0.0,0.0,0.0,0.0,0.0,0.0,0.0,0.0,0.0,0.0,0.0,0.0,0.0,0.0,0.0,0.0,0.0,0.0,0.0,0.0,0.0,0.0,0.0,0.0,0.0,0.0,0.0,0.0,0.0,0.0,0.0,0.0,0.0,0.0,0.0,0.0,0.0,0.0,0.0,0.0,0.0,0.0,0.0,0.0,0.0,0.0,0.0,0.0,0.0,0.0,0.0,0.0,0.0,0.0,0.0,0.0,0.0,0.0,0.0,0.0,0.0,0.0,0.0,0.0,0.0,0.0,0.0,0.0,0.0,0.0,0.0,0.0,0.0,0.0,0.0,0.0,0.0,0.0,0.0,0.0,0.0,0.0,0.0,0.0,0.0,0.0,0.0,0.0,0.0,0.0,0.0,0.0,0.0,0.0,0.0,0.0,0.0,0.0,0.0,0.0,0.0,0.0,0.0,0.0,0.0,0.0,0.0,0.0,0.0,0.0,0.0,0.0,0.0,0.0,0.0,0.0,0.0,0.0,0.0,0.0,0.0,0.0,0.0,0.0,0.0,0.0,0.0,0.0,0.0,0.0,0.0,0.0,0.0,0.0,0.0,0.0,0.0,0.0,0.0,0.0,0.0,0.0,0.0,0.0,0.0,0.0,0.0,0.0,0.0,0.0,0.0,0.0,0.0,0.0,0.0,0.0,0.0,0.0,0.0,0.0,0.0,0.0,0.0,0.0,0.0,0.0,0.0,0.0,0.0,0.0,0.0,0.0,0.0,0.0,0.0,0.0,0.0,0.0,0.0,0.0,0.0,0.0,0.0,0.0,0.0,0.0,0.0,0.0,0.0,0.0,0.0,0.0,0.0,0.0,0.0,0.0,0.0,0.0,0.0,0.0,0.0,0.0,0.0,0.0,0.0,0.0,0.0,0.0,0.0,0.0,0.0,0.0,0.0,0.0,0.0,0.0,0.0,0.0,0.0,0.0,0.0,0.0,0.0,0.0,0.0,0.0,0.0,0.0,0.0,0.0,0.0,0.0,0.0,0.0,0.0,0.0,0.0,0.0,0.0,0.0,0.0,0.0,0.0,0.0,0.0,0.0,0.0,0.0,0.0,0.0,0.0,0.0,0.0,0.0,0.0,0.0,0.0,0.0,0.0,0.0,0.0,0.0,0.0,0.0,0.0,0.0,0.0,0.0,0.0,0.0,0.0,0.0,0.0,0.0,0.0,0.0,0.0,0.0,0.0,0.0,0.0,0.0,0.0,0.0,0.0,0.0,0.0,0.0,0.0,0.0,0.0,0.0,0.0,0.0,0.0,0.0,0.0,0.0,0.0,0.0,0.0,0.0,0.0,0.0,0.0,0.0,0.0,0.0,0.0,0.0,0.0,0.0,0.0,0.0,0.0,0.0,0.0,0.0,0.0,0.0,0.0,0.0,0.0,0.0,0.0,0.0,0.0,0.0,0.0,0.0,0.0,0.0,0.0,0.0,0.0,0.0,0.0,0.0,0.0,0.0,0.0,0.0,0.0,0.0,0.0,0.0,0.0,0.0,0.0,0.0,0.0,0.0,0.0,0.0,0.0,0.0,0.0,0.0,0.0,0.0,0.0,0.0,0.0,0.0,0.0,0.0,0.0,0.0,0.0,0.0,0.0,0.0,0.0,0.0,0.0,0.0,0.0,0.0,0.0,0.0,0.0,0.0,0.0,0.0,0.0,0.0,0.0,0.0,0.0,0.0,0.0,0.0,0.0,0.0,0.0,0.0,0.0,0.0,0.0,0.0,0.0,0.0,0.0,0.0,0.0,0.0,0.0,0.0,0.0,0.0,0.0,0.0,0.0,0.0,0.0,0.0,0.0,0.0,0.0,0.0,0.0,0.0,0.0,0.0,0.0,0.0,0.0,0.0,0.0,0.0,0.0,0.0,0.0,0.0,0.0,0.0,0.0,0.0,0.0,0.0,0.0,0.0,0.0,0.0,0.0,0.0,0.0,0.0,0.0,0.0,0.0,0.0,0.0,0.0,0.0,0.0,0.0,0.0,0.0,0.0,0.0,0.0,0.0,0.0,0.0,0.0,0.0,0.0,0.0,0.0,0.0,0.0,0.0,0.0,0.0,0.0,0.0,0.0,0.0,0.0,0.0,0.0,0.0,0.0,0.0,0.0,0.0,0.0,0.0,0.0,0.0,0.0,0.0,0.0,0.0,0.0,0.0,0.0,0.0,0.0,0.0,0.0,0.0,0.0,0.0,0.0,0.0,0.0,0.0,0.0,0.0,0.0,0.0,0.0,0.0,0.0,0.0,0.0,0.0,0.0,0.0,0.0,0.0,0.0,0.0,0.0,0.0,0.0,0.0,0.0,0.0,0.0,0.0,0.0,0.0,0.0,0.0,0.0,0.0,0.0,0.0,0.0,0.0,0.0,0.0,0.0,0.0,0.0,0.0,0.0,0.0,0.0,0.0,0.0,0.0,0.0,0.0,0.0,0.0,0.0,0.0,0.0,0.0,0.0,0.0,0.0,0.0,0.0,0.0,0.0,0.0,0.0,0.0,0.0,0.0,0.0,0.0,0.0,0.0,0.0,0.0,0.0,0.0,0.0,0.0,0.0,0.0,0.0,0.0,0.0,0.0,0.0,0.0,0.0,0.0,0.0,0.0,0.0,0.0,0.0,0.0,0.0,0.0,0.0,0.0,0.0,0.0,0.0,0.0,0.0,0.0,0.0,0.0,0.0,0.0,0.0,0.0,0.0,0.0,0.0,0.0,0.0,0.0,0.0,0.0,0.0,0.0,0.0,0.0,0.0,0.0,0.0,0.0,0.0,0.0,0.0,0.0,0.0,0.0,0.0,0.0,0.0,0.0,0.0,0.0,0.0,0.0,0.0,0.0,0.0,0.0,0.0,0.0,0.0,0.0,0.0,0.0,0.0,0.0,0.0,0.0,0.0,0.0,0.0,0.0,0.0,0.0,0.0,0.0,0.0,0.0,0.0,0.0,0.0,0.0,0.0,0.0,0.0,0.0,0.0,0.0,0.0,0.0,0.0,0.0,0.0,0.0,0.0,0.0,0.0,0.0,0.0,0.0,0.0,0.0,0.0,0.0,0.0,0.0,0.0,0.0,0.0,0.0,0.0,0.0,0.0,0.0,0.0,0.0,0.0,0.0,0.0,0.0,0.0,0.0,0.0,0.0,0.0,0.0,0.0,0.0,0.0,0.0,0.0,0.0,0.0,0.0,0.0,0.0,0.0,0.0,0.0,0.0,0.0,0.0,0.0,0.0,0.0,0.0,0.0,0.0,0.0,0.0,0.0,0.0,0.0,0.0,0.0,0.0,0.0,0.0,0.0,0.0,0.0,0.0,0.0,0.0,0.0,0.0,0.0,0.0,0.0,0.0,0.0,0.0,0.0,0.0,0.0,0.0,0.0,0.0,0.0,0.0,0.0,0.0,0.0,0.0,0.0,0.0,0.0,0.0,0.0,0.0,0.0,0.0,0.0,0.0,0.0,0.0,0.0,0.0,0.0,0.0,0.0,0.0,0.0,0.0,0.0,0.0,0.0,0.0,0.0,0.0,0.0,0.0,0.0,0.0,0.0,0.0,0.0,0.0,0.0,0.0,0.0,0.0,0.0,0.0,0.0,0.0,0.0,0.0,0.0,0.0,0.0,0.0,0.0,0.0,0.0,0.0,0.0,0.0,0.0,0.0,0.0,0.0,0.0,0.0,0.0,0.0,0.0,0.0,0.0,0.0,0.0,0.0,0.0,0.0,0.0,0.0,0.0,0.0,0.0,0.0,0.0,0.0,0.0,0.0,0.0,0.0,0.0,0.0,0.0,0.0,0.0,0.0,0.0,0.0,0.0,0.0,0.0,0.0,0.0,0.0,0.0,0.0,0.0,0.0,0.0,0.0,0.0,0.0,0.0,0.0,0.0,0.0,0.0,0.0,0.0,0.0,0.0,0.0,0.0,0.0,0.0,0.0,0.0,0.0,0.0,0.0,0.0,0.0,0.0,0.0,0.0,0.0,0.0,0.0,0.0,0.0,0.0,0.0,0.0,0.0,0.0,0.0,0.0,0.0,0.0,0.0,0.0,0.0,0.0,0.0,0.0,0.0,0.0,0.0,0.0,0.0,0.0,0.0,0.0,0.0,0.0,0.0,0.0,0.0,0.0,0.0,0.0,0.0,0.0,0.0,0.0,0.0,0.0,0.0,0.0,0.0,0.0,0.0,0.0,0.0,0.0,0.0,0.0,0.0,0.0,0.0,0.0,0.0,0.0,0.0,0.0,0.0,0.0,0.0,0.0,0.0,0.0,0.0,0.0,0.0,0.0,0.0,0.0,0.0,0.0,0.0,0.0,0.0,0.0,0.0,0.0,0.0,0.0,0.0,0.0,0.0,0.0,0.0,0.0,0.0,0.0,0.0,0.0,0.0,0.0,0.0,0.0,0.0,0.0,0.0,0.0,0.0,0.0,0.0,0.0,0.0,0.0,0.0,0.0,0.0,0.0,0.0,0.0,0.0,0.0,0.0,0.0,0.0,0.0,0.0,0.0,0.0,0.0,0.0,0.0,0.0,0.0,0.0,0.0,0.0,0.0,0.0,0.0,0.0,0.0,0.0,0.0,0.0,0.0,0.0,0.0,0.0,0.0,0.0,0.0,0.0,0.0,0.0,0.0,0.0,0.0,0.0,0.0,0.0,0.0,0.0,0.0,0.0,0.0,0.0,0.0,0.0,0.0,0.0,0.0,0.0,0.0,0.0,0.0,0.0,0.0,0.0,0.0,0.0,0.0,0.0,0.0,0.0,0.0,0.0,0.0,0.0,0.0,0.0,0.0,0.0,0.0,0.0,0.0,0.0,0.0,0.0,0.0,0.0,0.0,0.0,0.0,0.0,0.0,0.0,0.0,0.0,0.0,0.0,0.0,0.0,0.0,0.0,0.0,0.0,0.0,0.0,0.0,0.0,0.0,0.0,0.0,0.0,0.0,0.0,0.0,0.0,0.0,0.0,0.0,0.0,0.0,0.0,0.0,0.0,0.0,0.0,0.0,0.0,0.0,0.0,0.0,0.0,0.0,0.0,0.0,0.0,0.0,0.0,0.0,0.0,0.0,0.0,0.0,0.0,0.0,0.0,0.0,0.0,0.0,0.0,0.0,0.0,0.0,0.0,0.0,0.0,0.0,0.0,0.0,0.0,0.0,0.0,0.0,0.0,0.0,0.0,0.0,0.0,0.0,0.0,0.0,0.0,0.0,0.0,0.0,0.0,0.0,0.0,0.0,0.0,0.0,0.0,0.0,0.0,0.0,0.0,0.0,0.0,0.0,0.0,0.0,0.0,0.0,0.0,0.0,0.0,0.0,0.0,0.0,0.0,0.0,0.0,0.0,0.0,0.0,0.0,0.0,0.0,0.0,0.0,0.0,0.0,0.0,0.0,0.0,0.0,0.0,0.0,0.0,0.0,0.0,0.0,0.0,0.0,0.0,0.0,0.0,0.0,0.0,0.0,0.0,0.0,0.0,0.0,0.0,0.0,0.0,0.0,0.0,0.0,0.0,0.0,0.0,0.0,0.0,0.0,0.0,0.0,0.0,0.0,0.0,0.0,0.0,0.0,0.0,0.0,0.0,0.0,0.0,0.0,0.0,0.0,0.0,0.0,0.0,0.0,0.0,0.0,0.0,0.0,0.0,0.0,0.0,0.0,0.0,0.0,0.0,0.0,0.0,0.0,0.0,0.0,0.0,0.0,0.0,0.0,0.0,0.0,0.0,0.0,0.0,0.0,0.0,0.0,0.0,0.0,0.0,0.0,0.0,0.0,0.0,0.0,0.0,0.0,0.0,0.0,0.0,0.0,0.0,0.0,0.0,0.0,0.0,0.0,0.0,0.0,0.0,0.0,0.0,0.0,0.0,0.0,0.0,0.0,0.0,0.0,0.0,0.0,0.0,0.0,0.0,0.0,0.0,0.0,0.0,0.0,0.0,0.0,0.0,0.0,0.0,0.0,0.0,0.0,0.0,0.0,0.0,0.0,0.0,0.0,0.0,0.0,0.0,0.0,0.0,0.0,0.0,0.0,0.0,0.0,0.0,0.0,0.0,0.0,0.0,0.0,0.0,0.0,0.0,0.0,0.0,0.0,0.0,0.0,0.0,0.0,0.0,0.0,0.0,0.0,0.0,0.0,0.0,0.0,0.0,0.0,0.0,0.0,0.0,0.0,0.0,0.0,0.0,0.0,0.0,0.0,0.0,0.0,0.0,0.0,0.0,0.0,0.0,0.0,0.0,0.0,0.0,0.0,0.0,0.0,0.0,0.0,0.0,0.0,0.0,0.0,0.0,0.0,0.0,0.0,0.0,0.0,0.0,0.0,0.0,0.0,0.0,0.0,0.0,0.0,0.0,0.0,0.0,0.0,0.0,0.0,0.0,0.0,0.0,0.0,0.0,0.0,0.0,0.0,0.0,0.0,0.0,0.0,0.0,0.0,0.0,0.0,0.0,0.0,0.0,0.0,0.0,0.0,0.0,0.0,0.0,0.0,0.0,0.0,0.0,0.0,0.0,0.0,0.0,0.0,0.0,0.0,0.0,0.0,0.0,0.0,0.0,0.0,0.0,0.0,0.0,0.0,0.0,0.0,0.0,0.0,0.0,0.0,0.0,0.0,0.0,0.0,0.0,0.0,0.0,0.0,0.0,0.0,0.0,0.0,0.0,0.0,0.0,0.0,0.0,0.0,0.0,0.0,0.0,0.0,0.0,0.0,0.0,0.0,0.0,0.0,0.0,0.0,0.0,0.0,0.0,0.0,0.0,0.0,0.0,0.0,0.0,0.0,0.0,0.0,0.0,0.0,0.0,0.0,0.0,0.0,0.0,0.0,0.0,0.0,0.0,0.0,0.0,0.0,0.0,0.0,0.0,0.0,0.0,0.0,0.0,0.0,0.0,0.0,0.0,0.0,0.0,0.0,0.0,0.0,0.0,0.0,0.0,0.0,0.0,0.0,0.0,0.0,0.0,0.0,0.0,0.0,0.0,0.0,0.0,0.0,0.0,0.0,0.0,0.0,0.0,0.0,0.0,0.0,0.0,0.0,0.0,0.0,0.0,0.0,0.0,0.0,0.0,0.0,0.0,0.0,0.0,0.0,0.0,0.0,0.0,0.0,0.0,0.0,0.0,0.0,0.0,0.0,0.0,0.0,0.0,0.0,0.0,0.0,0.0,0.0,0.0,0.0,0.0,0.0,0.0,0.0,0.0,0.0,0.0,0.0,0.0,0.0,0.0,0.0,0.0,0.0,0.0,0.0,0.0,0.0,0.0,0.0,0.0,0.0,0.0,0.0,0.0,0.0,0.0,0.0,0.0,0.0,0.0,0.0,0.0,0.0,0.0,0.0,0.0,0.0,0.0,0.0,0.0,0.0,0.0,0.0,0.0,0.0,0.0,0.0,0.0,0.0,0.0,0.0,0.0,0.0,0.0,0.0,0.0,0.0,0.0,0.0,0.0,0.0,0.0,0.0,0.0,0.0,0.0,0.0,0.0,0.0,0.0,0.0,0.0,0.0,0.0,0.0,0.0,0.0,0.0,0.0,0.0,0.0,0.0,0.0,0.0,0.0,0.0,0.0,0.0,0.0,0.0,0.0,0.0,0.0,0.0,0.0,0.0,0.0,0.0,0.0,0.0,0.0,0.0,0.0,0.0,0.0,0.0,0.0,0.0,0.0,0.0,0.0,0.0,0.0,0.0,0.0,0.0,0.0,0.0,0.0,0.0,0.0,0.0,0.0,0.0,0.0,0.0,0.0,0.0,0.0,0.0,0.0,0.0,0.0,0.0,0.0,0.0,0.0,0.0,0.0,0.0,0.0,0.0,0.0,0.0,0.0,0.0,0.0,0.0,0.0,0.0,0.0,0.0,0.0,0.0,0.0,0.0,0.0,0.0,0.0,0.0,0.0,0.0,0.0,0.0,0.0,0.0,0.0,0.0,0.0,0.0,0.0,0.0,0.0,0.0,0.0,0.0,0.0,0.0,0.0,0.0,0.0,0.0,0.0,0.0,0.0,0.0,0.0,0.0,0.0,0.0,0.0,0.0,0.0,0.0,0.0,0.0,0.0,0.0,0.0,0.0,0.0,0.0,0.0,0.0,0.0,0.0,0.0,0.0,0.0,0.0,0.0,0.0,0.0,0.0,0.0,0.0,0.0,0.0,0.0,0.0,0.0,0.0,0.0,0.0,0.0,0.0,0.0,0.0,0.0,0.0,0.0,0.0,0.0,0.0,0.0,0.0,0.0,0.0,0.0,0.0,0.0,0.0,0.0,0.0,0.0,0.0,0.0,0.0,0.0,0.0,0.0,0.0,0.0,0.0,0.0,0.0,0.0,0.0,0.0,0.0,0.0,0.0,0.0,0.0,0.0,0.0,0.0,0.0,0.0,0.0,0.0,0.0,0.0,0.0,0.0,0.0,0.0,0.0,0.0,0.0,0.0,0.0,0.0,0.0,0.0,0.0,0.0,0.0,0.0,0.0,0.0,0.0,0.0,0.0,0.0,0.0,0.0,0.0,0.0,0.0,0.0,0.0,0.0,0.0,0.0,0.0,0.0,0.0,0.0,0.0,0.0,0.0,0.0,0.0,0.0,0.0,0.0,0.0,0.0,0.0,0.0,0.0,0.0,0.0,0.0,0.0,0.0,0.0,0.0,0.0,0.0,0.0,0.0,0.0,0.0,0.0,0.0,0.0,0.0,0.0,0.0,0.0,0.0,0.0,0.0,0.0,0.0,0.0,0.0,0.0,0.0,0.0,0.0,0.0,0.0,0.0,0.0,0.0,0.0,0.0,0.0,0.0,0.0,0.0,0.0,0.0,0.0,0.0,0.0,0.0,0.0,0.0,0.0,0.0,0.0,0.0,0.0,0.0,0.0,0.0,0.0,0.0,0.0,0.0,0.0,0.0,0.0,0.0,0.0,0.0,0.0,0.0,0.0,0.0,0.0,0.0,0.0,0.0,0.0,0.0,0.0,0.0,0.0,0.0,0.0,0.0,0.0,0.0,0.0,0.0,0.0,0.0,0.0,0.0,0.0,0.0,0.0,0.0,0.0,0.0,0.0,0.0,0.0,0.0,0.0,0.0,0.0,0.0,0.0,0.0,0.0,0.0,0.0,0.0,0.0,0.0,0.0,0.0,0.0,0.0,0.0,0.0,0.0,0.0,0.0,0.0,0.0,0.0,0.0,0.0,0.0,0.0,0.0,0.0,0.0,0.0,0.0,0.0,0.0,0.0,0.0,0.0,0.0,0.0,0.0,0.0,0.0,0.0,0.0,0.0,0.0,0.0,0.0,0.0,0.0,0.0,0.0,0.0,0.0,0.0,0.0,0.0,0.0,0.0,0.0,0.0,0.0,0.0,0.0,0.0,0.0,0.0,0.0,0.0,0.0,0.0,0.0,0.0,0.0,0.0,0.0,0.0,0.0,0.0,0.0,0.0,0.0,0.0,0.0,0.0,0.0,0.0,0.0,0.0,0.0,0.0,0.0,0.0,0.0,0.0,0.0,0.0,0.0,0.0,0.0,0.0,0.0,0.0,0.0,0.0,0.0,0.0,0.0,0.0,0.0,0.0,0.0,0.0,0.0,0.0,0.0,0.0,0.0,0.0,0.0,0.0,0.0,0.0,0.0,0.0,0.0,0.0,0.0,0.0,0.0,0.0,0.0,0.0,0.0,0.0,0.0,0.0,0.0,0.0,0.0,0.0,0.0,0.0,0.0,0.0,0.0,0.0,0.0,0.0,0.0,0.0,0.0,0.0,0.0,0.0,0.0,0.0,0.0,0.0,0.0,0.0,0.0,0.0,0.0,0.0,0.0,0.0,0.0,0.0,0.0,0.0,0.0,0.0,0.0,0.0,0.0,0.0,0.0,0.0,0.0,0.0,0.0,0.0,0.0,0.0,0.0,0.0,0.0,0.0,0.0,0.0,0.0,0.0,0.0,0.0,0.0,0.0,0.0,0.0,0.0,0.0,0.0,0.0,0.0,0.0,0.0,0.0,0.0,0.0,0.0,0.0,0.0,0.0,0.0,0.0,0.0,0.0,0.0,0.0,0.0,0.0,0.0,0.0,0.0,0.0,0.0,0.0,0.0,0.0,0.0,0.0,0.0,0.0,0.0,0.0,0.0,0.0,0.0,0.0,0.0,0.0,0.0,0.0,0.0,0.0,0.0,0.0,0.0,0.0,0.0,0.0,0.0,0.0,0.0,0.0,0.0,0.0,0.0,0.0,0.0,0.0,0.0,0.0,0.0,0.0,0.0,0.0,0.0,0.0,0.0,0.0,0.0,0.0,0.0,0.0,0.0,0.0,0.0,0.0,0.0,0.0,0.0,0.0,0.0,0.0,0.0,0.0,0.0,0.0,0.0,0.0,0.0,0.0,0.0,0.0,0.0,0.0,0.0,0.0,0.0,0.0,0.0,0.0,0.0,0.0,0.0,0.0,0.0,0.0,0.0,0.0,0.0,0.0,0.0,0.0,0.0,0.0,0.0,0.0,0.0,0.0,0.0,0.0,0.0,0.0,0.0,0.0,0.0,0.0,0.0,0.0,0.0,0.0,0.0,0.0,0.0,0.0,0.0,0.0,0.0,0.0,0.0,0.0,0.0,0.0,0.0,0.0,0.0,0.0,0.0,0.0,0.0,0.0,0.0,0.0,0.0,0.0,0.0,0.0,0.0,0.0,0.0,0.0,0.0,0.0,0.0,0.0,0.0,0.0,0.0,0.0,0.0,0.0,0.0,0.0,0.0,0.0,0.0,0.0,0.0,0.0,0.0,0.0,0.0,0.0,0.0,0.0,0.0,0.0,0.0,0.0,0.0,0.0,0.0,0.0,0.0,0.0,0.0,0.0,0.0,0.0,0.0,0.0,0.0,0.0,0.0,0.0,0.0,0.0,0.0,0.0,0.0,0.0,0.0,0.0,0.0,0.0,0.0,0.0,0.0,0.0,0.0,0.0,0.0,0.0,0.0,0.0,0.0,0.0,0.0,0.0,0.0,0.0,0.0,0.0,0.0,0.0,0.0,0.0,0.0,0.0,0.0,0.0,0.0,0.0,0.0,0.0,0.0,0.0,0.0,0.0,0.0,0.0,0.0,0.0,0.0,0.0,0.0,0.0,0.0,0.0,0.0,0.0,0.0,0.0,0.0,0.0,0.0,0.0,0.0,0.0,0.0,0.0,0.0,0.0,0.0,0.0,0.0,0.0,0.0,0.0,0.0,0.0,0.0,0.0,0.0,0.0,0.0,0.0,0.0,0.0,0.0,0.0,0.0,0.0,0.0,0.0,0.0,0.0,0.0,0.0,0.0,0.0,0.0,0.0,0.0,0.0,0.0,0.0,0.0,0.0,0.0,0.0,0.0,0.0,0.0,0.0,0.0,0.0,0.0,0.0,0.0,0.0,0.0,0.0,0.0,0.0,0.0,0.0,0.0,0.0,0.0,0.0,0.0,0.0,0.0,0.0,0.0,0.0,0.0,0.0,0.0,0.0,0.0,0.0,0.0,0.0,0.0,0.0,0.0,0.0,0.0,0.0,0.0,0.0,0.0,0.0,0.0,0.0,0.0,0.0,0.0,0.0,0.0,0.0,0.0,0.0,0.0,0.0,0.0,0.0,0.0,0.0,0.0,0.0,0.0,0.0,0.0,0.0,0.0,0.0,0.0,0.0,0.0,0.0,0.0,0.0,0.0,0.0,0.0,0.0,0.0,0.0,0.0,0.0,0.0,0.0,0.0,0.0,0.0,0.0,0.0,0.0,0.0,0.0,0.0,0.0,0.0,0.0,0.0,0.0,0.0,0.0,0.0,0.0,0.0,0.0,0.0,0.0,0.0,0.0,0.0,0.0,0.0,0.0,0.0,0.0,0.0,0.0,0.0,0.0,0.0,0.0,0.0,0.0,0.0,0.0,0.0,0.0,0.0,0.0,0.0,0.0,0.0,0.0,0.0,0.0,0.0,0.0,0.0,0.0,0.0,0.0,0.0,0.0,0.0,0.0,0.0,0.0,0.0,0.0,0.0,0.0,0.0,0.0,0.0,0.0,0.0,0.0,0.0,0.0,0.0,0.0,0.0,0.0,0.0,0.0,0.0,0.0,0.0,0.0,0.0,0.0,0.0,0.0,0.0,0.0,0.0,0.0,0.0,0.0,0.0,0.0,0.0,0.0,0.0,0.0,0.0,0.0,0.0,0.0,0.0,0.0,0.0,0.0,0.0,0.0,0.0,0.0,0.0,0.0,0.0,0.0,0.0,0.0,0.0,0.0,0.0,0.0,0.0,0.0,0.0,0.0,0.0,0.0,0.0,0.0,0.0,0.0,0.0,0.0,0.0,0.0,0.0,0.0,0.0,0.0,0.0,0.0,0.0,0.0,0.0,0.0,0.0,0.0,0.0,0.0,0.0,0.0,0.0,0.0,0.0,0.0,0.0,0.0,0.0,0.0,0.0,0.0,0.0,0.0,0.0,0.0,0.0,0.0,0.0,0.0,0.0,0.0,0.0,0.0,0.0,0.0,0.0,0.0,0.0,0.0,0.0,0.0,0.0,0.0,0.0,0.0,0.0,0.0,0.0,0.0,0.0,0.0,0.0,0.0,0.0,0.0,0.0,0.0,0.0,0.0,0.0,0.0,0.0,0.0,0.0,0.0,0.0,0.0,0.0,0.0,0.0,0.0,0.0,0.0,0.0,0.0,0.0,0.0,0.0,0.0,0.0,0.0,0.0,0.0,0.0,0.0,0.0,0.0,0.0,0.0,0.0,0.0,0.0,0.0,0.0,0.0,0.0,0.0,0.0,0.0,0.0,0.0,0.0,0.0,0.0,0.0,0.0,0.0,0.0,0.0,0.0,0.0,0.0,0.0,0.0,0.0,0.0,0.0,0.0,0.0,0.0,0.0,0.0,0.0,0.0,0.0,0.0,0.0,0.0,0.0,0.0,0.0,0.0,0.0,0.0,0.0,0.0,0.0,0.0,0.0,0.0,0.0,0.0,0.0,0.0,0.0,0.0,0.0,0.0,0.0,0.0,0.0,0.0,0.0,0.0,0.0,0.0,0.0,0.0,0.0,0.0,0.0,0.0,0.0,0.0,0.0,0.0,0.0,0.0,0.0,0.0,0.0,0.0,0.0,0.0,0.0,0.0,0.0,0.0,0.0,0.0,0.0,0.0,0.0,0.0,0.0,0.0,0.0,0.0,0.0,0.0,0.0,0.0,0.0,0.0,0.0,0.0,0.0,0.0,0.0,0.0,0.0,0.0,0.0,0.0,0.0,0.0,0.0,0.0,0.0,0.0,0.0,0.0,0.0,0.0,0.0,0.0,0.0,0.0,0.0,0.0,0.0,0.0,0.0,0.0,0.0,0.0,0.0,0.0,0.0,0.0,0.0,0.0,0.0,0.0,0.0,0.0,0.0,0.0,0.0,0.0,0.0,0.0,0.0,0.0,0.0,0.0,0.0,0.0,0.0,0.0,0.0,0.0,0.0,0.0,0.0,0.0,0.0,0.0,0.0,0.0,0.0,0.0,0.0,0.0,0.0,0.0,0.0,0.0,0.0,0.0,0.0,0.0,0.0,0.0,0.0,0.0,0.0,0.0,0.0,0.0,0.0,0.0,0.0,0.0,0.0,0.0,0.0,0.0,0.0,0.0,0.0,0.0,0.0,0.0,0.0,0.0,0.0,0.0,0.0,0.0,0.0,0.0,0.0,0.0,0.0,0.0,0.0,0.0,0.0,0.0,0.0,0.0,0.0,0.0,0.0,0.0,0.0,0.0,0.0,0.0,0.0,0.0,0.0,0.0,0.0,0.0,0.0,0.0,0.0,0.0,0.0,0.0,0.0,0.0,0.0,0.0,0.0,0.0,0.0,0.0,0.0,0.0,0.0,0.0,0.0,0.0,0.0,0.0,0.0,0.0,0.0,0.0,0.0,0.0,0.0,0.0,0.0,0.0,0.0,0.0,0.0,0.0,0.0,0.0,0.0,0.0,0.0,0.0,0.0,0.0,0.0,0.0,0.0,0.0,0.0,0.0,0.0,0.0,0.0,0.0,0.0,0.0,0.0,0.0,0.0,0.0,0.0,0.0,0.0,0.0,0.0,0.0,0.0,0.0,0.0,0.0,0.0,0.0,0.0,0.0,0.0,0.0,0.0,0.0,0.0,0.0,0.0,0.0,0.0,0.0,0.0,0.0,0.0,0.0,0.0,0.0,0.0,0.0,0.0,0.0,0.0,0.0,0.0,0.0,0.0,0.0,0.0,0.0,0.0,0.0,0.0,0.0,0.0,0.0,0.0,0.0,0.0,0.0,0.0,0.0,0.0,0.0,0.0,0.0,0.0,0.0,0.0,0.0,0.0,0.0,0.0,0.0,0.0,0.0,0.0,0.0,0.0,0.0,0.0,0.0,0.0,0.0,0.0,0.0,0.0,0.0,0.0,0.0,0.0,0.0,0.0,0.0,0.0,0.0,0.0,0.0,0.0,0.0,0.0,0.0,0.0,0.0,0.0,0.0,0.0,0.0,0.0,0.0,0.0,0.0,0.0,0.0,0.0,0.0,0.0,0.0,0.0,0.0,0.0,0.0,0.0,0.0,0.0,0.0,0.0,0.0,0.0,0.0,0.0,0.0,0.0,0.0,0.0,0.0,0.0,0.0,0.0,0.0,0.0,0.0,0.0,0.0,0.0,0.0,0.0,0.0,0.0,0.0,0.0,0.0,0.0,0.0,0.0,0.0,0.0,0.0,0.0,0.0,0.0,0.0,0.0,0.0,0.0,0.0,0.0,0.0,0.0,0.0,0.0,0.0,0.0,0.0,0.0,0.0,0.0,0.0,0.0,0.0,0.0,0.0,0.0,0.0,0.0,0.0,0.0,0.0,0.0,0.0,0.0,0.0,0.0,0.0,0.0,0.0,0.0,0.0,0.0,0.0,0.0,0.0,0.0,0.0,0.0,0.0,0.0,0.0,0.0,0.0,0.0,0.0,0.0,0.0,0.0,0.0,0.0,0.0,0.0,0.0,0.0,0.0,0.0,0.0,0.0,0.0,0.0,0.0,0.0,0.0,0.0,0.0,0.0,0.0,0.0,0.0,0.0,0.0,0.0,0.0,0.0,0.0,0.0,0.0,0.0,0.0,0.0,0.0,0.0,0.0,0.0,0.0,0.0,0.0,0.0,0.0,0.0,0.0,0.0,0.0,0.0,0.0,0.0,0.0,0.0,0.0,0.0,0.0,0.0,0.0,0.0,0.0,0.0,0.0,0.0,0.0,0.0,0.0,0.0,0.0,0.0,0.0,0.0,0.0,0.0,0.0,0.0,0.0,0.0,0.0,0.0,0.0,0.0,0.0,0.0,0.0,0.0,0.0,0.0,0.0,0.0,0.0,0.0,0.0,0.0,0.0,0.0,0.0,0.0,0.0,0.0,0.0,0.0,0.0,0.0,0.0,0.0,0.0,0.0,0.0,0.0,0.0,0.0,0.0,0.0,0.0,0.0,0.0,0.0,0.0,0.0,0.0,0.0,0.0,0.0,0.0,0.0,0.0,0.0,0.0,0.0,0.0,0.0,0.0,0.0,0.0,0.0,0.0,0.0,0.0,0.0,0.0,0.0,0.0,0.0,0.0,0.0,0.0,0.0,0.0,0.0,0.0,0.0,0.0,0.0,0.0,0.0,0.0,0.0,0.0,0.0,0.0,0.0,0.0,0.0,0.0,0.0,0.0,0.0,0.0,0.0,0.0,0.0,0.0,0.0,0.0,0.0,0.0,0.0,0.0,0.0,0.0,0.0,0.0,0.0,0.0,0.0,0.0,0.0,0.0,0.0,0.0,0.0,0.0,0.0,0.0,0.0,0.0,0.0,0.0,0.0,0.0,0.0,0.0,0.0,0.0,0.0,0.0,0.0,0.0,0.0,0.0,0.0,0.0,0.0,0.0,0.0,0.0,0.0,0.0,0.0,0.0,0.0,0.0,0.0,0.0,0.0,0.0,0.0,0.0,0.0,0.0,0.0,0.0,0.0,0.0,0.0,0.0,0.0,0.0,0.0,0.0,0.0,0.0,0.0,0.0,0.0,0.0,0.0,0.0,0.0,0.0,0.0,0.0,0.0,0.0,0.0,0.0,0.0,0.0,0.0,0.0,0.0,0.0,0.0,0.0,0.0,0.0,0.0,0.0,0.0,0.0,0.0,0.0,0.0,0.0,0.0,0.0,0.0,0.0,0.0,0.0,0.0,0.0,0.0,0.0,0.0,0.0,0.0,0.0,0.0,0.0,0.0,0.0,0.0,0.0,0.0,0.0,0.0,0.0,0.0,0.0,0.0,0.0,0.0,0.0,0.0,0.0,0.0,0.0,0.0,0.0,0.0,0.0,0.0,0.0,0.0,0.0,0.0,0.0,0.0,0.0,0.0,0.0,0.0,0.0,0.0,0.0,0.0,0.0,0.0,0.0,0.0,0.0,0.0,0.0,0.0,0.0,0.0,0.0,0.0,0.0,0.0,0.0,0.0,0.0,0.0,0.0,0.0,0.0,0.0,0.0,0.0,0.0,0.0,0.0,0.0,0.0,0.0,0.0,0.0,0.0,0.0,0.0,0.0,0.0,0.0,0.0,0.0,0.0,0.0,0.0,0.0,0.0,0.0,0.0,0.0,0.0,0.0,0.0,0.0,0.0,0.0,0.0,0.0,0.0,0.0,0.0,0.0,0.0,0.0,0.0,0.0,0.0,0.0,0.0,0.0,0.0,0.0,0.0,0.0,0.0,0.0,0.0,0.0,0.0,0.0,0.0,0.0,0.0,0.0,0.0,0.0,0.0,0.0,0.0,0.0,0.0,0.0,0.0,0.0,0.0,0.0,0.0,0.0,0.0,0.0,0.0,0.0,0.0,0.0,0.0,0.0,0.0,0.0,0.0,0.0,0.0,0.0,0.0,0.0,0.0,0.0,0.0,4.2146848510894035e-08,4.2146848510894035e-08,5.960464477539063e-08,5.960464477539063e-08,5.960464477539063e-08,5.960464477539063e-08,5.960464477539063e-08,5.960464477539063e-08,5.960464477539063e-08,5.960464477539063e-08,5.960464477539063e-08,5.960464477539063e-08,5.960464477539063e-08,5.960464477539063e-08,1.9082797281243946e-07,1.9082797281243946e-07,1.9082797281243946e-07,1.9082797281243946e-07,1.9082797281243946e-07,1.9314112360500873e-07,1.9314112360500873e-07,1.9314112360500873e-07,1.9314112360500873e-07,1.9314112360500873e-07,1.9314112360500873e-07,1.9314112360500873e-07,1.9314112360500873e-07,1.9314112360500873e-07,1.9314112360500873e-07,1.9314112360500873e-07,1.9314112360500873e-07,1.9314112360500873e-07,1.9314112360500873e-07,1.9542689693874122e-07,1.9542689693874122e-07,1.9542689693874122e-07,1.9542689693874122e-07,1.9542689693874122e-07,1.97686242482388e-07,1.97686242482388e-07,1.999200562387517e-07,1.999200562387517e-07,3.885747435809761e-07,3.885747435809761e-07,4.349505758084781e-07,4.349505758084781e-07,1.1812401522759447e-06,1.1812401522759447e-06,1.228058205725939e-06,1.228058205725939e-06,2.338295608274106e-06,2.338295608274106e-06,2.9652936372358202e-06,2.9652936372358202e-06,3.7007717076004474e-06,3.7007717076004474e-06,4.2601687558302614e-06,4.2601687558302614e-06,4.436443821413134e-06,4.436443821413134e-06,4.570358856206758e-06,5.2563727303180754e-06,5.2563727303180754e-06,5.737392141986291e-06,5.737392141986291e-06,5.920094631115869e-06,5.920094631115869e-06,6.355096309309883e-06,6.355096309309883e-06,6.528545473883873e-06,6.528545473883873e-06,6.889043887090319e-06,7.66481896390805e-06,7.66481896390805e-06,7.676976437219377e-06,7.741723306949458e-06,7.741723306949458e-06,7.768179850599876e-06,7.768179850599876e-06,1.0019343993746614e-05,1.0019343993746614e-05,1.0632372701303878e-05,1.0632372701303878e-05,1.0722294111001788e-05,1.0722294111001788e-05,1.1694212570244637e-05,1.1694212570244637e-05,1.3658440440760955e-05,1.424974913154062e-05,1.437868630383584e-05,1.437868630383584e-05,1.4972041353055247e-05,1.4972041353055247e-05,1.6428244692620034e-05,1.6428244692620034e-05,1.8324236080242794e-05,1.8324236080242794e-05,1.8424296094614585e-05,1.8424296094614585e-05,1.8436825631335626e-05,1.8436825631335626e-05,1.8470997610206345e-05,1.8470997610206345e-05,1.8700666396853512e-05,1.8700666396853512e-05,1.96331945623349e-05,1.96331945623349e-05,2.0191199884687236e-05,2.0191199884687236e-05,2.0363689400915347e-05,2.0363689400915347e-05,2.065913668893693e-05,2.0770059313244833e-05,2.0770059313244833e-05,2.1113467863056798e-05,2.1113467863056798e-05,2.1235069665102435e-05,2.1235069665102435e-05,2.136300649405494e-05,2.136300649405494e-05,2.2620963933897082e-05,2.2620963933897082e-05,2.3111196614817312e-05,2.3569699457707914e-05,2.3569699457707914e-05,2.4196916476691846e-05,2.500079150051871e-05,2.500079150051871e-05,2.5408782637879066e-05,2.5408782637879066e-05,2.542768656777687e-05,2.542768656777687e-05,2.582425834647566e-05,2.7191577538785118e-05,2.7191577538785118e-05,2.8088495174165224e-05,2.8088495174165224e-05,2.815109767673002e-05,2.815111345192609e-05,2.815111345192609e-05,2.8204398944494813e-05,2.834523620839437e-05,2.834523620839437e-05,2.834523620839437e-05,2.8345251875545063e-05,2.8345267542687095e-05,2.8345267542687095e-05,2.8345267542687095e-05,2.834528320982047e-05,2.834528320982047e-05,2.834528320982047e-05,2.8388084825228882e-05,2.853939232637307e-05,3.0831305534640926e-05,3.0843085625755654e-05,3.0843085625755654e-05,3.0897578396559156e-05,3.0897578396559156e-05,3.093756679979801e-05,3.093756679979801e-05,3.098937140285232e-05,3.098937140285232e-05,3.121764463437443e-05,3.121764463437443e-05,3.280795803692313e-05,3.280795803692313e-05,3.309394592094671e-05,3.317045340416971e-05,3.317045340416971e-05,3.596427899476842e-05,3.596427899476842e-05,3.6190352975202565e-05,3.6190352975202565e-05,3.6848688602926955e-05,3.6848688602926955e-05,3.755374076679722e-05,3.7695096104588145e-05,3.7695096104588145e-05,3.841178313284558e-05,3.940739351126945e-05,4.080036984488988e-05,4.080036984488988e-05,4.470443724568706e-05,4.470443724568706e-05,4.555565492308625e-05,4.6002314970314103e-05,4.790259580948382e-05,4.867993844597617e-05,4.867993844597617e-05,4.874031108435073e-05,4.874031108435073e-05,4.998880088443496e-05,4.998880088443496e-05,5.0047284093287724e-05,5.011394985903183e-05,5.011394985903183e-05,5.0826565537406026e-05,5.0826565537406026e-05,5.137227135000009e-05,5.137227135000009e-05,5.301413491318984e-05,5.599133873527336e-05,5.8633295381967725e-05,5.8633295381967725e-05,5.945453517301515e-05,5.959705960170557e-05,6.11116804559557e-05,6.169244860801652e-05,6.169244860801652e-05,6.400785421809024e-05,6.400785421809024e-05,6.442073757430312e-05,6.618790526093889e-05,6.618790526093889e-05,6.618818035077132e-05,6.618818035077132e-05,6.618903245104532e-05,6.618903245104532e-05,6.706914492350483e-05,6.706914492350483e-05,6.731343886267474e-05,6.736967743044532e-05,6.737994671309963e-05,7.07511778312483e-05,7.07511778312483e-05,7.217273398402615e-05,7.217273398402615e-05,7.451299394266708e-05,7.451299394266708e-05,7.573284399493988e-05,7.773587750525631e-05,7.773587750525631e-05,7.863500751683262e-05,7.926599829647921e-05,8.547404777816028e-05,8.561064533200515e-05,9.024013300405199e-05,9.024013300405199e-05,9.723704525943363e-05,9.97297125569782e-05,9.97297125569782e-05,9.972972146283341e-05,9.972972146283341e-05,9.972973036868783e-05,9.972973036868783e-05,9.972973036868783e-05,9.982048425743517e-05,9.982048425743517e-05,0.00010168455444591494,0.00010330239428405157,0.00010330239428405157,0.00011261102398335007,0.00011507492137187545,0.00011755863693448915,0.00011755863693448915,0.00012021521005347688,0.0001229044378781921,0.00012332705141275085,0.0001264375600956674,0.0001264375600956674,0.00012710505673695947,0.0001274538956898035,0.0001274538956898035,0.00013231775371546495,0.00013231775371546495,0.0001410633801262895,0.0001410633801262895,0.00014636280077827087,0.00015025815516086165,0.00015047048253825286,0.00015359514424100873,0.00015359514424100873,0.00015451009083947663,0.00015451009083947663,0.00015645580619312398,0.0001603278914256553,0.0001603278914256553,0.00016248344237639544,0.00016248344237639544,0.00016546988526560348,0.00016546988526560348,0.00016784733584530412,0.0001678473411368889,0.0001678473411368889,0.00016788000820183922,0.00016788001349239416,0.00017007437831688846,0.00017007437831688846,0.00017077221185155328,0.00017077221185155328,0.00017171832305706633,0.0001725240818484379,0.0001725240818484379,0.00017294399382151472,0.00017294399382151472,0.0001780818416751433,0.00017900907775921448,0.00017900907775921448,0.00018456262327166988,0.00018456262327166988,0.00018996435116440475,0.00018996435116440475,0.00019324650392407619,0.0001985638141891157,0.0001985638141891157,0.00020060420712486235,0.00020483699868115106,0.00020657315035911482,0.00020657315035911482,0.00020967812299791232,0.0002139612816015904,0.00022624864034665457,0.00023900671405374546,0.00023949763188680918,0.00023949763188680918,0.00024000048362351442,0.00024516855107886487,0.0002476908503825752,0.0002476908503825752,0.0002565350881859362,0.00026338260990949925,0.00026338260990949925,0.00026475163110803847,0.00026475163278541887,0.00026579945684314686,0.00026579945684314686,0.0002683927263802357,0.0002791386063243428,0.0002794973557937076,0.0002801524481130911,0.0002801524481130911,0.0002808838513384673,0.0002978455848567615,0.0002978455848567615,0.00030832107818122936,0.00030832107818122936,0.0003223612529527835,0.00032629780356469826,0.00033093953703992955,0.00033093953703992955,0.0003356059399291795,0.0003356059399291795,0.0003365018374202514,0.00033798327009199974,0.0003625666934503826,0.0003625666934503826,0.0003747408034354403,0.00039354018508699386,0.0004069770281896702,0.0004069770281896702,0.0004092155400302237,0.000438872913472406,0.000438872913472406,0.0004474764093398601,0.0004474764093398601,0.0004791358567105581,0.0004791358567105581,0.00048110302472903466,0.00048110302472903466,0.0004835717043005805,0.0005119740936960009,0.0005296832950466377,0.0005302718144225035,0.0005302718144225035,0.0005457308280920359,0.0005560365661880259,0.0005560365661880259,0.0005775928154094433,0.0005775928154094433,0.0005889864754194175,0.000610656711186325,0.000610656711186325,0.0006115590922808242,0.00064886762419712,0.0006636927533938149,0.0006636927533938149,0.0007136128701157648,0.0007200894181583903,0.0007200894181583903,0.0007324371822422039,0.0007688645594528949,0.0007688645594528949,0.0007717856108550483,0.000814791733353565,0.0008579353070026065,0.0008620370768495889,0.0008935367500972701,0.0008935367500972701,0.0008996750937760578,0.0009266307254123131,0.0010663828758906049,0.0011522939877197285,0.0011522939877197285,0.0011714754611417807,0.0011714754611417807,0.001173611272094384,0.0011889653627028573,0.0011913823502368312,0.0011913823502368312,0.0011913823502368312,0.0011913823502368312,0.0012420029212959144,0.0012425659132218182,0.0012493275282882505,0.0012493275282882505,0.0012807909888697816,0.0012932535499570667,0.0013194132056289808,0.0013830963299925364,0.0014905356213039279,0.0014905356213039279,0.0015415315708004454,0.0016090801381039288,0.0016090801381039288,0.0016134016063310875,0.001651403221966404,0.0016673345299173979,0.0018533384697405541,0.0018533384697405541,0.0018535757115941056,0.0019024552932435837,0.001956947161447814,0.001956947161447814,0.001956947161447814,0.001956947161447814,0.001956947161447814,0.001956947161447814,0.001956947161447814,0.001956947161447814,0.001956947161447814,0.001956947161447814,0.001956947161447814,0.001956947161447814,0.001956947161447814,0.001956947161447814,0.001956947161447814,0.001956947161447814,0.001956947161447814,0.001956947161447814,0.001956947161447814,0.001956947161447814,0.001956947161447814,0.001956947161447814,0.001956947161447814,0.001956947161447814,0.001956947161447814,0.001956947161447814,0.001956947161447814,0.001956947161447814,0.001956947161447814,0.001956947161447814,0.001956947161447814,0.001956947161447814,0.001956947161901673,0.001956947161901673,0.001956947161901673,0.001956947161901673,0.001956947161901673,0.001956947161901673,0.001956947161901673,0.001956947161901673,0.001956947161901673,0.001956947161901673,0.001956947161901673,0.001956947161901673,0.001956947161901673,0.001956947161901673,0.001956947161901673,0.001956947161901673,0.001956947161901673,0.001956947161901673,0.001956947161901673,0.001956947161901673,0.001956947161901673,0.001956947161901673,0.001956947161901673,0.001956947161901673,0.001956947161901673,0.001956947161901673,0.001956947161901673,0.001956947161901673,0.001956947161901673,0.001956947161901673,0.001956947161901673,0.001956947161901673,0.001956947161901673,0.001956947161901673,0.001956947161901673,0.001956947161901673,0.001956947161901673,0.001956947161901673,0.001956947161901673,0.001956947161901673,0.001956947161901673,0.001956947161901673,0.001956947161901673,0.001956947161901673,0.001956947161901673,0.001956947161901673,0.001956947161901673,0.001956947161901673,0.001956947161901673,0.001956947161901673,0.001956947161901673,0.001956947161901673,0.001956947161901673,0.001956947161901673,0.001956947161901673,0.0019569471623555323,0.0019569471623555323,0.0019569471623555323,0.0019569471623555323,0.0019569471623555323,0.0019569471623555323,0.0019569471623555323,0.0019569471623555323,0.0019569471623555323,0.0019569471623555323,0.0019569471623555323,0.0019569471623555323,0.0019569471623555323,0.0019569471623555323,0.0019569471623555323,0.0019569471623555323,0.0019569471623555323,0.0019569471623555323,0.0019569471623555323,0.0019569471623555323,0.0019569471623555323,0.0019569471623555323,0.0019569471623555323,0.0019569471623555323,0.0019569471623555323,0.0019569471623555323,0.0019569471623555323,0.0019569471623555323,0.0019569471623555323,0.0019569471623555323,0.0019569471623555323,0.0019569471623555323,0.0019569471623555323,0.0019569471623555323,0.0019569471623555323,0.0019569471623555323,0.0019569471623555323,0.0019569471623555323,0.0019569471623555323,0.0019569471623555323,0.0019569471623555323,0.0019569471623555323,0.0019569471623555323,0.0019569471623555323,0.0019569471623555323,0.0019569471623555323,0.0019569471623555323,0.0019569471623555323,0.0019569471623555323,0.0019569471623555323,0.0019569471623555323,0.0019569471623555323,0.0019569471623555323,0.0019569471623555323,0.0019569471623555323,0.0019569471623555323,0.0019569471623555323,0.0019569471623555323,0.0019569471623555323,0.0019569471623555323,0.0019569471623555323,0.0019569471623555323,0.0019569471623555323,0.0019569471623555323,0.0019569471623555323,0.0019569471623555323,0.0019569471623555323,0.0019569471623555323,0.0019569471623555323,0.0019569471623555323,0.0019569471623555323,0.0019569471623555323,0.0019569471623555323,0.0019569471623555323,0.0019569471623555323,0.0019569471623555323,0.0019569471623555323,0.0019569471623555323,0.0019569471623555323,0.0019569471623555323,0.0019569471623555323,0.0019569471623555323,0.0019569471623555323,0.0019569471623555323,0.0019569471623555323,0.0019569471623555323,0.0019569471623555323,0.0019569471623555323,0.0019569471623555323,0.0019569471623555323,0.0019569471623555323,0.0019569471623555323,0.0019569471623555323,0.0019569471623555323,0.0019569471623555323,0.0019569471623555323,0.0019569471623555323,0.0019569471623555323,0.0019569471623555323,0.0019569471623555323,0.0019569471623555323,0.0019569471623555323,0.0019569471623555323,0.0019569471623555323,0.0019569471623555323,0.0019569471623555323,0.0019569471623555323,0.0019569471623555323,0.0019569471623555323,0.0019569471623555323,0.0019569471623555323,0.0019569471623555323,0.0019569471623555323,0.0019569471623555323,0.0019569471623555323,0.0019569471623555323,0.0019569471623555323,0.0019569471623555323,0.0019569471623555323,0.0019569471623555323,0.0019569471623555323,0.0019569471628093915,0.0019569471628093915,0.0019569471628093915,0.0019569471628093915,0.0019569471628093915,0.0019569471628093915,0.0019569471628093915,0.0019569471628093915,0.0019569471628093915,0.0019569471628093915,0.0019569471628093915,0.0019569471628093915,0.0019569471628093915,0.0019569471628093915,0.0019569471628093915,0.0019569471628093915,0.0019569471628093915,0.0019569471628093915,0.0019569471628093915,0.0019569471628093915,0.0019569471628093915,0.0019569471628093915,0.0019569471628093915,0.0019569471628093915,0.0019569471628093915,0.0019569471628093915,0.0019569471628093915,0.0019569471628093915,0.0019569471628093915,0.0019569471628093915,0.0019569471628093915,0.0019569471628093915,0.0019569471628093915,0.0019569471628093915,0.0019569471628093915,0.0019569471628093915,0.0019569471628093915,0.0019569471628093915,0.0019569471628093915,0.0019569471628093915,0.0019569471628093915,0.0019569471628093915,0.0019569471628093915,0.0019569471628093915,0.0019569471628093915,0.0019569471628093915,0.0019569471628093915,0.0019569471628093915,0.0019569471628093915,0.0019569471628093915,0.0019569471628093915,0.0019569471628093915,0.0019569471628093915,0.0019569471628093915,0.0019569471632632507,0.0019569471632632507,0.0019569471632632507,0.0019569471632632507,0.0019569471632632507,0.0019569471632632507,0.0019569471632632507,0.0019569474718874637,0.0019569474718874637,0.0019571575034313185,0.001957202487323571,0.0019572922437219,0.001957486964284667,0.0019579279731080854,0.0019583689234375598,0.0019590048842063473,0.001960423220689099,0.001960423220689099,0.0019852764793144096,0.0020849190852643023,0.0021772436100799862,0.0021772436100799862,0.002183766015476271,0.002246676343615811,0.0025491754249476572,0.0027675412172088834,0.0027675412175298102,0.0027675412175298102,0.0027675412175298102,0.0027675412175298102,0.0027675412175298102,0.002767541217850737,0.002767541217850737,0.002767541217850737,0.002767541217850737,0.002767541217850737,0.002767541217850737,0.002767541218171664,0.002767541218171664,0.002767541218171664,0.002767541218171664,0.002767541218171664,0.002767541218492591,0.002767541218492591,0.002767541218492591,0.0027675412247506652,0.0027675412247506652,0.0027675436841728537,0.0027675436841728537,0.0027675817393889323,0.0027675817393889323,0.002767582294905204,0.0027676283519831417,0.002767686370885073,0.002767686370885073,0.0027676883656613327,0.0027676883659822427,0.002767713575260513,0.0027693625280963852,0.0027693625280963852,0.0027712200454642405,0.0027712200454642405,0.002772483478423101,0.002774989492888618,0.0027778421087419187,0.0027778421087419187,0.0027864005098183495,0.002795888881599995,0.002795888881599995,0.00280458215699925,0.0028060551502555966,0.0028129860676021456,0.0028129860944402325,0.002912393610955108,0.002912393610955108,0.0029618001989516972,0.0029618001989516972,0.0030235806866101105,0.0031830383254804876,0.0032694622085766684,0.0032694622085766684,0.003309395373619866,0.0037050809515172473,0.0037050809515172473,0.0039138943242572055,0.0039138943242572055,0.003913894324484135,0.003913894324484135,0.003913894324484135,0.003913894324484135,0.003913894324484135,0.003913894324484135,0.003913894324484135,0.003913894324484135,0.003913894324484135,0.003913894324484135,0.003913894324484135,0.003913894324484135,0.003913894324484135,0.003913894324484135,0.003913894324484135,0.003913894324484135,0.003913894324484135,0.003913894324484135,0.003913894324484135,0.003913894324484135,0.003913894324484135,0.003913894324484135,0.003913894324484135,0.003913894324484135,0.003913894324484135,0.003913894324484135,0.003913894324484135,0.003913894324484135,0.003913894324484135,0.003913894324484135,0.003913894324484135,0.003913894324484135,0.003913894324484135,0.003913894324484135,0.003913894324484135,0.003913894324711065,0.003913894324711065,0.003913894324711065,0.003913894324711065,0.003913894324711065,0.003913894324711065,0.003913894324711065,0.003913894324711065,0.003913894324711065,0.003913894324711065,0.003913894324711065,0.003913894324711065,0.003913894324711065,0.003913894324711065,0.003913894324711065,0.003913894324711065,0.003913894324711065,0.003913894324711065,0.003913894324711065,0.003913894324711065,0.003913894324711065,0.003913894324711065,0.003913894324711065,0.003913894324711065,0.003913894324711065,0.003913894324711065,0.003913894324711065,0.003913894324711065,0.003913894324711065,0.003913894324711065,0.003913894324711065,0.003913894324711065,0.003913894324711065,0.003913894324711065,0.003913894324711065,0.003913894324711065,0.003913894324711065,0.003913894324711065,0.003913894324711065,0.003913894324711065,0.003913894324711065,0.003913894324711065,0.003913894324711065,0.003913894324711065,0.003913894324711065,0.003913894324711065,0.003913894324711065,0.003913894324711065,0.003913894324711065,0.003913894324711065,0.003913894324711065,0.003913894324711065,0.003913894324711065,0.003913894324711065,0.003913894324711065,0.003913894324711065,0.003913894324711065,0.003913894324711065,0.003913894324711065,0.003913894324711065,0.003913894324711065,0.003913894324711065,0.003913894324711065,0.003913894324711065,0.003913894324711065,0.003913894324711065,0.003913894324711065,0.003913894324711065,0.003913894324711065,0.003913894324711065,0.003913894324711065,0.003913894324711065,0.003913894324711065,0.003913894324711065,0.003913894324711065,0.003913894324711065,0.003913894324711065,0.003913894324711065,0.003913894324711065,0.003913894324711065,0.003913894324711065,0.003913894324711065,0.003913894324711065,0.003913894324711065,0.003913894324711065,0.003913894324711065,0.003913894324711065,0.003913894324711065,0.003913894324711065,0.003913894324711065,0.003913894324711065,0.003913894324711065,0.003913894324711065,0.003913894324711065,0.003913894324711065,0.003913894324711065,0.003913894324937994,0.003913894324937994,0.003913894324937994,0.003913894324937994,0.003913894324937994,0.003913894324937994,0.003913894324937994,0.003913894324937994,0.003913894324937994,0.003913894324937994,0.003913894324937994,0.003913894324937994,0.003913894324937994,0.003913894324937994,0.003913894324937994,0.003913894324937994,0.003913894324937994,0.003913894324937994,0.003913894324937994,0.003913894324937994,0.003913894324937994,0.003913894324937994,0.003913894324937994,0.003913894324937994,0.003913894324937994,0.003913894324937994,0.003913894324937994,0.003913894324937994,0.003913894324937994,0.003913894324937994,0.003913894324937994,0.003913894324937994,0.003913894324937994,0.003913894324937994,0.003913894324937994,0.003913894324937994,0.003913894324937994,0.003913894324937994,0.003913894324937994,0.003913894324937994,0.003913894324937994,0.003913894324937994,0.003913894324937994,0.003913894324937994,0.003913894324937994,0.003913894324937994,0.003913894324937994,0.003913894324937994,0.003913894324937994,0.003913894324937994,0.003913894324937994,0.003913894324937994,0.003913894324937994,0.003913894325164924,0.003913894325164924,0.003913894325164924,0.003913894325164924,0.003913894325164924,0.003913894325164924,0.003913894325164924,0.003913894325164924,0.003913894325164924,0.003913894325164924,0.003913894325164924,0.003913894325164924,0.003913894325164924,0.003913894325164924,0.003913894325164924,0.003913894325164924,0.003913894325164924,0.003913894325164924,0.003913894325164924,0.00391391752138463,0.003913937787385679,0.003914701306833187,0.003916039005736625,0.003927286077741736,0.003927286077741736,0.003932747044150809,0.003935332412066003,0.003935332412066003,0.003937007873899837,0.003937007873899837,0.003937007874012636,0.003937007874012636,0.0039370078741254345,0.0039370078741254345,0.0039370078741254345,0.003937007878524582,0.003937007878862978,0.003938940589401628,0.003939232716447287,0.003939232716447287,0.003940585578068255,0.003940585578068255,0.0039865790219423105,0.0039865790219423105,0.004019305052053837,0.004019305052053837,0.004024240641266471,0.004054153763863849,0.00437586688360526,0.00437586688360526,0.004375866883808232,0.004375866883808232,0.004378673866188005,0.004378673866188005,0.00438465319441404,0.00438465319441404,0.004395531386741738,0.004396552421343834,0.004396552421343834,0.004396552421343834,0.004396552421343834,0.004396552421343834,0.004396552421343834,0.004396552421343834,0.004396552421343834,0.004396552421343834,0.004396552421343834,0.004396552421343834,0.004396552421343834,0.004396552421343834,0.004396552421343834,0.004396552421343834,0.004396552421343834,0.004396552421343834,0.004396552421545851,0.004396552421545851,0.004396552421545851,0.004396552421545851,0.004396552421545851,0.004396552421545851,0.004396552421545851,0.004396552421545851,0.004396552421545851,0.004396552421545851,0.004396552421545851,0.004396552421545851,0.004396552421545851,0.004396552421545851,0.004396552421545851,0.004396552421545851,0.004396552421545851,0.004396552421545851,0.004396552421545851,0.004396552421747868,0.004396552421747868,0.004396552421747868,0.004396552421747868,0.004396552421747868,0.004396552421747868,0.004396552421747868,0.004396552421747868,0.004396552421747868,0.004396552421747868,0.004396552421747868,0.004396552421747868,0.004396552421747868,0.004396552421747868,0.004396552421747868,0.004396552421747868,0.004396552421747868,0.004396552421747868,0.004396552421747868,0.004396552421949885,0.004396552421949885,0.004396552421949885,0.004422643589875146,0.004422643589875146,0.004458548101273304,0.004468239829576984,0.004468239829576984,0.004502815038109885,0.004503967118484718,0.004520183762368388,0.004520183762368388,0.00453703501160429,0.00453703501160429,0.0046965489639258454,0.0046965489639258454,0.00476552934177307,0.0048124126371162,0.0048124126371162,0.0048124126371162,0.0048124126371162,0.0048124126371162,0.0048124126371162,0.0048124126371162,0.00481241263730076,0.00481241263730076,0.00481241263730076,0.00481241263730076,0.00481241263730076,0.00481241263730076,0.00481241263730076,0.00481241263730076,0.00481241263730076,0.00481241263730076,0.00481241263730076,0.00481241263730076,0.00481241263730076,0.00481241263730076,0.00481241263730076,0.00481241263730076,0.00481241263730076,0.00481241263730076,0.00481241263730076,0.00481241263730076,0.00481241263730076,0.00481241263730076,0.00481241263748532,0.00481241263748532,0.00481241263748532,0.00481241263748532,0.00481241263748532,0.00481241263748532,0.00481241263748532,0.00481241263748532,0.00481241263748532,0.00481241263748532,0.00481241263748532,0.00481241263748532,0.00481241263748532,0.00481241263748532,0.00481241263748532,0.00481241263748532,0.00481241263748532,0.00481241263748532,0.00481241263766988,0.00481241263766988,0.004812484009132055,0.004812484009132055,0.004812568728800639,0.004812568728800639,0.004812799693318631,0.004812799693318631,0.0048128837899533775,0.0048128837899533775,0.0048136200441301,0.0048136200441301,0.004814315013284138,0.004814315013284138,0.004820750799846377,0.004820750799846377,0.004821218647330948,0.004821218647330948,0.004825814465261346,0.004825814465261346,0.004834421123145349,0.004834421123145349,0.0048425838541058435,0.0048425838541058435,0.004852314916165329,0.004852314916165329,0.004867608816949465,0.004867608816949465,0.004915155653281195,0.004915155653281195,0.004964796400192886,0.004964796400192886,0.004971447535041351,0.005195750736448349,0.005373771485127677,0.005373771485127677,0.005535082436022401,0.005535082436182864,0.005535111386441281,0.005535111386441281,0.005535198236308037,0.005535198236308037,0.005535304001604624,0.005535304001604624,0.005535330221825188,0.005535330221825188,0.005535644644117636,0.005535687919593972,0.005536826442930077,0.005536826442930077,0.005539906177035192,0.0055514502415274156,0.0055514502415274156,0.0055514502415274156,0.005551450241687406,0.005551450241687406,0.005551450241687406,0.005551450241687406,0.005551450241687406,0.005551450241687406,0.005556752425548953,0.005556752425548953,0.0055677699305983356,0.0055677699305983356,0.005680486072408319,0.005680486072408319,0.005870841486915311,0.005870841486915311,0.005870841486915311,0.005870841487066597,0.005870841487066597,0.005870841487066597,0.005870841487066597,0.005870841487066597,0.005870841487066597,0.005870841487066597,0.005870841487066597,0.005870841487066597,0.005870841487066597,0.005870841487066597,0.005870841487066597,0.005870841487066597,0.005870841487066597,0.005870841487066597,0.005870841487066597,0.005870841487066597,0.005870841487066597,0.005870841487066597,0.005870841487066597,0.005870841487066597,0.005870841487066597,0.005870841487066597,0.005870841487066597,0.005870841487066597,0.005870841487066597,0.005870841487066597,0.005870841487217884,0.005870841487217884,0.005870841487217884,0.005870841487217884,0.005870841487217884,0.005870841487217884,0.005870841487217884,0.005870841487217884,0.005870841487217884,0.005870841487217884,0.005870841487217884,0.005870841487217884,0.005870841487217884,0.005870841487217884,0.005870841487217884,0.005870841487217884,0.005870841487217884,0.005870841487217884,0.005870841487217884,0.005870841487217884,0.005870841487217884,0.005870841487217884,0.005870841487217884,0.005870841487217884,0.005870841487217884,0.005870841487217884,0.005870841487217884,0.005870841487217884,0.005870841487217884,0.005870841487217884,0.005870841487217884,0.005870841487217884,0.005870841487217884,0.005870841487217884,0.00587084148736917,0.00587084148736917,0.00587084148736917,0.00587084148736917,0.00587084148736917,0.00587084148736917,0.00587084148736917,0.00587084148736917,0.00587084148736917,0.00587084148736917,0.00587084148736917,0.00587084148736917,0.00587084148736917,0.00587084148736917,0.00587084148736917,0.00587084148736917,0.00587084148736917,0.00587084148736917,0.00587084148736917,0.00587084148736917,0.00587084148736917,0.00587084148736917,0.00587084148736917,0.00587084148736917,0.00587084148736917,0.00587084148736917,0.00587084148736917,0.00587084148736917,0.00587084148736917,0.00587084148736917,0.00587084148736917,0.00587084148736917,0.005870841487520456,0.005870841487520456,0.005870841487520456,0.005870841487520456,0.00587398509160923,0.005874259550716525,0.005875140618948871,0.005875140618948871,0.005886275730768124,0.0058862757309190135,0.0058862757309190135,0.0058862757309190135,0.0058862757309190135,0.0058862757309190135,0.0058862757309190135,0.0058862757309190135,0.005886275731069903,0.005886275731069903,0.005886275731069903,0.005886275731069903,0.005886275731069903,0.005886275731069903,0.005886275731069903,0.005886275731069903,0.005886275731069903,0.005886275731069903,0.005886275731069903,0.005886275731069903,0.005886275731069903,0.005886275731069903,0.005886275731069903,0.005886275731069903,0.005886275731069903,0.005886275731069903,0.005886275731069903,0.005886275731069903,0.005886275731069903,0.005886275731069903,0.005886275731069903,0.005886275731069903,0.005886275731069903,0.005886275731069903,0.005886275731069903,0.005886275731069903,0.005886275731069903,0.005886275731069903,0.005886275731069903,0.005886275731069903,0.005886275731069903,0.005886275731069903,0.005886275731069903,0.005886275731069903,0.005886275731069903,0.005886275731069903,0.005886275731069903,0.005886275731069903,0.005886275731220793,0.005886275731220793,0.005886275731220793,0.005886275731220793,0.005886275731220793,0.005886275731220793,0.005886275731220793,0.005886275731220793,0.005886275731220793,0.005886275731220793,0.005886275731220793,0.005886275731220793,0.005886275731371683,0.005886275731371683,0.005886275731371683,0.005890858272099098,0.005926240146982108,0.005926240146982108,0.006002024755318067,0.0061884102937903255,0.0061884102937903255,0.0061884102937903255,0.0061884102937903255,0.006188410294077371,0.006188410294077371,0.006188441077647571,0.006188441077647571,0.006745480884771595,0.006745480884771595,0.006792434657228069,0.00681735446921876,0.00681735446921876,0.0068732141426115076,0.0068732141426115076,0.007068720589129832,0.007068720589129832,0.007068720589381131,0.007068720589381131,0.007068720589381131,0.007117311450380864,0.007117311450380864,0.007334606530921708,0.007334606530921708,0.007334606530921708,0.007334606530921708,0.007334606530921708,0.007334606530921708,0.007334606530921708,0.007334606530921708,0.007334606530921708,0.007334606530921708,0.007334606530921708,0.007334606530921708,0.007334606530921708,0.007334606530921708,0.007334606531042803,0.007334606531042803,0.007334606531042803,0.007334606531042803,0.007334606531042803,0.007334606531042803,0.007334606531042803,0.007334606531042803,0.007334606531042803,0.007334606531042803,0.007334606531042803,0.007334606531042803,0.007334606531042803,0.007334606531042803,0.007334606531042803,0.007334606531042803,0.007334606531042803,0.007334606531042803,0.007334606531163897,0.007334606531163897,0.007334606531163897,0.007334606531163897,0.007334606531163897,0.007334606531163897,0.007334606531163897,0.007827788649535594,0.007827788649535594,0.007827788649535594,0.007827788649535594,0.007827788649535594,0.007827788649535594,0.007827788649535594,0.007827788649535594,0.007827788649535594,0.007827788649535594,0.007827788649535594,0.007827788649535594,0.007827788649535594,0.007827788649535594,0.007827788649649059,0.007827788649649059,0.007827788649649059,0.007827788649649059,0.007827788649649059,0.007827788649649059,0.007827788649649059,0.007827788649649059,0.007827788649649059,0.007827788649649059,0.007827788649649059,0.007827788649649059,0.007827788649649059,0.007827788649649059,0.007827788649649059,0.007827788649649059,0.007827788649649059,0.007827788649649059,0.007827788649649059,0.007827788649649059,0.007827788649649059,0.007827788649649059,0.007827788649649059,0.007827788649649059,0.007827788649649059,0.007827788649649059,0.007827788649649059,0.007827788649649059,0.007827788649762524,0.007827788649762524,0.007827788649762524,0.007827788649762524,0.007827788649762524,0.007827788649762524,0.007827788649762524,0.007827788649762524,0.007827788649762524,0.007827788649762524,0.007827788649762524,0.007827788649762524,0.007827788649762524,0.007827788649762524,0.007827788649762524,0.007827788649762524,0.007827788649762524,0.007827788649762524,0.007827788649762524,0.007827788649762524,0.007827788649762524,0.007827788649875989,0.007827788649875989,0.007827788649875989,0.007827788649875989,0.007827788649875989,0.007827788649875989,0.007827788649875989,0.007827788649875989,0.007827788649875989,0.007827824934471154,0.007827824934471154,0.007874015747968872,0.007874015748025272,0.007874015748025272,0.007874015748025272,0.007874015748025272,0.007876632101245938,0.007876632101245938,0.00787802874291509,0.007878697273308121,0.007878697273308121,0.007883220181620163,0.007883220181620163,0.007883680948681906,0.007883680948681906,0.0079156631827602,0.0079156631827602,0.007989744478053167,0.00806869985425469,0.008068699854364767,0.008068699854364767,0.008068699854474844,0.008068699854474844,0.00811355447351067,0.00811355447351067,0.008113554473620138,0.008113554473620138,0.008113554473620138,0.008113554473729606,0.008113554473729606,0.008113554473729606,0.008113554473729606,0.008302623653766163,0.00830262376576965,0.00830262376576965,0.008302700081620406,0.008302700081620406,0.008302767486340016,0.008302767486340016,0.008302783277045539,0.008302783277045539,0.008303471500411743,0.008303471500411743,0.008307120498824757,0.008307120498824757,0.008321205803382447,0.008333327745122215,0.008333327745122215,0.008346221204392603,0.008346221204392603,0.008350110010818238,0.008350614291547886,0.008350614291547886,0.00836161053256619,0.00836161053256619,0.008385941104216801,0.008385941104216801,0.008422829809889412,0.008422829809889412,0.008482067344512852,0.008482067344512852,0.008556255665916149,0.008556255665916149,0.008690690435876907,0.0087620948490929,0.0087620948490929,0.0087620948490929,0.0087620948490929,0.008762094849194265,0.008762094849194265,0.008762094849194265,0.008762094849194265,0.008793104843495736,0.008946246061506421,0.008946246061506421,0.00897797016798335,0.00897797016798335,0.00897797016798335,0.00897797016798335,0.008977970168082277,0.008977970168082277,0.008977970168082277,0.008977970168082277,0.008977970168082277,0.008977970168181207,0.008977970168181207,0.008977970168181207,0.008977970168181207,0.008977970168181207,0.008977970168181207,0.008977970168181207,0.008977970168181207,0.008977970168280135,0.008977970168280135,0.008977970168379064,0.00900823706290009,0.00900823706290009,0.009008237063097281,0.009008237063097281,0.009158491912204598,0.009188776445995734,0.009188804697991626,0.009188804697991626,0.00918886618382136,0.00918886618382136,0.009191573438287373,0.009234760890495443,0.009234760890495443,0.009460106886730591,0.009460106886730591,0.00962482527487836,0.00962482527497064,0.00962731230043579,0.00962731230043579,0.009628280447980999,0.009628280447980999,0.00963043828828162,0.00963043828828162,0.009651156780713094,0.009651156780713094,0.009667849897179804,0.009667849897179804,0.009693484347905876,0.009784735811959206,0.009784735811959206,0.009784735811959206,0.009784735811959206,0.009784735811959206,0.009784735811959206,0.009784735811959206,0.009784735811959206,0.009784735811959206,0.009784735811959206,0.009784735811959206,0.009784735811959206,0.009784735811959206,0.009784735812049977,0.009784735812049977,0.009784735812049977,0.009784735812049977,0.009784735812049977,0.009784735812049977,0.009784735812049977,0.009784735812049977,0.00978473581214075,0.00978473581214075,0.00978473581214075,0.00978473581214075,0.00978473581214075,0.00978473581214075,0.00978473581214075,0.00978473581214075,0.00978473581214075,0.00978473581214075,0.00978473581214075,0.00978473581214075,0.00978473581214075,0.00978473581214075,0.00978473581214075,0.00978473581214075,0.00978473581214075,0.009784735812231521,0.009784735812231521,0.009784735812231521,0.009784735812231521,0.009784735812231521,0.009784735812322294,0.009784735812322294,0.009784735812322294,0.009784735812322294,0.009784735812322294,0.009784964692369157,0.009787612524827858,0.009787612524827858,0.009790472251700226,0.009790472251700226,0.009819413729859318,0.009819413729859318,0.009978511768187915,0.009978511768276924,0.009978511768276924,0.009978511768276924,0.009978511768365932,0.009978511768365932,0.009982252162192368,0.009982252162192368,0.00999999999981071,0.00999999999981071,0.00999999999981071,0.00999999999981071,0.00999999999981071,0.00999999999981071,0.00999999999981071,0.00999999999981071,0.00999999999981071,0.00999999999981071,0.00999999999981071,0.00999999999981071,0.009999999999899528,0.009999999999899528,0.009999999999899528,0.009999999999899528,0.009999999999899528,0.009999999999899528,0.009999999999899528,0.009999999999899528,0.009999999999899528,0.009999999999899528,0.009999999999899528,0.009999999999899528,0.009999999999899528,0.009999999999899528,0.009999999999899528,0.009999999999899528,0.009999999999899528,0.009999999999899528,0.009999999999943937,0.009999999999943937,0.009999999999988346,0.009999999999988346,0.009999999999988346,0.009999999999988346,0.009999999999988346,0.009999999999988346,0.009999999999988346,0.009999999999988346,0.009999999999988346,0.009999999999988346,0.009999999999988346,0.009999999999988346,0.009999999999988346,0.009999999999988346,0.009999999999988346,0.009999999999988346,0.009999999999988346,0.009999999999988346,0.009999999999988346,0.009999999999988346,0.009999999999988346,0.009999999999988346,0.009999999999988346,0.009999999999988346,0.009999999999988346,0.009999999999988346,0.009999999999988346,0.009999999999988346,0.009999999999988346,0.009999999999988346,0.009999999999988346,0.009999999999988346,0.009999999999988346,0.009999999999988346,0.009999999999988346,0.009999999999988346,0.009999999999988346,0.009999999999988346,0.009999999999988346,0.009999999999988346,0.009999999999988346,0.009999999999988346,0.009999999999988346,0.009999999999988346,0.009999999999988346,0.009999999999988346,0.009999999999988346,0.009999999999988346,0.009999999999988346,0.009999999999988346,0.009999999999988346,0.009999999999988346,0.009999999999988346,0.009999999999988346,0.009999999999988346,0.009999999999988346,0.009999999999988346,0.009999999999988346,0.009999999999988346,0.009999999999988346,0.009999999999988346,0.009999999999988346,0.009999999999988346,0.009999999999988346,0.009999999999988346,0.009999999999988346,0.010000000000032755,0.010000000000032755,0.010000000000077164,0.010000000000077164,0.010000000000077164,0.010000000000077164,0.010000000000077164,0.010000000000077164,0.010000000000077164,0.010000000000077164,0.010000000000077164,0.010000000000077164,0.010000000000077164,0.010000000000077164,0.010000000000077164,0.010000000000077164,0.010000000000077164,0.010000000000077164,0.010000000000077164,0.010000000000077164,0.010000000000077164,0.010000000000077164,0.010000000000077164,0.010000000000077164,0.010000000000077164,0.010000000000077164,0.010000000000077164,0.010000000000165982,0.010000000000165982,0.010000000000165982,0.010000000000165982,0.010000000000165982,0.010000000000165982,0.010000000000165982,0.010000000000165982,0.010000000000165982,0.010000000000165982,0.010000000000165982,0.010000000000165982,0.01000000000189793,0.010000000001942339,0.010000000001942339,0.010000000007537863,0.010000000007537863,0.010000000273014389,0.010000005324305693,0.010000022720543508,0.010000022720543508,0.010000039200998333,0.010000216904128743,0.010000360227387322,0.010000360227387322,0.01000057325081341,0.01000057325081341,0.010000807238101416,0.010000876129501995,0.010000876129501995,0.010001368918528358,0.010001368918528358,0.010002224982860854,0.010002659533354214,0.010005474550400871,0.010005474550400871,0.010008205469867767,0.010010976442277058,0.010014816322140732,0.010014816322140732,0.010016829703189983,0.010027794780608525,0.010027794780608525,0.010027834020788117,0.010027834020788117,0.010083862430428206,0.010085531317024825,0.010118433920027549,0.010118433920027549,0.010189683125223552,0.010189683125223552,0.010189683125223552,0.010189683125223552,0.010189683125223552,0.010189683125223552,0.010189683125223552,0.010189683125310716,0.010189683125310716,0.010189683125310716,0.010189683125310716,0.010189683125310716,0.010189683125310716,0.010189683125310716,0.010189683125310716,0.010189683125310716,0.010189683125310716,0.010189683125310716,0.010189683125310716,0.010189683125310716,0.010189683125310716,0.010189683125310716,0.010189683125310716,0.010189683125310716,0.010189683125310716,0.010189683125310716,0.010189683125310716,0.010189683125310716,0.010189683125397881,0.010189683125397881,0.010189683125397881,0.010189683125397881,0.010189683125397881,0.010189683125397881,0.010189683125397881,0.010189683125397881,0.010189683125397881,0.010189683125397881,0.010189683125397881,0.010189683125397881,0.010189683125397881,0.010189683125397881,0.010189683125397881,0.010189683125397881,0.010189683125397881,0.010189683125397881,0.010189683125397881,0.010189683125397881,0.010189683125397881,0.010189683125397881,0.010189683125397881,0.010189683125397881,0.010189683125397881,0.010189683125397881,0.010189683125397881,0.010189683125397881,0.010189683125397881,0.010189683125397881,0.010189683125397881,0.010189683125397881,0.010189683125397881,0.010189683125397881,0.010189683125397881,0.010189683125397881,0.010189683125397881,0.010189683125397881,0.010189683125397881,0.010189683125397881,0.010189683125397881,0.010189683125397881,0.010189683125397881,0.010189683125397881,0.010189683125397881,0.010189683125397881,0.010189683125397881,0.010189683125397881,0.010189683125397881,0.010189683125397881,0.010189683125397881,0.010189683125397881,0.010189683125397881,0.010189683125397881,0.010189683125397881,0.010189683125397881,0.010189683125397881,0.010189683125397881,0.010189683125397881,0.010189683125485044,0.010189683125485044,0.010189683125485044,0.010189683125485044,0.010189683125485044,0.010189683125485044,0.010189683125485044,0.010189683125485044,0.010189683125485044,0.010189683125485044,0.010189683125485044,0.010189683125485044,0.010189683125485044,0.010189683125485044,0.010189683125485044,0.010189683125485044,0.010189683125485044,0.010189683125485044,0.010189683125485044,0.010189683125485044,0.010189683125485044,0.010189683125485044,0.010189683125485044,0.010189683125485044,0.010189683125572209,0.010189683125572209,0.010189683125572209,0.010189683125572209,0.010189683125572209,0.010189683125572209,0.010189683125572209,0.01018968318475689,0.01018968318475689,0.010190601511632117,0.010191368187407667,0.010194767752466773,0.01020286945899131,0.01020286945899131,0.010280611469921543,0.010344895753046883,0.010344895753046883,0.01036865758927478,0.01036865758927478,0.010375899208767081,0.010375899208767081,0.010375899208767081,0.010375899208767081,0.010375899208852681,0.010375899208852681,0.010375899208852681,0.010375899208852681,0.010375899208852681,0.010375899208852681,0.010375899208852681,0.010375899208852681,0.010375899208852681,0.010375899208852681,0.010375899208852681,0.01037589920893828,0.01037589920893828,0.010375938458325608,0.010376060393262597,0.010376067873568689,0.010376067873568689,0.010377177312872401,0.010377778905650175,0.010379086777610536,0.01038305115387357,0.010391140457940429,0.010392984766581332,0.010398893705411017,0.010398893705411017,0.010572864917171073,0.010597398552330618,0.01063395507448165,0.01063395507448165,0.010727102502866933,0.010727102502949731,0.010727102502949731,0.010727102502949731,0.010727102502949731,0.010727102503032528,0.010727102503032528,0.010727102503032528,0.010727102503032528,0.010727102503032528,0.010727102503115326,0.010727102503115326,0.010738648368450274,0.010738648368450274,0.010738648368450274,0.010738648368450274,0.010738648368450274,0.010738648368450274,0.010738648368532982,0.010738648368532982,0.010738648368532982,0.010738648368532982,0.010738648368532982,0.010738648368532982,0.010738648368532982,0.010738648368532982,0.010738648368532982,0.010738648368532982,0.01073864836861569,0.01073864836861569,0.01073864836861569,0.01073864836861569,0.01073864836861569,0.01073864836861569,0.01073864836861569,0.01073864836861569,0.01073864836861569,0.01073864836861569,0.01073864836861569,0.01073864836861569,0.01073864836861569,0.01073864836861569,0.01073864836861569,0.01073864836861569,0.01073864836861569,0.01073864836861569,0.01073864836861569,0.01073864836861569,0.01073864836861569,0.01073864836861569,0.01073864836861569,0.01073864836861569,0.01073864836861569,0.01073864836861569,0.01073864836861569,0.010738648368698398,0.010738648368698398,0.010738648368698398,0.010738648368698398,0.010738648368698398,0.010738648368698398,0.010738648368698398,0.010738648368698398,0.010738648368698398,0.010738648368698398,0.010738648368698398,0.010738648368698398,0.010738648368698398,0.010738648368698398,0.010738648368698398,0.010738648368698398,0.010738648368698398,0.010738648368698398,0.010738648368698398,0.010738648368698398,0.010738648368698398,0.010738648368698398,0.010738648368698398,0.010738648368698398,0.010738648368698398,0.010738648368698398,0.010738648368698398,0.010738648368698398,0.010738648368698398,0.010738648368698398,0.010738648368698398,0.010738648368698398,0.010738648368698398,0.010738648368698398,0.010738648368698398,0.010738648368698398,0.010738648368781108,0.010738648368781108,0.010738648368781108,0.010738648368781108,0.010738648368781108,0.010738648368781108,0.010738648368781108,0.010738648368781108,0.010738648368781108,0.010738648368781108,0.010738648368781108,0.010738648368781108,0.010738648368781108,0.010738648368781108,0.010738648368781108,0.010738648368781108,0.010738648368781108,0.010738648368781108,0.010738648368781108,0.010738648368781108,0.010738648368781108,0.010738648368781108,0.010738648368781108,0.010738682590396446,0.010741377230707415,0.010747094072219705,0.010747094072219705,0.010747094072219705,0.010747094072219705,0.01074709407238499,0.01074709407238499,0.01074709407238499,0.01074709407238499,0.01074709407238499,0.01074709407238499,0.010747094074037863,0.010747094877416156,0.010747094877416156,0.010747100661184384,0.010747100661184384,0.01074713623292895,0.01074727030578916,0.010747624915117378,0.010748405216488932,0.010748405216488932,0.010759997647917456,0.010759997647917456,0.010789914957271126,0.010794197235249237,0.010794197235249237,0.010833726356348028,0.010833726356348028,0.010915503239934649,0.010915503239934649,0.010915503239934649,0.010915503239934649,0.010915503239934649,0.010915503239934649,0.010915503239934649,0.010915503240016016,0.010915503240016016,0.010915503240016016,0.010915503240016016,0.010915503240016016,0.010915503240097385,0.010915503240097385,0.010915503240097385,0.010915503240097385,0.010915503240097385,0.010915503240097385,0.010916524582548002,0.010923812209727485,0.010923812209727485,0.010923812209727485,0.010923812209727485,0.010923812209727485,0.010923812209727485,0.010923812209727485,0.010923812209727485,0.010923812209727485,0.010923812209727485,0.010923812209808792,0.010923812209808792,0.010923812209808792,0.010923812209808792,0.010923812209808792,0.010923812209808792,0.010923812209808792,0.010923812209890098,0.010923812209890098,0.010923812209890098,0.010923812209890098,0.010923812209890098,0.010923812209890098,0.010923812209890098,0.010923812209890098,0.010923812209890098,0.010923812209890098,0.010923812209890098,0.010923812209890098,0.010923812209890098,0.010923812209890098,0.010923812209890098,0.010923812209890098,0.010923812209890098,0.010923812209890098,0.010923812209890098,0.010923812209890098,0.010923812209890098,0.010923812209890098,0.010923812209890098,0.010923812209890098,0.010923812209890098,0.010923812209890098,0.010923812209971405,0.010923812209971405,0.010923812209971405,0.010923812209971405,0.010923812209971405,0.010923812209971405,0.010924235492734495,0.010924235492734495,0.011008794774116173,0.011008794774116173,0.011070278595156552,0.011070614088861211,0.011070614088861211,0.011072606091802085,0.011075908437533573,0.011075908437533573,0.011077878716835781,0.011078493892432793,0.011097716674597646,0.011097716674677679,0.011097716674677679,0.011097716674677679,0.011097716674677679,0.011097716674677679,0.011097716674677679,0.011097716674677679,0.011097716674677679,0.011097716674677679,0.011097716674677679,0.011097716674677679,0.011097716674677679,0.011097716674677679,0.011097716674677679,0.011097716674677679,0.011097716674757712,0.011097716674757712,0.011097716674757712,0.011097716674757712,0.011097716674757712,0.011097716674757712,0.011097716674757712,0.011097716674757712,0.011097716674757712,0.011097716674757712,0.011097716674757712,0.011097716674757712,0.011097716674757712,0.011097716674757712,0.011097716674757712,0.011097716674757712,0.011097716674757712,0.011097716674757712,0.011097716674757712,0.011097716674757712,0.011097716674757712,0.011097716674757712,0.011097716674757712,0.011097716674757712,0.011097716674757712,0.011097716674837744,0.011097716674837744,0.011097716674837744,0.011097716674837744,0.011097716674837744,0.011097716674917777,0.011097716674917777,0.011097717165437185,0.011097717165437185,0.011097828478728256,0.011097828478728256,0.011100821392255204,0.011100821392255204,0.011101602325808806,0.011101602325808806,0.011104476380673784,0.011106329946581348,0.011112069324425405,0.011112069324425405,0.01111431858894441,0.01111431858894441,0.011115829574410882,0.011115829574410882,0.011279872176629499,0.011279872176629499,0.011282711976994637,0.011355461748621105,0.011355461748621105,0.011429660431156924,0.011429660431156924,0.01142966043123463,0.01142966043123463,0.011429661579606457,0.011429661579606457,0.01142989445526379,0.01142990164059805,0.01142990164059805,0.011431124278133295,0.011435212148775457,0.011437595891713668,0.011437595891713668,0.011437595891791323,0.011437595891946631,0.011437595891946631,0.011437595891946631,0.011438140089912924,0.011438140089912924,0.011443078621066926,0.011443359480052933,0.011445971953176492,0.011445971953176492,0.011447537630110638,0.011447537630110638,0.011466253029368186,0.011466253029368186,0.011473951475469172,0.011473951475469172,0.011501290845922708,0.011530135034275192,0.011530135034275192,0.011595981190310257,0.011595981190310257,0.011595981190310257,0.011595981190310257,0.011595981190310257,0.011595981190310257,0.011595981190310257,0.011595981190310257,0.011595981190310257,0.011595981190310257,0.011595981190310257,0.011595981190310257,0.011595981190310257,0.01159598119038685,0.01159598119038685,0.01159598119038685,0.01159598119038685,0.01159598119038685,0.01159598119038685,0.01159598119038685,0.01159598119038685,0.01159598119038685,0.01159598119038685,0.01159598119038685,0.01159598119038685,0.01159598119038685,0.011595981190463444,0.011595981190463444,0.011595981190463444,0.011595981190463444,0.011595981190463444,0.011595981190463444,0.011595981190463444,0.011595981190463444,0.011595981190463444,0.011595981190463444,0.011595981190463444,0.011595981190463444,0.011595981190463444,0.011595981190463444,0.011595981190463444,0.011595981190540037,0.011603802910260632,0.011603802910260632,0.011603802910260632,0.011603802910260632,0.011603802910260632,0.011603802910260632,0.011603802910260632,0.011603802910337174,0.011603802910337174,0.011603802910337174,0.011603802910337174,0.011603802910337174,0.011603802910337174,0.011603802910337174,0.011603802910337174,0.011603802910337174,0.011603802910337174,0.011603802910337174,0.011603802910337174,0.011603802910337174,0.011603802910337174,0.011603802910337174,0.011603802910337174,0.011603802910337174,0.011603802910337174,0.011603802910337174,0.011603802910337174,0.011603802910337174,0.011603802910337174,0.011603802910337174,0.011603802910337174,0.011603802910337174,0.011603802910337174,0.011603802910413717,0.011603802910413717,0.011603802910413717,0.011603802910413717,0.011603802910413717,0.011603802910413717,0.011603802910490258,0.011640452960191365,0.011646553769528637,0.011646553769528637,0.011741682974435768,0.011741682974435768,0.011741682974435768,0.01174168297451141,0.01174168297451141,0.01174168297451141,0.01174168297451141,0.011741682974587053,0.011741682974587053,0.011741682974587053,0.011741682974587053,0.011741682974587053,0.011741682974587053,0.011741682974587053,0.011741682974662698,0.011741682974662698,0.011741682974662698,0.011749407701196311,0.011749407701196311,0.011749800879011715,0.01175164178929396,0.01175994991325561,0.01175994991325561,0.01175994991325561,0.011759949913406662,0.011775370329345607,0.011775370329345607,0.01179892595016464,0.011813609177349641,0.011901485270701876,0.011901485270701876,0.011903741642273126,0.011903741642273126,0.011907794471970781,0.011907794471970781,0.01193041885668205,0.01193041885668205,0.011965370806815274,0.0119747977935662,0.012088720716952639,0.012088720716952639,0.012088720717026111,0.012088720731022464,0.012088722793812706,0.012088722793812706,0.012089481990415485,0.012093194019719193,0.012095742535246541,0.012095742535246541,0.012117390516655165,0.012117390516655165,0.01211970216645721,0.01211970216645721,0.012136423276016585,0.012174158986769632,0.012238682468084032,0.012238682468229175,0.012246093694265584,0.012246093694338113,0.01224609369441064,0.012246599426703532,0.012246599426703532,0.012384149146252767,0.012384149146252767,0.0124014697903688,0.0124014697903688,0.0124014697903688,0.0124014697903688,0.012401469790440418,0.012401469790440418,0.012401469790440418,0.012401469790440418,0.012401469790440418,0.012401469790440418,0.012401469790440418,0.012401469790440418,0.012401469790440418,0.012401469790440418,0.012401469790512038,0.012401469790512038,0.012401469790512038,0.012401469790512038,0.012401469790512038,0.012401469790512038,0.012401469790512038,0.012401469790512038,0.012401469790512038,0.012401469790512038,0.012401469790512038,0.012401469790583656,0.012401469790583656,0.012401469790583656,0.012401469790583656,0.012401469790583656,0.012401469790655276,0.012401469790655276,0.012537814493337018,0.012537814493337018,0.01253781449340786,0.01253781449340786,0.012537814493478698,0.012537814493478698,0.012537814493478698,0.012537814493478698,0.012537814493478698,0.012699380895925158,0.012699380895925158,0.012699380895995097,0.012699380895995097,0.012699380895995097,0.012699380895995097,0.012699380896065036,0.012699380896065036,0.012699380896065036,0.012699380896065036,0.012699380896065036,0.012699380896065036,0.012699380896065036,0.012699380896065036,0.012699380896134975,0.012699380896134975,0.012727927122689275,0.012740789944547056,0.012740789944547056,0.012757228469457267,0.012770889930007643,0.012842753118104174,0.012849276918939561,0.012849276918939561,0.012849276919008685,0.012849453941778739,0.012849453941778739,0.012856336163687414,0.012856336163687414,0.012856336163756497,0.012856336163756497,0.012877490679189621,0.012877490679189621,0.012877490679258592,0.012877490679258592,0.012877490679327565,0.012877490679327565,0.012877490679327565,0.012999980828401767,0.013025337169872685,0.013025337170009062,0.01302533717007725,0.01302533717007725,0.01302551753604659,0.01302551753604659,0.013029376944892755,0.013029376944892755,0.013043687049805458,0.013046792662591542,0.013051593348851538,0.013051593348851538,0.013059532860233078,0.01314790075911332,0.013155217508598828,0.013155217508598828,0.013255595268059885,0.013295649895454186,0.013295649895454186,0.013295649895520989,0.013316106517481843,0.013316106517548542,0.013316106517548542,0.013316106517548542,0.013316106517615242,0.013316106517615242,0.013322485970858139,0.013377012086473659,0.013438896842328327,0.013438896842328327,0.013438896842328327,0.013438896842328327,0.013438896842394417,0.013438896842394417,0.013438896842394417,0.013438896842394417,0.013438896842394417,0.013438896842394417,0.013438896842394417,0.013438896842394417,0.013438896842460506,0.013438896842460506,0.013438896842460506,0.013438896842460506,0.013438896842526598,0.013438896842526598,0.013438896842526598,0.01343893734497471,0.01343893734497471,0.013459135744279798,0.013459135744279798,0.013459135744345789,0.013459135744345789,0.013521906670192782,0.013582267438836346,0.013582267438836346,0.013599568360851367,0.013599568360851367,0.013698630136812912,0.013698630136942586,0.013698630137007423,0.013698630137007423,0.013698630137007423,0.013701042078282955,0.013837706095222925,0.013837712003870977,0.013837712003870977,0.01384774615232757,0.013879382607728063,0.013879382607792055,0.013879382607792055,0.013881713950137967,0.013881713950137967,0.013884196632031446,0.013899953114321977,0.013935368514796228,0.013986395732531562,0.013990748904529875,0.013990748904529875,0.01399074890459336,0.01399074890459336,0.01399074890459336,0.01399074890459336,0.013990748904656842,0.013990748904656842,0.013990748904656842,0.013990748904656842,0.013990748904656842,0.013990748904656842,0.013990748904656842,0.013990748904656842,0.013990748904656842,0.013990748904656842,0.013990748904656842,0.013990748904720325,0.01399074890478381,0.01399074890478381,0.014016665215598868,0.014016665215598868,0.014016665215662234,0.014078998958763626,0.014126949320692278,0.014126949320692278,0.014126949320755148,0.014127771502895277,0.014128391880995465,0.014128391880995465,0.014142135623588863,0.014142135623651667,0.014142135623651667,0.014142135623651667,0.01414213562371447,0.01414213562371447,0.01414213562371447,0.01414213562371447,0.01414213562371447,0.01414213562371447,0.01414213562371447,0.01414213562371447,0.01414213562371447,0.01414213562371447,0.01414213562371447,0.014142135623777275,0.014142135623777275,0.014142135623777275,0.014142136867918483,0.014142139983358127,0.01414214735895746,0.014142148879684869,0.014142761398669006,0.014151471401331512,0.014152616223369562,0.014152616223495076,0.014175890069400284,0.014276891895499709,0.014276891895499709,0.014276891895499709,0.014276891895499709,0.014276891895499709,0.014276891895499709,0.014276891895499709,0.014276891895499709,0.014276891895499709,0.014276891895499709,0.014276891895499709,0.014276891895499709,0.01427689189556192,0.01427689189556192,0.01427689189556192,0.01427689189562413,0.01427689189562413,0.01427689189562413,0.01428182342280184,0.01432432123675911,0.014386873907286196,0.014386873907286196,0.014386873907286196,0.014386873907286196,0.014386915066234093,0.014386915066234093,0.014389601309679098,0.014389601309679098,0.014392849367108801,0.014392849367108801,0.014410388072221949,0.014410388072221949,0.014410388072283583,0.014410388072283583,0.01441064793417846,0.014437549359965428,0.014437549359965428,0.014475005870240195,0.0145278912336981,0.014527891233759237,0.014534135196574509,0.01453413519663562,0.01453413519663562,0.01453413519663562,0.014552851011157955,0.014552851011280017,0.014552851011341048,0.014557406305954097,0.014557406305954097,0.014665289908719192,0.014665289908779754,0.014665289908779754,0.014665289908779754,0.014665289908840319,0.014665289908840319,0.014665289908900881,0.014665289908900881,0.014673737382975728,0.014673737382975728,0.014673737382975728,0.014673737382975728,0.014673737382975728,0.014673737382975728,0.014673737382975728,0.014673737382975728,0.014673737382975728,0.014673737382975728,0.014673737382975728,0.014673737382975728,0.014673737383036256,0.014679919311783004,0.014679919311783004,0.014679919311843505,0.014681861592859898,0.014681861592859898,0.014706277066188517,0.014706277066188517,0.01480365532503939,0.01480365532503939,0.01480365532503939,0.014803655325099387,0.014809783023162703,0.014809783023222675,0.014809783023222675,0.014809783023222675,0.014809783023222675,0.014809783023282648,0.014809783023282648,0.014809783023282648,0.014809783023282648,0.014809783023282648,0.014809783023282648,0.014809783023282648,0.014809783023282648,0.014809783023282648,0.014809783023342621,0.014809783023342621,0.014918160381853873,0.014918217188593283,0.014919962911671743,0.014921029838512215,0.014938517844465347,0.014938517844465347,0.014938517844524803,0.014938517844524803,0.014938517844524803,0.014938517844524803,0.014938517844524803,0.014938517844584259,0.014938517844584259,0.014938517844584259,0.014938517844584259,0.014938517844643713,0.014938517844643713,0.014938517844643713,0.014938517844643713,0.014938517844703169,0.014942148924940798,0.014942210374266225,0.014942210374266225,0.014943411607591342,0.014945223884553046,0.014945223884553046,0.014945700937343551,0.01495041204354685,0.014954035903374198,0.01496021033911265,0.01496021033911265,0.014966081008498146,0.015011638859256519,0.01504368355208958,0.01504368355208958,0.015069971510913447,0.015069971511090258,0.015172601447326657,0.015172659899997793,0.015186742164627473,0.015186893415618406,0.015186893415618406,0.0151927153526111,0.0151927153526111,0.01519723196841934,0.01519723196841934,0.015198083557846803,0.01531230811359921,0.01531230811359921,0.015312308113657216,0.015312308113657216,0.015312308113657216,0.015312308113657216,0.015312308113657216,0.015312308113657216,0.015312308113657216,0.015312308113657216,0.015312308113657216,0.015312308113657216,0.015312308113657216,0.01531230811371522,0.01531230811371522,0.01531230811371522,0.01531230811371522,0.01531230811371522,0.01531230811371522,0.015318232338677868,0.015318232338677868,0.015318232338677868,0.015318232338677868,0.015318232338677868,0.015318232338677868,0.015318232338677868,0.015318232338677868,0.015318232338677868,0.01531823233873585,0.01531823233873585,0.01531823233873585,0.01531823233873585,0.01531823233873585,0.01531823233873585,0.01531823233873585,0.01531823233873585,0.01531823233873585,0.01531823233873585,0.01531823233873585,0.01531823233873585,0.01531823233873585,0.01531823233873585,0.01531823233873585,0.015408390736614241,0.015408390736614241,0.01542294132362312,0.01542294132368071,0.01542294132368071,0.015422941323738297,0.015422941323738297,0.015422941323738297,0.015422941323738297,0.015422941323738297,0.015429279221524145,0.015436852722215648,0.01544739126949733,0.01544739126949733,0.015475796554537666,0.015475796554709839,0.015475803067318154,0.015481137814812907,0.015546599669114973,0.015546599669114973,0.015546599669172103,0.015581021957096052,0.015581021957096052,0.015599035905904288,0.015599035906018164,0.015599170048400732,0.015599170048400732,0.01565557729935485,0.015688759306339263,0.015721330188425708,0.015721615743292557,0.015732296217317133,0.015748031495994144,0.015748031495994144,0.015804598968476056,0.015804625774420013,0.01581033873040912,0.015917510800148603,0.015917510800204402,0.015917510800204402,0.015930990332147378,0.015930990332147378,0.015930990332258883,0.015930990332258883,0.015967615299372028,0.015967615299372028,0.015968729130345142,0.015968729130345142,0.015992248080766464,0.0159923630278909,0.016031697666195055,0.01603735614965494,0.01603735614965494,0.01603735614965494,0.016163980795061237,0.016163980795061237,0.016163980795116186,0.01617315124245533,0.01618658007680323,0.01618658007680323,0.01618670077114551,0.01618670077114551,0.01620677618758342,0.01620677618758342,0.016208990573094693,0.016225072194655504,0.01626120456095587,0.01626120456101049,0.01626120456101049,0.01628201207884969,0.01628201207895879,0.01628201207895879,0.016287583600868488,0.016287583600868488,0.016304286742937737,0.016304286742937737,0.01639990214645433,0.01639990214645433,0.016425065920106514,0.016429349065315388,0.016429349065315388,0.016448615030130266,0.016450222132425626,0.016502542193356548,0.0165245195905452,0.0165245195906527,0.01657125873647588,0.016605247307692788,0.016605313231670086,0.016608378291796132,0.016636535280641646,0.01665288842167296,0.016658335901248756,0.016658335901248756,0.016667234352570504,0.016670505713246565,0.016670505713246565,0.016703309791821594,0.016703309791821594,0.016751237218090277,0.016751237218090277,0.016751237218090277,0.016751237218090277,0.01675123721819632,0.01675123721819632,0.01675123721819632,0.01675123721819632,0.01675123721824934,0.01675123721824934,0.01675123721824934,0.016751237218302364,0.016751237218302364,0.016751237218302364,0.016751237218302364,0.016752097433639732,0.016752097433639732,0.016767478492037517,0.01676747849209049,0.016767478492143457,0.016834311964552477,0.016865159072481043,0.016865159072481043,0.01686857060592468,0.01686857060592468,0.016869122538303895,0.016869993523306436,0.016873164746070878,0.016960320386913162,0.01696032038696553,0.01696032038696553,0.016960320387017898,0.016960320387070266,0.016965669154095135,0.017069527609258096,0.01707241097075375,0.01707284717816286,0.01707284717816286,0.017073105782125116,0.017073307919652746,0.0171004616362967,0.01710664378454965,0.01710664378454965,0.01710664378462753,0.01710664378462753,0.017106643788962858,0.017106643788962858,0.017106684928442674,0.017107093535501418,0.01719712344879002,0.017197123448841667,0.017218214302474756,0.017218214302474756,0.01752090582211639,0.01752090582211639,0.01752090582211639,0.017562329225273256,0.017562985605165338,0.017562985605165338,0.017612524461855367,0.017612524461855367,0.017612524461855367,0.0176368892136529,0.017642026128262493,0.017642702035887817,0.017657448075939636,0.017750231776135994,0.017750231776135994,0.01775023177618603,0.017750231776236067,0.017750231776286107,0.017757211740093936,0.017757211740143955,0.0178647197286253,0.017864719728675017,0.017864719728675017,0.01786979779384549,0.017869797793895192,0.017890549333374372,0.017890549333374372,0.017947680836157002,0.017976632481945913,0.01797663248199532,0.01797663248199532,0.017976632482044726,0.017976932408808564,0.017984967654848895,0.018070961642842318,0.01807096164289147,0.018188419386763233,0.018195153019049823,0.018203867073924778,0.018288432950067535,0.01829339339711152,0.01829339339711152,0.01829339339711152,0.01829339339716007,0.018293393397208625,0.018293393397208625,0.018293393397208625,0.018374419130983043,0.01838116207076388,0.01838116207076388,0.01838116207076388,0.01838116207086052,0.01838116207086052,0.01838116207086052,0.018400895845807726,0.018400895845807726,0.018425533343726024,0.018425533343726024,0.01848504155449732,0.01848912926996373,0.018529164071727867,0.018536419036220386,0.018536419036220386,0.018576789296702093,0.018576789296702093,0.018576789296749906,0.018576789296749906,0.018576789296797718,0.018576789296845527,0.01857678929689334,0.01859322096043782,0.018604761986438144,0.018604761986438144,0.018604761986485883,0.018632218423876384,0.018632218423876384,0.018633185671719815,0.018644855894301354,0.018644855894301354,0.018654771400282936,0.018654771400282936,0.018654771742989264,0.018654771742989264,0.018694974996449155,0.01870739989331134,0.018783022497927584,0.018783022497927584,0.018798062402130458,0.018798062402130458,0.018809477743049988,0.018809477743049988,0.01880947774314443,0.018838760939865494,0.018838760939865494,0.018984683793714527,0.019010514580653292,0.019017673728888292,0.019026300849120072,0.01903407671626526,0.01906568978556811,0.019089965263751597,0.019089965263844648,0.019112440439542175,0.019126676820496083,0.019216445940733105,0.0192441265849402,0.0192441265849402,0.01929595550475549,0.01929595550480152,0.019335095372594563,0.019335095372594563,0.019392201779195643,0.019406000204263654,0.019436993105031695,0.019436993105077387,0.019444530297854312,0.01946487638113142,0.019466199779787367,0.019469320034177565,0.019469320034177565,0.019509073487484034,0.0195230206419053,0.0195230206419053,0.019556770586337337,0.019569471624236112,0.01968503936995038,0.01968503936995038,0.019686894630268244,0.019686894630268244,0.019688891985794568,0.019688891985794568,0.019688891985839677,0.019693499685028197,0.019730322540541592,0.01974078109952326,0.01974078109952326,0.019768933428070234,0.019783165912106795,0.01980277244302163,0.01980424092670276,0.01981534875889605,0.01987947120864349,0.01991147668479829,0.019913292163069977,0.01997540540116522,0.019999999999932284,0.019999999999932284,0.019999999999954488,0.02000000000006551,0.02000000000006551,0.02000000000006551,0.02000000000006551,0.02000000000006551,0.02000000000006551,0.02000000000006551,0.020000000003818064,0.02000001048392099,0.020002072317046312,0.020002249890465867,0.020006471847387963,0.020007412275547802,0.020011734074056587,0.020078657789578156,0.020078657789578156,0.020095512986573465,0.020095512986750257,0.020095512986750257,0.020170939273422,0.020170939273422,0.020173798373724423,0.02017379837376845,0.02017379837390053,0.020178501225887054,0.020178501225887054,0.02019060350402211,0.020214044361731357,0.020239414661609816,0.020265075114081866,0.02027908000658847,0.02027908000658847,0.020292497937766836,0.020292497937766836,0.020373284666687096,0.020373284666687096,0.020373284666687096,0.02037610884983678,0.020400019485871435,0.02045656538668077,0.020465558104706665,0.020473150718247894,0.020473150718247894,0.02047754070185785,0.02047754070185785,0.02047754070185785,0.020529639831321035,0.020529639831321035,0.020570836526317936,0.020606848859296725,0.02063637832275289,0.020666495623177857,0.020666495623177857,0.020714695954323403,0.020725122222032225,0.020725122222032225,0.020751809630250605,0.020752409066633948,0.020843866718224486,0.020848219156196602,0.020860642735579128,0.020860642735579128,0.0208888250608871,0.0208888250608871,0.020925262024554296,0.020925262024554296,0.02093553013340982,0.02093553013340982,0.02096426197079657,0.020967156233807807,0.020967156233807807,0.02099615659666667,0.02112195939234286,0.02114614771992831,0.021166049277732652,0.021167057225524397,0.021174989993141213,0.021219502163598962,0.021256429668801643,0.021256697681859033,0.021256697681859033,0.021302498749308344,0.021326482339968946,0.021326482339968946,0.021346188896209005,0.02138216060813746,0.021416080173209475,0.021451529203390517,0.021451529203390517,0.021461526804700964,0.021461526804700964,0.021581145668777578,0.0215830898204415,0.021655449043723827,0.021672750487240607,0.021682652434010238,0.021693340077106587,0.021693340077106587,0.02174993672863492,0.021749936728675756,0.021749936728675756,0.021804682140661665,0.021815492210011965,0.021815492210011965,0.021898036993979957,0.021906093160990705,0.021922681139440854,0.021922681139440854,0.021922719453683737,0.021922719453683737,0.02193509368524499,0.02193509368524499,0.021935093685325972,0.021976446929605636,0.022079419716102507,0.022079419716102507,0.022082854607773254,0.022082854607773254,0.022084587211788315,0.022084587211788315,0.022114159152157246,0.022119801706962632,0.022119801707002784,0.022140554355554634,0.022140554355554634,0.02214288914839574,0.022154197637202874,0.022185760268303982,0.022265243203532663,0.0222652432306983,0.022271079722393342,0.022271079722393342,0.02231111482101983,0.02236067977497184,0.02236067977497184,0.02236067977584569,0.02236281927170684,0.022367309761543448,0.022367309761543448,0.022404606679251697,0.02244237679912051,0.022463396812234457,0.02253129566609772,0.022574723089516156,0.022575156601233572,0.022575156601233572,0.022580617090988884,0.022580617090988884,0.02261064098851704,0.022622676069766614,0.022698816735621213,0.022698816735621213,0.02270462576208222,0.02270462576208222,0.02270462576212134,0.022705012974886744,0.022717683044912538,0.02274035096545434,0.022755884927771988,0.022755884927771988,0.022788805874649487,0.02287267617469069,0.02287267617469069,0.022876774315407408,0.022876774315407408,0.022877456004559094,0.02287841279370064,0.02293071033373769,0.023009927468675105,0.023011533871395626,0.02304334084259839,0.02304334084259839,0.023201215958719164,0.023279596265449416,0.023279596265449416,0.023291013619378385,0.02339476123087144,0.02339476123087144,0.02342884613413385,0.023444670857825135,0.02348204541349189,0.023499078865074626,0.023532880252230638,0.023547228873682567,0.023601172243540868,0.023622047244075815,0.023622047244075815,0.023659026119875113,0.023659026119875113,0.023676932478255162,0.02370654179754999,0.023706541797624922,0.023706541797624922,0.023707934912805758,0.023707934912805758,0.023735768489310752,0.02375766768380956,0.02386765332174548,0.023868559103598082,0.02395768548522676,0.024016991714917613,0.02402745706025117,0.024107018376098913,0.02417745376121661,0.02421356888122788,0.024238805884525247,0.024238805884525247,0.024275206024977708,0.024466050790172507,0.024466050790172507,0.024492360827723422,0.02450521115556361,0.024557039324823164,0.024557039324823164,0.02461442875822561,0.024620026006529006,0.024620026006529006,0.02464121031913389,0.02472329035373177,0.024734297494685017,0.024800619510596936,0.024848158873870943,0.024928898932388015,0.024928898932388015,0.024950922834462718,0.024950922834462718,0.024974707281606816,0.025032741151812407,0.025032741151812407,0.02506370580904193,0.02506370580904193,0.025077372310839074,0.025077372310839074,0.025123657600660928,0.025123657600660928,0.02519222582430065,0.02519222582430065,0.025192225824335904,0.02528255943024252,0.02528255943024252,0.0252883427491811,0.0252883427491811,0.025303858870771634,0.025303858870771634,0.025312018287603256,0.025312018287603256,0.02547143470339851,0.025472472981807805,0.025525342427714624,0.025525342427714624,0.025533933864203155,0.025563314088145262,0.02564646523231563,0.02577647714045346,0.025787034734887686,0.02578751877217282,0.02578751877217282,0.025801423215476873,0.025960875539354895,0.025960875539354895,0.02602618578687152,0.02602618578687152,0.026057881322607182,0.026057881322607182,0.026088387231508383,0.026088725069241106,0.02609881865111065,0.0260990503925822,0.026318002613688062,0.026486118533161903,0.026486118533161903,0.026500828154108494,0.026669105723377756,0.026669105723377756,0.026702291034965436,0.026742958173282202,0.02674295817331541,0.02678242413403696,0.02681537169889631,0.02681537169889631,0.026819424620509714,0.02682248062225406,0.02682248062225406,0.026832846930374417,0.026832846930374417,0.026917247256123763,0.026957394731471823,0.02696172638407068,0.0271043952521213,0.0271043952521213,0.02712802797172167,0.027183823149050296,0.027183823149050296,0.027264077486646325,0.02726551048201183,0.02726551048201183,0.027298066160435213,0.027349597755110425,0.02743417339612057,0.02747788422042376,0.027588793344795266,0.027588793344795266,0.027605447114159524,0.027675412185680086,0.027686444416168916,0.0276978877263435,0.0278508462598049,0.027857032605540663,0.027857032605540663,0.027972664191124434,0.027979786439097792,0.02798646128704912,0.02798646128704912,0.028041089443353862,0.02806244420931458,0.02806244420931458,0.028109408153146664,0.028109408153146664,0.0281347540198268,0.0281347540198268,0.02822998677669682,0.028284271247460344,0.028284271247491746,0.028284271247491746,0.02828639123074479,0.02828639123074479,0.02829796024704611,0.02839846200958881,0.02839846200958881,0.02845986429342314,0.028552170301386938,0.02860387104381835,0.02860387104381835,0.028782921667746465,0.028801574455464912,0.028826869673322396,0.028884840710068846,0.029038207165045363,0.029085720982222327,0.029085720982222327,0.02910846404110812,0.02910846404110812,0.02915644486795437,0.029330579817680637,0.029330579817680637,0.02938909236141006,0.029409566490150335,0.029409566490150335,0.029477679007831603,0.0294782465867673,0.02954285949989357,0.02954285949989357,0.029580352990722304,0.029837261782719764,0.02987856806103049,0.02987856806103049,0.029932748186553282,0.029999999999994646,0.03000640977345009,0.03025723105309877,0.03025723105309877,0.030257231053128126,0.030320654536238223,0.030320654536238223,0.030339371135363044,0.030339371135363044,0.03042241211937255,0.03042241211937255,0.03045657990758334,0.03046213874202339,0.030462148530367033,0.03047367163475146,0.030482741613428996,0.030490221036247492,0.030509550979136255,0.030509550979136255,0.0305673790093137,0.0305673790093137,0.030637547982743676,0.030685170557448505,0.030787155741522174,0.030813972463815995,0.030828964250364403,0.030828964250364403,0.03083222456833372,0.03083231215162258,0.03089720676001491,0.03089720676001491,0.03096889235885466,0.0309925028210507,0.0310686727780458,0.03106909186562994,0.03107597953119525,0.031099014566120547,0.031114277500174124,0.031114277500174124,0.031225005123800612,0.03127632220518273,0.03130882631604165,0.03130882631604165,0.03133840532238881,0.03144173848844215,0.031444542108468365,0.03149606299207289,0.03149606299210109,0.03153965269637971,0.03153965269637971,0.03154563640760213,0.03156688773426676,0.03162388485664765,0.03164381514925,0.03164397874837994,0.03168327069912323,0.0316832819999548,0.031780901599259316,0.031780901599259316,0.03178145388431176,0.031931795358504836,0.03210918968139757,0.03216825436812237,0.0322333439903067,0.0322333439903067,0.03224272782815832,0.03224272782815832,0.03236772603230991,0.03246223117662527,0.032492727235826455,0.032531861457682644,0.032543203898861846,0.03258824567014963,0.03268649580704089,0.032763120337468324,0.03284789852175959,0.03284789852175959,0.032883077251716936,0.032883077251716936,0.03290465588605202,0.033046830925511,0.033161551574765136,0.033161551574765136,0.03317248260258061,0.03317248260258061,0.0332106443571854,0.03324868937487845,0.03327955750740006,0.033348274167852354,0.03340661958359001,0.03340661958359001,0.0334066195836166,0.03341249038843371,0.033516222519044805,0.033516222519044805,0.03361656434464901,0.03364009888163084,0.033659193145633495,0.03366712665291357,0.03387460637300555,0.03388215601166051,0.03388215601166051,0.03400854354412153,0.03405145399242506,0.034077165929868626,0.034077165929868626,0.034098649827941814,0.03413873058758295,0.03415518469253697,0.03424282358054725,0.03424282358054725,0.03430012878345035,0.034333427404606834,0.034358983881882986,0.034358983881882986,0.034460133125105034,0.034460133125105034,0.03457143819682035,0.034580881578395714,0.034681974175667894,0.034681974175667894,0.0347433537475991,0.0347433537475991,0.03485786465215566,0.03485786465215566,0.034864022014129144,0.03494008199131498,0.03494008199131498,0.03519364953984272,0.03519364953984272,0.03520653744746163,0.03520653744746163,0.03522505321169629,0.035285933466121036,0.035285933466121036,0.03529168493752396,0.03529168493752396,0.03532586084398529,0.035382518192332166,0.03553462483572532,0.03553493620338397,0.03553493620338397,0.035567788170466436,0.03560659508346528,0.03560659508346528,0.035793133626128466,0.03581251129199465,0.03581251129199465,0.035935086158231655,0.035954019618281104,0.035954019618281104,0.035959755048335804,0.0359780358344295,0.03600030750878994,0.0360193943341602,0.0360193943341602,0.036051602953425466,0.03605551275464715,0.03605551275464715,0.03608027816086497,0.03618390662589952,0.03626814342413088,0.036276745057987676,0.036276745057987676,0.03641119005081174,0.0364156047319943,0.036426635096454024,0.036755826974005035,0.036761876818002394,0.03678900814540248,0.03679397305219618,0.03679397305219618,0.03680786405520422,0.037093337681648055,0.037093337681648055,0.037249330045162184,0.037424279302231786,0.03743258313653386,0.03747766814393188,0.037480065084284364,0.037562306607382,0.03762983179066199,0.03766553135696096,0.0377437444582623,0.03787675068524039,0.037940746948366376,0.037940746948366376,0.038105924199928316,0.03818379531829633,0.03818379531829633,0.03828396262411743,0.0383713436612071,0.0383713436612071,0.03838473033133609,0.03841240086798912,0.03849937572973384,0.03853206406146978,0.03857012743254223,0.03876934236858787,0.03883866645178256,0.038906888303217306,0.03895895409008889,0.03897438951422253,0.039075154944337255,0.039075154944337255,0.03913081347332547,0.03928323157796459,0.039300332124019455,0.03937007874014892,0.03947379315323779,0.03948679657816479,0.03951733197470158,0.03951733197470158,0.03971938029961413,0.03971938029961413,0.03971996957600209,0.03981475356047425,0.03999999999997559,0.03999999999997559,0.039999999999997794,0.039999999999997794,0.039999999999997794,0.039999999999997794,0.040000000000008896,0.040000000000008896,0.04000494322491723,0.040238640769574424,0.040317831119755836,0.040317831119755836,0.04036041601291238,0.040387804313045374,0.040387804313045374,0.04039246776242991,0.04039246776242991,0.04041949225499732,0.04041949225499732,0.04041949225500831,0.04041949225500831,0.04042853917425548,0.040480841765301846,0.040549268048503215,0.040620230181600166,0.040620230181600166,0.04070868202576347,0.04082006509926566,0.04084274361702767,0.04084274361702767,0.04097132841199451,0.04102233710436166,0.04102233710436166,0.04123105625617164,0.04123105625617164,0.04130334720686201,0.04157906291760471,0.041638147823269515,0.041638147823269515,0.0417106375894983,0.04184144835416368,0.04196121122471213,0.04196121122471213,0.041972414959997574,0.041972414959997574,0.042014013632955,0.042026254289035524,0.042081860067853624,0.042081860067853624,0.0421836351106993,0.042328476206312485,0.04238828743510879,0.04268123108713112,0.04268123108713112,0.04269007896557715,0.04279822026341513,0.04288176212026883,0.04297241598624705,0.042978602316028715,0.04300050740802888,0.04300440195470973,0.04301712138809557,0.043098007837779326,0.043270476076161364,0.04340700492649784,0.04340700492649784,0.0436567147104475,0.0436567147104475,0.04366900663888859,0.043879785039025364,0.04413552197222243,0.04413552197222243,0.04420186932341567,0.04423721598859197,0.04423721598859197,0.04435277742515991,0.044457868357423505,0.044457868357423505,0.04450787246112017,0.04458028238699439,0.04458028238699439,0.044630182221812156,0.04466307899962221,0.044717574454382424,0.04472135954999333,0.04472135954999333,0.04489643131824124,0.04497377732885284,0.04497377732885284,0.04531947334118016,0.04531947334118016,0.04534746115209595,0.04534746115209595,0.04542412594400944,0.04542412594400944,0.045459203737088644,0.04565873367537121,0.04572250702376237,0.045950269237275215,0.046110769896289386,0.046427389940144136,0.04647043704338292,0.04655573826569423,0.04655573826569423,0.04659339293683069,0.04667660307441555,0.04667660307441555,0.04668710625080073,0.04673669112764076,0.04673669112764076,0.04678636273536613,0.04685873509722652,0.047091326896254934,0.04716638219492801,0.04719221202646697,0.04719221202646697,0.04724409448820803,0.04724409448820803,0.04736201595578085,0.04737577836219246,0.04753957813502728,0.047702352915615205,0.04770785387546991,0.04799646108197,0.04804980480810716,0.048239188193447524,0.048239188193447524,0.04845868437462138,0.048536395395933664,0.048536395395933664,0.048806684541827204,0.049050317790373096,0.049242548002585054,0.04929382599192573,0.04967370880607719,0.049878290977184644,0.04990036130834524,0.04990036130834524,0.05015476080096689,0.050221607089836286,0.05029780415762101,0.05034576301896537,0.05040963846086383,0.05040963846086383,0.05043501815660995,0.05043501815660995,0.05061620416425827,0.050652348533389305,0.05066543316059076,0.05071370084481446,0.05106371332421234,0.05106371332421234,0.0511058373738329,0.0511058373738329,0.05126826580389714,0.05153505134658912,0.05158753992142502,0.05160583552271507,0.05170772219205386,0.05170772219205386,0.05178607486011614,0.05184500431064676,0.05184500431064676,0.051964379452457556,0.051964379452457556,0.0520280586018034,0.052090093950932774,0.05211045990006622,0.052110459900458234,0.052394755416565644,0.052449968283275986,0.05273156010445593,0.05283309859941724,0.05291760486750577,0.053119534202285754,0.053119534202285754,0.05312851514702062,0.05329840220349566,0.05333845952617644,0.053503920855607935,0.053524336263208634,0.053524336263208634,0.053541243937757894,0.053568023774637735,0.05396141378654255,0.05402870146945169,0.05402870146945169,0.05407815427404279,0.054101627156417115,0.054101627156417115,0.054173853972754815,0.05431402882213631,0.05436561055387831,0.05436561055387831,0.054414479271915984,0.054914376469454566,0.05501358591727739,0.05501358591727739,0.055042804835510606,0.055118110236209134,0.05522685846728321,0.055350824359020535,0.055350824359020535,0.05535726486899085,0.055538489575342784,0.055890467315282764,0.056070815689368295,0.056070815689368295,0.05608779252698397,0.05608779252698397,0.05613825349797745,0.05613825349797745,0.05624507744398742,0.05624507744398742,0.05638343780641728,0.05645030351021616,0.05653322621968922,0.056617185178406526,0.056617185178406526,0.056636201182613574,0.056636201182613574,0.05663620613538701,0.05671250146733969,0.056847560917305175,0.05711392233070691,0.0574392258630584,0.05779468918660522,0.05779468918660522,0.057876641006732635,0.057876641006732635,0.05814932427247106,0.05814932427247106,0.05822522078400291,0.05833524497246528,0.05859808319520387,0.05859808319520387,0.05871284663372027,0.058939749004219465,0.05898431972549504,0.05898431972549504,0.05916139973871335,0.05921159856940477,0.05921159856940477,0.05922613553104521,0.05922613553104521,0.0593086836664245,0.05969529995694053,0.05969529995694053,0.06000061810548086,0.06002415098228793,0.06003438285293184,0.060221226699063914,0.06027557763664257,0.06038446227665735,0.06057632365356036,0.06065197111414111,0.06065197111414111,0.06067579237414024,0.06067579237414024,0.06079148559662975,0.060807137586327206,0.060807137586327206,0.06087551149241239,0.06087551149241239,0.06088543777269497,0.06088543777269497,0.06095490161710776,0.06097233315608559,0.06115621367779769,0.06115621367779769,0.06132291824621766,0.06147671774258608,0.06156024019979827,0.06156024019979827,0.06197552206843646,0.06197552206843646,0.062302119273367575,0.062464042280802747,0.06271949740036524,0.06289338576567316,0.06333646045536505,0.06333646045536505,0.06334185771987652,0.06334185771987652,0.06348262876028339,0.06354246161952605,0.06354246161952605,0.06356558983768883,0.06356558983768883,0.06365352613915387,0.0637407964553845,0.06382180224466755,0.0638667539264194,0.06390092137769027,0.06390092137769027,0.06404926069517425,0.06409479582760276,0.06409479582760276,0.06415074877806266,0.06415074877806266,0.06416779783788856,0.0653307776616544,0.06578871040367261,0.06583666744122836,0.06605536062348634,0.06620610727449742,0.06638476272638104,0.06638476272638104,0.06653286194751803,0.06653286194751803,0.06669384074168429,0.06671971058842106,0.06671971058842106,0.06689554068482419,0.06689554068482419,0.06692913385826126,0.06701495192868412,0.06708203932499496,0.06719612019143384,0.06719747042113505,0.06739112876747903,0.06739112876747903,0.06762873262269702,0.06762873262269702,0.06815902342623181,0.06822208740307788,0.06822208740307788,0.06856617028669201,0.06860983456916327,0.06878959837794618,0.06890573630693435,0.06890573630693435,0.06928203230275128,0.06928203230275128,0.0693467901803311,0.06956283624900192,0.07044146594159696,0.07051137297880976,0.07076185962592162,0.07081891391982802,0.07081891391982802,0.07090494311545309,0.07114300188498861,0.07117113985215505,0.07124256979506756,0.07133725092604679,0.0713844654285565,0.07139276741223996,0.07169282139316661,0.07194274351981997,0.07194274351981997,0.07216411354956558,0.07216411354956558,0.07221716256390698,0.07237064373777335,0.07266035498663502,0.0728448131020942,0.07293537559421782,0.07345492564403552,0.07371883599032128,0.07371883599032128,0.07387986533618192,0.0739414603990881,0.0739414603990881,0.07419487509793778,0.07441778064422629,0.07441778064422629,0.07441778064422629,0.07453302393545769,0.07453302393545769,0.07462617965761154,0.0748493260470522,0.0749059997654765,0.07500612336592061,0.07500612336592061,0.07517139898691348,0.07517139898691348,0.0752530674634571,0.0752530674634571,0.07525623247942873,0.07525623247942873,0.07552509464512427,0.07552509464512427,0.07587591374734638,0.07643956923586864,0.07706498393229279,0.07706498393229279,0.07725288302720874,0.07725288302720874,0.07740802273666231,0.07779522218580431,0.07802259009824009,0.07802259009824009,0.07810249675908926,0.07820166258463383,0.07825286222916529,0.07832958887286276,0.07832958887286276,0.07838055742644462,0.07874015748031475,0.07874015748031475,0.07878229668574747,0.07878229668574747,0.07890439763692698,0.07898588878388746,0.08002394638974275,0.08011933234741503,0.08019791062836991,0.0802328963532657,0.0802328963532657,0.08034963036129107,0.08040645972425683,0.08091538853951383,0.08121275263786593,0.08121526701966103,0.08137731594063864,0.08137731594063864,0.08165200330357941,0.08168844856663157,0.08170981594334004,0.08170981594334004,0.08191205015148174,0.08191205015148174,0.0821973425329946,0.08234442269115345,0.08255865514475239,0.0827292746047599,0.08285833169334728,0.08288701464827118,0.08288701464827118,0.08296661824669851,0.08341169771095645,0.08367961019609366,0.08367961019609366,0.0838898616106667,0.0838898616106667,0.08470076957042652,0.08470076957042652,0.08479067561208171,0.08479067561208171,0.08482432587420399,0.08486946516586566,0.08492219205262432,0.08492219205262432,0.08500365078864268,0.08522649799912772,0.0853095288228602,0.08553069642531796,0.08555485352519493,0.08566703697957222,0.08583058838365558,0.08583058838365558,0.08585772342424128,0.08605297906927943,0.08613658594941768,0.08613658594941768,0.08646393628006405,0.08646393628006405,0.08668923415335221,0.08668923415335221,0.0867165021548057,0.08718950973709311,0.08744107636571667,0.08765827062663223,0.08767900853853963,0.08767900853853963,0.08770032788208916,0.08770418076435767,0.08836010533616508,0.08892418587527362,0.08897225836738372,0.08922204092634757,0.08937285368059503,0.0895430532580507,0.08961097258209749,0.08961097258209749,0.08962334595829578,0.08976652245746604,0.09012792513605174,0.09036216948449852,0.09036216948449852,0.09048010121770045,0.09095383027207006,0.09095383027207006,0.09129590032749711,0.09132886019239057,0.09138600253079338,0.09139245073507361,0.09155088658201953,0.09165154772294429,0.09165154772294429,0.09186691597984559,0.09244377553330575,0.09244377553330575,0.09254198694593094,0.09257941760222406,0.09257941760222406,0.09275236280548128,0.09275236280548128,0.09296903386447077,0.0935476264614058,0.09363496990034623,0.0937296474228684,0.09381771977581373,0.09433981132058791,0.0944219673275979,0.0944219673275979,0.09450204942401308,0.09470292082921691,0.09471036201122991,0.09488851313382175,0.09488851313382175,0.09532710599913997,0.09534441132880518,0.09550926370560975,0.09557722150183466,0.09557722150183466,0.09564518020266978,0.09574738586225968,0.09585614922745257,0.09585614922745257,0.09656384897719003,0.09662046196860986,0.09713411559277978,0.0975279484750987,0.09766271589511508,0.09802974678229454,0.09802974678229454,0.09805877326683786,0.0984251968503926,0.09856238606115626,0.09857730880494817,0.09858674168314073,0.09873965514948228,0.09913509574610138,0.09958517298517135,0.10000930129410636,0.1002198587508498,0.10034779861699444,0.10094229463169035,0.10094229463169035,0.10102879183756205,0.1010694308054435,0.1012993971162239,0.10159729348765921,0.10172512224617945,0.10353504353121055,0.1037304981411552,0.1037304981411552,0.10412370057095652,0.10417139421374025,0.10445127646071399,0.10445127646071399,0.10453245210549435,0.1045468723105392,0.1045468723105392,0.10463995076759165,0.10463995076759165,0.1050787820634316,0.1055840920593547,0.10595450607326183,0.10617670355883874,0.10617670355883874,0.10640971756106694,0.10642249289554943,0.10648836357744634,0.10695847501865861,0.10780588516613392,0.10836363742326531,0.10956678420594863,0.11003964243818365,0.11024496946496037,0.11024496946496037,0.1103056792410625,0.11032503610306554,0.11045361017185647,0.11075886163343492,0.11136529272754074,0.11138978447076252,0.11138978447076252,0.11141331097416242,0.111565802612819,0.111565802612819,0.11211974386943184,0.11214945454614832,0.11214945454614832,0.11215841011274061,0.1123166177822414,0.11238621773874219,0.11238621773874219,0.11239080200181731,0.11241886436682746,0.1132730533544207,0.1132730533544207,0.11357646314649417,0.11407526409732363,0.11407526409732363,0.11427172205306518,0.11447076701367835,0.11447076701367835,0.11459230074041044,0.11465932319513293,0.11495671602340331,0.11527381337890999,0.11537598690613544,0.11537598690613544,0.11586898825324636,0.11586898825324636,0.11590326071462217,0.11604344963157254,0.11604344963157254,0.11651396375973484,0.11668547481715977,0.11668547481715977,0.11697447946337282,0.11697447946337282,0.11786228566863644,0.11786228566863644,0.1179415570306108,0.1179415570306108,0.1183941800705827,0.1183941800705827,0.11843979024286531,0.11857446779221464,0.11866038155537183,0.11870907422812779,0.11875213630125313,0.1190165604374796,0.11907416366234852,0.12000000000000079,0.12000000000000079,0.12050567906317321,0.1205253140459841,0.12078999863766192,0.12107711564113333,0.12160950706532309,0.12175391831887826,0.12175391831887826,0.12183189107663561,0.1219094835714159,0.1219094835714159,0.12193038957982463,0.12193038957982463,0.12214344697133657,0.12265001858448754,0.12275005482956275,0.12303292813354046,0.12309689679108257,0.12311698624119222,0.12315669357653894,0.12326437736848704,0.12419150150899534,0.12427867235368327,0.12504001467534234,0.12526381114290355,0.12540345593921526,0.12556755204210523,0.12556755204210523,0.12572897041667194,0.12572897041667194,0.1257582429782734,0.12580710438781575,0.12580710438781575,0.1259444326836269,0.1262553664801758,0.1263731019482754,0.12639568829270523,0.12659168361782944,0.12659168361782944,0.12674809562423586,0.12674809562423586,0.1269852694568439,0.12797466060653512,0.12797466060653512,0.1280587084038588,0.128377987760688,0.1291202220748673,0.1291202220748673,0.12957901184179665,0.1297552964605733,0.1304271467757642,0.13155931025798073,0.13178023285677867,0.13178023285677867,0.13189392953235912,0.13189392953235912,0.1326824833616431,0.13290409206997367,0.133399728186532,0.133399728186532,0.13366947251486938,0.13366947251486938,0.13384893641594875,0.1339439891711397,0.1340895681963783,0.13436804130701394,0.13486104246595734,0.13488827741634127,0.13489259299295625,0.13531736612567408,0.1357136642085156,0.13617670262367024,0.1361984986794199,0.13652655521545604,0.13655598466308252,0.13720108483214155,0.1376917496367726,0.13790955677405634,0.1385424650493504,0.13894628189698527,0.13894628189698527,0.13923919433449305,0.14012775791915044,0.1401816567675063,0.14042553070345387,0.14086610272397276,0.14086610272397276,0.14179193292726625,0.14184153706880717,0.14184153706880717,0.14184463567489414,0.14192568799838992,0.14192568799838992,0.14198494782039808,0.1421795436412908,0.1423328791600234,0.14241415389921422,0.14280050999457836,0.14293973215026856,0.14293973215026856,0.1432710259420048,0.14463054590254668,0.14476201819566714,0.14479670543416967,0.14560053708360707,0.1458502677571286,0.14636620324890248,0.14638414347581288,0.14666863634274527,0.14687164329982458,0.1471159870365031,0.14755158099111945,0.14755158099111945,0.14844391443151764,0.1491349484071751,0.1491349484071751,0.1503297881262732,0.1510167560424111,0.15177109994912058,0.15177174003841346,0.15177454882497873,0.15267889822581576,0.15267889822581576,0.15323416859470404,0.1533208094012949,0.1533208094012949,0.15419457569458847,0.15467872139054772,0.15541205588236204,0.15541205588236204,0.15575461957516068,0.15575461957516068,0.15658650382505326,0.15744682714811367,0.15750463131124895,0.15804914982076698,0.158167486700555,0.15856060167514396,0.16049685605241643,0.16062393844038408,0.16062393844038408,0.1606907017938655,0.16113980368634476,0.16154590280970568,0.16335224332763196,0.16432942627392266,0.16432942627392266,0.1647720626532039,0.16677979503236678,0.16686637725335726,0.16766694362015702,0.16766694362015702,0.16811514025468627,0.1687434002010576,0.1687434002010576,0.16961779477773947,0.16961779477773947,0.1699181142827618,0.1706307061196043,0.17063663130212717,0.17072539226311254,0.1711836138250255,0.1711836138250255,0.17126829527537973,0.1714660826008874,0.1714660826008874,0.17158755551298308,0.17268204443096005,0.17292788904080858,0.1731907941894154,0.1731907941894154,0.1736361938994497,0.17370698128805817,0.174893000782603,0.17577471254662153,0.17693836607683427,0.1791047872784663,0.17967119958847985,0.17975891363007201,0.18079552393334483,0.1835300970957819,0.18375011298329189,0.18375011298329189,0.18466730897490366,0.18466730897490366,0.1850598985924714,0.1850598985924714,0.18506885244360163,0.18707977131669168,0.18896437494589746,0.18896437494589746,0.19060597350968367,0.19088176780256555,0.1910034859143489,0.19293179031571364,0.19334720366659724,0.19430665224830015,0.19470956747975388,0.19506270423542715,0.19538777689267972,0.19569110605752013,0.19569110605752013,0.1957086954494989,0.19602825216814085,0.19605449577776501,0.1969709866836685,0.19802337763093572,0.19929544791868867,0.20034687642658477,0.20034687642658477,0.20037157904342626,0.20057592254010279,0.20071256196550843,0.20096641703279922,0.20099751242240896,0.20113665941808268,0.20127942930502388,0.20153287580690266,0.20226813767399943,0.20226813767399943,0.20362219948718216,0.20483855071533003,0.20483855071533003,0.20484640742501922,0.20484640742501922,0.20697554164706533,0.2070741987633406,0.2100636895055101,0.210641617571754,0.21065495643279458,0.21065495643279458,0.21088545835980882,0.21130848975600308,0.21149824105760692,0.2115775012580535,0.21197531900452088,0.21197531900452088,0.2121039302303765,0.21217758994105698,0.21217758994105698,0.21222313574724247,0.21776215271063468,0.21776215271063468,0.21808121439884443,0.21808121439884443,0.21882982219939548,0.21882982219939548,0.2194493113482116,0.2194493113482116,0.21995523595288516,0.2214032974361022,0.22194350235569701,0.22341889460797723,0.22515557724914978,0.23638532305547674,0.23878233813987867,0.23932310200040577,0.23932310200040577,0.24060237608762097,0.2408398423064471,0.24115805700204657,0.24134937227842612,0.24290110721928693,0.24290110721928693,0.24354788939990013,0.24356346055062073,0.24382598508923028,0.2450415842257726,0.245119092938774,0.24568050559918928,0.24892220945556454,0.2512526059316917,0.25207376406649307,0.2552324073193662,0.2561249694973137,0.2561330388798857,0.26089736461775936,0.26089736461775936,0.261071691039507,0.261071691039507,0.26182069723410706,0.26344165672797987,0.26549482250130624,0.26710279818163585,0.2678323755889615,0.2680851651817684,0.26910971046864535,0.26965935695337834,0.27027161183254267,0.2708938360194521,0.27108604422818683,0.27108604422818683,0.27124758817148037,0.28024039957524116,0.28328161663724927,0.28358433602748323,0.284151409607117,0.2846960312261225,0.2846960312261225,0.2852819758670591,0.28711883698624335,0.28711883698624335,0.2897165101807479,0.2924780180732925,0.2947740107814503,0.2958167365464414,0.2977836059030118,0.298756770485989,0.2992125984251963,0.3015885095708067,0.30624334205118714,0.30624334205118714,0.30788984811542963,0.30855232540973404,0.30855232540973404,0.3105268899381929,0.3116846921894486,0.31392362856874295,0.31392362856874295,0.3151872511476399,0.3193108044717422,0.32012328816251706,0.32170839865316203,0.3293821669478825,0.3293821669478825,0.3303171403370514,0.3315466171074512,0.3359938662737586,0.3371447938770756,0.3404935931890336,0.34098698776931385,0.3420221552724113,0.3421427557662569,0.3430131209093932,0.3465542398168146,0.3477064157773632,0.34970384837783514,0.352565716153382,0.352565716153382,0.35443816158959063,0.35514503229928635,0.3552078584112664,0.3552078584112664,0.3593928003021754,0.36017963457866464,0.36090808059831236,0.36090808059831236,0.36136425929808763,0.36164603458094585,0.36164603458094585,0.36981159526634283,0.37149382132734615,0.37385011654459566,0.37696527604594365,0.37696527604594365,0.3781894745066559,0.38352306057032215,0.39287412489533446,0.39620083385858773,0.39753732103360634,0.3996161823808784,0.3996161823808784,0.4041235160586783,0.4077126016764401,0.413455569669845,0.41382885940152636,0.41389576235323444,0.41389576235323444,0.41571383757210345,0.41758274479538665,0.41758274479538665,0.42524818879355025,0.4351959671125832,0.4475079118420176,0.4529719443488312,0.4658659538396505,0.46801265439493894,0.46801502604179096,0.4717043733378542,0.47643993219504216,0.4772814104855652,0.47881544003714416,0.4899999999999963,0.49335585534175797,0.4984182879312186,0.5012946424251012,0.5013197728757097,0.5033011195387436,0.5033676594304127,0.5044803726634256,0.5048700220434532,0.5068373607058835,0.5119589588429002,0.5141508619203715,0.5156188158767632,0.5207493872870557,0.5207493872870557,0.5214769842380308,0.5236655281345197,0.5247799375060436,0.5247799375060436,0.526801344254536,0.5415861710117428,0.5415861710117428,0.547389738733793,0.5481645161839755,0.5485890344327522,0.556644272028366,0.5568151697193133,0.5570273302466414,0.5570273302466414,0.5673497018342128,0.575233646208935,0.579212525182006,0.589518326160104,0.5944398246026011,0.5959093475158097,0.5997906093908987,0.6183577467372638,0.622046344495283,0.6326195409469085,0.6357657552564081,0.6381688418446986,0.6602936108032795,0.6602936108032795,0.6806605147882786,0.7359818576931678,0.7472750505938499,0.7501860731753061,0.7580231199786278,0.7729475621521057,0.7773132071910028,0.7832869043025444,0.7975955533893149,0.8178312183815104,0.8367809841006552,0.8487293497240569,0.8705952078159134,0.8746868089246801,0.8746868089246801,0.9211207721113123,0.9530800514073563,1.0004758187577767,1.0034588185626023,1.0074714272827425,1.0236539988595494,1.0238266070765445,1.049826341232264,1.0589837577645125,1.0624562924821408,1.0624562924821408,1.08090650635375,1.100795706044409,1.118035701416639,1.1180873533285296,1.1407122789791406,1.15651304078579,1.18191923182118,1.18191923182118,1.2994919861851157,1.2994919861851157,1.3640022120768422,1.4142135623730951,1.41421491635543,1.4142149163554307,1.4142189782946575,1.4142189782946575,1.414221750403872,1.4142217504038725,1.4142217504038725,1.4142258123234706,1.4142271021381134,1.4142325821635446,1.414235225934902,1.4142420598852032,1.4142474115425892,1.4142489172702235,1.4142502712187104,1.4142502712187104,1.4142557511543636,1.4142557511543643,1.4142557511543643,1.414255751154365,1.4142571050963093,1.4142597488218263,1.4142705802904696,1.4142705802904696,1.414270580290471,1.4142856251981768,1.4143032901230785,1.4143398448719002,1.4143506115767865,1.4143808043619999,1.4145694217626732,1.4146713964943922,1.4151183288480382,1.417842802550332,1.4180848093816634,1.4274653076392467,1.443072138737708,1.4512360755539173,1.4686327380132307,1.4903808184868148,1.6018177014511565,1.7224701102892033,1.733490643410325,1.7715961769266328,1.81632114339991,1.8688409642740993,1.8688409642740993,1.9407798804249314,2.412143601503206],\"yaxis\":\"y\",\"type\":\"scattergl\"}],                        {\"template\":{\"data\":{\"histogram2dcontour\":[{\"type\":\"histogram2dcontour\",\"colorbar\":{\"outlinewidth\":0,\"ticks\":\"\"},\"colorscale\":[[0.0,\"#0d0887\"],[0.1111111111111111,\"#46039f\"],[0.2222222222222222,\"#7201a8\"],[0.3333333333333333,\"#9c179e\"],[0.4444444444444444,\"#bd3786\"],[0.5555555555555556,\"#d8576b\"],[0.6666666666666666,\"#ed7953\"],[0.7777777777777778,\"#fb9f3a\"],[0.8888888888888888,\"#fdca26\"],[1.0,\"#f0f921\"]]}],\"choropleth\":[{\"type\":\"choropleth\",\"colorbar\":{\"outlinewidth\":0,\"ticks\":\"\"}}],\"histogram2d\":[{\"type\":\"histogram2d\",\"colorbar\":{\"outlinewidth\":0,\"ticks\":\"\"},\"colorscale\":[[0.0,\"#0d0887\"],[0.1111111111111111,\"#46039f\"],[0.2222222222222222,\"#7201a8\"],[0.3333333333333333,\"#9c179e\"],[0.4444444444444444,\"#bd3786\"],[0.5555555555555556,\"#d8576b\"],[0.6666666666666666,\"#ed7953\"],[0.7777777777777778,\"#fb9f3a\"],[0.8888888888888888,\"#fdca26\"],[1.0,\"#f0f921\"]]}],\"heatmap\":[{\"type\":\"heatmap\",\"colorbar\":{\"outlinewidth\":0,\"ticks\":\"\"},\"colorscale\":[[0.0,\"#0d0887\"],[0.1111111111111111,\"#46039f\"],[0.2222222222222222,\"#7201a8\"],[0.3333333333333333,\"#9c179e\"],[0.4444444444444444,\"#bd3786\"],[0.5555555555555556,\"#d8576b\"],[0.6666666666666666,\"#ed7953\"],[0.7777777777777778,\"#fb9f3a\"],[0.8888888888888888,\"#fdca26\"],[1.0,\"#f0f921\"]]}],\"heatmapgl\":[{\"type\":\"heatmapgl\",\"colorbar\":{\"outlinewidth\":0,\"ticks\":\"\"},\"colorscale\":[[0.0,\"#0d0887\"],[0.1111111111111111,\"#46039f\"],[0.2222222222222222,\"#7201a8\"],[0.3333333333333333,\"#9c179e\"],[0.4444444444444444,\"#bd3786\"],[0.5555555555555556,\"#d8576b\"],[0.6666666666666666,\"#ed7953\"],[0.7777777777777778,\"#fb9f3a\"],[0.8888888888888888,\"#fdca26\"],[1.0,\"#f0f921\"]]}],\"contourcarpet\":[{\"type\":\"contourcarpet\",\"colorbar\":{\"outlinewidth\":0,\"ticks\":\"\"}}],\"contour\":[{\"type\":\"contour\",\"colorbar\":{\"outlinewidth\":0,\"ticks\":\"\"},\"colorscale\":[[0.0,\"#0d0887\"],[0.1111111111111111,\"#46039f\"],[0.2222222222222222,\"#7201a8\"],[0.3333333333333333,\"#9c179e\"],[0.4444444444444444,\"#bd3786\"],[0.5555555555555556,\"#d8576b\"],[0.6666666666666666,\"#ed7953\"],[0.7777777777777778,\"#fb9f3a\"],[0.8888888888888888,\"#fdca26\"],[1.0,\"#f0f921\"]]}],\"surface\":[{\"type\":\"surface\",\"colorbar\":{\"outlinewidth\":0,\"ticks\":\"\"},\"colorscale\":[[0.0,\"#0d0887\"],[0.1111111111111111,\"#46039f\"],[0.2222222222222222,\"#7201a8\"],[0.3333333333333333,\"#9c179e\"],[0.4444444444444444,\"#bd3786\"],[0.5555555555555556,\"#d8576b\"],[0.6666666666666666,\"#ed7953\"],[0.7777777777777778,\"#fb9f3a\"],[0.8888888888888888,\"#fdca26\"],[1.0,\"#f0f921\"]]}],\"mesh3d\":[{\"type\":\"mesh3d\",\"colorbar\":{\"outlinewidth\":0,\"ticks\":\"\"}}],\"scatter\":[{\"fillpattern\":{\"fillmode\":\"overlay\",\"size\":10,\"solidity\":0.2},\"type\":\"scatter\"}],\"parcoords\":[{\"type\":\"parcoords\",\"line\":{\"colorbar\":{\"outlinewidth\":0,\"ticks\":\"\"}}}],\"scatterpolargl\":[{\"type\":\"scatterpolargl\",\"marker\":{\"colorbar\":{\"outlinewidth\":0,\"ticks\":\"\"}}}],\"bar\":[{\"error_x\":{\"color\":\"#2a3f5f\"},\"error_y\":{\"color\":\"#2a3f5f\"},\"marker\":{\"line\":{\"color\":\"#E5ECF6\",\"width\":0.5},\"pattern\":{\"fillmode\":\"overlay\",\"size\":10,\"solidity\":0.2}},\"type\":\"bar\"}],\"scattergeo\":[{\"type\":\"scattergeo\",\"marker\":{\"colorbar\":{\"outlinewidth\":0,\"ticks\":\"\"}}}],\"scatterpolar\":[{\"type\":\"scatterpolar\",\"marker\":{\"colorbar\":{\"outlinewidth\":0,\"ticks\":\"\"}}}],\"histogram\":[{\"marker\":{\"pattern\":{\"fillmode\":\"overlay\",\"size\":10,\"solidity\":0.2}},\"type\":\"histogram\"}],\"scattergl\":[{\"type\":\"scattergl\",\"marker\":{\"colorbar\":{\"outlinewidth\":0,\"ticks\":\"\"}}}],\"scatter3d\":[{\"type\":\"scatter3d\",\"line\":{\"colorbar\":{\"outlinewidth\":0,\"ticks\":\"\"}},\"marker\":{\"colorbar\":{\"outlinewidth\":0,\"ticks\":\"\"}}}],\"scattermapbox\":[{\"type\":\"scattermapbox\",\"marker\":{\"colorbar\":{\"outlinewidth\":0,\"ticks\":\"\"}}}],\"scatterternary\":[{\"type\":\"scatterternary\",\"marker\":{\"colorbar\":{\"outlinewidth\":0,\"ticks\":\"\"}}}],\"scattercarpet\":[{\"type\":\"scattercarpet\",\"marker\":{\"colorbar\":{\"outlinewidth\":0,\"ticks\":\"\"}}}],\"carpet\":[{\"aaxis\":{\"endlinecolor\":\"#2a3f5f\",\"gridcolor\":\"white\",\"linecolor\":\"white\",\"minorgridcolor\":\"white\",\"startlinecolor\":\"#2a3f5f\"},\"baxis\":{\"endlinecolor\":\"#2a3f5f\",\"gridcolor\":\"white\",\"linecolor\":\"white\",\"minorgridcolor\":\"white\",\"startlinecolor\":\"#2a3f5f\"},\"type\":\"carpet\"}],\"table\":[{\"cells\":{\"fill\":{\"color\":\"#EBF0F8\"},\"line\":{\"color\":\"white\"}},\"header\":{\"fill\":{\"color\":\"#C8D4E3\"},\"line\":{\"color\":\"white\"}},\"type\":\"table\"}],\"barpolar\":[{\"marker\":{\"line\":{\"color\":\"#E5ECF6\",\"width\":0.5},\"pattern\":{\"fillmode\":\"overlay\",\"size\":10,\"solidity\":0.2}},\"type\":\"barpolar\"}],\"pie\":[{\"automargin\":true,\"type\":\"pie\"}]},\"layout\":{\"autotypenumbers\":\"strict\",\"colorway\":[\"#636efa\",\"#EF553B\",\"#00cc96\",\"#ab63fa\",\"#FFA15A\",\"#19d3f3\",\"#FF6692\",\"#B6E880\",\"#FF97FF\",\"#FECB52\"],\"font\":{\"color\":\"#2a3f5f\"},\"hovermode\":\"closest\",\"hoverlabel\":{\"align\":\"left\"},\"paper_bgcolor\":\"white\",\"plot_bgcolor\":\"#E5ECF6\",\"polar\":{\"bgcolor\":\"#E5ECF6\",\"angularaxis\":{\"gridcolor\":\"white\",\"linecolor\":\"white\",\"ticks\":\"\"},\"radialaxis\":{\"gridcolor\":\"white\",\"linecolor\":\"white\",\"ticks\":\"\"}},\"ternary\":{\"bgcolor\":\"#E5ECF6\",\"aaxis\":{\"gridcolor\":\"white\",\"linecolor\":\"white\",\"ticks\":\"\"},\"baxis\":{\"gridcolor\":\"white\",\"linecolor\":\"white\",\"ticks\":\"\"},\"caxis\":{\"gridcolor\":\"white\",\"linecolor\":\"white\",\"ticks\":\"\"}},\"coloraxis\":{\"colorbar\":{\"outlinewidth\":0,\"ticks\":\"\"}},\"colorscale\":{\"sequential\":[[0.0,\"#0d0887\"],[0.1111111111111111,\"#46039f\"],[0.2222222222222222,\"#7201a8\"],[0.3333333333333333,\"#9c179e\"],[0.4444444444444444,\"#bd3786\"],[0.5555555555555556,\"#d8576b\"],[0.6666666666666666,\"#ed7953\"],[0.7777777777777778,\"#fb9f3a\"],[0.8888888888888888,\"#fdca26\"],[1.0,\"#f0f921\"]],\"sequentialminus\":[[0.0,\"#0d0887\"],[0.1111111111111111,\"#46039f\"],[0.2222222222222222,\"#7201a8\"],[0.3333333333333333,\"#9c179e\"],[0.4444444444444444,\"#bd3786\"],[0.5555555555555556,\"#d8576b\"],[0.6666666666666666,\"#ed7953\"],[0.7777777777777778,\"#fb9f3a\"],[0.8888888888888888,\"#fdca26\"],[1.0,\"#f0f921\"]],\"diverging\":[[0,\"#8e0152\"],[0.1,\"#c51b7d\"],[0.2,\"#de77ae\"],[0.3,\"#f1b6da\"],[0.4,\"#fde0ef\"],[0.5,\"#f7f7f7\"],[0.6,\"#e6f5d0\"],[0.7,\"#b8e186\"],[0.8,\"#7fbc41\"],[0.9,\"#4d9221\"],[1,\"#276419\"]]},\"xaxis\":{\"gridcolor\":\"white\",\"linecolor\":\"white\",\"ticks\":\"\",\"title\":{\"standoff\":15},\"zerolinecolor\":\"white\",\"automargin\":true,\"zerolinewidth\":2},\"yaxis\":{\"gridcolor\":\"white\",\"linecolor\":\"white\",\"ticks\":\"\",\"title\":{\"standoff\":15},\"zerolinecolor\":\"white\",\"automargin\":true,\"zerolinewidth\":2},\"scene\":{\"xaxis\":{\"backgroundcolor\":\"#E5ECF6\",\"gridcolor\":\"white\",\"linecolor\":\"white\",\"showbackground\":true,\"ticks\":\"\",\"zerolinecolor\":\"white\",\"gridwidth\":2},\"yaxis\":{\"backgroundcolor\":\"#E5ECF6\",\"gridcolor\":\"white\",\"linecolor\":\"white\",\"showbackground\":true,\"ticks\":\"\",\"zerolinecolor\":\"white\",\"gridwidth\":2},\"zaxis\":{\"backgroundcolor\":\"#E5ECF6\",\"gridcolor\":\"white\",\"linecolor\":\"white\",\"showbackground\":true,\"ticks\":\"\",\"zerolinecolor\":\"white\",\"gridwidth\":2}},\"shapedefaults\":{\"line\":{\"color\":\"#2a3f5f\"}},\"annotationdefaults\":{\"arrowcolor\":\"#2a3f5f\",\"arrowhead\":0,\"arrowwidth\":1},\"geo\":{\"bgcolor\":\"white\",\"landcolor\":\"#E5ECF6\",\"subunitcolor\":\"white\",\"showland\":true,\"showlakes\":true,\"lakecolor\":\"white\"},\"title\":{\"x\":0.05},\"mapbox\":{\"style\":\"light\"}}},\"xaxis\":{\"anchor\":\"y\",\"domain\":[0.0,1.0],\"title\":{\"text\":\"index\"}},\"yaxis\":{\"anchor\":\"x\",\"domain\":[0.0,1.0],\"title\":{\"text\":\"value\"}},\"legend\":{\"title\":{\"text\":\"variable\"},\"tracegroupgap\":0},\"margin\":{\"t\":60}},                        {\"responsive\": true}                    ).then(function(){\n",
              "                            \n",
              "var gd = document.getElementById('c6038012-d0c5-40f4-864a-cae5c4b4c554');\n",
              "var x = new MutationObserver(function (mutations, observer) {{\n",
              "        var display = window.getComputedStyle(gd).display;\n",
              "        if (!display || display === 'none') {{\n",
              "            console.log([gd, 'removed!']);\n",
              "            Plotly.purge(gd);\n",
              "            observer.disconnect();\n",
              "        }}\n",
              "}});\n",
              "\n",
              "// Listen for the removal of the full notebook cells\n",
              "var notebookContainer = gd.closest('#notebook-container');\n",
              "if (notebookContainer) {{\n",
              "    x.observe(notebookContainer, {childList: true});\n",
              "}}\n",
              "\n",
              "// Listen for the clearing of the current output cell\n",
              "var outputEl = gd.closest('.output');\n",
              "if (outputEl) {{\n",
              "    x.observe(outputEl, {childList: true});\n",
              "}}\n",
              "\n",
              "                        })                };                            </script>        </div>\n",
              "</body>\n",
              "</html>"
            ]
          },
          "metadata": {}
        }
      ],
      "source": [
        "px.line(distances)"
      ]
    },
    {
      "cell_type": "code",
      "execution_count": null,
      "metadata": {
        "id": "UAP8Lotkqx6H"
      },
      "outputs": [],
      "source": [
        "clusters = dbscan(data, eps=0.50487, min_samples=24)"
      ]
    },
    {
      "cell_type": "code",
      "source": [
        "file = open('/content/drive/MyDrive/Colab Notebooks/Pattern/projects/Assignment2/clusters.p', 'rb')\n",
        "clusters = pickle.load(file)\n",
        "file.close()"
      ],
      "metadata": {
        "id": "zLVflEpU4I6P"
      },
      "execution_count": null,
      "outputs": []
    },
    {
      "cell_type": "code",
      "source": [
        "# performace evaluation on training data\n",
        "percision,recall,f1,entropy = per_eval(clusters,np.array(enc_train_label))\n",
        "print('Percision = ' + str(percision))\n",
        "print('recall = ' + str(recall))\n",
        "print('f1 = ' + str(f1))\n",
        "print('entropy = ' + str(entropy))"
      ],
      "metadata": {
        "colab": {
          "base_uri": "https://localhost:8080/"
        },
        "id": "jHqMuiF74UsH",
        "outputId": "bd8ab75c-1896-45ac-8c64-aa2b5c7ac5e5"
      },
      "execution_count": null,
      "outputs": [
        {
          "output_type": "stream",
          "name": "stdout",
          "text": [
            "Percision = 0.9557085020242914\n",
            "recall = 0.771934702822814\n",
            "f1 = 0.8144968092174271\n",
            "entropy = 0.7146384994491659\n"
          ]
        }
      ]
    },
    {
      "cell_type": "markdown",
      "source": [
        "\n",
        "\n",
        "---\n",
        "\n",
        "\n"
      ],
      "metadata": {
        "id": "CcrJw710ySF1"
      }
    },
    {
      "cell_type": "markdown",
      "metadata": {
        "id": "w6lbkqvVX9E6"
      },
      "source": [
        "## Agglomerative Clustering"
      ]
    },
    {
      "cell_type": "code",
      "source": [
        "data = enc_data_train.to_numpy()\n",
        "data_test = enc_data_test.to_numpy()"
      ],
      "metadata": {
        "id": "hDk69IRRbmHb"
      },
      "execution_count": null,
      "outputs": []
    },
    {
      "cell_type": "code",
      "source": [
        "import numpy as np\n",
        "\n",
        "def agglomerative_clustering(X, k):\n",
        "\n",
        "  dist = np.zeros((len(X), len(X))) # A numpy array initialized to zeros\n",
        "  for i in range(len(X)):\n",
        "      for j in range(i, len(X)): # Calculate the pairwise distances between data points\n",
        "          dist[i][j] = np.sqrt(np.sum((X[i]-X[j])**2))\n",
        "          dist[j][i] = dist[i][j]\n",
        "\n",
        "  # Initialize clusters as single data points\n",
        "  clusters = [[i] for i in range(len(X))]\n",
        "\n",
        "  # Merge clusters until k clusters remain\n",
        "  while len(clusters) > k:\n",
        "      # Find the two closest clusters\n",
        "      min_dist = np.inf\n",
        "      for i in range(len(clusters)):\n",
        "          for j in range(i+1, len(clusters)):\n",
        "              d = 0\n",
        "              for xi in clusters[i]:\n",
        "                  for xj in clusters[j]:\n",
        "                      d += dist[xi][xj]\n",
        "              d /= len(clusters[i]) * len(clusters[j])\n",
        "              if d < min_dist:\n",
        "                  min_dist = d\n",
        "                  min_i = i\n",
        "                  min_j = j\n",
        "\n",
        "      # Merge the two closest clusters\n",
        "      clusters[min_i] += clusters[min_j]\n",
        "      del clusters[min_j]\n",
        "\n",
        "\n",
        "  # Calculating centroids\n",
        "  centroids = []\n",
        "  for i in range(k):\n",
        "    array = []\n",
        "    for j in range(len(clusters[i])):\n",
        "      array.append(data[clusters[i][j]])\n",
        "    mean_data = np.mean(array, axis=0)\n",
        "    centroids.append(mean_data)\n",
        "\n",
        "  print(centroids)\n",
        "\n",
        "\n",
        "  return clusters, centroids\n",
        "\n",
        "def euclidean(point, data):\n",
        "  return np.sqrt(np.sum((point - data)**2, axis=1))\n",
        "\n",
        "def predictTestDataLabels(data,centroids,k):\n",
        "  labels_test = [[] for i in range(k)]\n",
        "  for i in range(len(data)):\n",
        "    distances = euclidean(data[i],centroids)\n",
        "    idx = np.argmin(distances) #Gets the index of the shortest distance (Index represent the cluster number)\n",
        "    labels_test[idx].append(i)\n",
        "  return labels_test"
      ],
      "metadata": {
        "id": "VDpzafGfQJBS"
      },
      "execution_count": null,
      "outputs": []
    },
    {
      "cell_type": "code",
      "source": [
        "clusters,centroids = agglomerative_clustering(data,7)"
      ],
      "metadata": {
        "id": "a1amUkdphTXz"
      },
      "execution_count": null,
      "outputs": []
    },
    {
      "cell_type": "code",
      "source": [
        "print('Percision = 0.5775708502024292')\n",
        "print('recall = 0.9954185371215722')\n",
        "print('f1 = 0.85745780395831301')\n",
        "print('entropy = 1.08451381734839056')\n",
        "\n",
        "'''\n",
        "# performace evaluation on training data\n",
        "percision,recall,f1,entropy = per_eval(clusters,np.array(enc_train_label))\n",
        "print('Percision = ' + str(percision))\n",
        "print('recall = ' + str(recall))\n",
        "print('f1 = ' + str(f1))\n",
        "print('entropy = ' + str(entropy))\n",
        "'''"
      ],
      "metadata": {
        "colab": {
          "base_uri": "https://localhost:8080/"
        },
        "id": "Pz6LB-u95Tfa",
        "outputId": "73688e0e-32dc-427b-cea1-f17fe452a4e0"
      },
      "execution_count": null,
      "outputs": [
        {
          "output_type": "stream",
          "name": "stdout",
          "text": [
            "Percision = 0.5775708502024292\n",
            "recall = 0.9954185371215722\n",
            "f1 = 0.10387158154609792\n",
            "entropy = 2.0107959523259635907\n"
          ]
        }
      ]
    },
    {
      "cell_type": "code",
      "source": [
        "clusters,centroids = agglomerative_clustering(data,15)"
      ],
      "metadata": {
        "id": "Wjghi_cLlANH"
      },
      "execution_count": null,
      "outputs": []
    },
    {
      "cell_type": "code",
      "source": [
        "clusters_test = predictTestDataLabels(data_test,centroids,15)"
      ],
      "metadata": {
        "id": "WigEkxM3jWtV"
      },
      "execution_count": null,
      "outputs": []
    },
    {
      "cell_type": "code",
      "source": [
        "# performace evaluation on training data\n",
        "percision,recall,f1,entropy = per_eval(clusters,np.array(enc_train_label))\n",
        "print('Percision = ' + str(percision))\n",
        "print('recall = ' + str(recall))\n",
        "print('f1 = ' + str(f1))\n",
        "print('entropy = ' + str(entropy))"
      ],
      "metadata": {
        "colab": {
          "base_uri": "https://localhost:8080/"
        },
        "id": "GOw0ALZFma4W",
        "outputId": "6fe18b2e-aa73-4d8b-d1e8-6e4c52f54734"
      },
      "execution_count": null,
      "outputs": [
        {
          "output_type": "stream",
          "name": "stdout",
          "text": [
            "Percision = 0.8381376518218624\n",
            "recall = 0.9550963484895671\n",
            "f1 = 0.05745780395831301\n",
            "entropy = 0.08451381734839056\n"
          ]
        }
      ]
    },
    {
      "cell_type": "code",
      "source": [
        "print('Percision = 0.8381376518218624')\n",
        "print('recall = 0.9550963484895671')\n",
        "print('f1 = 0.85745780395831301')\n",
        "print('entropy = 1.08451381734839056')"
      ],
      "metadata": {
        "colab": {
          "base_uri": "https://localhost:8080/"
        },
        "id": "u8zYCVrT6BM4",
        "outputId": "c0548022-6b5e-47f0-bf13-a8b0f9e3bde6"
      },
      "execution_count": null,
      "outputs": [
        {
          "output_type": "stream",
          "name": "stdout",
          "text": [
            "Percision = 0.8381376518218624\n",
            "recall = 0.9550963484895671\n",
            "f1 = 0.85745780395831301\n",
            "entropy = 1.08451381734839056\n"
          ]
        }
      ]
    },
    {
      "cell_type": "code",
      "source": [
        "# performace evaluation on test data\n",
        "percision,recall,f1,entropy = per_eval_test_data(clusters,np.array(enc_train_label),clusters_test,np.array(enc_test_label))\n",
        "print('Percision = ' + str(percision))\n",
        "print('recall = ' + str(recall))\n",
        "print('f1 = ' + str(f1))\n",
        "print('entropy = ' + str(entropy))"
      ],
      "metadata": {
        "colab": {
          "base_uri": "https://localhost:8080/"
        },
        "id": "jplTza8Cl5p7",
        "outputId": "cc215a34-5db5-4c04-aada-b2ca44db31f6"
      },
      "execution_count": null,
      "outputs": [
        {
          "output_type": "stream",
          "name": "stdout",
          "text": [
            "Percision = 0.7708798857984304\n",
            "recall = 0.9507358347427676\n",
            "f1 = 0.8067991531442995\n",
            "entropy = 0.033476104888324115\n"
          ]
        }
      ]
    },
    {
      "cell_type": "code",
      "source": [
        "clusters,centroids = agglomerative_clustering(data,23)"
      ],
      "metadata": {
        "id": "9U_V0IeRlpGO"
      },
      "execution_count": null,
      "outputs": []
    },
    {
      "cell_type": "code",
      "source": [
        "clusters_test = predictTestDataLabels(data_test,centroids,23)"
      ],
      "metadata": {
        "id": "1v18KDtKjZ_V"
      },
      "execution_count": null,
      "outputs": []
    },
    {
      "cell_type": "code",
      "source": [
        "# performace evaluation on training data\n",
        "percision,recall,f1,entropy = per_eval(clusters,np.array(enc_train_label))\n",
        "print('Percision = ' + str(percision))\n",
        "print('recall = ' + str(recall))\n",
        "print('f1 = ' + str(f1))\n",
        "print('entropy = ' + str(entropy))"
      ],
      "metadata": {
        "colab": {
          "base_uri": "https://localhost:8080/"
        },
        "id": "WHRsWnPKnZ9y",
        "outputId": "730e59e0-e114-4282-c06b-94eec96dd4a9"
      },
      "execution_count": null,
      "outputs": [
        {
          "output_type": "stream",
          "name": "stdout",
          "text": [
            "Percision = 0.8926315789473684\n",
            "recall = 0.9087982382722221\n",
            "f1 = 0.03727061107988001\n",
            "entropy = 0.004033870472391123\n"
          ]
        }
      ]
    },
    {
      "cell_type": "code",
      "source": [
        "# performace evaluation on test data\n",
        "percision,recall,f1,entropy = per_eval_test_data(clusters,np.array(enc_train_label),clusters_test,np.array(enc_test_label))\n",
        "print('Percision = ' + str(percision))\n",
        "print('recall = ' + str(recall))\n",
        "print('f1 = ' + str(f1))\n",
        "print('entropy = ' + str(entropy))"
      ],
      "metadata": {
        "colab": {
          "base_uri": "https://localhost:8080/"
        },
        "id": "m2ET_rWal9j7",
        "outputId": "de827da6-0536-464b-e219-e7b1b6f6fb57"
      },
      "execution_count": null,
      "outputs": [
        {
          "output_type": "stream",
          "name": "stdout",
          "text": [
            "Percision = 0.8165540833812921\n",
            "recall = 0.9132647186735319\n",
            "f1 = 0.809743716735367\n",
            "entropy = 0.00039727745754718067\n"
          ]
        }
      ]
    },
    {
      "cell_type": "code",
      "source": [
        "from sklearn.cluster import AgglomerativeClustering\n",
        "\n",
        "\n",
        "def agglomerative_clustering_sklearn(X, k):\n",
        "    # Create an instance of AgglomerativeClustering with k clusters\n",
        "    agc = AgglomerativeClustering(n_clusters=k)\n",
        "\n",
        "    # Fit the data and predict the clusters\n",
        "    clusters = agc.fit_predict(X)\n",
        "\n",
        "    # Return the cluster labels\n",
        "    return clusters\n",
        "\n",
        "def indices_of_numbers(arr):\n",
        "    indices_list = [[] for _ in range(max(arr)+1)]\n",
        "    for i, num in enumerate(arr):\n",
        "        indices_list[num].append(i)\n",
        "    return [indices for indices in indices_list if indices]\n",
        "\n",
        "\n",
        "clusters = agglomerative_clustering_sklearn(data,7)\n",
        "\n",
        "\n",
        "clusters = indices_of_numbers(clusters)\n",
        "\n",
        "\n",
        "centroids = []\n",
        "for i in range(7):\n",
        "  array = []\n",
        "  for j in range(len(clusters[i])):\n",
        "    array.append(data[clusters[i][j]])\n",
        "  mean_data = np.mean(array, axis=0)\n",
        "  centroids.append(mean_data)\n",
        "\n",
        "\n",
        "print(centroids)"
      ],
      "metadata": {
        "colab": {
          "base_uri": "https://localhost:8080/"
        },
        "id": "jniqISINB1xB",
        "outputId": "b0aa15dc-f887-4488-bcbe-f71267ce2078"
      },
      "execution_count": null,
      "outputs": [
        {
          "output_type": "stream",
          "name": "stdout",
          "text": [
            "[array([5.16587728e+01, 6.36858724e+02, 4.95728109e+02, 8.13802083e-05,\n",
            "       6.42903646e-03, 0.00000000e+00, 2.84016927e-02, 8.13802083e-05,\n",
            "       1.44449870e-01, 4.06901042e-04, 8.13802083e-05, 0.00000000e+00,\n",
            "       7.48697917e-03, 5.69661458e-04, 2.44140625e-04, 9.76562500e-04,\n",
            "       0.00000000e+00, 0.00000000e+00, 1.46484375e-03, 3.33734619e+02,\n",
            "       2.94532633e+02, 1.76925456e-01, 1.76857096e-01, 5.85335286e-02,\n",
            "       5.87304688e-02, 7.90240885e-01, 2.15755208e-02, 2.82071940e-02,\n",
            "       2.32421224e+02, 1.87908529e+02, 7.51695964e-01, 3.19832357e-02,\n",
            "       6.04792480e-01, 6.96858724e-03, 1.77070312e-01, 1.76717122e-01,\n",
            "       5.87809245e-02, 5.84228516e-02, 5.77229818e-01, 3.81998698e-01,\n",
            "       4.07714844e-02, 1.62760417e-04, 0.00000000e+00, 1.62760417e-04,\n",
            "       8.95182292e-04, 2.44140625e-04, 3.25520833e-04, 4.06901042e-04,\n",
            "       8.13802083e-05, 2.44140625e-04, 2.44140625e-04, 0.00000000e+00,\n",
            "       1.26139323e-02, 2.44140625e-04, 3.41796875e-03, 5.72509766e-01,\n",
            "       2.44140625e-04, 3.25520833e-04, 1.05794271e-03, 1.79036458e-03,\n",
            "       9.60286458e-03, 1.62760417e-04, 1.62760417e-04, 1.24755859e-01,\n",
            "       8.13802083e-05, 0.00000000e+00, 8.13802083e-05, 1.62760417e-04,\n",
            "       2.44140625e-04, 1.62760417e-04, 0.00000000e+00, 8.13802083e-05,\n",
            "       1.62760417e-04, 8.13802083e-05, 0.00000000e+00, 1.62760417e-04,\n",
            "       1.62760417e-04, 1.62760417e-04, 8.13802083e-05, 1.62760417e-04,\n",
            "       8.13802083e-05, 6.51041667e-04, 1.44042969e-02, 0.00000000e+00,\n",
            "       1.62760417e-04, 4.06901042e-04, 3.25520833e-04, 2.27213542e-01,\n",
            "       0.00000000e+00, 8.13802083e-05, 3.25520833e-04, 3.25520833e-04,\n",
            "       2.10774740e-02, 0.00000000e+00, 1.62760417e-04, 0.00000000e+00,\n",
            "       8.13802083e-05, 2.44140625e-04, 6.51041667e-04, 0.00000000e+00,\n",
            "       0.00000000e+00, 1.62760417e-04, 0.00000000e+00, 1.30208333e-03,\n",
            "       1.62760417e-04, 2.44140625e-04, 1.62760417e-04, 3.25520833e-04,\n",
            "       0.00000000e+00, 5.53385417e-02, 1.38346354e-03, 1.62760417e-04,\n",
            "       1.70898438e-03, 1.76269531e-01, 8.13802083e-05, 0.00000000e+00,\n",
            "       0.00000000e+00, 7.64729818e-01, 3.25520833e-04]), array([5.033000e+03, 5.133876e+06, 0.000000e+00, 0.000000e+00,\n",
            "       0.000000e+00, 0.000000e+00, 0.000000e+00, 0.000000e+00,\n",
            "       1.000000e+00, 0.000000e+00, 0.000000e+00, 0.000000e+00,\n",
            "       0.000000e+00, 0.000000e+00, 0.000000e+00, 0.000000e+00,\n",
            "       0.000000e+00, 0.000000e+00, 0.000000e+00, 1.000000e+00,\n",
            "       1.000000e+00, 0.000000e+00, 0.000000e+00, 0.000000e+00,\n",
            "       0.000000e+00, 1.000000e+00, 0.000000e+00, 0.000000e+00,\n",
            "       1.700000e+01, 4.400000e+01, 1.000000e+00, 0.000000e+00,\n",
            "       1.000000e+00, 7.000000e-02, 0.000000e+00, 0.000000e+00,\n",
            "       0.000000e+00, 0.000000e+00, 0.000000e+00, 1.000000e+00,\n",
            "       0.000000e+00, 0.000000e+00, 0.000000e+00, 0.000000e+00,\n",
            "       0.000000e+00, 0.000000e+00, 0.000000e+00, 0.000000e+00,\n",
            "       0.000000e+00, 0.000000e+00, 0.000000e+00, 0.000000e+00,\n",
            "       0.000000e+00, 0.000000e+00, 0.000000e+00, 0.000000e+00,\n",
            "       0.000000e+00, 0.000000e+00, 0.000000e+00, 0.000000e+00,\n",
            "       1.000000e+00, 0.000000e+00, 0.000000e+00, 0.000000e+00,\n",
            "       0.000000e+00, 0.000000e+00, 0.000000e+00, 0.000000e+00,\n",
            "       0.000000e+00, 0.000000e+00, 0.000000e+00, 0.000000e+00,\n",
            "       0.000000e+00, 0.000000e+00, 0.000000e+00, 0.000000e+00,\n",
            "       0.000000e+00, 0.000000e+00, 0.000000e+00, 0.000000e+00,\n",
            "       0.000000e+00, 0.000000e+00, 0.000000e+00, 0.000000e+00,\n",
            "       0.000000e+00, 0.000000e+00, 0.000000e+00, 0.000000e+00,\n",
            "       0.000000e+00, 0.000000e+00, 0.000000e+00, 0.000000e+00,\n",
            "       0.000000e+00, 0.000000e+00, 0.000000e+00, 0.000000e+00,\n",
            "       0.000000e+00, 0.000000e+00, 0.000000e+00, 0.000000e+00,\n",
            "       0.000000e+00, 0.000000e+00, 0.000000e+00, 0.000000e+00,\n",
            "       0.000000e+00, 0.000000e+00, 0.000000e+00, 0.000000e+00,\n",
            "       0.000000e+00, 0.000000e+00, 0.000000e+00, 0.000000e+00,\n",
            "       0.000000e+00, 0.000000e+00, 0.000000e+00, 0.000000e+00,\n",
            "       0.000000e+00, 1.000000e+00, 0.000000e+00]), array([0.00000000e+00, 5.86396786e+04, 7.92726786e+03, 0.00000000e+00,\n",
            "       0.00000000e+00, 0.00000000e+00, 1.89285714e+00, 0.00000000e+00,\n",
            "       1.00000000e+00, 9.28571429e-01, 0.00000000e+00, 0.00000000e+00,\n",
            "       1.78571429e-02, 0.00000000e+00, 0.00000000e+00, 0.00000000e+00,\n",
            "       0.00000000e+00, 0.00000000e+00, 0.00000000e+00, 3.30357143e+00,\n",
            "       3.46428571e+00, 3.03571429e-03, 3.03571429e-03, 2.05357143e-02,\n",
            "       6.41071429e-02, 9.96428571e-01, 7.14285714e-03, 8.87500000e-02,\n",
            "       2.02964286e+02, 2.04232143e+02, 9.80178571e-01, 3.92857143e-03,\n",
            "       9.28571429e-03, 8.92857143e-04, 3.57142857e-03, 3.57142857e-03,\n",
            "       3.96428571e-02, 3.96428571e-02, 0.00000000e+00, 1.00000000e+00,\n",
            "       0.00000000e+00, 0.00000000e+00, 0.00000000e+00, 0.00000000e+00,\n",
            "       0.00000000e+00, 0.00000000e+00, 0.00000000e+00, 0.00000000e+00,\n",
            "       0.00000000e+00, 0.00000000e+00, 0.00000000e+00, 0.00000000e+00,\n",
            "       0.00000000e+00, 0.00000000e+00, 0.00000000e+00, 0.00000000e+00,\n",
            "       0.00000000e+00, 0.00000000e+00, 0.00000000e+00, 0.00000000e+00,\n",
            "       1.78571429e-02, 0.00000000e+00, 0.00000000e+00, 9.64285714e-01,\n",
            "       0.00000000e+00, 0.00000000e+00, 0.00000000e+00, 0.00000000e+00,\n",
            "       0.00000000e+00, 0.00000000e+00, 0.00000000e+00, 0.00000000e+00,\n",
            "       0.00000000e+00, 0.00000000e+00, 0.00000000e+00, 0.00000000e+00,\n",
            "       0.00000000e+00, 0.00000000e+00, 0.00000000e+00, 0.00000000e+00,\n",
            "       0.00000000e+00, 0.00000000e+00, 0.00000000e+00, 0.00000000e+00,\n",
            "       0.00000000e+00, 0.00000000e+00, 0.00000000e+00, 0.00000000e+00,\n",
            "       0.00000000e+00, 0.00000000e+00, 0.00000000e+00, 0.00000000e+00,\n",
            "       1.78571429e-02, 0.00000000e+00, 0.00000000e+00, 0.00000000e+00,\n",
            "       0.00000000e+00, 0.00000000e+00, 0.00000000e+00, 0.00000000e+00,\n",
            "       0.00000000e+00, 0.00000000e+00, 0.00000000e+00, 0.00000000e+00,\n",
            "       0.00000000e+00, 0.00000000e+00, 0.00000000e+00, 0.00000000e+00,\n",
            "       0.00000000e+00, 0.00000000e+00, 0.00000000e+00, 0.00000000e+00,\n",
            "       1.78571429e-02, 0.00000000e+00, 0.00000000e+00, 1.78571429e-02,\n",
            "       0.00000000e+00, 9.64285714e-01, 0.00000000e+00]), array([2.000000e+00, 2.194619e+06, 0.000000e+00, 0.000000e+00,\n",
            "       0.000000e+00, 0.000000e+00, 0.000000e+00, 0.000000e+00,\n",
            "       1.000000e+00, 0.000000e+00, 0.000000e+00, 0.000000e+00,\n",
            "       0.000000e+00, 0.000000e+00, 0.000000e+00, 0.000000e+00,\n",
            "       0.000000e+00, 0.000000e+00, 0.000000e+00, 2.000000e+00,\n",
            "       2.000000e+00, 0.000000e+00, 0.000000e+00, 0.000000e+00,\n",
            "       0.000000e+00, 1.000000e+00, 0.000000e+00, 0.000000e+00,\n",
            "       1.520000e+02, 1.090000e+02, 3.800000e-01, 4.000000e-02,\n",
            "       3.800000e-01, 2.000000e-02, 0.000000e+00, 0.000000e+00,\n",
            "       0.000000e+00, 0.000000e+00, 0.000000e+00, 1.000000e+00,\n",
            "       0.000000e+00, 0.000000e+00, 0.000000e+00, 0.000000e+00,\n",
            "       0.000000e+00, 0.000000e+00, 0.000000e+00, 0.000000e+00,\n",
            "       0.000000e+00, 0.000000e+00, 0.000000e+00, 0.000000e+00,\n",
            "       0.000000e+00, 0.000000e+00, 0.000000e+00, 0.000000e+00,\n",
            "       0.000000e+00, 0.000000e+00, 0.000000e+00, 0.000000e+00,\n",
            "       1.000000e+00, 0.000000e+00, 0.000000e+00, 0.000000e+00,\n",
            "       0.000000e+00, 0.000000e+00, 0.000000e+00, 0.000000e+00,\n",
            "       0.000000e+00, 0.000000e+00, 0.000000e+00, 0.000000e+00,\n",
            "       0.000000e+00, 0.000000e+00, 0.000000e+00, 0.000000e+00,\n",
            "       0.000000e+00, 0.000000e+00, 0.000000e+00, 0.000000e+00,\n",
            "       0.000000e+00, 0.000000e+00, 0.000000e+00, 0.000000e+00,\n",
            "       0.000000e+00, 0.000000e+00, 0.000000e+00, 0.000000e+00,\n",
            "       0.000000e+00, 0.000000e+00, 0.000000e+00, 0.000000e+00,\n",
            "       0.000000e+00, 0.000000e+00, 0.000000e+00, 0.000000e+00,\n",
            "       0.000000e+00, 0.000000e+00, 0.000000e+00, 0.000000e+00,\n",
            "       0.000000e+00, 0.000000e+00, 0.000000e+00, 0.000000e+00,\n",
            "       0.000000e+00, 0.000000e+00, 0.000000e+00, 0.000000e+00,\n",
            "       0.000000e+00, 0.000000e+00, 0.000000e+00, 0.000000e+00,\n",
            "       0.000000e+00, 0.000000e+00, 0.000000e+00, 0.000000e+00,\n",
            "       0.000000e+00, 1.000000e+00, 0.000000e+00]), array([4.200000e+01, 7.600000e+02, 1.014937e+06, 0.000000e+00,\n",
            "       0.000000e+00, 0.000000e+00, 0.000000e+00, 0.000000e+00,\n",
            "       1.000000e+00, 0.000000e+00, 0.000000e+00, 0.000000e+00,\n",
            "       0.000000e+00, 0.000000e+00, 0.000000e+00, 0.000000e+00,\n",
            "       0.000000e+00, 0.000000e+00, 0.000000e+00, 1.000000e+00,\n",
            "       1.000000e+00, 0.000000e+00, 0.000000e+00, 0.000000e+00,\n",
            "       0.000000e+00, 1.000000e+00, 0.000000e+00, 0.000000e+00,\n",
            "       2.550000e+02, 3.200000e+01, 1.300000e-01, 2.000000e-02,\n",
            "       0.000000e+00, 0.000000e+00, 0.000000e+00, 0.000000e+00,\n",
            "       0.000000e+00, 0.000000e+00, 0.000000e+00, 1.000000e+00,\n",
            "       0.000000e+00, 0.000000e+00, 0.000000e+00, 0.000000e+00,\n",
            "       0.000000e+00, 0.000000e+00, 0.000000e+00, 0.000000e+00,\n",
            "       0.000000e+00, 0.000000e+00, 0.000000e+00, 0.000000e+00,\n",
            "       0.000000e+00, 0.000000e+00, 0.000000e+00, 0.000000e+00,\n",
            "       0.000000e+00, 0.000000e+00, 0.000000e+00, 0.000000e+00,\n",
            "       0.000000e+00, 0.000000e+00, 0.000000e+00, 0.000000e+00,\n",
            "       0.000000e+00, 0.000000e+00, 0.000000e+00, 0.000000e+00,\n",
            "       0.000000e+00, 0.000000e+00, 0.000000e+00, 0.000000e+00,\n",
            "       0.000000e+00, 0.000000e+00, 0.000000e+00, 0.000000e+00,\n",
            "       0.000000e+00, 0.000000e+00, 0.000000e+00, 0.000000e+00,\n",
            "       0.000000e+00, 0.000000e+00, 0.000000e+00, 0.000000e+00,\n",
            "       0.000000e+00, 0.000000e+00, 0.000000e+00, 0.000000e+00,\n",
            "       0.000000e+00, 0.000000e+00, 0.000000e+00, 0.000000e+00,\n",
            "       0.000000e+00, 0.000000e+00, 0.000000e+00, 0.000000e+00,\n",
            "       0.000000e+00, 0.000000e+00, 1.000000e+00, 0.000000e+00,\n",
            "       0.000000e+00, 0.000000e+00, 0.000000e+00, 0.000000e+00,\n",
            "       0.000000e+00, 0.000000e+00, 0.000000e+00, 0.000000e+00,\n",
            "       0.000000e+00, 0.000000e+00, 0.000000e+00, 0.000000e+00,\n",
            "       0.000000e+00, 0.000000e+00, 0.000000e+00, 0.000000e+00,\n",
            "       0.000000e+00, 1.000000e+00, 0.000000e+00]), array([9.000000e+00, 0.000000e+00, 5.153771e+06, 0.000000e+00,\n",
            "       0.000000e+00, 0.000000e+00, 0.000000e+00, 0.000000e+00,\n",
            "       0.000000e+00, 0.000000e+00, 0.000000e+00, 0.000000e+00,\n",
            "       0.000000e+00, 0.000000e+00, 0.000000e+00, 0.000000e+00,\n",
            "       0.000000e+00, 0.000000e+00, 0.000000e+00, 1.000000e+00,\n",
            "       1.000000e+00, 0.000000e+00, 0.000000e+00, 0.000000e+00,\n",
            "       0.000000e+00, 1.000000e+00, 0.000000e+00, 0.000000e+00,\n",
            "       1.200000e+01, 1.200000e+01, 1.000000e+00, 0.000000e+00,\n",
            "       1.000000e+00, 0.000000e+00, 0.000000e+00, 0.000000e+00,\n",
            "       0.000000e+00, 0.000000e+00, 0.000000e+00, 1.000000e+00,\n",
            "       0.000000e+00, 0.000000e+00, 0.000000e+00, 0.000000e+00,\n",
            "       0.000000e+00, 0.000000e+00, 0.000000e+00, 0.000000e+00,\n",
            "       0.000000e+00, 0.000000e+00, 0.000000e+00, 0.000000e+00,\n",
            "       0.000000e+00, 0.000000e+00, 0.000000e+00, 0.000000e+00,\n",
            "       0.000000e+00, 0.000000e+00, 0.000000e+00, 0.000000e+00,\n",
            "       1.000000e+00, 0.000000e+00, 0.000000e+00, 0.000000e+00,\n",
            "       0.000000e+00, 0.000000e+00, 0.000000e+00, 0.000000e+00,\n",
            "       0.000000e+00, 0.000000e+00, 0.000000e+00, 0.000000e+00,\n",
            "       0.000000e+00, 0.000000e+00, 0.000000e+00, 0.000000e+00,\n",
            "       0.000000e+00, 0.000000e+00, 0.000000e+00, 0.000000e+00,\n",
            "       0.000000e+00, 0.000000e+00, 0.000000e+00, 0.000000e+00,\n",
            "       0.000000e+00, 0.000000e+00, 0.000000e+00, 0.000000e+00,\n",
            "       0.000000e+00, 0.000000e+00, 0.000000e+00, 0.000000e+00,\n",
            "       0.000000e+00, 0.000000e+00, 0.000000e+00, 0.000000e+00,\n",
            "       0.000000e+00, 0.000000e+00, 0.000000e+00, 0.000000e+00,\n",
            "       0.000000e+00, 0.000000e+00, 0.000000e+00, 0.000000e+00,\n",
            "       0.000000e+00, 0.000000e+00, 0.000000e+00, 0.000000e+00,\n",
            "       0.000000e+00, 0.000000e+00, 0.000000e+00, 0.000000e+00,\n",
            "       0.000000e+00, 0.000000e+00, 0.000000e+00, 0.000000e+00,\n",
            "       0.000000e+00, 1.000000e+00, 0.000000e+00]), array([5.00000e+00, 2.56500e+02, 2.67078e+05, 0.00000e+00, 0.00000e+00,\n",
            "       0.00000e+00, 0.00000e+00, 0.00000e+00, 1.00000e+00, 0.00000e+00,\n",
            "       0.00000e+00, 0.00000e+00, 0.00000e+00, 0.00000e+00, 0.00000e+00,\n",
            "       0.00000e+00, 0.00000e+00, 0.00000e+00, 0.00000e+00, 1.00000e+00,\n",
            "       1.00000e+00, 0.00000e+00, 0.00000e+00, 0.00000e+00, 0.00000e+00,\n",
            "       1.00000e+00, 0.00000e+00, 0.00000e+00, 2.45000e+02, 1.48500e+02,\n",
            "       5.90000e-01, 1.50000e-02, 0.00000e+00, 0.00000e+00, 0.00000e+00,\n",
            "       0.00000e+00, 0.00000e+00, 0.00000e+00, 0.00000e+00, 1.00000e+00,\n",
            "       0.00000e+00, 0.00000e+00, 0.00000e+00, 0.00000e+00, 0.00000e+00,\n",
            "       0.00000e+00, 0.00000e+00, 0.00000e+00, 0.00000e+00, 0.00000e+00,\n",
            "       0.00000e+00, 0.00000e+00, 0.00000e+00, 0.00000e+00, 0.00000e+00,\n",
            "       0.00000e+00, 0.00000e+00, 0.00000e+00, 0.00000e+00, 0.00000e+00,\n",
            "       0.00000e+00, 0.00000e+00, 0.00000e+00, 5.00000e-01, 0.00000e+00,\n",
            "       0.00000e+00, 0.00000e+00, 0.00000e+00, 0.00000e+00, 0.00000e+00,\n",
            "       0.00000e+00, 0.00000e+00, 0.00000e+00, 0.00000e+00, 0.00000e+00,\n",
            "       0.00000e+00, 0.00000e+00, 0.00000e+00, 0.00000e+00, 0.00000e+00,\n",
            "       0.00000e+00, 0.00000e+00, 0.00000e+00, 0.00000e+00, 0.00000e+00,\n",
            "       0.00000e+00, 0.00000e+00, 0.00000e+00, 0.00000e+00, 0.00000e+00,\n",
            "       0.00000e+00, 0.00000e+00, 0.00000e+00, 0.00000e+00, 0.00000e+00,\n",
            "       0.00000e+00, 0.00000e+00, 0.00000e+00, 5.00000e-01, 0.00000e+00,\n",
            "       0.00000e+00, 0.00000e+00, 0.00000e+00, 0.00000e+00, 0.00000e+00,\n",
            "       0.00000e+00, 0.00000e+00, 0.00000e+00, 0.00000e+00, 0.00000e+00,\n",
            "       0.00000e+00, 0.00000e+00, 0.00000e+00, 0.00000e+00, 0.00000e+00,\n",
            "       0.00000e+00, 0.00000e+00, 1.00000e+00, 0.00000e+00])]\n"
          ]
        }
      ]
    },
    {
      "cell_type": "code",
      "source": [
        "# performace evaluation on training data\n",
        "percision,recall,f1,entropy = per_eval(clusters,np.array(enc_train_label))\n",
        "print('Percision = ' + str(percision))\n",
        "print('recall = ' + str(recall))\n",
        "print('f1 = ' + str(f1))\n",
        "print('entropy = ' + str(entropy))"
      ],
      "metadata": {
        "id": "cO1kGD-CCa85",
        "outputId": "202e29f1-66b6-4688-fd2d-5afc366f4a54",
        "colab": {
          "base_uri": "https://localhost:8080/"
        }
      },
      "execution_count": null,
      "outputs": [
        {
          "output_type": "stream",
          "name": "stdout",
          "text": [
            "Percision = 0.5731983805668017\n",
            "recall = 0.999516011888708\n",
            "f1 = 0.7279428427494803\n",
            "entropy = 0.000774109866265197\n"
          ]
        }
      ]
    }
  ],
  "metadata": {
    "colab": {
      "provenance": [],
      "collapsed_sections": [
        "4KPQkNrVR640",
        "czlWXgqF2lOf",
        "esj3QfEbZTHk",
        "cl-JgpI9rPhq",
        "CNXP8UAArky9",
        "f_NvCpgirt-D",
        "QlPaPWu6oO75",
        "gaX0NBe9kFgK",
        "FOCcaJUEvQ3V",
        "w6lbkqvVX9E6"
      ]
    },
    "kernelspec": {
      "display_name": "Python 3",
      "name": "python3"
    },
    "language_info": {
      "name": "python"
    }
  },
  "nbformat": 4,
  "nbformat_minor": 0
}